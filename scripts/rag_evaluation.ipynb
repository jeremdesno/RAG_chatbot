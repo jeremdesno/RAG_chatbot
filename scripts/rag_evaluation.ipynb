{
 "cells": [
  {
   "cell_type": "code",
   "execution_count": 1,
   "metadata": {},
   "outputs": [],
   "source": [
    "import pandas as pd\n",
    "import json\n",
    "import random\n",
    "import numpy as np\n",
    "import yaml\n",
    "from qa_dataset_manager import QADatasetManager\n",
    "from extract import DocumentProcessor\n",
    "\n",
    "# Transformers\n",
    "from sentence_transformers import SentenceTransformer\n",
    "#LLM\n",
    "from huggingface_hub import InferenceClient\n",
    "\n",
    "# search\n",
    "import faiss"
   ]
  },
  {
   "cell_type": "code",
   "execution_count": 2,
   "metadata": {},
   "outputs": [],
   "source": [
    "# Load hugging Face token\n",
    "with open('../config.yaml', 'r') as config_file:\n",
    "        config = yaml.safe_load(config_file)\n",
    "hugging_face_api_key = config['huggingface']['token_api']"
   ]
  },
  {
   "cell_type": "code",
   "execution_count": null,
   "metadata": {},
   "outputs": [
    {
     "name": "stdout",
     "output_type": "stream",
     "text": [
      "Extracting files from folder: account-and-profile\n",
      "Extracting files from folder: actions\n",
      "Extracting files from folder: admin\n",
      "Extracting files from folder: apps\n",
      "Extracting files from folder: authentication\n",
      "Extracting files from folder: billing\n",
      "Extracting files from folder: code-security\n",
      "Extracting files from folder: codespaces\n",
      "Extracting files from folder: communities\n",
      "Extracting files from folder: contributing\n",
      "Extracting files from folder: copilot\n",
      "Extracting files from folder: desktop\n",
      "Extracting files from folder: discussions\n",
      "Extracting files from folder: education\n",
      "Extracting files from folder: get-started\n",
      "Extracting files from folder: github-cli\n",
      "Extracting files from folder: graphql\n",
      "Extracting files from folder: index.md\n",
      "Extracting files from folder: issues\n",
      "Extracting files from folder: migrations\n",
      "Extracting files from folder: organizations\n",
      "Extracting files from folder: packages\n",
      "Extracting files from folder: pages\n",
      "Extracting files from folder: pull-requests\n",
      "Extracting files from folder: README.md\n",
      "Extracting files from folder: repositories\n",
      "Extracting files from folder: rest\n",
      "Extracting files from folder: search\n",
      "Extracting files from folder: search-github\n",
      "Extracting files from folder: site-policy\n",
      "Extracting files from folder: sponsors\n",
      "Extracting files from folder: support\n",
      "Extracting files from folder: video-transcripts\n",
      "Extracting files from folder: webhooks\n"
     ]
    }
   ],
   "source": [
    "# Extract markdown documents and store them in \"data/documents.csv\"\n",
    "processor = DocumentProcessor( root_dir='../content', output_path='../data/documents.csv')\n",
    "processor.process_documents()"
   ]
  },
  {
   "cell_type": "code",
   "execution_count": 3,
   "metadata": {},
   "outputs": [],
   "source": [
    "inference = InferenceClient(token=hugging_face_api_key)\n",
    "model_zephyr =\"HuggingFaceH4/zephyr-7b-beta\"\n",
    "model_mistral = \"mistralai/Mistral-7B-v0.1\"\n",
    "model_falcon = \"tiiuae/falcon-7b-instruct\"\n",
    "model_open = \"openchat/openchat_3.5\""
   ]
  },
  {
   "cell_type": "code",
   "execution_count": 4,
   "metadata": {},
   "outputs": [
    {
     "data": {
      "text/html": [
       "<div>\n",
       "<style scoped>\n",
       "    .dataframe tbody tr th:only-of-type {\n",
       "        vertical-align: middle;\n",
       "    }\n",
       "\n",
       "    .dataframe tbody tr th {\n",
       "        vertical-align: top;\n",
       "    }\n",
       "\n",
       "    .dataframe thead th {\n",
       "        text-align: right;\n",
       "    }\n",
       "</style>\n",
       "<table border=\"1\" class=\"dataframe\">\n",
       "  <thead>\n",
       "    <tr style=\"text-align: right;\">\n",
       "      <th></th>\n",
       "      <th>content</th>\n",
       "      <th>title</th>\n",
       "    </tr>\n",
       "  </thead>\n",
       "  <tbody>\n",
       "    <tr>\n",
       "      <th>0</th>\n",
       "      <td>\\n\\nChoosing how to unsubscribe\\n\\nTo unwatch ...</td>\n",
       "      <td>managing-your-subscriptions</td>\n",
       "    </tr>\n",
       "    <tr>\n",
       "      <th>1</th>\n",
       "      <td>\\n\\nDiagnosing why you receive too many notifi...</td>\n",
       "      <td>viewing-your-subscriptions</td>\n",
       "    </tr>\n",
       "    <tr>\n",
       "      <th>2</th>\n",
       "      <td>\\n\\nNotifications and subscriptions\\n\\nYou can...</td>\n",
       "      <td>about-notifications</td>\n",
       "    </tr>\n",
       "    <tr>\n",
       "      <th>3</th>\n",
       "      <td>\\n\\nNotification delivery options\\n\\nYou can r...</td>\n",
       "      <td>configuring-notifications</td>\n",
       "    </tr>\n",
       "    <tr>\n",
       "      <th>4</th>\n",
       "      <td>\\n\\nStarting your inbox triage\\n\\nBefore you s...</td>\n",
       "      <td>customizing-a-workflow-for-triaging-your-notif...</td>\n",
       "    </tr>\n",
       "  </tbody>\n",
       "</table>\n",
       "</div>"
      ],
      "text/plain": [
       "                                             content  \\\n",
       "0  \\n\\nChoosing how to unsubscribe\\n\\nTo unwatch ...   \n",
       "1  \\n\\nDiagnosing why you receive too many notifi...   \n",
       "2  \\n\\nNotifications and subscriptions\\n\\nYou can...   \n",
       "3  \\n\\nNotification delivery options\\n\\nYou can r...   \n",
       "4  \\n\\nStarting your inbox triage\\n\\nBefore you s...   \n",
       "\n",
       "                                               title  \n",
       "0                        managing-your-subscriptions  \n",
       "1                         viewing-your-subscriptions  \n",
       "2                                about-notifications  \n",
       "3                          configuring-notifications  \n",
       "4  customizing-a-workflow-for-triaging-your-notif...  "
      ]
     },
     "execution_count": 4,
     "metadata": {},
     "output_type": "execute_result"
    }
   ],
   "source": [
    "df = pd.read_csv(\"../data/documents.csv\")\n",
    "data = df['content'].to_list()\n",
    "df.head()"
   ]
  },
  {
   "cell_type": "code",
   "execution_count": 3,
   "metadata": {},
   "outputs": [],
   "source": [
    "dataset_manager = QADatasetManager()"
   ]
  },
  {
   "cell_type": "code",
   "execution_count": 6,
   "metadata": {},
   "outputs": [
    {
     "data": {
      "text/plain": [
       "{'max_index': 755,\n",
       " 'last_updated': '2023-12-23 21:47',\n",
       " 'creation_date': '2023-12-21 15:40'}"
      ]
     },
     "execution_count": 6,
     "metadata": {},
     "output_type": "execute_result"
    }
   ],
   "source": [
    "dataset_manager.metadata"
   ]
  },
  {
   "cell_type": "code",
   "execution_count": 7,
   "metadata": {},
   "outputs": [
    {
     "name": "stdout",
     "output_type": "stream",
     "text": [
      "641 - Number of chunks in text 259: 2\n",
      "642 - Number of chunks in text 1340: 2\n",
      "643 - Number of chunks in text 281: 1\n",
      "644 - Number of chunks in text 1126: 4\n",
      "645 - Number of chunks in text 178: 7\n",
      "Updating QA dataset\n",
      "Saved questions to --> ../data/qa_dataset_intermed.json\n",
      "Updated metadata\n",
      "646 - Number of chunks in text 711: 2\n",
      "647 - Number of chunks in text 554: 1\n",
      "648 - Number of chunks in text 1257: 3\n",
      "649 - Number of chunks in text 1111: 3\n",
      "650 - Number of chunks in text 2113: 5\n",
      "Updating QA dataset\n",
      "Saved questions to --> ../data/qa_dataset_intermed.json\n",
      "Updated metadata\n",
      "651 - Number of chunks in text 946: 1\n",
      "652 - Number of chunks in text 519: 2\n",
      "653 - Number of chunks in text 2069: 27\n",
      "654 - Number of chunks in text 1529: 1\n",
      "655 - Number of chunks in text 382: 1\n",
      "Updating QA dataset\n",
      "Saved questions to --> ../data/qa_dataset_intermed.json\n",
      "Updated metadata\n",
      "656 - Number of chunks in text 1539: 1\n",
      "657 - Number of chunks in text 991: 3\n",
      "658 - Number of chunks in text 862: 8\n",
      "659 - Number of chunks in text 148: 1\n",
      "660 - Number of chunks in text 480: 1\n",
      "Updating QA dataset\n",
      "Saved questions to --> ../data/qa_dataset_intermed.json\n",
      "Updated metadata\n",
      "661 - Number of chunks in text 564: 4\n",
      "Error encountered: 429 Client Error: Too Many Requests for url: https://api-inference.huggingface.co/models/HuggingFaceH4/zephyr-7b-beta (Request ID: nN8Q-7dZ42qzfUCiI8duv)\n",
      "\n",
      "Rate limit reached. You reached free usage limit (reset hourly). Please subscribe to a plan at https://huggingface.co/pricing to use the API at this rate\n",
      "Too Many Requests. Retrying after 30 minutes...\n",
      "Error encountered: 429 Client Error: Too Many Requests for url: https://api-inference.huggingface.co/models/HuggingFaceH4/zephyr-7b-beta (Request ID: 59pKTZckGhafWNyyFCktH)\n",
      "\n",
      "Rate limit reached. You reached free usage limit (reset hourly). Please subscribe to a plan at https://huggingface.co/pricing to use the API at this rate\n",
      "Too Many Requests. Retrying after 30 minutes...\n",
      "662 - Number of chunks in text 2087: 1\n",
      "663 - Number of chunks in text 219: 2\n",
      "664 - Number of chunks in text 1298: 1\n",
      "665 - Number of chunks in text 1535: 1\n",
      "Updating QA dataset\n",
      "Saved questions to --> ../data/qa_dataset_intermed.json\n",
      "Updated metadata\n",
      "666 - Number of chunks in text 355: 2\n",
      "667 - Number of chunks in text 1127: 2\n",
      "668 - Number of chunks in text 2011: 4\n",
      "669 - Number of chunks in text 668: 1\n",
      "670 - Number of chunks in text 601: 2\n",
      "Updating QA dataset\n",
      "Saved questions to --> ../data/qa_dataset_intermed.json\n",
      "Updated metadata\n",
      "671 - Number of chunks in text 905: 3\n",
      "672 - Number of chunks in text 1366: 1\n",
      "673 - Number of chunks in text 1350: 6\n",
      "674 - Number of chunks in text 1368: 1\n",
      "675 - Number of chunks in text 118: 8\n",
      "Updating QA dataset\n",
      "Saved questions to --> ../data/qa_dataset_intermed.json\n",
      "Updated metadata\n",
      "676 - Number of chunks in text 572: 2\n",
      "677 - Number of chunks in text 1692: 2\n",
      "678 - Number of chunks in text 145: 1\n",
      "679 - Number of chunks in text 1364: 5\n",
      "680 - Number of chunks in text 132: 7\n",
      "Updating QA dataset\n",
      "Saved questions to --> ../data/qa_dataset_intermed.json\n",
      "Updated metadata\n",
      "681 - Number of chunks in text 1095: 5\n",
      "682 - Number of chunks in text 1177: 3\n",
      "683 - Number of chunks in text 1878: 1\n",
      "684 - Number of chunks in text 1235: 3\n",
      "685 - Number of chunks in text 158: 10\n",
      "Updating QA dataset\n",
      "Saved questions to --> ../data/qa_dataset_intermed.json\n",
      "Updated metadata\n",
      "686 - Number of chunks in text 1676: 1\n",
      "687 - Number of chunks in text 114: 4\n",
      "688 - Number of chunks in text 583: 4\n",
      "689 - Number of chunks in text 1583: 3\n",
      "690 - Number of chunks in text 69: 3\n",
      "Updating QA dataset\n",
      "Saved questions to --> ../data/qa_dataset_intermed.json\n",
      "Updated metadata\n",
      "691 - Number of chunks in text 1174: 2\n",
      "692 - Number of chunks in text 418: 3\n",
      "693 - Number of chunks in text 1588: 2\n",
      "694 - Number of chunks in text 1626: 1\n",
      "695 - Number of chunks in text 980: 5\n",
      "Updating QA dataset\n",
      "Saved questions to --> ../data/qa_dataset_intermed.json\n",
      "Updated metadata\n",
      "696 - Number of chunks in text 683: 3\n",
      "697 - Number of chunks in text 1850: 1\n",
      "698 - Number of chunks in text 557: 2\n",
      "699 - Number of chunks in text 1415: 1\n",
      "700 - Number of chunks in text 624: 1\n",
      "Updating QA dataset\n",
      "Saved questions to --> ../data/qa_dataset_intermed.json\n",
      "Updated metadata\n",
      "701 - Number of chunks in text 1911: 9\n",
      "702 - Number of chunks in text 1056: 1\n",
      "703 - Number of chunks in text 234: 8\n",
      "704 - Number of chunks in text 1207: 2\n",
      "705 - Number of chunks in text 2066: 1\n",
      "Updating QA dataset\n",
      "Saved questions to --> ../data/qa_dataset_intermed.json\n",
      "Updated metadata\n",
      "706 - Number of chunks in text 503: 1\n",
      "707 - Number of chunks in text 1877: 1\n",
      "708 - Number of chunks in text 1996: 5\n",
      "709 - Number of chunks in text 320: 4\n",
      "710 - Number of chunks in text 1821: 1\n",
      "Updating QA dataset\n",
      "Saved questions to --> ../data/qa_dataset_intermed.json\n",
      "Updated metadata\n",
      "711 - Number of chunks in text 1335: 1\n",
      "712 - Number of chunks in text 44: 1\n",
      "713 - Number of chunks in text 804: 2\n",
      "714 - Number of chunks in text 425: 1\n",
      "715 - Number of chunks in text 1222: 1\n",
      "Updating QA dataset\n",
      "Saved questions to --> ../data/qa_dataset_intermed.json\n",
      "Updated metadata\n",
      "716 - Number of chunks in text 1866: 1\n",
      "717 - Number of chunks in text 1515: 2\n",
      "718 - Number of chunks in text 8: 1\n",
      "719 - Number of chunks in text 1155: 1\n",
      "720 - Number of chunks in text 287: 1\n",
      "Updating QA dataset\n",
      "Saved questions to --> ../data/qa_dataset_intermed.json\n",
      "Updated metadata\n",
      "721 - Number of chunks in text 636: 1\n",
      "722 - Number of chunks in text 257: 1\n",
      "723 - Number of chunks in text 712: 1\n",
      "724 - Number of chunks in text 1194: 3\n",
      "725 - Number of chunks in text 1240: 2\n",
      "Updating QA dataset\n",
      "Saved questions to --> ../data/qa_dataset_intermed.json\n",
      "Updated metadata\n",
      "726 - Number of chunks in text 852: 1\n",
      "727 - Number of chunks in text 854: 10\n",
      "728 - Number of chunks in text 2028: 1\n",
      "729 - Number of chunks in text 394: 1\n",
      "730 - Number of chunks in text 1096: 1\n",
      "Updating QA dataset\n",
      "Saved questions to --> ../data/qa_dataset_intermed.json\n",
      "Updated metadata\n",
      "731 - Number of chunks in text 1533: 7\n",
      "732 - Number of chunks in text 782: 1\n",
      "733 - Number of chunks in text 925: 2\n",
      "734 - Number of chunks in text 1081: 3\n",
      "735 - Number of chunks in text 161: 9\n",
      "Updating QA dataset\n",
      "Saved questions to --> ../data/qa_dataset_intermed.json\n",
      "Updated metadata\n",
      "736 - Number of chunks in text 485: 1\n",
      "737 - Number of chunks in text 261: 1\n",
      "738 - Number of chunks in text 1660: 1\n",
      "739 - Number of chunks in text 473: 3\n",
      "740 - Number of chunks in text 1698: 3\n",
      "Updating QA dataset\n",
      "Saved questions to --> ../data/qa_dataset_intermed.json\n",
      "Updated metadata\n",
      "741 - Number of chunks in text 451: 3\n",
      "742 - Number of chunks in text 2022: 2\n",
      "743 - Number of chunks in text 1076: 9\n",
      "744 - Number of chunks in text 302: 2\n",
      "745 - Number of chunks in text 718: 2\n",
      "Updating QA dataset\n",
      "Saved questions to --> ../data/qa_dataset_intermed.json\n",
      "Updated metadata\n",
      "746 - Number of chunks in text 1590: 1\n",
      "747 - Number of chunks in text 17: 2\n",
      "748 - Number of chunks in text 84: 1\n",
      "749 - Number of chunks in text 330: 9\n",
      "750 - Number of chunks in text 612: 4\n",
      "Updating QA dataset\n",
      "Saved questions to --> ../data/qa_dataset_intermed.json\n",
      "Updated metadata\n",
      "751 - Number of chunks in text 1826: 1\n",
      "752 - Number of chunks in text 351: 1\n",
      "753 - Number of chunks in text 2090: 1\n",
      "754 - Number of chunks in text 1762: 7\n",
      "755 - Number of chunks in text 1482: 3\n",
      "Updating QA dataset\n",
      "Saved questions to --> ../data/qa_dataset_intermed.json\n",
      "Updated metadata\n",
      "756 - Number of chunks in text 902: 7\n",
      "757 - Number of chunks in text 1982: 1\n",
      "758 - Number of chunks in text 577: 3\n",
      "759 - Number of chunks in text 183: 17\n",
      "Error encountered: 429 Client Error: Too Many Requests for url: https://api-inference.huggingface.co/models/HuggingFaceH4/zephyr-7b-beta (Request ID: jlpxUd1SNTiZcBApzaX7O)\n",
      "\n",
      "Rate limit reached. You reached free usage limit (reset hourly). Please subscribe to a plan at https://huggingface.co/pricing to use the API at this rate\n",
      "Too Many Requests. Retrying after 30 minutes...\n"
     ]
    }
   ],
   "source": [
    "dataset_manager.create_qa_pairs(\n",
    "    texts=data,\n",
    "    client=InferenceClient(token=hugging_face_api_key),\n",
    "    model= model_zephyr,\n",
    "    max_new_tokens=200,\n",
    "    num_questions_per_chunk=2,\n",
    "    chunk_size = 2048)"
   ]
  },
  {
   "cell_type": "code",
   "execution_count": 7,
   "metadata": {},
   "outputs": [
    {
     "name": "stdout",
     "output_type": "stream",
     "text": [
      "Added questions from ../data/qa_dataset_intermed.json to --> ../data/qa_dataset.json\n"
     ]
    }
   ],
   "source": [
    "dataset_manager.add_qa_to_dataset()"
   ]
  },
  {
   "cell_type": "code",
   "execution_count": 7,
   "metadata": {},
   "outputs": [],
   "source": [
    "qa_dataset = dataset_manager.get_qa_dataset()"
   ]
  },
  {
   "cell_type": "code",
   "execution_count": 8,
   "metadata": {},
   "outputs": [
    {
     "data": {
      "text/plain": [
       "(7160, 7103)"
      ]
     },
     "execution_count": 8,
     "metadata": {},
     "output_type": "execute_result"
    }
   ],
   "source": [
    "len(qa_dataset['queries']), len(qa_dataset['answers'])"
   ]
  },
  {
   "cell_type": "code",
   "execution_count": 12,
   "metadata": {},
   "outputs": [
    {
     "name": "stdout",
     "output_type": "stream",
     "text": [
      "162 to be answered\n",
      "Answering qery 0b654229-5a74-4d1f-9d7a-6cb9e46029d8\n",
      "query:  How does the author's background in [insert field] contribute to the research presented in this paper\n",
      "Answering qery 30de5ba7-8c08-47b3-8112-30eee5c66370\n",
      "query:  What is the default branch in a GitHub repository and how can it be changed\n",
      "Answering qery bc71ccdc-4a8c-4f67-8f38-d6c806572e3a\n",
      "query:  What is the name of the GitHub workflow that triggered this build, as mentioned in the context information\n",
      "Answering qery b8c03353-27a9-4213-ab9d-71c3bd218cda\n",
      "query:  How can I ensure that Python is installed and added to the PATH in a {% data variables.product.prodname_dotcom %}-hosted runner\n",
      "Answering qery dc24f24e-4672-4a83-b9e2-32a5542e499b\n",
      "query:  What is the purpose of the following command in the context provided: \"bundle exec appraisal install\"\n",
      "Updating answers dict\n",
      "Saved questions to --> ../data/answers_intermed.json\n",
      "Answering qery dec95dd0-0559-4860-8826-0a6390ef489d\n",
      "query:  How can I run code scanning using the github codeql cli if I don't want to use github actions?\n",
      "Answering qery b0b426fd-4d33-46cf-8280-0fb0c4e58aae\n",
      "query:  What is the duration of the Subscription Term for the Software or Service, as stated in the provided context information\n",
      "Answering qery 7bf3dee0-21ba-47a6-86dd-d0433ef2f1b1\n",
      "query:  Can {% data variables.product.prodname_dependabot_alerts %} be managed for multiple repositories at once, and if so, how?\n",
      "Answering qery 25746335-1f8b-4681-adb9-fe6637154240\n",
      "query:  How can I migrate Azure DevOps pipelines to GitHub Actions using {% data variables.product.prodname_actions_importer %}\n",
      "Answering qery 3a9ce5eb-2478-4f9b-9463-dcbaf2d9ac02\n",
      "query:  What is {% data variables.product.prodname_secret_scanning %} and how does it help secure code and keep secrets safe across organizations and repositories\n",
      "Updating answers dict\n",
      "Saved questions to --> ../data/answers_intermed.json\n",
      "Answering qery fb3f2e84-fc83-4162-9997-d1e6c08ef656\n",
      "query:  How can I prevent performance degradation in {% data variables.location.product_location %} due to high load on {% data variables.product.prodname_actions %}\n",
      "Answering qery f05bd788-82e8-4e2c-84c3-0100887f1d90\n",
      "query:  Further reading- \"AUTOTITLE\" (applicable to both FPT and GHEC)- \"AUTOTITLE\" (specific to FPT)- \"AUTOTITLE\" (specific to GHEC)---------------------Generate according to: You are a Teacher/ Professor. Your task is to setup EXACTLY 2 questions for an upcoming quiz/examination. The questions should be diverse in nature across the document. Restrict the questions to the context information provided. Questions should be understandable without having access to the context.Don\n",
      "Answering qery 49015e4a-5017-48eb-a91a-84567a4809b2\n",
      "query:  What is the significance of running \"bundle exec appraisal rake\" in the context provided\n",
      "Answering qery beb6fc77-6d27-4408-b88e-b5e363a1c7dd\n",
      "query:  Can you provide an example of a diverse question that can be generated based on the context information provided, and what are the steps involved in ensuring that the question is understandable without access to the context?\n",
      "Answering qery ce7c7ede-684b-4e3a-bdf0-c95ff25a4dec\n",
      "query:  What is generic secret detection and how does it differ from partner or custom pattern detection in {% data variables.product.prodname_secret_scanning %}\n",
      "Updating answers dict\n",
      "Saved questions to --> ../data/answers_intermed.json\n",
      "Answering qery 238208d3-8be5-4510-88e0-ead611cf0fb3\n",
      "query:  How can HTTP proxy settings be configured for {% data variables.product.prodname_actions %}\n",
      "Answering qery 7d8893c4-5002-4707-92a6-eab68725f91a\n",
      "query:  Can you provide an example of how to use the \"TODOCS\"\n",
      "Answering qery 721b6097-9cad-4e56-9ee7-8832fa53cc48\n",
      "query:  What action should be taken for a user with a corresponding LDAP entry that is marked as disabled and the user is not already suspended?\n",
      "Answering qery c20846e2-cde7-47bb-9065-5f5a2fabd43a\n",
      "query:  What is the purpose of including a `publishConfig` entry in the `package.json` file for publishing a package, and how can you specify the registry where the package should be published using this entry?\n",
      "Answering qery 0f7584c0-837f-4d39-9824-05e9f9531496\n",
      "query:  What are the prerequisites for setting up a CI workflow for publishing Java packages using Gradle, and how can I ensure that my CI tests pass before publishing to a registry?\n",
      "Updating answers dict\n",
      "Saved questions to --> ../data/answers_intermed.json\n",
      "Answering qery 30dc4d02-c081-483c-a3ce-62d6e80db203\n",
      "query:  How does the `--logdir` option in the context information provided affect the logging behavior of the CLI? Can you provide an example of how to use this option to write detailed logs to a specific directory?\n",
      "Answering qery b4f8cb26-c1b4-4781-982e-fdf361086a15\n",
      "query:  What information is required to complete the publisher verification checklist on GitHub?\n",
      "Answering qery 1b7fa466-e6ae-4e0e-91cf-9dfa64839eb6\n",
      "query:  How can an organization owner configure constraints on the maximum retention period for codespaces created for the repositories owned by their organization\n",
      "Answering qery c3ad0c12-dbdb-41da-8d67-32f5b43e5055\n",
      "query:   How does YAML frontmatter provide metadata to pages in {% data variables.product.prodname_docs %}\n",
      "Answering qery 21d4fa31-0840-4f25-ba7d-9da3d94fb71c\n",
      "query:  What is the policy regarding the sharing of personal information on GitHub, and what types of information are considered an invasion of privacy\n",
      "Updating answers dict\n",
      "Saved questions to --> ../data/answers_intermed.json\n",
      "Answering qery adb65db6-a71b-4c11-8caa-f9d6708186dd\n",
      "query:  What action will ser's LDAP credentials take after the next synchronization run\n",
      "Answering qery 4f83532d-9b97-4971-8e8c-c7d72643efec\n",
      "query:  What specific actions are prohibited by the partner in terms of representing or endorsing GitHub's products or services, and why is this important for both parties\n",
      "Answering qery f036670f-ec60-465d-bfe4-5b26ce40c467\n",
      "query:  What security risks are posed by untrusted workflows running on self-hosted runners, and how can these risks be mitigated?\n",
      "Answering qery fe57c7f9-9eed-49be-a844-3287d474ba85\n",
      "query:  How can we ensure the reliability and consistency of the database used in the context provided\n",
      "Answering qery a0ef5728-f573-40f7-90f8-3ea8c627a130\n",
      "query:  What steps should I follow to generate an authentication code through a TOTP application for my {% data variables.product.product_name %} account\n",
      "Updating answers dict\n",
      "Saved questions to --> ../data/answers_intermed.json\n",
      "Answering qery 8b69a7ca-0e3a-4600-a2c2-2f23760cb41f\n",
      "query:  What are the required path parameters for the \"Create an issue\" endpoint in {% data variables.product.prodname_dotcom %}'s REST API\n",
      "Answering qery 5fef864c-b76e-416a-a311-1ff7c73648ca\n",
      "query:  How can a member of an organization contribute to a public discussion post in team discussions?\n",
      "Answering qery 7407d0f8-33e0-4770-b7fd-3e01ecef7cba\n",
      "query:  How can context information be utilized in popular TOTP apps, as demonstrated in the documentation provided for 1Password, Google Authenticator, and Microsoft Authenticator\n",
      "Answering qery 6bd47a48-aeb2-41da-b2b5-cb3395f87ac5\n",
      "query:  How can the {% data variables.product.prodname_cli %} be used to automatically comment on an issue when a specific label is applied? Provide an example of a label that could trigger this action.2. Can you explain how to customize the workflow file created in the tutorial to suit specific needs? What parameters can be changed in the workflow file to modify the behavior of the commenting action?\n",
      "Answering qery c872b0fa-1767-4424-851b-bd86675659c0\n",
      "query:  What types of releases are provided by {% data variables.product.prodname_docs %} for {% data variables.product.prodname_ghe_server %}\n",
      "Updating answers dict\n",
      "Saved questions to --> ../data/answers_intermed.json\n",
      "Answering qery 809f9073-2531-4ed8-8d8b-bcdcb81af292\n",
      "query:  How should lists and list items be formatted in IBE\n",
      "Answering qery 5707e3ea-92a6-47f3-ad15-a6abd3f740b3\n",
      "query:  How does the agreement between the parties regarding marketing and publicity work, and what are the restrictions and permissions granted to each party in this regard\n",
      "Answering qery c9f536b6-0c38-4a7e-ac6c-ede4966b5566\n",
      "query:  How can I filter pull requests on GitHub to view only those that have been requested for review by a specific user or team?\n",
      "Answering qery dc4eb267-74b8-46a1-ae40-cb174564fde1\n",
      "query:  What is the purpose of the \"git status\" command in resolving merge conflicts in a Git repository\n",
      "Answering qery 3a289723-f7d1-47d8-8980-5250c30b8037\n",
      "query:  What is the purpose of the option \"--github-auth-stdin\" in the given context?\n",
      "Updating answers dict\n",
      "Saved questions to --> ../data/answers_intermed.json\n",
      "Answering qery 0881b09c-8793-442a-81fb-3bceb698527f\n",
      "query:  How can the metric of \"runners\" be defined in Azure DevOps, and what factors influence this definition\n",
      "Answering qery c2353d1d-705b-42b5-8544-943547168f41\n",
      "query:  How can admins specify a custom link for contributors when a push is blocked in {% data variables.product.prodname_push_protection %}\n",
      "Answering qery 32a14862-b4f9-49ed-9298-65da9bb04d9e\n",
      "query:  How does GitHub ensure the security of personal data on its platform?\n",
      "Answering qery 126895f1-6c10-4780-b683-d2c73a625ed3\n",
      "query:  What is the difference between the \"Expert Services Warranty\" and the \"Service Disclaimer\" provided by GitHub\n",
      "Answering qery 2a35fe10-c448-4ba1-ac8d-07e30dd35f3f\n",
      "query:  What permissions are required to edit a webhook in a specific organization in {% data variables.product.prodname_dotcom %}?\n",
      "Updating answers dict\n",
      "Saved questions to --> ../data/answers_intermed.json\n",
      "Answering qery 778f0a2f-de58-48c4-8cf1-bbc4928afd2f\n",
      "query:   How can the `actions/stale` action be used to comment on and close issues that have been inactive for a certain period of time\n",
      "Answering qery da766b05-b2f3-4bb0-aeeb-ebde12f55a4b\n",
      "query:  What is the limit for the number of {% data variables.actions.hosted_runner %}s with static IP address ranges that can be used across all {% data variables.actions.hosted_runner %}s in {% ifversion fpt %}{% data variables.product.prodname_ghe %}{% endif %}{% ifversion ghec %}{% data variables.product.prodname_ghe_cloud %}{% endif %}? What is the limit for the number of {% data variables.actions.hosted_runner %}s with static IP address ranges that can be used at the organization level in {% ifversion ghec %}{% data variables.product.prodname_g\n",
      "Answering qery 06a52ffc-d264-4723-97f8-201eb8eefbd5\n",
      "query:  What is the name of the current branch being built in this context\n",
      "Answering qery c6bdfcb7-62f9-4df4-9453-6aeb9397b199\n",
      "query:  Can users restrict access to their organization's data through {% data variables.product.prodname_oauth_apps %}, and if so, how does this affect the use of internal apps?\n",
      "Answering qery 82524bef-a7fa-4eff-bb43-b72a84b90331\n",
      "query:  How can you ensure that all additional dependencies are available when creating databases for non-compiled languages like JavaScript, Python, and Ruby using the {% data variables.product.prodname_codeql_cli %}?\n",
      "Updating answers dict\n",
      "Saved questions to --> ../data/answers_intermed.json\n",
      "Answering qery 93ad04ec-f8ba-4813-87fd-861d3942cad8\n",
      "query:  What happens when an enterprise owner enables SAML for an enterprise account, and how does it affect existing team synchronization settings?\n",
      "Answering qery 69a4770e-3783-47be-83a1-f96bbb2b333e\n",
      "query:  How can I configure commit rebasing for pull requests on {% data variables.location.product_location %} in my repository\n",
      "Answering qery 70169ece-a2e8-48c4-9e08-163ff76e9b5a\n",
      "query:  How are Service Credits calculated and what are the two scenarios for claiming them\n",
      "Answering qery fc9254b6-6466-476c-9038-698743c147dd\n",
      "query:  How long are archived objects kept in {% data variables.product.prodname_enterprise %} before they are purged?\n",
      "Answering qery bdd8463b-a77e-41ae-9ce6-2e78fd3b5bce\n",
      "query:  What are the features that are not included in the trial version of {% data variables.product.prodname_github_connect %}\n",
      "Updating answers dict\n",
      "Saved questions to --> ../data/answers_intermed.json\n",
      "Answering qery 43047b12-54f4-4780-99da-503104e62245\n",
      "query:  How can I configure a webhook to receive notifications for specific events in a repository, organization, or enterprise account, and what resources can a webhook access?\n",
      "Answering qery eecd35fb-7bde-402a-9623-1ffe8b1fd886\n",
      "query:   What are the potential impacts of a compromised runner on {% data variables.product.prodname_actions %}\n",
      "Answering qery b75fba98-2b88-4ae4-bd61-eba1ae54ea31\n",
      "query:  How can you reference specific versions of a repository using the `{path}@{ref}` syntax in GitHub Actions workflows\n",
      "Answering qery 84b571fb-7875-4e2c-bf9e-c7c3cdc8b0f5\n",
      "query:  What is the location of the root directory for the build process, as provided in the context information\n",
      "Answering qery 973ecba5-421f-4786-b40c-41adcc75378c\n",
      "query:  How does the REST API differ from the GraphQL API in terms of specifying the information to be returned? Provide an example to illustrate your answer.2. How can I use the `gh api` command to retrieve a list of issues from a specific repository, and what additional information is returned by default? Write a shell script that demonstrates this process and extracts only the issue titles and author IDs using the `jq` tool.\n",
      "Updating answers dict\n",
      "Saved questions to --> ../data/answers_intermed.json\n",
      "Answering qery d90a5c90-ffa3-4cf4-9d77-7b78aac8b21d\n",
      "query:  What are the differences between the \"Large\" and \"XLarge\" {% data variables.actions.hosted_runner %}s for macOS in terms of architecture, processor, memory, and storage\n",
      "Answering qery d753138f-99db-4f28-826f-a7cbdc3e59c4\n",
      "query:  What should I do if I encounter an error like \"git@github.com: Permission denied (publickey)\" or \"Host key verification failed\" while trying to push or pull from a repository in a codespace?\n",
      "Answering qery 7d1a4c82-8bb5-4776-b3d7-a54eccb37020\n",
      "query:  How can a task list be added to an issue in GitHub\n",
      "Answering qery 48c09afa-d0a1-4486-89c9-c5536cf5fcb8\n",
      "query:  How can I cancel a workflow that is not working as expected, and what should I avoid doing to prevent hanging cancellations\n",
      "Answering qery 864f18cd-916d-402c-8044-f0d6c04bbca7\n",
      "query:  What options are available for configuring codespaces created from repositories owned by an organization, and how can these be used to prevent unnecessary charges and reduce storage costs?\n",
      "Updating answers dict\n",
      "Saved questions to --> ../data/answers_intermed.json\n",
      "Answering qery 042d7e83-8b7c-4903-ab9f-033e22b0d6eb\n",
      "query:  In the provided context information, what is the difference between the following commands: \"gh issue comment $issue_url --body \"➡️ Newer report\"\" and \"gh issue comment $issue_url --body \"➡️ Newer report\"{% raw %}${{ env.NEW_REPORT_URL }}\"{% endraw %}\"\"\n",
      "Answering qery 9c9645ae-1f48-4de5-8f1c-5b564c3fe67b\n",
      "query:  How can policies be used to control how enterprise members use {% data variables.product.prodname_actions %} in {% data variables.product.prodname_ghe_cloud %}? Provide specific examples of policies that can be configured.\n",
      "Answering qery 96c2382b-669e-47d2-af1e-f4af5719967b\n",
      "query:  How can I check if I already have an existing SSH key on my local machine, and what are the filenames of supported public keys for {% data variables.product.product_name %}\n",
      "Answering qery 31834693-9798-43a8-b446-6145b98a4efb\n",
      "query:  How can you search for a discussion that has been answered using the `is` qualifier in GitHub? Provide an example.2. How can you filter by the visibility of the repository containing the discussions using the `is` qualifier in GitHub? Provide an example for a public repository and an example for a private repository you can access.\n",
      "Answering qery 67ad81b0-a49f-49d3-8903-593462cefd26\n",
      "query:   What are the differences in script error handling between Azure Pipelines and {% data variables.product.prodname_actions %}?\n",
      "Updating answers dict\n",
      "Saved questions to --> ../data/answers_intermed.json\n",
      "Answering qery 9bed4726-2ec9-4dfa-9199-57e96d50f26b\n",
      "query:  What is the purpose of creating a new branch in {% data variables.product.product_name %} and how does it differ from the main branch\n",
      "Answering qery 5e490070-fd03-4454-9f1f-a720921a6a22\n",
      "query:  How can I make an authenticated request to the GitHub REST API using curl, and what steps are involved in this process\n",
      "Answering qery 534bdad5-4583-4a29-8722-26d6f79ddf58\n",
      "query:  What command should I use to upload an extended support bundle directly to the server using SSH, and what arguments should I include in the command?\n",
      "Answering qery 1488b50c-e2f4-4d01-9f29-cd82fce65b4a\n",
      "query:  What is the output expected from running the command \"ghe-config secrets.github.encrypted-column-keying-material\" in step 1 of the provided context information\n",
      "Answering qery 093502d7-cffc-4ef6-9025-2412c1500066\n",
      "query:  How can I query and manage a customization template for an OpenID Connect (OIDC) subject claim using the REST API provided by {% data variables.product.prodname_actions %} OIDC? Provide specific examples of API requests and responses.\n",
      "Updating answers dict\n",
      "Saved questions to --> ../data/answers_intermed.json\n",
      "Answering qery 06e471eb-4ef2-445f-b9a7-13a417f76126\n",
      "query:  How can I authenticate on the command line using HTTPS in {% data variables.product.product_name %} without having to enter my password repeatedly\n",
      "Answering qery 671f730d-3590-4e0b-a3ce-5ea46a1ceb06\n",
      "query:  How can we efficiently run tests using tox and what strategies can we implement to distribute the workload across multiple jobs?\n",
      "Answering qery f97c0a17-97ad-4a2e-b0d3-e67d9b0ff376\n",
      "query:   How can the REST API be utilized to interact with custom repository roles in GitHub Enterprise Cloud (GHEC) and GitHub Enterprise Server (GHES)\n",
      "Answering qery 6a3ae6fb-384e-4347-a595-adf633752ed9\n",
      "query:  What variables does the script update, and how does it determine whether to create or update them?\n",
      "Answering qery 7c777bfd-cba8-4f40-9ce3-08b98133ea39\n",
      "query:  How can I propose a file change for deletion in a pull request on {% data variables.product.\n",
      "Updating answers dict\n",
      "Saved questions to --> ../data/answers_intermed.json\n",
      "Answering qery 63a7d35d-193e-4c5a-94d0-040652bb45b6\n",
      "query:  How does the concept of \"AUTOTITLE\" differ from \"AUTOTITLE\" in the given context\n",
      "Answering qery bb91ebe8-dc01-4012-ab4c-7c92fd81c124\n",
      "query:  How do you access your SSH keys on a Linux computer\n",
      "Answering qery b8cef915-c559-4f2c-a4c1-17f70ccd7405\n",
      "query:  How can I view the results of a workflow run in GitHub Actions?\n",
      "Answering qery d45047f1-ea65-4ff6-b798-27640e5646a3\n",
      "query:  How can I add a personal access token (\n",
      "Answering qery 0ca4522a-a7aa-414c-98bf-105c67805dc8\n",
      "query:  How can I ensure that I have access to migration logs for all my migrated repositories during a repository migration process\n",
      "Updating answers dict\n",
      "Saved questions to --> ../data/answers_intermed.json\n",
      "Answering qery f2c77e39-8824-4fd9-8ab3-ee822f6ba3c5\n",
      "query:  What are the advantages of using SSH agent forwarding for deployments, and what are the potential drawbacks\n",
      "Answering qery 769f7a0f-f3ce-4387-a885-e9090da0f981\n",
      "query:  How do I configure Docker containers to use the certificate for Docker container actions or service containers in workflows\n",
      "Answering qery ec418953-da0d-4d13-bf58-3f51e0c8d716\n",
      "query:  What options are available for configuring notifications for {% data variables.secret-scanning.alerts %}\n",
      "Answering qery f5c8cb1d-686a-459f-9571-7af82ed3ff30\n",
      "query:  Can you summarize the instructions provided in the context information regarding data deletion? Specifically, how can users delete their data without needing to contact support personnel?\n",
      "Answering qery 1ffe9fa8-9c35-4eb4-ab7b-eb4b79a0900b\n",
      "query:  How does the `permissions` key in the context information determine the access granted to the `GITHUB_TOKEN` secret? Provide an example of what permissions could be granted.\n",
      "Updating answers dict\n",
      "Saved questions to --> ../data/answers_intermed.json\n",
      "Answering qery 628abbb5-f09d-4962-996b-432ccff1db51\n",
      "query:  What actions are prohibited for developers when using the Marketplace, as outlined in the context information?\n",
      "Answering qery ae2da02a-a56b-4a99-966e-67dd3600e4dc\n",
      "query:  What actions should be taken by a user with a locked {% data variables.product.prodname_dotcom %} account that has a form of payment set up, as mentioned in the context information?\n",
      "Answering qery d0e91efa-9ef1-4510-bb6e-c82abb6d3641\n",
      "query:  How can I get my first suggestion using {% data variables.product.prodname_copilot %} and what should I expect during this process\n",
      "Answering qery d8f11ad0-bebd-4fb3-afe5-8bcf95e41ab4\n",
      "query:  What is the process of reverting a pull request on {% data variables.product.product_name %} and what permissions are required to do so\n",
      "Answering qery 726e99b7-4fb8-4d63-9836-a67535f140cf\n",
      "query:  How can I continue learning about {% data variables.product.prodname_actions %} based on the information provided?\n",
      "Updating answers dict\n",
      "Saved questions to --> ../data/answers_intermed.json\n",
      "Answering qery 5ed30d82-9783-4f78-93b8-1cecfaaa62a0\n",
      "query:  What factors determine whether a user can create a codespace for a specific repository on GitHub\n",
      "Answering qery 038460ff-084c-4716-896b-b6b01bd4d4f3\n",
      "query:  What is the recommended way to view API requests for troubleshooting integrations that exceed the rate limit?\n",
      "Answering qery 1530fa5c-2624-4506-9cba-e7d4be812a9b\n",
      "query:  What is the purpose of using \"AUTOTITLE\" in a document\n",
      "Answering qery d565fb96-19fa-45c2-a22b-90994d4a4426\n",
      "query:  How can rulesets be viewed in a\n",
      "Answering qery c1b2c5c1-9259-4571-85ac-b29f7a8c0926\n",
      "query:  What is the process of unlinking an email address from a locked GitHub account, and what are the consequences of doing so\n",
      "Updating answers dict\n",
      "Saved questions to --> ../data/answers_intermed.json\n",
      "Answering qery 5d114c11-92f1-4a4c-b3d3-de3c47c59f40\n",
      "query:  What is required to run the `forecast` command in {% data variables.product.prodname_actions %} against a Jenkins instance, and why is this necessary?\n",
      "Answering qery d93298f8-3358-4faf-b2bf-75d72fe95b92\n",
      "query:  How can a {% data variables.secret-scanning.alerts %} be closed as \"pattern deleted\"? What does this mean\n",
      "Answering qery ecf62351-d825-41d0-a68d-88f088947d93\n",
      "query:  How does the baseline count in the \"codeql database print-baseline\" command differ from the count of lines of code in CodeQL metrics queries, and under what circumstances might the baseline count be lower?\n",
      "Answering qery a61138c5-64ac-4ee6-84e4-ee29ed76fa40\n",
      "query:   How can I customize the provided Python starter workflow, and what are the recommended steps for doing so?\n",
      "Answering qery 18836b6a-b870-4066-a3db-bfb3a40f9618\n",
      "query:  What command should be used to unlock a repository that was locked during a migration using `ghe-migrator` if the import failed and some data was not migrated\n",
      "Updating answers dict\n",
      "Saved questions to --> ../data/answers_intermed.json\n"
     ]
    },
    {
     "ename": "KeyboardInterrupt",
     "evalue": "",
     "output_type": "error",
     "traceback": [
      "\u001b[1;31m---------------------------------------------------------------------------\u001b[0m",
      "\u001b[1;31mKeyboardInterrupt\u001b[0m                         Traceback (most recent call last)",
      "Cell \u001b[1;32mIn[12], line 1\u001b[0m\n\u001b[1;32m----> 1\u001b[0m \u001b[43mdataset_manager\u001b[49m\u001b[38;5;241;43m.\u001b[39;49m\u001b[43mcreate_answers\u001b[49m\u001b[43m(\u001b[49m\u001b[43mqa_dataset\u001b[49m\u001b[38;5;241;43m=\u001b[39;49m\u001b[43mqa_dataset\u001b[49m\u001b[43m,\u001b[49m\n\u001b[0;32m      2\u001b[0m \u001b[43m                               \u001b[49m\u001b[43mclient\u001b[49m\u001b[38;5;241;43m=\u001b[39;49m\u001b[43mInferenceClient\u001b[49m\u001b[43m(\u001b[49m\u001b[43mtoken\u001b[49m\u001b[38;5;241;43m=\u001b[39;49m\u001b[43mhugging_face_api_key\u001b[49m\u001b[43m)\u001b[49m\u001b[43m,\u001b[49m\n\u001b[0;32m      3\u001b[0m \u001b[43m                               \u001b[49m\u001b[43mmodel\u001b[49m\u001b[38;5;241;43m=\u001b[39;49m\u001b[43m \u001b[49m\u001b[43mmodel_zephyr\u001b[49m\u001b[43m,\u001b[49m\n\u001b[0;32m      4\u001b[0m \u001b[43m                               \u001b[49m\u001b[43mmax_new_tokens\u001b[49m\u001b[38;5;241;43m=\u001b[39;49m\u001b[38;5;241;43m500\u001b[39;49m\u001b[43m)\u001b[49m\n",
      "File \u001b[1;32mc:\\Users\\jjdes\\Desktop\\RAG_chatbot\\scripts\\qa_dataset_manager.py:325\u001b[0m, in \u001b[0;36mQADatasetManager.create_answers\u001b[1;34m(self, qa_dataset, client, model, max_new_tokens, prompt)\u001b[0m\n\u001b[0;32m    322\u001b[0m     \u001b[38;5;28mprint\u001b[39m(\u001b[38;5;124mf\u001b[39m\u001b[38;5;124m\"\u001b[39m\u001b[38;5;124mSaved questions to --> \u001b[39m\u001b[38;5;132;01m{\u001b[39;00m\u001b[38;5;28mself\u001b[39m\u001b[38;5;241m.\u001b[39mtemp_ans_path\u001b[38;5;132;01m}\u001b[39;00m\u001b[38;5;124m\"\u001b[39m)\n\u001b[0;32m    323\u001b[0m     json_file\u001b[38;5;241m.\u001b[39mclose()\n\u001b[1;32m--> 325\u001b[0m \u001b[43mtime\u001b[49m\u001b[38;5;241;43m.\u001b[39;49m\u001b[43msleep\u001b[49m\u001b[43m(\u001b[49m\u001b[38;5;241;43m30\u001b[39;49m\u001b[43m)\u001b[49m\n",
      "\u001b[1;31mKeyboardInterrupt\u001b[0m: "
     ]
    }
   ],
   "source": [
    "dataset_manager.create_answers(qa_dataset=qa_dataset,\n",
    "                               client=InferenceClient(token=hugging_face_api_key),\n",
    "                               model= model_zephyr,\n",
    "                               max_new_tokens=500)"
   ]
  },
  {
   "cell_type": "code",
   "execution_count": 4,
   "metadata": {},
   "outputs": [
    {
     "name": "stdout",
     "output_type": "stream",
     "text": [
      "Added answers from ../data/answers_intermed.json to --> ../data/qa_dataset.json\n"
     ]
    }
   ],
   "source": [
    "dataset_manager.add_answers_to_dataset()"
   ]
  },
  {
   "cell_type": "code",
   "execution_count": 5,
   "metadata": {},
   "outputs": [],
   "source": [
    "qa_dataset = dataset_manager.get_qa_dataset()"
   ]
  },
  {
   "cell_type": "code",
   "execution_count": 6,
   "metadata": {},
   "outputs": [
    {
     "data": {
      "text/plain": [
       "7103"
      ]
     },
     "execution_count": 6,
     "metadata": {},
     "output_type": "execute_result"
    }
   ],
   "source": [
    "len(qa_dataset['answers'])"
   ]
  },
  {
   "cell_type": "code",
   "execution_count": 11,
   "metadata": {},
   "outputs": [
    {
     "data": {
      "text/plain": [
       "'The purpose of using the \"--extractor-options-file\" command-line option in CodeQL database init or \"codeql database begin-tracing\" is to specify extractor option bundle files that set extractor options. These files are read in the order they are specified, and if different extractor option bundle files specify the same extractor option, the behavior depends on the type that the extractor option expects. String options will use the last value provided, and array options will use all the values provided, in order. This option is processed before extractor options given via \"--extractor-option\". When passed to CodeQL database init or \"codeql database begin-tracing\", the options will only be applied to the indirect tracing environment. If your workflow also makes calls to \"codeql database trace-command\", then the options also need to be passed there if desired. This option is useful for setting extractor options in a more organized and structured way, especially when dealing with multiple extractors and options.'"
      ]
     },
     "execution_count": 11,
     "metadata": {},
     "output_type": "execute_result"
    }
   ],
   "source": [
    "list(qa_dataset['answers'].values())[100]"
   ]
  },
  {
   "cell_type": "code",
   "execution_count": 80,
   "metadata": {},
   "outputs": [],
   "source": [
    "nodes = dataset_manager.parse_documents(texts=data,chunk_size=2048)"
   ]
  },
  {
   "cell_type": "code",
   "execution_count": 56,
   "metadata": {},
   "outputs": [
    {
     "data": {
      "text/plain": [
       "6014"
      ]
     },
     "execution_count": 56,
     "metadata": {},
     "output_type": "execute_result"
    }
   ],
   "source": [
    "len(nodes)"
   ]
  },
  {
   "cell_type": "code",
   "execution_count": 57,
   "metadata": {},
   "outputs": [
    {
     "data": {
      "text/plain": [
       "['\\n\\nAbout forks\\n\\n{% data reusables.repositories.fork-definition-long %}  For more information, see \"AUTOTITLE.\"\\n\\n\\n\\nPropose changes to someone else\\'s project\\n\\nFor example, you can use forks to propose changes related to fixing a bug. Rather than logging an issue for a bug you have found, you can:\\n\\n- Fork the repository.\\n- Make the fix.\\n- Submit a pull request to the project owner.\\n\\n\\n\\nUse someone else\\'s project as a starting point for your own idea.\\n\\nOpen source software is based on the idea that by sharing code, we can make better, more reliable software. For more information, see the \"About the Open Source Initiative\" on the Open Source Initiative.\\n\\nFor more information about applying open source principles to your organization\\'s development work on {% data variables.location.product_location %}, see {% data variables.product.prodname_dotcom %}\\'s white paper \"An introduction to innersource.\"\\n\\n{% ifversion fpt or ghes or ghec %}\\n\\nWhen creating your public repository from a fork of someone\\'s project, make sure to include a license file that determines how you want your project to be shared with others. For more information, see \"Choose an open source license\" at choosealicense.com.\\n\\n{% data reusables.open-source.open-source-guide-repositories %} {% data reusables.open-source.open-source-learning %}\\n\\n{% endif %}\\n\\n\\n\\nPrerequisites\\n\\nIf you haven\\'t yet, first set up Git and authentication with {% data variables.location.product_location %} from Git. For more information, see \"AUTOTITLE.\"\\n\\n\\n\\nForking a repository\\n\\n{% webui %}\\n\\nYou might fork a project to propose changes to the upstream repository. In this case, it\\'s good practice to regularly sync your fork with the upstream repository. To do this, you\\'ll need to use Git on the command line. You can practice setting the upstream repository using the same octocat/Spoon-Knife repository you just forked.\\n\\n1. On {% ifversion fpt or ghec %}{% data variables.product.prodname_dotcom_the_website %}{% else %}{% data variables.location.product_location %}{% endif %}, navigate to the ',\n",
       " 'octocat/Spoon-Knife repository.\\n1. In the top-right corner of the page, click **Fork**.\\n\\n   !Screenshot of the main page of repository. A button, labeled with a fork icon and \"Fork 59.3k,\" is outlined in dark orange.\\n{%- ifversion fpt or ghec or ghes or ghae > 3.5 %}\\n1. Under \"Owner,\" select the dropdown menu and click an owner for the forked repository.\\n1. By default, forks are named the same as their upstream repositories. Optionally, to further distinguish your fork, in the \"Repository name\" field, type a name.\\n1. Optionally, in the \"Description\" field, type a description of your fork.\\n{%- ifversion fpt or ghec or ghes or ghae > 3.6 %}\\n1. Optionally, select **Copy the DEFAULT branch only**.\\n\\n   For many forking scenarios, such as contributing to open-source projects, you only need to copy the default branch. If you do not select this option, all branches will be copied into the new fork.\\n{%- endif %}\\n1. Click **Create fork**.\\n\\n{% note %}\\n\\n**Note:** If you want to copy additional branches from the upstream repository, you can do so from the **Branches** page. For more information, see \"AUTOTITLE.\"{% endnote %}{% endif %}\\n\\n{% endwebui %}\\n\\n{% cli %}\\n\\n{% data reusables.cli.cli-learn-more %}\\n\\nTo create a fork of a repository, use the `gh repo fork` subcommand.\\n\\n```shell\\ngh repo fork REPOSITORY\\n```\\n\\nTo create the fork in an organization, use the `--org` flag.\\n\\n```shell\\ngh repo fork REPOSITORY --org \"octo-org\"\\n```\\n\\n{% endcli %}\\n\\n{% desktop %}\\n\\nYou can fork a repository on {% data variables.product.prodname_dotcom_the_website %} or in {% data variables.product.prodname_desktop %}. For information about forking on {% data variables.product.prodname_dotcom_the_website %}, see the web browser version of this article.\\n\\n{% data reusables.desktop.forking-a-repo %}\\n\\n{% enddesktop %}\\n\\n\\n\\nCloning your forked repository\\n\\nRight now, you have a fork of the Spoon-Knife repository, but you do not have the files in that repository locally on your computer.\\n\\n{% webui %}\\n\\n1. On {% ifversion fpt or ghec %}{% data variables.product.prodn',\n",
       " 'ame_dotcom_the_website %}{% else %}{% data variables.location.product_location %}{% endif %}, navigate to **your fork** of the Spoon-Knife repository.\\n{% data reusables.repositories.copy-clone-url %}\\n{% data reusables.command_line.open_the_multi_os_terminal %}\\n{% data reusables.command_line.change-current-directory-clone %}\\n1. Type `git clone`, and then paste the URL you copied earlier. It will look like this, with your {% data variables.product.product_name %} username instead of `YOUR-USERNAME`:\\n\\n   ```shell\\n   git clone https://{% data variables.command_line.codeblock %}/YOUR-USERNAME/Spoon-Knife\\n   ```\\n\\n1. Press **Enter**. Your local clone will be created.\\n\\n   ```shell\\n   $ git clone https://{% data variables.command_line.codeblock %}/YOUR-USERNAME/Spoon-Knife\\n   > Cloning into `Spoon-Knife`...\\n   > remote: Counting objects: 10, done.\\n   > remote: Compressing objects: 100% (8/8), done.\\n   > remote: Total 10 (delta 1), reused 10 (delta 1)\\n   > Unpacking objects: 100% (10/10), done.\\n   ```\\n\\n{% endwebui %}\\n\\n{% cli %}\\n\\n{% data reusables.cli.cli-learn-more %}\\n\\nTo create a clone of your fork, use the `--clone` flag.\\n\\n```shell\\ngh repo fork REPOSITORY --clone=true\\n```\\n\\n{% endcli %}\\n\\n{% desktop %}\\n\\n{% data reusables.desktop.choose-clone-repository %}\\n{% data reusables.desktop.cloning-location-tab %}\\n{% data reusables.desktop.cloning-repository-list %}\\n{% data reusables.desktop.choose-local-path %}\\n{% data reusables.desktop.click-clone %}\\n\\n{% enddesktop %}\\n\\n\\n\\nConfiguring Git to sync your fork with the upstream repository\\n\\nWhen you fork a project in order to propose changes to the upstream repository, you can configure Git to pull changes from the upstream repository into the local clone of your fork.\\n\\n{% webui %}\\n\\n1. On {% ifversion fpt or ghec %}{% data variables.product.prodname_dotcom_the_website %}{% else %}{% data variables.location.product_location %}{% endif %}, navigate to the octocat/Spoon-Knife repository.\\n{% data reusables.repositories.copy-clone-url %}\\n{% data reusables.command_line.open_the_multi_os_termin',\n",
       " 'al %}\\n1. Change directories to the location of the fork you cloned.\\n    - To go to your home directory, type just `cd` with no other text.\\n    - To list the files and folders in your current directory, type `ls`.\\n    - To go into one of your listed directories, type `cd your_listed_directory`.\\n    - To go up one directory, type `cd ..`.\\n1. Type `git remote -v` and press **Enter**. You will see the current configured remote repository for your fork.\\n\\n   ```shell\\n   $ git remote -v\\n   > origin  https://{% data variables.command_line.codeblock %}/YOUR_USERNAME/YOUR_FORK.git (fetch)\\n   > origin  https://{% data variables.command_line.codeblock %}/YOUR_USERNAME/YOUR_FORK.git (push)\\n   ```\\n\\n1. Type `git remote add upstream`, and then paste the URL you copied in Step 3 and press **Enter**. It will look like this:\\n\\n   ```shell\\n   git remote add upstream https://{% data variables.command_line.codeblock %}/ORIGINAL_OWNER/Spoon-Knife.git\\n   ```\\n\\n1. To verify the new upstream repository you have specified for your fork, type `git remote -v` again. You should see the URL for your fork as `origin`, and the URL for the upstream repository as `upstream`.\\n\\n   ```shell\\n   $ git remote -v\\n   > origin    https://{% data variables.command_line.codeblock %}/YOUR_USERNAME/YOUR_FORK.git (fetch)\\n   > origin    https://{% data variables.command_line.codeblock %}/YOUR_USERNAME/YOUR_FORK.git (push)\\n   > upstream  https://{% data variables.command_line.codeblock %}/ORIGINAL_OWNER/ORIGINAL_REPOSITORY.git (fetch)\\n   > upstream  https://{% data variables.command_line.codeblock %}/ORIGINAL_OWNER/ORIGINAL_REPOSITORY.git (push)\\n   ```\\n\\nNow, you can keep your fork synced with the upstream repository with a few Git commands. For more information, see \"AUTOTITLE.\"\\n\\n{% endwebui %}\\n\\n{% cli %}\\n\\n{% data reusables.cli.cli-learn-more %}\\n\\nTo configure a remote repository for the forked repository, use the `--remote` flag.\\n\\n```shell\\ngh repo fork REPOSITORY --remote=true\\n```\\n\\nTo specify the remote repository\\'s name, use the `--remote-name` flag.\\n\\n```shell\\ngh ',\n",
       " 'repo fork REPOSITORY --remote-name \"main-remote-repo\"\\n```\\n\\n{% endcli %}\\n\\n\\n\\nEditing a fork\\n\\nYou can make any changes to a fork, including:\\n\\n- **Creating branches:** _Branches_ allow you to build new features or test out ideas without putting your main project at risk.\\n- **Opening pull requests:** If you want to contribute back to the upstream repository, you can send a request to the original author to pull your fork into their repository by submitting a pull request.\\n\\n\\n\\nFind another repository to fork\\n\\nFork a repository to start contributing to a project. {% data reusables.repositories.you-can-fork %} For more information about when you can fork a repository, see \"AUTOTITLE.\"\\n\\n{% ifversion fpt or ghec %}You can browse Explore {% data variables.product.prodname_dotcom %} to find projects and start contributing to open source repositories. For more information, see \"AUTOTITLE.\"\\n\\n{% endif %}\\n\\n\\n\\nNext Steps\\n\\nYou have now forked a repository, practiced cloning your fork, and configured an upstream repository.\\n\\n- For more information about cloning the fork and syncing the changes in a forked repository from your computer, see \"AUTOTITLE.\"\\n\\n- You can also create a new repository where you can put all your projects and share the code on {% data variables.product.prodname_dotcom %}. {% data reusables.getting-started.create-a-repository %}\"\\n\\n- {% data reusables.getting-started.being-social %}\\n\\n- {% data reusables.support.connect-in-the-forum-bootcamp %}\\n\\n']"
      ]
     },
     "execution_count": 57,
     "metadata": {},
     "output_type": "execute_result"
    }
   ],
   "source": [
    "list(nodes.values())[:5]"
   ]
  },
  {
   "cell_type": "code",
   "execution_count": 58,
   "metadata": {},
   "outputs": [
    {
     "data": {
      "text/plain": [
       "['Y2h1bmtfMF9pbmRleF8w',\n",
       " 'Y2h1bmtfMV9pbmRleF8w',\n",
       " 'Y2h1bmtfMl9pbmRleF8w',\n",
       " 'Y2h1bmtfM19pbmRleF8w',\n",
       " 'Y2h1bmtfNF9pbmRleF8w']"
      ]
     },
     "execution_count": 58,
     "metadata": {},
     "output_type": "execute_result"
    }
   ],
   "source": [
    "list(nodes.keys())[:5]"
   ]
  },
  {
   "cell_type": "code",
   "execution_count": null,
   "metadata": {},
   "outputs": [],
   "source": []
  }
 ],
 "metadata": {
  "kernelspec": {
   "display_name": "rag_env",
   "language": "python",
   "name": "python3"
  },
  "language_info": {
   "codemirror_mode": {
    "name": "ipython",
    "version": 3
   },
   "file_extension": ".py",
   "mimetype": "text/x-python",
   "name": "python",
   "nbconvert_exporter": "python",
   "pygments_lexer": "ipython3",
   "version": "3.10.11"
  }
 },
 "nbformat": 4,
 "nbformat_minor": 2
}
