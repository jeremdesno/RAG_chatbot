{
 "cells": [
  {
   "cell_type": "code",
   "execution_count": 3,
   "metadata": {},
   "outputs": [],
   "source": [
    "import os\n",
    "import pandas as pd\n",
    "import numpy as np\n",
    "import json\n",
    "import base64\n",
    "import yaml\n",
    "import time \n",
    "import faiss\n",
    "import torch.nn.functional as F\n",
    "from pathlib import Path\n",
    "import asyncio\n",
    "from typing import List\n",
    "import uuid\n",
    "import re\n",
    "from tqdm import tqdm\n",
    "\n",
    "# Transformers\n",
    "from transformers import AutoTokenizer, AutoModel\n",
    "from sentence_transformers import SentenceTransformer\n",
    "from FlagEmbedding import FlagModel, FlagReranker\n",
    "\n",
    "from llama_index.schema import MetadataMode, TextNode\n",
    "from llama_index import VectorStoreIndex, SimpleDirectoryReader, ServiceContext\n",
    "from llama_index.readers.database import DatabaseReader\n",
    "from llama_index.node_parser import SimpleNodeParser\n",
    "from llama_index import download_loader\n",
    "\n",
    "\n",
    "#LLM\n",
    "from huggingface_hub import InferenceClient\n",
    "\n",
    "# Embeddings\n",
    "from llama_index.embeddings.huggingface import HuggingFaceEmbedding\n",
    "from huggingface_hub import InferenceClient\n",
    "\n",
    "\n",
    "# Retrievers\n",
    "from llama_index.retrievers import (\n",
    "    BaseRetriever,\n",
    "    VectorIndexRetriever,\n",
    ")\n",
    "\n",
    "# Evaluator\n",
    "from llama_index.evaluation import (\n",
    "    generate_question_context_pairs,\n",
    "    EmbeddingQAFinetuneDataset,\n",
    "    RetrieverEvaluator\n",
    ")"
   ]
  },
  {
   "cell_type": "code",
   "execution_count": 4,
   "metadata": {},
   "outputs": [],
   "source": [
    "# Load hugging Face token\n",
    "with open('../config.yaml', 'r') as config_file:\n",
    "        config = yaml.safe_load(config_file)\n",
    "hugging_face_api_key = config['huggingface']['token_api']"
   ]
  },
  {
   "cell_type": "code",
   "execution_count": 3,
   "metadata": {},
   "outputs": [],
   "source": [
    "MarkdownReader = download_loader(\"MarkdownReader\")\n",
    "loader = MarkdownReader()"
   ]
  },
  {
   "cell_type": "code",
   "execution_count": 4,
   "metadata": {},
   "outputs": [],
   "source": [
    "documents = loader.load_data(file=Path('./managing-your-subscriptions.md'))"
   ]
  },
  {
   "cell_type": "code",
   "execution_count": 5,
   "metadata": {},
   "outputs": [
    {
     "data": {
      "text/plain": [
       "'\\n\\nChoosing how to unsubscribe\\n\\nTo unwatch (or unsubscribe from) repositories quickly, navigate to github.com/watching to see all the repositories you\\'re following. For more information, see \"Unwatching repositories.\"\\n\\nTo unsubscribe from multiple notifications at the same time, you can unsubscribe using your inbox or on the subscriptions page. Both of these options offer more context about your subscriptions than the \"Watched repositories\" page.\\n\\n\\n\\nBenefits of unsubscribing from your inbox\\n\\nWhen you unsubscribe from notifications in your inbox, you have several other triaging options and can filter your notifications by custom filters and discussion types. For more information, see \"AUTOTITLE.\"\\n\\n\\n\\nBenefits of unsubscribing from the subscriptions page\\n\\nWhen you unsubscribe from notifications on the subscriptions page, you can see more of the notifications you\\'re subscribed to and sort them by \"Most recently subscribed\" or \"Least recently subscribed\".\\n\\nThe subscriptions page shows you all of the notifications that you\\'re currently subscribed to, including notifications that you have marked as **Done** in your inbox.\\n\\nYou can only filter your subscriptions by repository and the reason you\\'re receiving the notification.\\n\\n\\n\\nUnsubscribing from notifications in your inbox\\n\\nWhen you unsubscribe from notifications in your inbox, they will automatically disappear from your inbox.\\n\\n{% data reusables.notifications.access_notifications %}\\n1. From the notifications inbox, select the notifications you want to unsubscribe to.\\n1. Click **Unsubscribe.**\\n\\n   !Screenshot of the \"Notifications\" page. A button, titled \"Unsubscribe\", is highlighted with an orange outline.\\n\\n\\n\\nUnsubscribing from notifications on the subscriptions page\\n\\n{% data reusables.notifications.access_notifications %}\\n1. In the left sidebar, under the list of repositories, select the \"Manage notifications\" dropdown menu and click **Subscriptions**.\\n\\n   !Screenshot of the \"Notifications\" page. A dropdown menu, titled \"Manage notifications\", is highlighted with an orange outline.\\n\\n1. Select the notifications you want to unsubscribe from. In the top right, click **Unsubscribe**.\\n\\n\\n\\nUnwatching repositories\\n\\nWhen you unwatch a repository, you unsubscribe from future updates from that repository unless you participate in a conversation or are @mentioned.\\n\\n{% data reusables.notifications.access_notifications %}\\n1. In the left sidebar, under the list of repositories, select the \"Manage notifications\" dropdown menu and click **Watched repositories**.\\n\\n   !Screenshot of the \"Notifications\" page. A dropdown menu, titled \"Manage notifications\", is highlighted with an orange outline.\\n\\n1. On the watched repositories page, after you\\'ve evaluated the repositories you\\'re watching, choose whether to:\\n\\n   - Unwatch a repository by choosing to only receive notifications when participating or mentioned\\n   - Ignore all notifications for a repository\\n   - If enabled, customize the types of event you receive notifications for ({% data reusables.notifications-v2.custom-notification-types %})\\n\\n1. Optionally, to unsubscribe from all repositories owned by a given user or organization, select the **Unwatch all** dropdown and click the organization whose repositories you\\'d like to unsubscribe from. The button to unwatch all repositories is only available if you are watching all activity or custom notifications on over 10 repositories.\\n\\n   !Screenshot of the \"Watching\" page. A button, titled \"Unwatch all\", is highlighted with an orange outline.\\n\\n   - Click **Unwatch** to confirm that you want to unwatch the repositories owned by the selected user or organization, or click **Cancel** to cancel.\\n\\n'"
      ]
     },
     "execution_count": 5,
     "metadata": {},
     "output_type": "execute_result"
    }
   ],
   "source": [
    "text = \"\"\n",
    "for i in range( len(documents)):\n",
    "    text =  text + documents[i].get_text()\n",
    "text"
   ]
  },
  {
   "cell_type": "code",
   "execution_count": 6,
   "metadata": {},
   "outputs": [],
   "source": [
    "with open(\"test_doc.txt\", 'w') as fichier:\n",
    "    fichier.write(text)\n",
    "    fichier.close()"
   ]
  },
  {
   "cell_type": "code",
   "execution_count": 7,
   "metadata": {},
   "outputs": [],
   "source": [
    "def load_docs(file_path : str)->str:\n",
    "    doc = \"\"\n",
    "    # Initialise loader and load documents from specified documents\n",
    "    MarkdownReader = download_loader(\"MarkdownReader\")\n",
    "    loader = MarkdownReader()\n",
    "    documents = loader.load_data(file=Path(file_path))\n",
    "\n",
    "    for i in range(len(documents)):\n",
    "        doc =  doc + documents[i].get_text()\n",
    "    return doc"
   ]
  },
  {
   "cell_type": "code",
   "execution_count": 22,
   "metadata": {},
   "outputs": [],
   "source": [
    "def explore_folders(root_dir):\n",
    "    docs = []\n",
    "    titles = []\n",
    "    for foldername, subfolders, filenames in os.walk(root_dir):\n",
    "        for filename in filenames:\n",
    "            if filename.endswith('.md') and filename != 'index.md':\n",
    "                file_path = os.path.join(foldername, filename)\n",
    "                doc = load_docs(file_path=file_path)\n",
    "                docs.append(doc)\n",
    "                titles.append(filename[:-3])\n",
    "    return docs, titles"
   ]
  },
  {
   "cell_type": "code",
   "execution_count": 23,
   "metadata": {},
   "outputs": [],
   "source": [
    "for theme_folder in os.listdir('../content'):\n",
    "    if theme_folder.endswith(\".md\") != True:\n",
    "        explore_folders(theme_folder)"
   ]
  },
  {
   "cell_type": "code",
   "execution_count": 24,
   "metadata": {},
   "outputs": [],
   "source": [
    "docs, titles = explore_folders(os.path.dirname(os.getcwd()) + \"\\content\\\\\" + os.listdir('../content')[0])"
   ]
  },
  {
   "cell_type": "code",
   "execution_count": 25,
   "metadata": {},
   "outputs": [
    {
     "data": {
      "text/plain": [
       "['managing-your-subscriptions',\n",
       " 'viewing-your-subscriptions',\n",
       " 'about-notifications',\n",
       " 'configuring-notifications',\n",
       " 'customizing-a-workflow-for-triaging-your-notifications',\n",
       " 'managing-notifications-from-your-inbox',\n",
       " 'triaging-a-single-notification',\n",
       " 'about-your-organizations-profile',\n",
       " 'about-your-profile',\n",
       " 'managing-your-profile-readme',\n",
       " 'personalizing-your-profile',\n",
       " 'pinning-items-to-your-profile',\n",
       " 'setting-your-profile-to-private',\n",
       " 'sending-enterprise-contributions-to-your-githubcom-profile',\n",
       " 'showing-an-overview-of-your-activity-on-your-profile',\n",
       " 'showing-your-private-contributions-and-achievements-on-your-profile',\n",
       " 'troubleshooting-commits-on-your-timeline',\n",
       " 'viewing-contributions-on-your-profile',\n",
       " 'why-are-my-contributions-not-showing-up-on-my-profile',\n",
       " 'inviting-collaborators-to-a-personal-repository',\n",
       " 'maintaining-ownership-continuity-of-your-personal-accounts-repositories',\n",
       " 'removing-a-collaborator-from-a-personal-repository',\n",
       " 'removing-yourself-from-a-collaborators-repository',\n",
       " 'adding-an-email-address-to-your-github-account',\n",
       " 'blocking-command-line-pushes-that-expose-your-personal-email-address',\n",
       " 'changing-your-primary-email-address',\n",
       " 'managing-marketing-emails-from-github',\n",
       " 'remembering-your-github-username-or-email',\n",
       " 'setting-a-backup-email-address',\n",
       " 'setting-your-commit-email-address',\n",
       " 'types-of-emails-github-sends',\n",
       " 'verifying-your-email-address',\n",
       " 'about-your-personal-dashboard',\n",
       " 'changing-your-github-username',\n",
       " 'integrating-jira-with-your-personal-projects',\n",
       " 'managing-access-to-your-personal-accounts-project-boards',\n",
       " 'managing-accessibility-settings',\n",
       " 'managing-security-and-analysis-settings-for-your-personal-account',\n",
       " 'managing-the-default-branch-name-for-your-repositories',\n",
       " 'managing-your-cookie-preferences-for-githubs-enterprise-marketing-pages',\n",
       " 'managing-your-tab-size-rendering-preference',\n",
       " 'permission-levels-for-a-personal-account-repository',\n",
       " 'permission-levels-for-a-project-board-owned-by-a-personal-account',\n",
       " 'what-does-the-available-for-hire-checkbox-do',\n",
       " 'about-organization-membership',\n",
       " 'accessing-an-organization',\n",
       " 'managing-your-scheduled-reminders',\n",
       " 'publicizing-or-hiding-organization-membership',\n",
       " 'removing-yourself-from-an-organization',\n",
       " 'requesting-organization-approval-for-oauth-apps',\n",
       " 'viewing-peoples-roles-in-an-organization',\n",
       " 'best-practices-for-leaving-your-company',\n",
       " 'converting-a-user-into-an-organization',\n",
       " 'deleting-your-personal-account',\n",
       " 'managing-multiple-accounts',\n",
       " 'merging-multiple-personal-accounts',\n",
       " 'unlinking-your-email-address-from-a-locked-account']"
      ]
     },
     "execution_count": 25,
     "metadata": {},
     "output_type": "execute_result"
    }
   ],
   "source": [
    "titles"
   ]
  },
  {
   "cell_type": "code",
   "execution_count": 27,
   "metadata": {},
   "outputs": [
    {
     "data": {
      "text/plain": [
       "57"
      ]
     },
     "execution_count": 27,
     "metadata": {},
     "output_type": "execute_result"
    }
   ],
   "source": [
    "len(docs)"
   ]
  },
  {
   "cell_type": "code",
   "execution_count": 34,
   "metadata": {},
   "outputs": [],
   "source": [
    "folders = os.listdir('../content')\n",
    "docs = []\n",
    "titles = []\n",
    "root_directory = os.path.dirname(os.getcwd()) + \"\\content\\\\\" \n",
    "for folder in folders:\n",
    "    if theme_folder.endswith(\".md\") != True:\n",
    "        docs__in_folder, titles_in_folder = explore_folders(root_directory + folder)\n",
    "        docs = docs + docs__in_folder\n",
    "        titles = titles + titles_in_folder"
   ]
  },
  {
   "cell_type": "code",
   "execution_count": 36,
   "metadata": {},
   "outputs": [
    {
     "data": {
      "text/plain": [
       "2138"
      ]
     },
     "execution_count": 36,
     "metadata": {},
     "output_type": "execute_result"
    }
   ],
   "source": [
    "len(titles)"
   ]
  },
  {
   "cell_type": "code",
   "execution_count": 40,
   "metadata": {},
   "outputs": [],
   "source": [
    "df = pd.DataFrame({'content': docs, 'title': titles})"
   ]
  },
  {
   "cell_type": "code",
   "execution_count": 41,
   "metadata": {},
   "outputs": [
    {
     "data": {
      "text/html": [
       "<div>\n",
       "<style scoped>\n",
       "    .dataframe tbody tr th:only-of-type {\n",
       "        vertical-align: middle;\n",
       "    }\n",
       "\n",
       "    .dataframe tbody tr th {\n",
       "        vertical-align: top;\n",
       "    }\n",
       "\n",
       "    .dataframe thead th {\n",
       "        text-align: right;\n",
       "    }\n",
       "</style>\n",
       "<table border=\"1\" class=\"dataframe\">\n",
       "  <thead>\n",
       "    <tr style=\"text-align: right;\">\n",
       "      <th></th>\n",
       "      <th>content</th>\n",
       "      <th>title</th>\n",
       "    </tr>\n",
       "  </thead>\n",
       "  <tbody>\n",
       "    <tr>\n",
       "      <th>0</th>\n",
       "      <td>\\n\\nChoosing how to unsubscribe\\n\\nTo unwatch ...</td>\n",
       "      <td>managing-your-subscriptions</td>\n",
       "    </tr>\n",
       "    <tr>\n",
       "      <th>1</th>\n",
       "      <td>\\n\\nDiagnosing why you receive too many notifi...</td>\n",
       "      <td>viewing-your-subscriptions</td>\n",
       "    </tr>\n",
       "    <tr>\n",
       "      <th>2</th>\n",
       "      <td>\\n\\nNotifications and subscriptions\\n\\nYou can...</td>\n",
       "      <td>about-notifications</td>\n",
       "    </tr>\n",
       "    <tr>\n",
       "      <th>3</th>\n",
       "      <td>\\n\\nNotification delivery options\\n\\nYou can r...</td>\n",
       "      <td>configuring-notifications</td>\n",
       "    </tr>\n",
       "    <tr>\n",
       "      <th>4</th>\n",
       "      <td>\\n\\nStarting your inbox triage\\n\\nBefore you s...</td>\n",
       "      <td>customizing-a-workflow-for-triaging-your-notif...</td>\n",
       "    </tr>\n",
       "    <tr>\n",
       "      <th>...</th>\n",
       "      <td>...</td>\n",
       "      <td>...</td>\n",
       "    </tr>\n",
       "    <tr>\n",
       "      <th>2133</th>\n",
       "      <td>\\n\\nAbout disabling webhooks\\n\\n{% ifversion f...</td>\n",
       "      <td>disabling-webhooks</td>\n",
       "    </tr>\n",
       "    <tr>\n",
       "      <th>2134</th>\n",
       "      <td>\\n\\nAbout editing webhooks\\n\\nYou can edit a w...</td>\n",
       "      <td>editing-webhooks</td>\n",
       "    </tr>\n",
       "    <tr>\n",
       "      <th>2135</th>\n",
       "      <td>\\n\\nAbout webhook delivery failures\\n\\nA webho...</td>\n",
       "      <td>handling-failed-webhook-deliveries</td>\n",
       "    </tr>\n",
       "    <tr>\n",
       "      <th>2136</th>\n",
       "      <td>\\n\\nIntroduction\\n\\nWhen you create a webhook,...</td>\n",
       "      <td>handling-webhook-deliveries</td>\n",
       "    </tr>\n",
       "    <tr>\n",
       "      <th>2137</th>\n",
       "      <td>\\n\\nAbout validating webhook deliveries\\n\\nOnc...</td>\n",
       "      <td>validating-webhook-deliveries</td>\n",
       "    </tr>\n",
       "  </tbody>\n",
       "</table>\n",
       "<p>2138 rows × 2 columns</p>\n",
       "</div>"
      ],
      "text/plain": [
       "                                                content  \\\n",
       "0     \\n\\nChoosing how to unsubscribe\\n\\nTo unwatch ...   \n",
       "1     \\n\\nDiagnosing why you receive too many notifi...   \n",
       "2     \\n\\nNotifications and subscriptions\\n\\nYou can...   \n",
       "3     \\n\\nNotification delivery options\\n\\nYou can r...   \n",
       "4     \\n\\nStarting your inbox triage\\n\\nBefore you s...   \n",
       "...                                                 ...   \n",
       "2133  \\n\\nAbout disabling webhooks\\n\\n{% ifversion f...   \n",
       "2134  \\n\\nAbout editing webhooks\\n\\nYou can edit a w...   \n",
       "2135  \\n\\nAbout webhook delivery failures\\n\\nA webho...   \n",
       "2136  \\n\\nIntroduction\\n\\nWhen you create a webhook,...   \n",
       "2137  \\n\\nAbout validating webhook deliveries\\n\\nOnc...   \n",
       "\n",
       "                                                  title  \n",
       "0                           managing-your-subscriptions  \n",
       "1                            viewing-your-subscriptions  \n",
       "2                                   about-notifications  \n",
       "3                             configuring-notifications  \n",
       "4     customizing-a-workflow-for-triaging-your-notif...  \n",
       "...                                                 ...  \n",
       "2133                                 disabling-webhooks  \n",
       "2134                                   editing-webhooks  \n",
       "2135                 handling-failed-webhook-deliveries  \n",
       "2136                        handling-webhook-deliveries  \n",
       "2137                      validating-webhook-deliveries  \n",
       "\n",
       "[2138 rows x 2 columns]"
      ]
     },
     "execution_count": 41,
     "metadata": {},
     "output_type": "execute_result"
    }
   ],
   "source": [
    "df"
   ]
  },
  {
   "cell_type": "code",
   "execution_count": 44,
   "metadata": {},
   "outputs": [],
   "source": [
    "df.to_csv(\"../data/documents.csv\")"
   ]
  },
  {
   "cell_type": "code",
   "execution_count": 14,
   "metadata": {},
   "outputs": [
    {
     "ename": "NameError",
     "evalue": "name 'hugging_face_api_key' is not defined",
     "output_type": "error",
     "traceback": [
      "\u001b[1;31m---------------------------------------------------------------------------\u001b[0m",
      "\u001b[1;31mNameError\u001b[0m                                 Traceback (most recent call last)",
      "Cell \u001b[1;32mIn[14], line 1\u001b[0m\n\u001b[1;32m----> 1\u001b[0m inference \u001b[38;5;241m=\u001b[39m InferenceClient(token\u001b[38;5;241m=\u001b[39m\u001b[43mhugging_face_api_key\u001b[49m)\n\u001b[0;32m      2\u001b[0m model_zephyr \u001b[38;5;241m=\u001b[39m\u001b[38;5;124m\"\u001b[39m\u001b[38;5;124mHuggingFaceH4/zephyr-7b-beta\u001b[39m\u001b[38;5;124m\"\u001b[39m\n\u001b[0;32m      3\u001b[0m model_mistral \u001b[38;5;241m=\u001b[39m \u001b[38;5;124m\"\u001b[39m\u001b[38;5;124mmistralai/Mistral-7B-v0.1\u001b[39m\u001b[38;5;124m\"\u001b[39m\n",
      "\u001b[1;31mNameError\u001b[0m: name 'hugging_face_api_key' is not defined"
     ]
    }
   ],
   "source": [
    "inference = InferenceClient(token=hugging_face_api_key)\n",
    "model_zephyr =\"HuggingFaceH4/zephyr-7b-beta\"\n",
    "model_mistral = \"mistralai/Mistral-7B-v0.1\"\n",
    "model_falcon = \"tiiuae/falcon-7b-instruct\"\n",
    "model_open = \"openchat/openchat_3.5\""
   ]
  },
  {
   "cell_type": "code",
   "execution_count": 4,
   "metadata": {},
   "outputs": [
    {
     "data": {
      "text/plain": [
       "\"?\\n\\nFootball is a sport that is played by two teams of eleven players each. The objective of the game is to score goals by kicking a ball into the opposing team's goal. The team with the most goals at the end\""
      ]
     },
     "execution_count": 4,
     "metadata": {},
     "output_type": "execute_result"
    }
   ],
   "source": [
    "inference.text_generation(prompt=\"What is football\", model=model_zephyr, max_new_tokens=50)"
   ]
  },
  {
   "cell_type": "code",
   "execution_count": 4,
   "metadata": {},
   "outputs": [],
   "source": [
    "MiniLM_FR = HuggingFaceEmbedding(model_name=\"../biencoder-MiniLM-L6-all-v2-mmarcoFR\")"
   ]
  },
  {
   "cell_type": "code",
   "execution_count": 6,
   "metadata": {},
   "outputs": [],
   "source": [
    "sentences = ['This is an example sentence', 'Each sentence is converted']"
   ]
  },
  {
   "cell_type": "code",
   "execution_count": 12,
   "metadata": {},
   "outputs": [
    {
     "data": {
      "text/plain": [
       "(2, 384)"
      ]
     },
     "execution_count": 12,
     "metadata": {},
     "output_type": "execute_result"
    }
   ],
   "source": [
    "np.array(MiniLM_FR._get_text_embeddings(sentences)).shape"
   ]
  },
  {
   "cell_type": "code",
   "execution_count": 8,
   "metadata": {},
   "outputs": [],
   "source": [
    "model_L6_v2 = SentenceTransformer('sentence-transformers/all-MiniLM-L6-v2')"
   ]
  },
  {
   "cell_type": "code",
   "execution_count": 7,
   "metadata": {},
   "outputs": [
    {
     "data": {
      "text/plain": [
       "(2, 384)"
      ]
     },
     "execution_count": 7,
     "metadata": {},
     "output_type": "execute_result"
    }
   ],
   "source": [
    "model_L6_v2.encode(sentences).shape"
   ]
  },
  {
   "cell_type": "code",
   "execution_count": 15,
   "metadata": {},
   "outputs": [],
   "source": [
    "model_mpnet = SentenceTransformer('sentence-transformers/all-mpnet-base-v2')"
   ]
  },
  {
   "cell_type": "code",
   "execution_count": 14,
   "metadata": {},
   "outputs": [
    {
     "data": {
      "text/plain": [
       "(2, 384)"
      ]
     },
     "execution_count": 14,
     "metadata": {},
     "output_type": "execute_result"
    }
   ],
   "source": [
    "model_mpnet.encode(sentences).shape"
   ]
  },
  {
   "cell_type": "code",
   "execution_count": 11,
   "metadata": {},
   "outputs": [],
   "source": [
    "reranker = FlagReranker('BAAI/bge-reranker-base', use_fp16=True) \n",
    "# Setting use_fp16 to True speeds up computation with a slight performance degradation"
   ]
  },
  {
   "cell_type": "code",
   "execution_count": 10,
   "metadata": {},
   "outputs": [
    {
     "name": "stdout",
     "output_type": "stream",
     "text": [
      "[-8.154391288757324, 6.182114601135254]\n"
     ]
    }
   ],
   "source": [
    "scores = reranker.compute_score([['what is panda?', 'hi'], ['what is panda?', 'The giant panda (Ailuropoda melanoleuca), sometimes called a panda bear or simply panda, is a bear species endemic to China.']])\n",
    "print(scores)"
   ]
  },
  {
   "cell_type": "code",
   "execution_count": 11,
   "metadata": {},
   "outputs": [
    {
     "data": {
      "text/plain": [
       "6.860960483551025"
      ]
     },
     "execution_count": 11,
     "metadata": {},
     "output_type": "execute_result"
    }
   ],
   "source": [
    "reranker.compute_score(['Hello', 'hi'])"
   ]
  },
  {
   "cell_type": "markdown",
   "metadata": {},
   "source": [
    "## Testing Faiss"
   ]
  },
  {
   "cell_type": "code",
   "execution_count": 12,
   "metadata": {},
   "outputs": [
    {
     "data": {
      "text/html": [
       "<div>\n",
       "<style scoped>\n",
       "    .dataframe tbody tr th:only-of-type {\n",
       "        vertical-align: middle;\n",
       "    }\n",
       "\n",
       "    .dataframe tbody tr th {\n",
       "        vertical-align: top;\n",
       "    }\n",
       "\n",
       "    .dataframe thead th {\n",
       "        text-align: right;\n",
       "    }\n",
       "</style>\n",
       "<table border=\"1\" class=\"dataframe\">\n",
       "  <thead>\n",
       "    <tr style=\"text-align: right;\">\n",
       "      <th></th>\n",
       "      <th>content</th>\n",
       "      <th>title</th>\n",
       "    </tr>\n",
       "  </thead>\n",
       "  <tbody>\n",
       "    <tr>\n",
       "      <th>0</th>\n",
       "      <td>\\n\\nChoosing how to unsubscribe\\n\\nTo unwatch ...</td>\n",
       "      <td>managing-your-subscriptions</td>\n",
       "    </tr>\n",
       "    <tr>\n",
       "      <th>1</th>\n",
       "      <td>\\n\\nDiagnosing why you receive too many notifi...</td>\n",
       "      <td>viewing-your-subscriptions</td>\n",
       "    </tr>\n",
       "    <tr>\n",
       "      <th>2</th>\n",
       "      <td>\\n\\nNotifications and subscriptions\\n\\nYou can...</td>\n",
       "      <td>about-notifications</td>\n",
       "    </tr>\n",
       "    <tr>\n",
       "      <th>3</th>\n",
       "      <td>\\n\\nNotification delivery options\\n\\nYou can r...</td>\n",
       "      <td>configuring-notifications</td>\n",
       "    </tr>\n",
       "    <tr>\n",
       "      <th>4</th>\n",
       "      <td>\\n\\nStarting your inbox triage\\n\\nBefore you s...</td>\n",
       "      <td>customizing-a-workflow-for-triaging-your-notif...</td>\n",
       "    </tr>\n",
       "  </tbody>\n",
       "</table>\n",
       "</div>"
      ],
      "text/plain": [
       "                                             content  \\\n",
       "0  \\n\\nChoosing how to unsubscribe\\n\\nTo unwatch ...   \n",
       "1  \\n\\nDiagnosing why you receive too many notifi...   \n",
       "2  \\n\\nNotifications and subscriptions\\n\\nYou can...   \n",
       "3  \\n\\nNotification delivery options\\n\\nYou can r...   \n",
       "4  \\n\\nStarting your inbox triage\\n\\nBefore you s...   \n",
       "\n",
       "                                               title  \n",
       "0                        managing-your-subscriptions  \n",
       "1                         viewing-your-subscriptions  \n",
       "2                                about-notifications  \n",
       "3                          configuring-notifications  \n",
       "4  customizing-a-workflow-for-triaging-your-notif...  "
      ]
     },
     "execution_count": 12,
     "metadata": {},
     "output_type": "execute_result"
    }
   ],
   "source": [
    "df = pd.read_csv(\"../data/documents.csv\")\n",
    "df.head()"
   ]
  },
  {
   "cell_type": "code",
   "execution_count": 13,
   "metadata": {},
   "outputs": [
    {
     "data": {
      "text/plain": [
       "(2138,)"
      ]
     },
     "execution_count": 13,
     "metadata": {},
     "output_type": "execute_result"
    }
   ],
   "source": [
    "df.content.values.shape"
   ]
  },
  {
   "cell_type": "code",
   "execution_count": 14,
   "metadata": {},
   "outputs": [],
   "source": [
    "def create_index(data, text_column, model):\n",
    "    embedding = model.encode(data[text_column].to_list())\n",
    "    print(\"Embeddings created\")\n",
    "    # dimension\n",
    "    dimension = embedding.shape[1]\n",
    "    \n",
    "    # create the vector/embeddings and their IDs                                                                                                                                                                                                                                                embedding vectors and ids:\n",
    "    db_vectors = embedding.copy().astype(np.float32)\n",
    "    db_ids = data.index.values.astype(np.int64)\n",
    "\n",
    "    faiss.normalize_L2(db_vectors)\n",
    "    index = faiss.IndexFlatIP(dimension)\n",
    "    index = faiss.IndexIDMap(index)\n",
    "    index.add_with_ids(db_vectors, db_ids)\n",
    "    \n",
    "    return index, embedding\n",
    "\n",
    "def query_search(index, model, query, k):\n",
    "    \n",
    "    t=time.time()\n",
    "    query_vector = model.encode([query]).astype(np.float32)\n",
    "    faiss.normalize_L2(query_vector)\n",
    "    \n",
    "    similarities, similarities_ids = index.search(query_vector, k)\n",
    "    print('totaltime: {}\\n'.format(time.time()-t))\n",
    "    \n",
    "    similarities = np.clip(similarities, 0, 1)\n",
    "    \n",
    "    output = []\n",
    "    for i in range(len(similarities_ids[0])):\n",
    "        item = {\n",
    "            'id': similarities_ids[0][i],\n",
    "            'title': df.loc[similarities_ids[0][i], 'title'],\n",
    "            'text': df.loc[similarities_ids[0][i], 'content'],\n",
    "            'similarity_score': similarities[0][i]\n",
    "        }\n",
    "        output.append(item)\n",
    "    \n",
    "    return output"
   ]
  },
  {
   "cell_type": "code",
   "execution_count": 7,
   "metadata": {},
   "outputs": [],
   "source": [
    "model_L6_v2 = SentenceTransformer('sentence-transformers/all-MiniLM-L6-v2')"
   ]
  },
  {
   "cell_type": "code",
   "execution_count": null,
   "metadata": {},
   "outputs": [],
   "source": [
    "index_flatIP, embeddings = create_index(data=df, \n",
    "                          text_column='content', \n",
    "                          model=model_L6_v2)"
   ]
  },
  {
   "cell_type": "code",
   "execution_count": 16,
   "metadata": {},
   "outputs": [
    {
     "data": {
      "text/plain": [
       "2138"
      ]
     },
     "execution_count": 16,
     "metadata": {},
     "output_type": "execute_result"
    }
   ],
   "source": [
    "index_flatIP.ntotal"
   ]
  },
  {
   "cell_type": "code",
   "execution_count": 19,
   "metadata": {},
   "outputs": [],
   "source": [
    "faiss.write_index(index_flatIP, '../data/index_flatIP')"
   ]
  },
  {
   "cell_type": "code",
   "execution_count": 15,
   "metadata": {},
   "outputs": [],
   "source": [
    "index_flatIP = faiss.read_index('../data/index_flatIP')"
   ]
  },
  {
   "cell_type": "code",
   "execution_count": 16,
   "metadata": {},
   "outputs": [
    {
     "name": "stdout",
     "output_type": "stream",
     "text": [
      "totaltime: 0.31176304817199707\n",
      "\n"
     ]
    }
   ],
   "source": [
    "search_results = query_search(index=index_flatIP, \n",
    "                  model=model_L6_v2, \n",
    "                  query=\"What are codespaces\", \n",
    "                  k=10)"
   ]
  },
  {
   "cell_type": "code",
   "execution_count": 17,
   "metadata": {},
   "outputs": [
    {
     "data": {
      "text/plain": [
       "[{'id': 960,\n",
       "  'title': 'overview',\n",
       "  'text': '\\n\\nWhat is a codespace?\\n\\nA codespace is a development environment that\\'s hosted in the cloud. You can customize your project for {% data variables.product.prodname_github_codespaces %} by committing configuration files to your repository (often known as Configuration-as-Code), which creates a repeatable codespace configuration for all users of your project. For more information, see \"AUTOTITLE.\"\\n\\nEach codespace you create is hosted by {% data variables.product.prodname_dotcom %} in a Docker container, running on a virtual machine. You can choose from a selection of virtual machine types, from 2 cores, 8 GB RAM, and 32 GB storage, up to 32 cores, 64 GB RAM, and 128 GB storage.\\n\\nBy default, the codespace development environment is created from an Ubuntu Linux image that includes a selection of popular languages and tools, but you can use an image based on a Linux distribution of your choice and configure it for your particular requirements. Regardless of your local operating system, your codespace will run in a Linux environment. Windows and MacOS are not supported operating systems for the remote development container.\\n\\nYou can connect to your codespaces from your browser, from {% data variables.product.prodname_vscode %}, from the JetBrains Gateway application, or by using {% data variables.product.prodname_cli %}. When you connect, you are placed within the Docker container. You have limited access to the outer Linux virtual machine host.\\n\\n!Diagram showing the relationship between a code editor and a codespace running on an Azure virtual machine.\\n\\n\\n\\nBenefits of {% data variables.product.prodname_github_codespaces %}\\n\\nReasons for choosing to work in a codespace include:\\n\\n- **Use a preconfigured development environment** - You can work in a development environment that has been specifically configured for the repository. It will have all of the tools, languages, and configurations you need to work on that project. Everyone who works on that repository in a codespace will have the same environment. This reduces the likelihood of environment-related problems occurring and being difficult to debug. Each repository can have settings that will give contributors a ready-to-use, fit-for-purpose environment, and the environment on your local machine will be unchanged.\\n- **Access the resources you need** - Your local computer may not have the processing power, or storage space, you need to work on a project. {% data variables.product.prodname_github_codespaces %} allows you to work remotely on a machine with adequate resources.\\n- **Work anywhere** - All you need is a web browser. You can work in a codespace on your own computer, on a friend\\'s laptop, or on a tablet. Open your codespace and pick up from where you left off on a different device.\\n- **Choose your editor** - Work in the browser in the {% data variables.product.prodname_vscode_shortname %} web client, or choose from a selection of desktop-based applications.\\n- **Work on multiple projects** - You can use multiple codespaces to work on separate projects, or on different branches of the same repository, compartmentalizing your work to avoid changes made for one piece of work accidentally affecting something else you\\'re working on.\\n- **Pair program with a teammate** - If you work on a codespace in {% data variables.product.prodname_vscode_shortname %}, you can use Live Share to work collaboratively with other people on your team. For more information, see \"AUTOTITLE.\"\\n- **Publish your web app from a codespace** - Forward a port from your codespace and then share the URL, to allow teammates to try out the changes you\\'ve made to the application before you submit those changes in a pull request.\\n- **Try out a framework** - {% data variables.product.prodname_github_codespaces %} reduces the setup time when you want to learn a new framework. Just create a codespace from one of the quickstart templates.\\n\\n\\n\\nUsing {% data variables.product.prodname_github_codespaces %}\\n\\nTo begin developing using cloud-based compute resources, you can create a codespace from a template or from any branch or commit in a repository. When you create a codespace from a template, you can start from a blank template or choose a template suitable for the work you\\'re doing.\\n\\n{% data reusables.codespaces.links-to-get-started %}\\n\\n\\n\\nUsing codespaces owned by your personal account\\n\\nAll personal {% data variables.product.prodname_dotcom_the_website %} accounts have a monthly quota of free use of {% data variables.product.prodname_github_codespaces %} included in the Free or Pro plan. You can get started using {% data variables.product.prodname_github_codespaces %} on your personal account without changing any settings or providing payment details.\\n\\nIf you create a codespace from an organization-owned repository, use of the codespace will either be charged to the organization (if the organization is configured for this), or to your personal account.\\n\\n{% data reusables.codespaces.codespaces-continue-by-paying %}\\n\\n{% ifversion ghec %}\\n{% data reusables.codespaces.codespaces-unavailable-for-emus %}\\n{% endif %}\\n\\n\\n\\nUsing organization-owned codespaces\\n\\nOwners of organizations on {% data variables.product.prodname_team %} and {% data variables.product.prodname_enterprise %} plans can pay for their members\\' and collaborators\\' use of {% data variables.product.prodname_github_codespaces %}. This applies to codespaces created from repositories owned by the organization. For more information, see \"AUTOTITLE.\" You can set a spending limit for use of {% data variables.product.prodname_github_codespaces %} on your organization or enterprise account. For more information, see \"AUTOTITLE.\"\\n\\nIf use of a codespace will be billed to an organization or enterprise, this is shown when the codespace is created. For more information, see \"AUTOTITLE.\" Codespaces that are billed to an organization, or its parent enterprise, are owned by the organization and can be deleted by an organization owner. For more information, see \"AUTOTITLE.\"\\n\\n{% data reusables.codespaces.when-you-can-create-codespaces %}\\n\\n\\n\\nCustomizing {% data variables.product.prodname_github_codespaces %}\\n\\nTo customize the runtimes and tools in your codespace, you can create one or more dev container configurations for your repository. Adding dev container configurations to your repository allows you to define a choice of different development environments that are appropriate for the work people will do in your repository.\\n\\nIf you create a codespace from a repository without any dev container configurations, {% data variables.product.prodname_github_codespaces %} will clone your repository into an environment with the default dev container image that includes many tools, languages, and runtime environments. If you create a codespace from a template, you might start with some initial configuration on top of the default image. For more information, see \"AUTOTITLE.\"\\n\\nYou can personalize aspects of your codespace environment by using a public dotfiles repository. You can use dotfiles to set shell aliases and preferences, or to install your personal preference of the tools you like to use. If you use {% data variables.product.prodname_github_codespaces %} in the browser, or in {% data variables.product.prodname_vscode %}, you can use Settings Sync to give your codespace editor the same settings, keyboard shortcuts, snippets, and extensions that you have set up in your local installation of {% data variables.product.prodname_vscode %}.\\n\\nFor more information, see \"AUTOTITLE.\"\\n\\n\\n\\nBilling for {% data variables.product.prodname_codespaces %}\\n\\nFor information on pricing, storage, and usage for {% data variables.product.prodname_github_codespaces %}, see \"AUTOTITLE.\"\\n\\n{% data reusables.codespaces.codespaces-spending-limit-requirement %}\\n\\n{% data reusables.codespaces.codespaces-monthly-billing %} For information on how organizations owners and billing managers can manage the spending limit for {% data variables.product.prodname_github_codespaces %} for an organization, see \"AUTOTITLE.\"\\n\\n',\n",
       "  'similarity_score': 0.5967965},\n",
       " {'id': 1035,\n",
       "  'title': 'troubleshooting-creation-and-deletion-of-codespaces',\n",
       "  'text': '\\n\\nCreating codespaces\\n\\n\\n\\nNo access to create a codespace\\n\\n{% data variables.product.prodname_github_codespaces %} is not available for all repositories. If the options for creating a codespace are not displayed, {% data variables.product.prodname_github_codespaces %} may not be available for that repository.\\n\\nIf you have remaining monthly included usage of {% data variables.product.prodname_github_codespaces %} on your personal account, or you have set up a payment method and a spending limit, you can create a codespace for any public repository.\\n\\nYou can also create a codespace for any private repository to which you have at least read access, provided this private repository is owned by a personal account. If a repository is private {% ifversion ghec %}or internal {% endif %}and is owned by an organization, you may or may not be able to create a codespace for that repository, depending on the settings of the organization or its parent enterprise.\\n\\nIf you can\\'t create a codespace for a repository, this may be due to one of the following organization or enterprise settings.\\n- Organization and enterprise owners can choose which users can access {% data variables.product.prodname_github_codespaces %} in an organization\\'s private {% ifversion ghec %}and internal {% endif %} repositories. For more information, see \"AUTOTITLE.\"\\n- Organization and enterprise owners can disable forking for some or all of an organization\\'s private {% ifversion ghec %}and internal {% endif %}repositories. If you only have read access to a repository, and you cannot fork it, then you cannot create a codespace for that repository. For more information, see \"AUTOTITLE.\"{% ifversion ghec %}\\n- {% data reusables.codespaces.emus-create-codespaces %}{% endif %}\\n\\nFor information about other organization and enterprise settings that can affect whether you can create a codespace, see \"AUTOTITLE.\"\\n\\nFor more information about included usage for personal accounts, and setting a spending limit, see \"AUTOTITLE\" and \"AUTOTITLE.\"\\n\\n\\n\\nCodespace does not open when created\\n\\nIf you create a codespace and it does not open:\\n\\n1. Try reloading the page in case there was a caching or reporting problem.\\n1. Go to your {% data variables.product.prodname_github_codespaces %} page: https://github.com/codespaces and check whether the new codespace is listed there. The process may have successfully created the codespace but failed to report back to your browser. If the new codespace is listed, you can open it directly from that page.\\n1. Retry creating the codespace for the repository to rule out a transient communication failure.\\n\\nIf you still cannot create a codespace for a repository where {% data variables.product.prodname_github_codespaces %} is available, {% data reusables.codespaces.contact-support %}\\n\\n\\n\\nCodespace creation fails\\n\\nIf the creation of a codespace fails, it\\'s likely to be due to a temporary infrastructure issue in the cloud - for example, a problem provisioning a virtual machine for the codespace. A less common reason for failure is if it takes longer than an hour to build the container. In this case, the build is canceled and codespace creation will fail.\\n\\n{% note %}\\n\\n**Note:** A codespace that was not successfully created is never going to be usable and should be deleted. For more information, see \"AUTOTITLE.\"\\n\\n{% endnote %}\\n\\nIf you create a codespace and the creation fails:\\n\\n1. Check {% data variables.product.prodname_dotcom %}\\'s Status page for any active incidents.\\n1. Go to your {% data variables.product.prodname_github_codespaces %} page, delete the codespace, and create a new codespace.\\n1. If the container is building, look at the logs that are streaming and make sure the build is not stuck. A container build that takes longer than one hour will be canceled, resulting in a failed creation.\\n\\n   One common scenario where this could happen is if you have a script running that is prompting for user input and waiting for an answer. If this is the case, remove the interactive prompt so that the build can complete non-interactively.\\n\\n   {% note %}\\n\\n   **Note**: To view the logs during a build:\\n   - **In the browser**, if the initial steps of the build process take more than a few seconds, the \"Setting up your codespace\" page is displayed. Click **View logs.**\\n\\n     !Screenshot of the \"Setting up your codespace\" page in a browser. The link \"View logs\" is highlighted with a dark orange outline.\\n\\n   - **In the {% data variables.product.prodname_vscode_shortname %} desktop application**, click **Building codespace** in the \"Setting up remote connection\" popup message that\\'s displayed.\\n\\n     !Screenshot of a popup message in {% data variables.product.prodname_vscode_shortname %}, reading \"Setting up remote connection: Building codespace.\"\\n\\n     Log messages are printed to the Terminal in {% data variables.product.prodname_vscode_shortname %}\\n\\n    {% endnote %}\\n1. If you have a container that takes a long time to build, consider using prebuilds to speed up codespace creations. For more information, see \"AUTOTITLE.\"\\n\\n\\n\\nDeleting codespaces\\n\\nA codespace can only be deleted by:\\n- The person who created the codespace.\\n- An organization owner for an organization-owned codespace.\\n- Automatic deletion at the end of a retention period.\\n\\nFor more information, see \"AUTOTITLE\" and \"AUTOTITLE.\"\\n\\n\\n\\nContainer storage\\n\\nWhen you create a codespace, it has a finite amount of storage and over time it may be necessary for you to free up space. Try running any of the following commands in the {% data variables.product.prodname_github_codespaces %} terminal to free up storage space.\\n\\n- Remove packages that are no longer used by using `sudo apt autoremove`.\\n- Clean the apt cache by using `sudo apt clean`.\\n- See the top 10 largest files in the codespace with`sudo find / -printf \\'%s %p\\\\n\\'| sort -nr | head -10`.\\n- Delete unneeded files, such as build artifacts and logs.\\n\\nSome more destructive options:\\n\\n- Remove unused Docker images, networks, and containers by using `docker system prune` (append `-a` if you want to remove all images, and `--volumes` if you want to remove all volumes).\\n- Remove untracked files from working tree: `git clean -i`.\\n\\n\\n\\nConfiguration\\n\\n{% data reusables.codespaces.recovery-mode %}\\n\\n```shell\\nThis codespace is currently running in recovery mode due to a container error.\\n```\\n\\nReview the creation logs and update the dev container configuration as needed. For more information, see \"AUTOTITLE.\"\\n\\nYou can then try restarting the codespace, or rebuilding the container. For more information on rebuilding the container, see \"AUTOTITLE.\"\\n\\n',\n",
       "  'similarity_score': 0.5787499},\n",
       " {'id': 1857,\n",
       "  'title': 'machines',\n",
       "  'text': '\\n\\nAbout {% data variables.product.prodname_codespaces %} machines\\n\\nYou can determine which machine types are available to create a codespace, either on a given repository or as an authenticated user. For more information, see \"AUTOTITLE.\"\\n\\nYou can also use this information when changing the machine of an existing codespace by updating its `machine` property. The machine update will take place the next time the codespace is restarted. For more information, see \"AUTOTITLE.\"\\n\\n\\n\\n',\n",
       "  'similarity_score': 0.5725964},\n",
       " {'id': 1024,\n",
       "  'title': 'facilitating-quick-creation-and-resumption-of-codespaces',\n",
       "  'text': '\\n\\nOverview\\n\\nYou can make it easy for people to work on your repository in a codespace by providing a link to the codespace creation page. One place you might want to do this is in the README file for your repository. For example, you can add the link to an \"Open in {% data variables.product.prodname_github_codespaces %}\" badge.\\n\\n!Screenshot of an \"Open in {% data variables.product.prodname_github_codespaces %}\" badge on a README page.\\n\\nThe link to the codespace creation page can include specific configuration options to help people create an appropriate codespace. People who use the link will be able to choose different options, if they want, before creating the codespace. For information about the available options, see \"AUTOTITLE.\"\\n\\nAlternatively, you can link to the \"Resume codespace\" page, which provides a quick way for people to open a codespace they were working on recently.\\n\\n\\n\\nCreating a link to the codespace creation page for your repository\\n\\nYou can use these URLs to link to the codespace creation page for your repository. Replace the text in uppercase letters.\\n\\n- Create a codespace for the default branch of the repository:\\n  `https://codespaces.new/OWNER/REPO-NAME`\\n- Create a codespace for a specific branch of the repository:\\n  `https://codespaces.new/OWNER/REPO-NAME/tree/BRANCH-NAME`\\n- Create a codespace for the topic branch of a pull request:\\n  `https://codespaces.new/OWNER/REPO-NAME/pull/PR-SHA`\\n\\n\\n\\nConfiguring more options\\n\\nYou can use the \"Share a deep link\" option to configure more options for the codespace and build a custom URL, then copy a Markdown or HTML snippet for an \"Open in {% data variables.product.prodname_github_codespaces %}\" badge.\\n\\n{% data reusables.repositories.navigate-to-repo %}\\n1. If you want to create a link for a branch other than the repository\\'s default branch, under the repository name, click the button labeled with the name of the current branch. In the dropdown menu, select the branch for which you want to create a link.\\n\\n   !Screenshot of the expanded branch dropdown menu, listing various branches. The dropdown menu, labeled with a branch icon and \"trunk,\" is highlighted with a dark orange outline.\\n\\n1. Click the **{% octicon \"code\" aria-hidden=\"true\" %} Code** button, then click the **Codespaces** tab.\\n1. To open the \"Share codespace configuration\" window, at the top right of the **Codespaces** tab, select {% octicon \"kebab-horizontal\" aria-label=\"Codespace repository configuration\" %}, then click **Share a deep link**.\\n\\n   !Screenshot of the options dropdown in the \"{% data variables.product.prodname_codespaces %}\" tab. The \"Share a deep link\" option is highlighted with an orange outline.\\n\\n1. Optionally, to take users to a page where they can quickly resume a recent codespace or create a new one, select **Quick start**. For more information, see \"Creating a link to resume a codespace.\"\\n1. Optionally, to specify a dev container configuration, select **Configuration file**, then use the dropdown menu to choose a configuration. If you don\\'t specify a configuration, the default configuration for your repository is used. For more information, see \"AUTOTITLE.\"\\n1. Under \"Snippets,\" you can copy the URL you have built, or copy a Markdown or HTML snippet including an \"Open in {% data variables.product.prodname_github_codespaces %}\" badge. To copy the URL or snippet, select between the **URL**, **HTML**, and **Markdown** tabs, then click {% octicon \"copy\" aria-label=\"Copy text to the system clipboard\" %}.\\n\\n   !Screenshot of the \"Share codespace configuration\" window. Next to the \"new codespace\" URL, an icon of two overlapping squares is outlined in orange.\\n\\n\\n\\nCreating a link to resume a codespace\\n\\nYou can create a link to a page for resuming your most recent codespace that matches the repository, branch, and other options specified in the URL.\\n\\nAdd `?quickstart=1` to a `codespaces.new` URL, such as the URLs listed in the previous section of this article. This produces a URL that displays a \"Resume codespace\" page.\\n\\nFor example, the URL `https://codespaces.new/octo-org/octo-repo?quickstart=1` opens a page to allow you to resume your most recent codespace for the default branch of the `octo-org/octo-repo` repository.\\n\\n!Screenshot of the \"Resume codespace\" page showing the \"Resume this codespace\" and \"Create a new one\" buttons.\\n\\n{% note %}\\n\\n**Notes**:\\n\\n- If the `codespaces.new` URL already contains a query string, add `&quickstart=1` at the end of the query string.\\n- This type of URL will always open a codespace in the {% data variables.product.prodname_vscode_shortname %} web client, even if this is not set as your default editor for {% data variables.product.prodname_github_codespaces %}.\\n\\n{% endnote %}\\n\\nIf no matching codespaces are found, the page is titled \"Create codespace\" and a button is displayed for creating a new codespace with matching parameters.\\n\\nThis type of URL is useful, for instance, in a README for your repository as it gives people a way of either creating a codespace, or resuming their codespace, in just a couple of clicks.\\n\\n\\n\\nCreating an \"Open in {% data variables.product.prodname_github_codespaces %}\" badge\\n\\n{% tip %}\\n\\n**Tip:** You can use the \"Share a deep link\" option to create a Markdown or HTML snippet that includes an \"Open in {% data variables.product.prodname_github_codespaces %}\" badge with a custom URL. For more information, see \"Configuring more options.\"\\n\\n{% endtip %}\\n\\n1. Get the URL to the codespace creation page, or the \"Resume codespace\" page, as described in the previous sections.\\n1. Add the following Markdown to, for example, the `README.md` file of your repository:\\n\\n   ```markdown copy\\n   ![Open in GitHub Codespaces](URL)\\n   ```\\n\\n   For example:\\n\\n   ```markdown\\n   ![Open in GitHub Codespaces](https://codespaces.new/github/docs)\\n   ```\\n\\n   The example Markdown is rendered like this:\\n\\n   ![Open in GitHub Codespaces.](https://codespaces.new/github/docs)\\n\\n',\n",
       "  'similarity_score': 0.56900555},\n",
       " {'id': 1022,\n",
       "  'title': 'setting-a-minimum-specification-for-codespace-machines',\n",
       "  'text': '\\n\\nOverview\\n\\nEach codespace that you create is hosted on a separate virtual machine. When you create a codespace from a repository, you can usually choose from different types of virtual machines. Each machine type has different resources (processor cores, memory, storage) and, by default, the machine type with the least resources is used. For more information, see \"AUTOTITLE.\"\\n\\nIf your project needs a certain level of compute power, you can configure {% data variables.product.prodname_github_codespaces %} so that only machine types that meet these requirements can be used by default, or selected by users. You configure this in a `devcontainer.json` file.\\n\\n{% data reusables.codespaces.machine-types-for-unpublished-codespaces %}\\n\\n{% note %}\\n\\n**Important:** Access to some machine types may be restricted at the organization level. Typically this is done to prevent people choosing higher resourced machines that are billed at a higher rate. If your repository is affected by an organization-level policy for machine types you should make sure you don\\'t set a minimum specification that would leave no available machine types for people to choose. For more information, see \"AUTOTITLE.\"\\n\\n{% endnote %}\\n\\n\\n\\nSetting a minimum machine specification\\n\\n{% data reusables.codespaces.edit-devcontainer-json %}\\n1. Edit the `devcontainer.json` file, adding the `hostRequirements` property at the top level of the file, within the enclosing JSON object. For example:\\n\\n   ```json copy\\n   \"hostRequirements\": {\\n      \"cpus\": 8,\\n      \"memory\": \"8gb\",\\n      \"storage\": \"32gb\"\\n   }\\n   ```\\n\\n   You can specify any or all of the options: `cpus`, `memory`, and `storage`.\\n\\n   To check the specifications of the {% data variables.product.prodname_github_codespaces %} machine types that are currently available for your repository, step through the process of creating a codespace until you see the choice of machine types. For more information, see \"AUTOTITLE.\"\\n\\n1. Save the file and commit your changes to the required branch of the repository.\\n\\n   Now when you create a codespace for that branch of the repository, and you go to the creation configuration options, you will only be able to select machine types that match or exceed the resources you\\'ve specified.\\n\\n   !Screenshot of a list of machine types. The 2- and 4-core options are labeled \"Below dev container requirements.\"\\n\\n\\n\\nFurther reading\\n\\n- \"AUTOTITLE\"\\n\\n',\n",
       "  'similarity_score': 0.54197544},\n",
       " {'id': 983,\n",
       "  'title': 'deep-dive',\n",
       "  'text': '\\n\\nCreating your codespace\\n\\nThere are a number of entry points to create a codespace.\\n\\n- From a {% data variables.product.company_short %} template or any template repository on {% data variables.product.prodname_dotcom_the_website %} to start a new project\\n- From a branch in your repository for new feature work\\n- From an open pull request to explore work-in-progress\\n- From a commit in a repository\\'s history to investigate a bug at a specific point in time\\n\\n{% data reusables.codespaces.ways-to-create-a-codespace %}\\n\\nYour codespace can be ephemeral if you need to test something or you can return to the same codespace to work on long-running feature work.\\n\\nFor more information, see \"AUTOTITLE,\" \"AUTOTITLE,\" and \"AUTOTITLE.\"\\n\\n{% note %}\\n\\n**Note**: You can create more than one codespace per repository or even per branch. However, there are limits to the number of codespaces you can create, and the number of codespaces you can run at the same time. If you reach the maximum number of codespaces and try to create another, a message is displayed telling you that you must remove an existing codespace before you can create a new one.\\n\\n{% endnote %}\\n\\n\\n\\nThe codespace creation process\\n\\nWhen you create a codespace, various steps happen in the background before the codespace is available to you.\\n\\n\\n\\nStep 1: VM and storage are assigned to your codespace\\n\\nWhen you create a codespace, a virtual machine (VM) is created using either the stable or beta release of the VM host image. For more information, see \"AUTOTITLE.\" The host image defines the version of Linux that is used for the VM. The VM is both dedicated and private to you. Having a dedicated VM ensures that you have the entire set of compute resources from that machine available to you. If necessary, this also allows you to have full root access to your container.\\n\\nA shallow clone is then made of your repository, or of the template repository if you\\'re creating a codespace from a template. This is cloned into the `/workspaces` directory of the VM and subsequently mounted into the dev container. For more information, see \"About the directory structure of a codespace\" below.\\n\\n\\n\\nStep 2: Dev container is created\\n\\n{% data variables.product.prodname_github_codespaces %} uses a Docker container as the development environment. This container is created based on configurations that you can define in a `devcontainer.json` file and, optionally, a Dockerfile. If you create a codespace from {% data variables.product.company_short %}\\'s blank template, or from a repository with no `devcontainer.json` file, {% data variables.product.prodname_github_codespaces %} uses a default image, which has many languages and runtimes available. For more information, see \"AUTOTITLE.\" For details of what the default image for dev containers includes, see the `devcontainers/images` repository.\\n\\n{% note %}\\n\\n**Note:** If you want to use Git hooks in your codespace and apply anything in the git template directory to your codespace, then you must set up hooks during step 4 after the container is created.\\n\\nSince your repository is cloned onto the host VM before the container is created, anything in the git template directory will not apply in your codespace unless you set up hooks in your `devcontainer.json` configuration file using the `postCreateCommand` in step 4. For more information, see \"Step 4: Post-creation setup.\"\\n\\n{% endnote %}\\n\\n\\n\\nStep 3: Connecting to the codespace\\n\\nWhen your container has been created and any other initialization has run, you\\'ll be connected to your codespace. You can connect to it by using:\\n\\n- Your web browser\\n- {% data variables.product.prodname_vscode %}\\n- A JetBrains IDE\\n- {% data variables.product.prodname_cli %}\\n\\n\\n\\nStep 4: Post-creation setup\\n\\nOnce you are connected to your codespace, your automated setup may continue to build based on the configuration specified in your `devcontainer.json` file. You may see `postCreateCommand` and `postAttachCommand` run.\\n\\nIf you want to use Git hooks in your codespace, set up hooks using the `devcontainer.json` lifecycle scripts, such as `postCreateCommand`. For information about the lifecycle scripts, see the dev containers specification on the Development Containers website.\\n\\nIf you have a public dotfiles repository for {% data variables.product.prodname_github_codespaces %}, you can enable it for use with new codespaces. When enabled, your dotfiles will be cloned to the container and the install script will be invoked. For more information, see \"AUTOTITLE.\"\\n\\nFinally, if you created the codespace from a repository, the entire history of the repository is copied down with a full clone. If you created the codespace from a template, the full history of the template repository is not preserved; instead, unless you are using the blank template, you will start with an initial commit for the contents of the template repository.\\n\\nDuring post-creation setup you\\'ll still be able to use the integrated terminal and make edits to your files, but take care to avoid any race conditions between your work and the commands that are running.\\n\\n\\n\\n{% data variables.product.prodname_codespaces %} lifecycle\\n\\n\\n\\nSaving files in your codespace\\n\\nSave changes to files in the normal way, depending on the editor you are using.\\n\\nIf you work on codespaces in {% data variables.product.prodname_vscode %}, you can enable Auto Save to ensure that your changes are always saved.\\n\\n\\n\\nClosing or stopping your codespace\\n\\nYour codespace will keep running while you are using it, but will time out after a period of inactivity. File changes from the editor and terminal output are counted as activity, so your codespace will not time out if terminal output is continuing. The default inactivity timeout period is 30 minutes. You can define your personal timeout setting for codespaces you create, but this may be overruled by an organization timeout policy. For more information, see \"AUTOTITLE.\"\\n\\nIf a codespace times out it will stop running, but you can restart it from the browser tab (if you were using the codespace in the browser), from within {% data variables.product.prodname_vscode_shortname %}, or from your list of codespaces at https://github.com/codespaces.\\n\\nTo stop your codespace you can\\n\\n- In the browser: on your list of codespaces at https://github.com/codespaces, click the ellipsis (**...**) to the right of the codespace you want to stop and click **Stop codespace**.\\n- In {% data variables.product.prodname_vscode_shortname %}: open the {% data variables.product.prodname_vscode_command_palette %} - for example, by pressing Ctrl+Shift+Enter (Windows/Linux) or Shift+Command+P (Mac) - type `Codespaces: stop` then press Enter. For more information, see \"AUTOTITLE.\"\\n- In the JetBrains client, click the stop button at the top of the {% data variables.product.prodname_github_codespaces %} tool window. For more information, see the \"JetBrains IDEs\" tab of \"AUTOTITLE.\"\\n- In a terminal window: use the {% data variables.product.prodname_cli %} command `gh codespace stop`. For more information, see \"AUTOTITLE.\"\\n\\nIf you exit your codespace without running the stop command (for example, by closing the browser tab), or if you leave the codespace running without interaction, the codespace and its running processes will continue for the duration of the inactivity timeout period.\\n\\nWhen you close or stop your codespace, all uncommitted changes are preserved until you connect to the codespace again.\\n\\n\\n\\nRunning your application\\n\\nPort forwarding gives you access to TCP ports running within your codespace. For example, if you\\'re running a web application on port 4000 within your codespace, you can automatically forward that port to make the application accessible from your browser.\\n\\nPort forwarding determines which ports are made accessible to you from the remote machine. Even if you do not forward a port, that port is still accessible to other processes running inside the codespace itself.\\n\\n!Diagram showing connections, over the internet, between a code editor or a browser on your device and a codespace on the cloud.\\n\\nWhen an application running inside {% data variables.product.prodname_github_codespaces %} outputs a port to the console, {% data variables.product.prodname_github_codespaces %} detects the localhost URL pattern and automatically forwards the port. You can click on the URL in the terminal, or the link in the \"toast\" notification message that pops up at the bottom right corner of {% data variables.product.prodname_vscode_shortname %}, to open the port in a browser. By default, {% data variables.product.prodname_github_codespaces %} forwards the port using HTTP. For more information on port forwarding, see \"AUTOTITLE.\"\\n\\nWhile ports can be forwarded automatically, they are not publicly accessible to the internet. By default, all ports are private, but you can manually make a port available to your organization or public, and then share access through a URL. For more information, see \"AUTOTITLE.\"\\n\\nRunning your application when you first land in your codespace can make for a fast inner dev loop. As you edit, your changes are automatically saved and available on your forwarded port. To view changes, go back to the running application tab in your browser and refresh it.\\n\\n\\n\\nCommitting and pushing your changes\\n\\nGit is installed by default in your codespace and so you can rely on your existing Git workflow. You can work with Git in your codespace either via the Terminal or by using the source control features of {% data variables.product.prodname_vscode_shortname %} or JetBrains.\\n\\nIf you\\'re working with an existing repository, you can create a codespace from any branch, commit, or pull request in the repository, or you can switch to a new or existing branch from within your active codespace. Because {% data variables.product.prodname_github_codespaces %} is designed to be ephemeral, you can use it as an isolated environment to experiment, check a teammate\\'s pull request, or fix merge conflicts.\\n\\nIf you only have read access to a repository, then you can create a codespace for the repository as long as you can fork it. When you make a commit from the codespace, or push a new branch, {% data variables.product.prodname_github_codespaces %} either automatically creates a fork of the repository for you, or links the codespace to an existing fork if you already have one for the upstream repository.\\n\\nIf you\\'re working in a codespace created from a template, Git is installed by default, but you will need to publish your codespace to a remote repository to persist your work and to share it with others. If you start from {% data variables.product.company_short %}\\'s blank template, you first need to initialize your workspace as a Git repository (for example by entering `git init`) to start using source control within the codespace.\\n\\nFor more information, see \"AUTOTITLE.\"\\n\\n{% note %}\\n\\n**Note:** Commits from your codespace will be attributed to the name and public email configured at https://github.com/settings/profile. A token scoped to the repository, included in the environment as `GITHUB_TOKEN`, and your GitHub credentials will be used to authenticate.\\n\\n{% endnote %}\\n\\n\\n\\nPersonalizing your codespace with extensions or plugins\\n\\nYou can add plugins and extensions within a codespace to personalize your experience in JetBrains and {% data variables.product.prodname_vscode_shortname %} respectively.\\n\\n\\n\\n{% data variables.product.prodname_vscode_shortname %} extensions\\n\\nIf you work on your codespaces in the {% data variables.product.prodname_vscode_shortname %} desktop application, or the web client, you can add any extensions you need from the {% data variables.product.prodname_vscode_marketplace %}. For information on how extensions run in {% data variables.product.prodname_github_codespaces %}, see Supporting Remote Development and {% data variables.product.prodname_github_codespaces %} in the {% data variables.product.prodname_vscode_shortname %} documentation.\\n\\nIf you already use {% data variables.product.prodname_vscode_shortname %}, you can use Settings Sync to automatically sync extensions, settings, themes, and keyboard shortcuts between your local instance and any codespaces you create.\\n\\n\\n\\nJetBrains plugins\\n\\nIf you work on your codespaces in a JetBrains IDE, you can add plugins from the JetBrains Marketplace.\\n\\n1. Click **JetBrains Client**, then click **Preferences**.\\n1. In the Preferences dialog, click either **Plugins On Host** to install a plugin in the full JetBrains IDE that\\'s running remotely, or **Plugins** to install a plugin on the local client, for example to change the user interface theme.\\n1. Click the **Marketplace** tab.\\n\\n   !Screenshot of the \"Preferences\" dialog, with the \"Marketplace\" tab displayed. The \"Plugins On Host\" option is highlighted with a dark orange outline.\\n\\n1. Click **Install** beside the required plugin.\\n\\n\\n\\nAbout the directory structure of a codespace\\n\\n{% data reusables.codespaces.workspaces-directory %} For more information on the `/tmp` directory, see \"AUTOTITLE.\"\\n\\nClearing the directories outside `/workspaces` helps to ensure the rebuilt container is in the same state as it would be in a newly created codespace. If you\\'re rebuilding a container to apply configuration changes to the codespace you\\'re working in, you can be confident that any configuration changes you have made will work the same for users creating new codespaces with the same configuration. For more information, see \"AUTOTITLE.\"\\n\\nIf you want to make changes to your codespace that will be more robust over rebuilds and across different codespaces, you have several options.\\n\\n- To install programs and tools in all codespaces created from a repository, in your dev container configuration, you can use lifecycle command properties such as `postCreateCommand` to run custom installation commands, or you can choose from pre-written installation commands called \"features.\" For more information, see the dev containers specification on the Development Containers website and \"AUTOTITLE.\"\\n- To install tools or customize your setup in every codespace you create, such as configuring your `bash` profile, you can link {% data variables.product.prodname_github_codespaces %} with a dotfiles repository. The dotfiles repository is also cloned into the persistent `/workspaces` directory. For more information, see \"AUTOTITLE.\"\\n- If you want to preserve specific files over a rebuild, you can use a `devcontainer.json` file to create a symlink between the files and a persistent directory within `/workspaces`. For more information, see \"AUTOTITLE.\"\\n\\n\\n\\nFurther reading\\n\\n- \"AUTOTITLE\"\\n- \"AUTOTITLE\"\\n- \"AUTOTITLE\"\\n- \"AUTOTITLE\"\\n\\n',\n",
       "  'similarity_score': 0.5336299},\n",
       " {'id': 985,\n",
       "  'title': 'understanding-the-codespace-lifecycle',\n",
       "  'text': '\\n\\nAbout the lifecycle of a codespace\\n\\nThe lifecycle of a codespace begins when you create a codespace and ends when you delete it. You can disconnect and reconnect to an active codespace without affecting its running processes. You may stop and restart a codespace without losing changes that you have made to your project.\\n\\n\\n\\nCreating a codespace\\n\\nWhen you want to work on a project, you can choose to create a new codespace or open an existing codespace. You might want to create a new codespace from a branch of your repository each time you develop in {% data variables.product.prodname_github_codespaces %} or keep a long-running codespace for a feature. {% data reusables.codespaces.starting-new-project-template %} For more information, see \"AUTOTITLE\" and \"AUTOTITLE.\"\\n\\n{% data reusables.codespaces.max-number-codespaces %} Similarly, if you reach the maximum number of active codespaces and you try to start another, you are prompted to stop one of your active codespaces.\\n\\nIf you choose to create a new codespace each time you work on a project, you should regularly push your changes so that any new commits are on {% data variables.product.prodname_dotcom %}. If you choose to use a long-running codespace for your project, you should pull from your repository\\'s default branch each time you start working in your codespace so that your environment has the latest commits. This workflow is very similar to if you were working with a project on your local machine.\\n\\n{% data reusables.codespaces.prebuilds-crossreference %}\\n\\n\\n\\nSaving changes in a codespace\\n\\nWhen you connect to a codespace through the web, auto-save is enabled automatically for the web editor and configured to save changes after a delay. When you connect to a codespace through {% data variables.product.prodname_vscode %} running on your desktop, you must enable auto-save. For more information, see Save/Auto Save in the {% data variables.product.prodname_vscode %} documentation.\\n\\nYour work will be saved on a virtual machine in the cloud. You can close and stop a codespace and return to the saved work later. If you have unsaved changes, your editor will prompt you to save them before exiting. However, if your codespace is deleted, then your work will be deleted too. To persist your work, you will need to commit your changes and push them to your remote repository, or publish your work to a new remote repository if you created your codespace from a template. For more information, see \"AUTOTITLE.\"\\n\\n\\n\\nTimeouts for {% data variables.product.prodname_github_codespaces %}\\n\\nIf you leave your codespace running without interaction, or if you exit your codespace without explicitly stopping it, the codespace will timeout after a period of inactivity and stop running. By default, a codespace will timeout after 30 minutes of inactivity, but you can customize the duration of the timeout period for new codespaces that you create. For more information about setting the default timeout period for your codespaces, see \"AUTOTITLE.\" For more information about stopping a codespace, see \"Stopping a codespace.\"\\n\\nWhen a codespace times out, your data is preserved from the last time your changes were saved. For more information, see \"Saving changes in a codespace.\"\\n\\n\\n\\nRebuilding a codespace\\n\\nYou can rebuild your codespace to implement changes you\\'ve made to your dev container configuration. For most uses, you can create a new codespace as an alternative to rebuilding a codespace. By default, when you rebuild your codespace, {% data variables.product.prodname_github_codespaces %} will reuse images from your cache to speed up the rebuild process. Alternatively, you can perform a full rebuild, which clears your cache and rebuilds the container with fresh images.\\n\\n{% data reusables.codespaces.rebuild-note %}\\n\\nFor more information, see \"AUTOTITLE\" and \"AUTOTITLE.\"\\n\\n\\n\\nStopping a codespace\\n\\n{% data reusables.codespaces.stopping-a-codespace %} For more information, see \"AUTOTITLE.\"\\n\\n\\n\\nDeleting a codespace\\n\\nYou can create a codespace for a particular task and then safely delete the codespace after you push your changes to a remote branch.\\n\\nIf you try to delete a codespace with unpushed git commits, your editor will notify you that you have changes that have not been pushed to a remote branch. You can push any desired changes and then delete your codespace, or continue to delete your codespace and any uncommitted changes. You can also export your code to a new branch without creating a new codespace. For more information, see \"AUTOTITLE.\"\\n\\nCodespaces that have been stopped and remain inactive for a specified period of time will be deleted automatically. By default, inactive codespaces are deleted after 30 days, but you can customize your codespace retention period. For more information, see \"AUTOTITLE.\"\\n\\nIf you create a codespace, it will continue to accrue storage charges until it is deleted, irrespective of whether it is active or stopped. For more information, see \"AUTOTITLE.\" Deleting a codespace does not reduce the current billable amount for {% data variables.product.prodname_github_codespaces %}, which accumulates during each monthly billing cycle. For more information, see \"AUTOTITLE.\"\\n\\nFor more information on deleting a codespace, see \"AUTOTITLE.\"\\n\\n\\n\\nLosing the connection while using {% data variables.product.prodname_github_codespaces %}\\n\\n{% data variables.product.prodname_github_codespaces %} is a cloud-based development environment and requires an internet connection. If you lose connection to the internet while working in a codespace, you will not be able to access your codespace. However, any uncommitted changes will be saved. When you have access to an internet connection again, you can connect to your codespace in the exact same state that it was left in. If you have an unstable internet connection, you should commit and push your changes often.\\n\\nIf you know that you will often be working offline, you can use your `devcontainer.json` file with the \"Dev Containers\" extension for {% data variables.product.prodname_vscode_shortname %} to build and attach to a local development container for your repository. For more information, see Developing inside a container in the {% data variables.product.prodname_vscode %} documentation.\\n\\n',\n",
       "  'similarity_score': 0.5177499},\n",
       " {'id': 962,\n",
       "  'title': 'changing-the-machine-type-for-your-codespace',\n",
       "  'text': '\\n\\nAbout machine types\\n\\n{% data reusables.codespaces.codespaces-machine-types %} You can choose an alternative machine type either when you create a codespace or at any time after you\\'ve created a codespace.\\n\\nFor information on choosing a machine type when you create a codespace, see \"AUTOTITLE.\"\\n\\n{% data reusables.codespaces.machine-types-for-unpublished-codespaces %} For more information, see \"AUTOTITLE.\"\\n\\n\\n\\nChanging the machine type\\n\\n{% note %}\\n\\n**Note**: {% data reusables.codespaces.codespaces-machine-type-availability %}\\n\\n{% endnote %}\\n\\n{% webui %}\\n\\n{% data reusables.codespaces.your-codespaces-procedure-step %}\\n\\n   The number of cores, memory, storage capacity, and currently used storage are displayed for each codespace. Some details are omitted if you are using a narrow browser window.\\n\\n   !Screenshot of a list of three codespaces on the https://github.com/codespaces page.\"\\n\\n{% data reusables.codespaces.ellipsis-settings %}\\n1. Click **Change machine type**.\\n\\n   !Screenshot of the dropdown menu for a codespace. The \"Change machine type\" option is highlighted.\\n\\n1. If multiple machine types are available for your codespace, choose the type of machine you want to use.\\n\\n   !Screenshot of a dialog showing two available machine types: 2-core and 4-core.\\n\\n1. Click **Update codespace**.\\n\\n{% endwebui %}\\n\\n{% vscode %}\\n\\n{% data reusables.codespaces.changing-machine-type-in-vscode %}\\n\\n{% endvscode %}\\n\\n{% cli %}\\n\\n{% data reusables.codespaces.using-github-cli %}\\n\\nYou can use the `gh codespace edit --machine MACHINE-TYPE-NAME` {% data variables.product.prodname_cli %} command to change the machine type of a codespace. To use this command, you\\'ll first need to find out the available machine types for your codespace.\\n\\n1. To view your list of codespaces, in a terminal, enter the following command.\\n\\n   ```shell\\n   gh codespace list\\n   ```\\n\\n1. Optionally, to find the current machine type for a codespace, enter the following command.\\n\\n   ```shell\\n   gh api /user/codespaces/CODESPACE-NAME\\n   ```\\n\\n   Replace `CODESPACE-NAME` with the permanent name of the codespace, for example `octocat-literate-space-parakeet-mld5`. The permanent names are listed under the **NAME** column in the list returned by `gh codespace list`.\\n\\n   If you\\'re prompted to request the `codespace` scope, follow the instructions in the terminal.\\n\\n   Details for the current machine are listed under the `machine` field.\\n1. To find the available machine types for a codespace, enter the following command.\\n\\n   ```shell\\n   gh api /user/codespaces/CODESPACE-NAME/machines\\n   ```\\n\\n   Replace `CODESPACE-NAME` with the permanent name of the codespace, for example `octocat-literate-space-parakeet-mld5`.\\n1. To change the machine type for a codespace, enter the following command.\\n\\n   ```shell\\n   gh codespace edit --machine MACHINE-TYPE-NAME\\n   ```\\n\\n   Replace `MACHINE-TYPE-NAME` with the name of an available machine type for your codespace, for example `standardLinux32gb`.\\n1. Using the arrow keys, navigate to the codespace you want to change, then press Enter.\\n\\n{% endcli %}\\n\\n{% data reusables.codespaces.about-changing-storage-size %}\\n\\n{% cli %}\\n\\n\\n\\nFurther reading\\n\\n- \"AUTOTITLE\" in the REST API documentation\\n- `gh codespace edit` in the {% data variables.product.prodname_cli %} manual\\n- \"AUTOTITLE\"\\n- \"AUTOTITLE\"\\n\\n{% endcli %}\\n\\n',\n",
       "  'similarity_score': 0.50464404},\n",
       " {'id': 2117,\n",
       "  'title': 'transcript-codespaces-your-instant-dev-box-in-the-cloud',\n",
       "  'text': '---\\ntitle: Transcript - \"Codespaces - Your instant dev box in the cloud\"\\nintro: Audio and visual transcript.\\nshortTitle: Codespaces\\nallowTitleToDifferFromFilename: true\\nproduct_video: \\'https://www.youtube-nocookie.com/embed/_W9B7qc9lVc\\'\\ntopics:\\n  - Transcripts\\nversions:\\n  fpt: \\'*\\'\\n  ghec: \\'*\\'\\n---\\n\\n[A developer wearing a blue t-shirt sits at home, behind a mic and a pop shield decorated with GitHub\\'s Octocat logo. The developer shares their screen while still showing on webcam in the upper-right corner. On their screen, they are looking at a GitHub repository called \"js-project\".]\\n\\nDeveloper: So, today we\\'re gonna run my JavaScript project in GitHub Codespaces.\\n\\n[On the repository page, above the list of files, the developer selects the \"Code\" button to open a dropdown menu. They click \"Open with Codespaces\", then click \"New codespace\".]\\n\\nDeveloper: So while we\\'re creating our codespace, you might have the question, \"What even is a codespace?\"\\n\\n[In the browser, the codespace loads. On a white background, the text \"Preparing your codespace\" is displayed below GitHub\\'s Octocat logo and a VS Code logo.]\\n\\nDeveloper: A codespace is an instant cloud developer environment, where we can run, test, debug, push: everything that we\\'re used to doing in a development environment, but without any of the machine setup we\\'re used to doing locally.\\n\\n[The codespace opens in the VS Code web editor in the browser, running with the dark theme. Directories and files from the repository are displayed in the left sidebar. In an integrated terminal, a message says, \"Welcome to Codespaces,\" and lists included runtimes and tools.]\\n\\nDeveloper: So when we create this codespace, you\\'ll see we land in a machine that is already set up, and it has Python, Node, Docker, and even more, so it has tools like Java and Rust and Go and C++.\\n\\nBut you\\'ll see we landed in the default image. The great thing about Codespaces is you can fully customize your setup, not only for you, but for everyone else who comes along in this repository. So you can have a \"config-as-code\" setup that allows you to use your own image, or Dockerfile, or Docker Compose.\\n\\nSo for our app, we\\'re actually just gonna go ahead and start it up. So I\\'m gonna run `npm start` here, and you\\'ll see that we\\'re told our app is running on port 3000, and we can open it in the browser and connect securely to a forwarded port that has our app fully up and running.\\n\\n[A popup is displayed for the forwarded port. On the popup, the developer clicks a button labeled \"Open in browser\". A new browser tab opens showing a web page titled \"Haikus for Mona\". On the web page, a cartoon image shows a grinning Mona the Octocat skipping over a puddle with a purple umbrella. Below the image, a haiku: \"Rain in Seattle. Don\\'t forget an umbrella, or it will be gloom.\"]\\n\\nDeveloper: So you\\'ll see here\\'s my Node app, up and running, connected to in a codespace. And this took us about 60 seconds to get set up in Codespaces.\\n\\n[The developer scrolls to an image of Mona poking a record player with her tentacle.]\\n\\nDeveloper: So you can imagine this fully customized, to really bring down the setup time for really every repository you have.\\n\\nAnd that\\'s a quick look at GitHub Codespaces.\\n\\nEnd of transcript. For more information about {% data variables.product.prodname_github_codespaces %}, see the {% data variables.product.prodname_github_codespaces %} documentation.\\n\\n',\n",
       "  'similarity_score': 0.49836773},\n",
       " {'id': 993,\n",
       "  'title': 'restricting-the-base-image-for-codespaces',\n",
       "  'text': '\\n\\nOverview\\n\\nWhen you create a codespace, a development container is automatically created on a remote virtual machine. This dev container is created from a Docker image. The image is effectively a template for Docker containers and it determines many aspects of the resulting environment provided by the codespace. For more information, see \"AUTOTITLE.\"\\n\\nYou can choose which image you want to use for your codespaces by specifying it in the dev container configuration for a repository. You can do this, for example, by using the `image` property in the `devcontainer.json` file.\\n\\n```json copy\\n\"image\": \"mcr.microsoft.com/vscode/devcontainers/javascript-node:18\",\\n```\\n\\nFor more information, see the dev containers specification on the Development Containers website.\\n\\nIf you don\\'t specify an image in the dev container configuration for a repository, the default dev container image is used. The default image contains a number of runtime versions for popular languages and commonly used tools. For more information, see \"AUTOTITLE.\"\\n\\nAs an organization owner, you can add a policy to restrict which dev container images can be used for codespaces created within your organization.\\n\\nIf the image specified in the dev container configuration does not match one of the allowed images, the following message is displayed when someone tries to create a codespace for the repository:\\n\\n> Codespace could not be created: Base image \\'DETAILS FROM DEV CONTAINER CONFIGURATION\\' is not allowed based on an organization policy set by your organization owner.\\n\\n{% note %}\\n\\n**Notes**:\\n- The dev container base image should not be confused with the host image. The host image is the image used to build the virtual machine on which the dev container runs. For more information, see \"AUTOTITLE.\"\\n- The base image policy is only applied when a codespace is created. It is currently not applied when you rebuild a container. This will change in a future release. For more information, see \"AUTOTITLE.\"\\n- The base image policy does not apply to the default image, or the image that\\'s used to recover a codespace if an error is introduced into a dev container configuration which prevents the container from being rebuilt.\\n\\n{% endnote %}\\n\\n\\n\\nSetting organization-wide and repository-specific policies\\n\\nWhen you create a policy you choose whether it applies to all repositories in your organization, or only to specified repositories. If you set an organization-wide policy then any policies you set for individual repositories must fall within the restriction set at the organization level. Adding policies makes the choice of image more, not less, restrictive.\\n\\nFor example, you could create an organization-wide policy that restricts the base image to any of ten specified images. You can then set a policy for Repository A that restricts the image to a subset of just two of the images specified at the organization level. Specifying additional images for Repository A will have no effect because these images are not specified in the organization-level policy. If you add an organization-wide policy, you should set it to the largest choice of images that will be available for any repository in your organization. You can then add repository-specific policies to further restrict the choice.\\n\\n{% data reusables.codespaces.codespaces-org-policies-note %}\\n\\n\\n\\nAdding a policy to define the allowed images\\n\\n{% data reusables.profile.access_org %}\\n{% data reusables.profile.org_settings %}\\n{% data reusables.codespaces.codespaces-org-policies %}\\n1. Click **Add constraint** and choose **Base images**.\\n1. Click {% octicon \"pencil\" aria-label=\"Edit policy\" %} to edit the constraint.\\n1. In the \"Allowed values\" field, enter the complete URL of an image you want to allow.\\n\\n   !Screenshot of the URL \"mcr.microsoft.com/vscode/devcontainers/java\" entered in the \"Allowed values\" field.\\n\\n   {% note %}\\n\\n   **Note**: You must specify an image URL that exactly matches the value specified in a dev container configuration.\\n\\n   {% endnote %}\\n\\n1. Click {% octicon \"plus\" aria-label=\"Add button\" %} to add the value.\\n1. If required, repeat the previous two steps to add more image URLs.\\n1. Click outside of the dialog box to close it.\\n{% data reusables.codespaces.codespaces-policy-targets %}\\n1. If you want to add another constraint to the policy, click **Add constraint** and choose another constraint. For information about other constraints, see:\\n   - \"AUTOTITLE\"\\n   - \"AUTOTITLE\"\\n   - \"AUTOTITLE\"\\n   - \"AUTOTITLE\"\\n   - \"AUTOTITLE\"\\n\\n1. After you\\'ve finished adding constraints to your policy, click **Save**.\\n\\nThe policy is applied when anyone attempts to create a new codespace that is billable to your organization. The base image constraint does not affect existing codespaces, either active or stopped.\\n\\n\\n\\nEditing a policy\\n\\nYou can edit an existing policy. For example, you may want to add or remove constraints to or from a policy.\\n\\n1. Display the \"Codespaces policies\" page. For more information, see \"Adding a policy to define the allowed images.\"\\n1. Click the name of the policy you want to edit.\\n1. Beside the \"Base images\" constraint, click {% octicon \"pencil\" aria-label=\"Edit policy\" %}.\\n1. Add or remove image URLs.\\n1. Click **Save**.\\n\\n\\n\\nDeleting a policy\\n\\n1. Display the \"Codespaces policies\" page. For more information, see \"Adding a policy to define the allowed images.\"\\n{% data reusables.codespaces.delete-codespace-policy %}\\n\\n',\n",
       "  'similarity_score': 0.4973597}]"
      ]
     },
     "execution_count": 17,
     "metadata": {},
     "output_type": "execute_result"
    }
   ],
   "source": [
    "search_results"
   ]
  },
  {
   "cell_type": "code",
   "execution_count": 23,
   "metadata": {},
   "outputs": [],
   "source": [
    "# Testing indexIVflat\n",
    "dimension = embeddings.shape[1]\n",
    "nlist = 60  # how many Voronoi cells/partitions\n",
    "quantizer = faiss.IndexFlatL2(dimension)\n",
    "indexIVFFlat = faiss.IndexIVFFlat(quantizer, dimension, nlist)"
   ]
  },
  {
   "cell_type": "code",
   "execution_count": 24,
   "metadata": {},
   "outputs": [
    {
     "data": {
      "text/plain": [
       "False"
      ]
     },
     "execution_count": 24,
     "metadata": {},
     "output_type": "execute_result"
    }
   ],
   "source": [
    "indexIVFFlat.is_trained"
   ]
  },
  {
   "cell_type": "code",
   "execution_count": 25,
   "metadata": {},
   "outputs": [
    {
     "data": {
      "text/plain": [
       "True"
      ]
     },
     "execution_count": 25,
     "metadata": {},
     "output_type": "execute_result"
    }
   ],
   "source": [
    "# We train the flat index using our embeddings\n",
    "indexIVFFlat.train(embeddings)\n",
    "indexIVFFlat.is_trained  # check if index is now trained"
   ]
  },
  {
   "cell_type": "code",
   "execution_count": 26,
   "metadata": {},
   "outputs": [
    {
     "data": {
      "text/plain": [
       "2138"
      ]
     },
     "execution_count": 26,
     "metadata": {},
     "output_type": "execute_result"
    }
   ],
   "source": [
    "indexIVFFlat.add(embeddings)\n",
    "indexIVFFlat.ntotal  # number of embeddings indexed"
   ]
  },
  {
   "cell_type": "code",
   "execution_count": 27,
   "metadata": {},
   "outputs": [
    {
     "name": "stdout",
     "output_type": "stream",
     "text": [
      "totaltime: 0.028784513473510742\n",
      "\n"
     ]
    }
   ],
   "source": [
    "query = \"What are codespaces ?\"\n",
    "search_results = query_search(index = indexIVFFlat, \n",
    "                              model = model_L6_v2, \n",
    "                              query = query, \n",
    "                              k=10)"
   ]
  },
  {
   "cell_type": "code",
   "execution_count": 28,
   "metadata": {},
   "outputs": [
    {
     "data": {
      "text/plain": [
       "[{'id': 960,\n",
       "  'title': 'overview',\n",
       "  'text': '\\n\\nWhat is a codespace?\\n\\nA codespace is a development environment that\\'s hosted in the cloud. You can customize your project for {% data variables.product.prodname_github_codespaces %} by committing configuration files to your repository (often known as Configuration-as-Code), which creates a repeatable codespace configuration for all users of your project. For more information, see \"AUTOTITLE.\"\\n\\nEach codespace you create is hosted by {% data variables.product.prodname_dotcom %} in a Docker container, running on a virtual machine. You can choose from a selection of virtual machine types, from 2 cores, 8 GB RAM, and 32 GB storage, up to 32 cores, 64 GB RAM, and 128 GB storage.\\n\\nBy default, the codespace development environment is created from an Ubuntu Linux image that includes a selection of popular languages and tools, but you can use an image based on a Linux distribution of your choice and configure it for your particular requirements. Regardless of your local operating system, your codespace will run in a Linux environment. Windows and MacOS are not supported operating systems for the remote development container.\\n\\nYou can connect to your codespaces from your browser, from {% data variables.product.prodname_vscode %}, from the JetBrains Gateway application, or by using {% data variables.product.prodname_cli %}. When you connect, you are placed within the Docker container. You have limited access to the outer Linux virtual machine host.\\n\\n!Diagram showing the relationship between a code editor and a codespace running on an Azure virtual machine.\\n\\n\\n\\nBenefits of {% data variables.product.prodname_github_codespaces %}\\n\\nReasons for choosing to work in a codespace include:\\n\\n- **Use a preconfigured development environment** - You can work in a development environment that has been specifically configured for the repository. It will have all of the tools, languages, and configurations you need to work on that project. Everyone who works on that repository in a codespace will have the same environment. This reduces the likelihood of environment-related problems occurring and being difficult to debug. Each repository can have settings that will give contributors a ready-to-use, fit-for-purpose environment, and the environment on your local machine will be unchanged.\\n- **Access the resources you need** - Your local computer may not have the processing power, or storage space, you need to work on a project. {% data variables.product.prodname_github_codespaces %} allows you to work remotely on a machine with adequate resources.\\n- **Work anywhere** - All you need is a web browser. You can work in a codespace on your own computer, on a friend\\'s laptop, or on a tablet. Open your codespace and pick up from where you left off on a different device.\\n- **Choose your editor** - Work in the browser in the {% data variables.product.prodname_vscode_shortname %} web client, or choose from a selection of desktop-based applications.\\n- **Work on multiple projects** - You can use multiple codespaces to work on separate projects, or on different branches of the same repository, compartmentalizing your work to avoid changes made for one piece of work accidentally affecting something else you\\'re working on.\\n- **Pair program with a teammate** - If you work on a codespace in {% data variables.product.prodname_vscode_shortname %}, you can use Live Share to work collaboratively with other people on your team. For more information, see \"AUTOTITLE.\"\\n- **Publish your web app from a codespace** - Forward a port from your codespace and then share the URL, to allow teammates to try out the changes you\\'ve made to the application before you submit those changes in a pull request.\\n- **Try out a framework** - {% data variables.product.prodname_github_codespaces %} reduces the setup time when you want to learn a new framework. Just create a codespace from one of the quickstart templates.\\n\\n\\n\\nUsing {% data variables.product.prodname_github_codespaces %}\\n\\nTo begin developing using cloud-based compute resources, you can create a codespace from a template or from any branch or commit in a repository. When you create a codespace from a template, you can start from a blank template or choose a template suitable for the work you\\'re doing.\\n\\n{% data reusables.codespaces.links-to-get-started %}\\n\\n\\n\\nUsing codespaces owned by your personal account\\n\\nAll personal {% data variables.product.prodname_dotcom_the_website %} accounts have a monthly quota of free use of {% data variables.product.prodname_github_codespaces %} included in the Free or Pro plan. You can get started using {% data variables.product.prodname_github_codespaces %} on your personal account without changing any settings or providing payment details.\\n\\nIf you create a codespace from an organization-owned repository, use of the codespace will either be charged to the organization (if the organization is configured for this), or to your personal account.\\n\\n{% data reusables.codespaces.codespaces-continue-by-paying %}\\n\\n{% ifversion ghec %}\\n{% data reusables.codespaces.codespaces-unavailable-for-emus %}\\n{% endif %}\\n\\n\\n\\nUsing organization-owned codespaces\\n\\nOwners of organizations on {% data variables.product.prodname_team %} and {% data variables.product.prodname_enterprise %} plans can pay for their members\\' and collaborators\\' use of {% data variables.product.prodname_github_codespaces %}. This applies to codespaces created from repositories owned by the organization. For more information, see \"AUTOTITLE.\" You can set a spending limit for use of {% data variables.product.prodname_github_codespaces %} on your organization or enterprise account. For more information, see \"AUTOTITLE.\"\\n\\nIf use of a codespace will be billed to an organization or enterprise, this is shown when the codespace is created. For more information, see \"AUTOTITLE.\" Codespaces that are billed to an organization, or its parent enterprise, are owned by the organization and can be deleted by an organization owner. For more information, see \"AUTOTITLE.\"\\n\\n{% data reusables.codespaces.when-you-can-create-codespaces %}\\n\\n\\n\\nCustomizing {% data variables.product.prodname_github_codespaces %}\\n\\nTo customize the runtimes and tools in your codespace, you can create one or more dev container configurations for your repository. Adding dev container configurations to your repository allows you to define a choice of different development environments that are appropriate for the work people will do in your repository.\\n\\nIf you create a codespace from a repository without any dev container configurations, {% data variables.product.prodname_github_codespaces %} will clone your repository into an environment with the default dev container image that includes many tools, languages, and runtime environments. If you create a codespace from a template, you might start with some initial configuration on top of the default image. For more information, see \"AUTOTITLE.\"\\n\\nYou can personalize aspects of your codespace environment by using a public dotfiles repository. You can use dotfiles to set shell aliases and preferences, or to install your personal preference of the tools you like to use. If you use {% data variables.product.prodname_github_codespaces %} in the browser, or in {% data variables.product.prodname_vscode %}, you can use Settings Sync to give your codespace editor the same settings, keyboard shortcuts, snippets, and extensions that you have set up in your local installation of {% data variables.product.prodname_vscode %}.\\n\\nFor more information, see \"AUTOTITLE.\"\\n\\n\\n\\nBilling for {% data variables.product.prodname_codespaces %}\\n\\nFor information on pricing, storage, and usage for {% data variables.product.prodname_github_codespaces %}, see \"AUTOTITLE.\"\\n\\n{% data reusables.codespaces.codespaces-spending-limit-requirement %}\\n\\n{% data reusables.codespaces.codespaces-monthly-billing %} For information on how organizations owners and billing managers can manage the spending limit for {% data variables.product.prodname_github_codespaces %} for an organization, see \"AUTOTITLE.\"\\n\\n',\n",
       "  'similarity_score': 0.79767025},\n",
       " {'id': 1024,\n",
       "  'title': 'facilitating-quick-creation-and-resumption-of-codespaces',\n",
       "  'text': '\\n\\nOverview\\n\\nYou can make it easy for people to work on your repository in a codespace by providing a link to the codespace creation page. One place you might want to do this is in the README file for your repository. For example, you can add the link to an \"Open in {% data variables.product.prodname_github_codespaces %}\" badge.\\n\\n!Screenshot of an \"Open in {% data variables.product.prodname_github_codespaces %}\" badge on a README page.\\n\\nThe link to the codespace creation page can include specific configuration options to help people create an appropriate codespace. People who use the link will be able to choose different options, if they want, before creating the codespace. For information about the available options, see \"AUTOTITLE.\"\\n\\nAlternatively, you can link to the \"Resume codespace\" page, which provides a quick way for people to open a codespace they were working on recently.\\n\\n\\n\\nCreating a link to the codespace creation page for your repository\\n\\nYou can use these URLs to link to the codespace creation page for your repository. Replace the text in uppercase letters.\\n\\n- Create a codespace for the default branch of the repository:\\n  `https://codespaces.new/OWNER/REPO-NAME`\\n- Create a codespace for a specific branch of the repository:\\n  `https://codespaces.new/OWNER/REPO-NAME/tree/BRANCH-NAME`\\n- Create a codespace for the topic branch of a pull request:\\n  `https://codespaces.new/OWNER/REPO-NAME/pull/PR-SHA`\\n\\n\\n\\nConfiguring more options\\n\\nYou can use the \"Share a deep link\" option to configure more options for the codespace and build a custom URL, then copy a Markdown or HTML snippet for an \"Open in {% data variables.product.prodname_github_codespaces %}\" badge.\\n\\n{% data reusables.repositories.navigate-to-repo %}\\n1. If you want to create a link for a branch other than the repository\\'s default branch, under the repository name, click the button labeled with the name of the current branch. In the dropdown menu, select the branch for which you want to create a link.\\n\\n   !Screenshot of the expanded branch dropdown menu, listing various branches. The dropdown menu, labeled with a branch icon and \"trunk,\" is highlighted with a dark orange outline.\\n\\n1. Click the **{% octicon \"code\" aria-hidden=\"true\" %} Code** button, then click the **Codespaces** tab.\\n1. To open the \"Share codespace configuration\" window, at the top right of the **Codespaces** tab, select {% octicon \"kebab-horizontal\" aria-label=\"Codespace repository configuration\" %}, then click **Share a deep link**.\\n\\n   !Screenshot of the options dropdown in the \"{% data variables.product.prodname_codespaces %}\" tab. The \"Share a deep link\" option is highlighted with an orange outline.\\n\\n1. Optionally, to take users to a page where they can quickly resume a recent codespace or create a new one, select **Quick start**. For more information, see \"Creating a link to resume a codespace.\"\\n1. Optionally, to specify a dev container configuration, select **Configuration file**, then use the dropdown menu to choose a configuration. If you don\\'t specify a configuration, the default configuration for your repository is used. For more information, see \"AUTOTITLE.\"\\n1. Under \"Snippets,\" you can copy the URL you have built, or copy a Markdown or HTML snippet including an \"Open in {% data variables.product.prodname_github_codespaces %}\" badge. To copy the URL or snippet, select between the **URL**, **HTML**, and **Markdown** tabs, then click {% octicon \"copy\" aria-label=\"Copy text to the system clipboard\" %}.\\n\\n   !Screenshot of the \"Share codespace configuration\" window. Next to the \"new codespace\" URL, an icon of two overlapping squares is outlined in orange.\\n\\n\\n\\nCreating a link to resume a codespace\\n\\nYou can create a link to a page for resuming your most recent codespace that matches the repository, branch, and other options specified in the URL.\\n\\nAdd `?quickstart=1` to a `codespaces.new` URL, such as the URLs listed in the previous section of this article. This produces a URL that displays a \"Resume codespace\" page.\\n\\nFor example, the URL `https://codespaces.new/octo-org/octo-repo?quickstart=1` opens a page to allow you to resume your most recent codespace for the default branch of the `octo-org/octo-repo` repository.\\n\\n!Screenshot of the \"Resume codespace\" page showing the \"Resume this codespace\" and \"Create a new one\" buttons.\\n\\n{% note %}\\n\\n**Notes**:\\n\\n- If the `codespaces.new` URL already contains a query string, add `&quickstart=1` at the end of the query string.\\n- This type of URL will always open a codespace in the {% data variables.product.prodname_vscode_shortname %} web client, even if this is not set as your default editor for {% data variables.product.prodname_github_codespaces %}.\\n\\n{% endnote %}\\n\\nIf no matching codespaces are found, the page is titled \"Create codespace\" and a button is displayed for creating a new codespace with matching parameters.\\n\\nThis type of URL is useful, for instance, in a README for your repository as it gives people a way of either creating a codespace, or resuming their codespace, in just a couple of clicks.\\n\\n\\n\\nCreating an \"Open in {% data variables.product.prodname_github_codespaces %}\" badge\\n\\n{% tip %}\\n\\n**Tip:** You can use the \"Share a deep link\" option to create a Markdown or HTML snippet that includes an \"Open in {% data variables.product.prodname_github_codespaces %}\" badge with a custom URL. For more information, see \"Configuring more options.\"\\n\\n{% endtip %}\\n\\n1. Get the URL to the codespace creation page, or the \"Resume codespace\" page, as described in the previous sections.\\n1. Add the following Markdown to, for example, the `README.md` file of your repository:\\n\\n   ```markdown copy\\n   ![Open in GitHub Codespaces](URL)\\n   ```\\n\\n   For example:\\n\\n   ```markdown\\n   ![Open in GitHub Codespaces](https://codespaces.new/github/docs)\\n   ```\\n\\n   The example Markdown is rendered like this:\\n\\n   ![Open in GitHub Codespaces.](https://codespaces.new/github/docs)\\n\\n',\n",
       "  'similarity_score': 0.90154254},\n",
       " {'id': 962,\n",
       "  'title': 'changing-the-machine-type-for-your-codespace',\n",
       "  'text': '\\n\\nAbout machine types\\n\\n{% data reusables.codespaces.codespaces-machine-types %} You can choose an alternative machine type either when you create a codespace or at any time after you\\'ve created a codespace.\\n\\nFor information on choosing a machine type when you create a codespace, see \"AUTOTITLE.\"\\n\\n{% data reusables.codespaces.machine-types-for-unpublished-codespaces %} For more information, see \"AUTOTITLE.\"\\n\\n\\n\\nChanging the machine type\\n\\n{% note %}\\n\\n**Note**: {% data reusables.codespaces.codespaces-machine-type-availability %}\\n\\n{% endnote %}\\n\\n{% webui %}\\n\\n{% data reusables.codespaces.your-codespaces-procedure-step %}\\n\\n   The number of cores, memory, storage capacity, and currently used storage are displayed for each codespace. Some details are omitted if you are using a narrow browser window.\\n\\n   !Screenshot of a list of three codespaces on the https://github.com/codespaces page.\"\\n\\n{% data reusables.codespaces.ellipsis-settings %}\\n1. Click **Change machine type**.\\n\\n   !Screenshot of the dropdown menu for a codespace. The \"Change machine type\" option is highlighted.\\n\\n1. If multiple machine types are available for your codespace, choose the type of machine you want to use.\\n\\n   !Screenshot of a dialog showing two available machine types: 2-core and 4-core.\\n\\n1. Click **Update codespace**.\\n\\n{% endwebui %}\\n\\n{% vscode %}\\n\\n{% data reusables.codespaces.changing-machine-type-in-vscode %}\\n\\n{% endvscode %}\\n\\n{% cli %}\\n\\n{% data reusables.codespaces.using-github-cli %}\\n\\nYou can use the `gh codespace edit --machine MACHINE-TYPE-NAME` {% data variables.product.prodname_cli %} command to change the machine type of a codespace. To use this command, you\\'ll first need to find out the available machine types for your codespace.\\n\\n1. To view your list of codespaces, in a terminal, enter the following command.\\n\\n   ```shell\\n   gh codespace list\\n   ```\\n\\n1. Optionally, to find the current machine type for a codespace, enter the following command.\\n\\n   ```shell\\n   gh api /user/codespaces/CODESPACE-NAME\\n   ```\\n\\n   Replace `CODESPACE-NAME` with the permanent name of the codespace, for example `octocat-literate-space-parakeet-mld5`. The permanent names are listed under the **NAME** column in the list returned by `gh codespace list`.\\n\\n   If you\\'re prompted to request the `codespace` scope, follow the instructions in the terminal.\\n\\n   Details for the current machine are listed under the `machine` field.\\n1. To find the available machine types for a codespace, enter the following command.\\n\\n   ```shell\\n   gh api /user/codespaces/CODESPACE-NAME/machines\\n   ```\\n\\n   Replace `CODESPACE-NAME` with the permanent name of the codespace, for example `octocat-literate-space-parakeet-mld5`.\\n1. To change the machine type for a codespace, enter the following command.\\n\\n   ```shell\\n   gh codespace edit --machine MACHINE-TYPE-NAME\\n   ```\\n\\n   Replace `MACHINE-TYPE-NAME` with the name of an available machine type for your codespace, for example `standardLinux32gb`.\\n1. Using the arrow keys, navigate to the codespace you want to change, then press Enter.\\n\\n{% endcli %}\\n\\n{% data reusables.codespaces.about-changing-storage-size %}\\n\\n{% cli %}\\n\\n\\n\\nFurther reading\\n\\n- \"AUTOTITLE\" in the REST API documentation\\n- `gh codespace edit` in the {% data variables.product.prodname_cli %} manual\\n- \"AUTOTITLE\"\\n- \"AUTOTITLE\"\\n\\n{% endcli %}\\n\\n',\n",
       "  'similarity_score': 0.99714607},\n",
       " {'id': 2117,\n",
       "  'title': 'transcript-codespaces-your-instant-dev-box-in-the-cloud',\n",
       "  'text': '---\\ntitle: Transcript - \"Codespaces - Your instant dev box in the cloud\"\\nintro: Audio and visual transcript.\\nshortTitle: Codespaces\\nallowTitleToDifferFromFilename: true\\nproduct_video: \\'https://www.youtube-nocookie.com/embed/_W9B7qc9lVc\\'\\ntopics:\\n  - Transcripts\\nversions:\\n  fpt: \\'*\\'\\n  ghec: \\'*\\'\\n---\\n\\n[A developer wearing a blue t-shirt sits at home, behind a mic and a pop shield decorated with GitHub\\'s Octocat logo. The developer shares their screen while still showing on webcam in the upper-right corner. On their screen, they are looking at a GitHub repository called \"js-project\".]\\n\\nDeveloper: So, today we\\'re gonna run my JavaScript project in GitHub Codespaces.\\n\\n[On the repository page, above the list of files, the developer selects the \"Code\" button to open a dropdown menu. They click \"Open with Codespaces\", then click \"New codespace\".]\\n\\nDeveloper: So while we\\'re creating our codespace, you might have the question, \"What even is a codespace?\"\\n\\n[In the browser, the codespace loads. On a white background, the text \"Preparing your codespace\" is displayed below GitHub\\'s Octocat logo and a VS Code logo.]\\n\\nDeveloper: A codespace is an instant cloud developer environment, where we can run, test, debug, push: everything that we\\'re used to doing in a development environment, but without any of the machine setup we\\'re used to doing locally.\\n\\n[The codespace opens in the VS Code web editor in the browser, running with the dark theme. Directories and files from the repository are displayed in the left sidebar. In an integrated terminal, a message says, \"Welcome to Codespaces,\" and lists included runtimes and tools.]\\n\\nDeveloper: So when we create this codespace, you\\'ll see we land in a machine that is already set up, and it has Python, Node, Docker, and even more, so it has tools like Java and Rust and Go and C++.\\n\\nBut you\\'ll see we landed in the default image. The great thing about Codespaces is you can fully customize your setup, not only for you, but for everyone else who comes along in this repository. So you can have a \"config-as-code\" setup that allows you to use your own image, or Dockerfile, or Docker Compose.\\n\\nSo for our app, we\\'re actually just gonna go ahead and start it up. So I\\'m gonna run `npm start` here, and you\\'ll see that we\\'re told our app is running on port 3000, and we can open it in the browser and connect securely to a forwarded port that has our app fully up and running.\\n\\n[A popup is displayed for the forwarded port. On the popup, the developer clicks a button labeled \"Open in browser\". A new browser tab opens showing a web page titled \"Haikus for Mona\". On the web page, a cartoon image shows a grinning Mona the Octocat skipping over a puddle with a purple umbrella. Below the image, a haiku: \"Rain in Seattle. Don\\'t forget an umbrella, or it will be gloom.\"]\\n\\nDeveloper: So you\\'ll see here\\'s my Node app, up and running, connected to in a codespace. And this took us about 60 seconds to get set up in Codespaces.\\n\\n[The developer scrolls to an image of Mona poking a record player with her tentacle.]\\n\\nDeveloper: So you can imagine this fully customized, to really bring down the setup time for really every repository you have.\\n\\nAnd that\\'s a quick look at GitHub Codespaces.\\n\\nEnd of transcript. For more information about {% data variables.product.prodname_github_codespaces %}, see the {% data variables.product.prodname_github_codespaces %} documentation.\\n\\n',\n",
       "  'similarity_score': 1.0},\n",
       " {'id': 993,\n",
       "  'title': 'restricting-the-base-image-for-codespaces',\n",
       "  'text': '\\n\\nOverview\\n\\nWhen you create a codespace, a development container is automatically created on a remote virtual machine. This dev container is created from a Docker image. The image is effectively a template for Docker containers and it determines many aspects of the resulting environment provided by the codespace. For more information, see \"AUTOTITLE.\"\\n\\nYou can choose which image you want to use for your codespaces by specifying it in the dev container configuration for a repository. You can do this, for example, by using the `image` property in the `devcontainer.json` file.\\n\\n```json copy\\n\"image\": \"mcr.microsoft.com/vscode/devcontainers/javascript-node:18\",\\n```\\n\\nFor more information, see the dev containers specification on the Development Containers website.\\n\\nIf you don\\'t specify an image in the dev container configuration for a repository, the default dev container image is used. The default image contains a number of runtime versions for popular languages and commonly used tools. For more information, see \"AUTOTITLE.\"\\n\\nAs an organization owner, you can add a policy to restrict which dev container images can be used for codespaces created within your organization.\\n\\nIf the image specified in the dev container configuration does not match one of the allowed images, the following message is displayed when someone tries to create a codespace for the repository:\\n\\n> Codespace could not be created: Base image \\'DETAILS FROM DEV CONTAINER CONFIGURATION\\' is not allowed based on an organization policy set by your organization owner.\\n\\n{% note %}\\n\\n**Notes**:\\n- The dev container base image should not be confused with the host image. The host image is the image used to build the virtual machine on which the dev container runs. For more information, see \"AUTOTITLE.\"\\n- The base image policy is only applied when a codespace is created. It is currently not applied when you rebuild a container. This will change in a future release. For more information, see \"AUTOTITLE.\"\\n- The base image policy does not apply to the default image, or the image that\\'s used to recover a codespace if an error is introduced into a dev container configuration which prevents the container from being rebuilt.\\n\\n{% endnote %}\\n\\n\\n\\nSetting organization-wide and repository-specific policies\\n\\nWhen you create a policy you choose whether it applies to all repositories in your organization, or only to specified repositories. If you set an organization-wide policy then any policies you set for individual repositories must fall within the restriction set at the organization level. Adding policies makes the choice of image more, not less, restrictive.\\n\\nFor example, you could create an organization-wide policy that restricts the base image to any of ten specified images. You can then set a policy for Repository A that restricts the image to a subset of just two of the images specified at the organization level. Specifying additional images for Repository A will have no effect because these images are not specified in the organization-level policy. If you add an organization-wide policy, you should set it to the largest choice of images that will be available for any repository in your organization. You can then add repository-specific policies to further restrict the choice.\\n\\n{% data reusables.codespaces.codespaces-org-policies-note %}\\n\\n\\n\\nAdding a policy to define the allowed images\\n\\n{% data reusables.profile.access_org %}\\n{% data reusables.profile.org_settings %}\\n{% data reusables.codespaces.codespaces-org-policies %}\\n1. Click **Add constraint** and choose **Base images**.\\n1. Click {% octicon \"pencil\" aria-label=\"Edit policy\" %} to edit the constraint.\\n1. In the \"Allowed values\" field, enter the complete URL of an image you want to allow.\\n\\n   !Screenshot of the URL \"mcr.microsoft.com/vscode/devcontainers/java\" entered in the \"Allowed values\" field.\\n\\n   {% note %}\\n\\n   **Note**: You must specify an image URL that exactly matches the value specified in a dev container configuration.\\n\\n   {% endnote %}\\n\\n1. Click {% octicon \"plus\" aria-label=\"Add button\" %} to add the value.\\n1. If required, repeat the previous two steps to add more image URLs.\\n1. Click outside of the dialog box to close it.\\n{% data reusables.codespaces.codespaces-policy-targets %}\\n1. If you want to add another constraint to the policy, click **Add constraint** and choose another constraint. For information about other constraints, see:\\n   - \"AUTOTITLE\"\\n   - \"AUTOTITLE\"\\n   - \"AUTOTITLE\"\\n   - \"AUTOTITLE\"\\n   - \"AUTOTITLE\"\\n\\n1. After you\\'ve finished adding constraints to your policy, click **Save**.\\n\\nThe policy is applied when anyone attempts to create a new codespace that is billable to your organization. The base image constraint does not affect existing codespaces, either active or stopped.\\n\\n\\n\\nEditing a policy\\n\\nYou can edit an existing policy. For example, you may want to add or remove constraints to or from a policy.\\n\\n1. Display the \"Codespaces policies\" page. For more information, see \"Adding a policy to define the allowed images.\"\\n1. Click the name of the policy you want to edit.\\n1. Beside the \"Base images\" constraint, click {% octicon \"pencil\" aria-label=\"Edit policy\" %}.\\n1. Add or remove image URLs.\\n1. Click **Save**.\\n\\n\\n\\nDeleting a policy\\n\\n1. Display the \"Codespaces policies\" page. For more information, see \"Adding a policy to define the allowed images.\"\\n{% data reusables.codespaces.delete-codespace-policy %}\\n\\n',\n",
       "  'similarity_score': 1.0},\n",
       " {'id': 1043,\n",
       "  'title': 'working-with-support-for-github-codespaces',\n",
       "  'text': '\\n\\nCodespace names\\n\\nEach codespace has a unique name that is a combination of your {% data variables.product.company_short %} handle, two or three automatically generated words, and some random characters. For example: `octocat-literate-space-parakeet-mld5`. The two or three automatically generated words also form the initial display name of your codespace, in this case, `literate-space-parakeet`. You can change the display name for a codespace, but this will not affect the permanent name. For more information, see \"AUTOTITLE.\"\\n\\nTo find the name of a codespace:\\n\\n- Open the codespace in the browser. The subdomain of the URL is the name of the codespace. For example: `https://octocat-literate-space-parakeet-mld5.github.dev` is the URL for the `octocat-literate-space-parakeet-mld5` codespace.\\n- If you cannot open a codespace, you can access the name in {% data variables.product.product_name %} on https://github.com/codespaces. The name is shown in a pop-up when you hover over the display name of a codespace on https://github.com/codespaces.\\n\\n  !Screenshot of the mouse pointer positioned over a display name and the related codespace name shown at the bottom of the browser page.\\n\\nThe name the codespace is also included in many of the log files. For example, in the codespace logs as the value of `friendlyName`, in the {% data variables.product.prodname_github_codespaces %} extension log after `making GET request for`, and in the browser console log after `clientUrl`. For more information, see \"AUTOTITLE.\"\\n\\n\\n\\nCodespaces IDs\\n\\nEvery codespace also has an ID (identifier). This is not shown by default in {% data variables.product.prodname_vscode %} so you may need to update the settings for the {% data variables.product.prodname_github_codespaces %} extension before you can access the ID.\\n\\n1. In {% data variables.product.prodname_vscode %}, browser or desktop, in the Activity Bar on the left, click **Remote Explorer** to show details for the codespace.\\n{% indented_data_reference reusables.codespaces.remote-explorer spaces=3 %}\\n1. If the side bar includes a \"Codespace Performance\" section, hover over the \"Codespace ID\" and click the clipboard icon to copy the ID.\\n1. If the information is not shown, click {% octicon \"gear\" aria-label=\"Manage\" %}, in the bottom-left corner of the Activity Bar, to display the \"Settings\" tab.\\n1. Expand **Extensions** and click **{% data variables.product.prodname_github_codespaces %}** to display the settings for the extension. Then enable **Show Performance Explorer** to display the \"Codespace Performance\" section in the side bar.\\n\\n   !Screenshot of \"Show Performance Explorer\" selected in {% data variables.product.prodname_vscode_shortname %}\\'s \"Settings\" tab and a codespace ID highlighted in the \"Remote Explorer\" side bar.\\n\\n',\n",
       "  'similarity_score': 1.0},\n",
       " {'id': 968,\n",
       "  'title': 'default-environment-variables-for-your-codespace',\n",
       "  'text': '\\n\\nAbout default environment variables\\n\\n{% data variables.product.prodname_dotcom %} sets default environment variables for every codespace. Commands run in codespaces can create, read, and modify environment variables.\\n\\n{% note %}\\n\\n**Note**: Environment variables are case-sensitive.\\n\\n{% endnote %}\\n\\n\\n\\nList of default environment variables\\n\\n| Environment variable | Description |\\n| ---------------------|------------ |\\n| `CODESPACE_NAME` | The name of the codespace For example, `octocat-literate-space-parakeet-mld5` |\\n| `CODESPACES` | Always `true` while in a codespace |\\n| `GIT_COMMITTER_EMAIL` | The email for the \"author\" field of future `git` commits. |\\n| `GIT_COMMITTER_NAME` | The name for the \"committer\" field of future `git` commits. |\\n| `GITHUB_CODESPACES_PORT_FORWARDING_DOMAIN`| Returns the domain of the {% data variables.product.prodname_github_codespaces %} forwarded port. For example, `app.github.dev`. |\\n| `GITHUB_API_URL` | Returns the API URL. For example, `{% data variables.product.api_url_code %}`. |\\n| `GITHUB_GRAPHQL_URL` | Returns the GraphQL API URL. For example, `{% data variables.product.graphql_url_code %}`. |\\n| `GITHUB_REPOSITORY` | The owner and repository name. For example, `octocat/Hello-World`. |\\n| `GITHUB_SERVER_URL`| Returns the URL of the {% data variables.product.product_name %} server. For example, `https://{% data variables.product.product_url %}`. |\\n| `GITHUB_TOKEN` | A signed auth token representing the user in the codespace. You can use this to make authenticated calls to the GitHub API. For more information, see \"AUTOTITLE.\"  |\\n| `GITHUB_USER` | The name of the user that initiated the codespace. For example, `octocat`. |\\n\\n',\n",
       "  'similarity_score': 1.0},\n",
       " {'id': 969,\n",
       "  'title': 'deleting-a-codespace',\n",
       "  'text': '\\n\\nOverview\\n\\n{% data reusables.codespaces.automatic-deletion %} For more information, see \"AUTOTITLE.\"\\n\\nYou can manually delete a codespace in a variety of ways:\\n- In the terminal by using {% data variables.product.prodname_cli %}\\n- In {% data variables.product.prodname_vscode %}\\n- In your web browser\\n\\nUse the tabs at the top of this article to display instructions for each of these ways of deleting a codespace.\\n\\n{% note %}\\n\\n**Note**: You can\\'t delete a codespace from within the JetBrains Gateway, or the JetBrains client application, or from within JupyterLab.\\n\\n{% endnote %}\\n\\n\\n\\nWhy you should delete unused codespaces\\n\\nThere are costs associated with storing codespaces. You should therefore delete any codespaces you no longer need. For more information, see \"AUTOTITLE.\"\\n\\n{% data reusables.codespaces.max-number-codespaces %}\\n\\n\\n\\nDeleting a codespace\\n\\n{% webui %}\\n\\n{% data reusables.codespaces.your-codespaces-procedure-step %}\\n1. To the right of the codespace you want to delete, click {% octicon \"kebab-horizontal\" aria-label=\"Codespace configuration\" %}, then click **{% octicon \"trash\" aria-hidden=\"true\" %} Delete**.\\n\\n   !Screenshot of a list of codespaces with the dropdown menu for one of them displayed, showing the \"Delete\" option.\\n\\n{% endwebui %}\\n\\n{% note %}\\n\\n**Note**: You may have prebuild codespaces that are consuming additional storage which are not displayed on this dashboard. To delete them, follow the steps for “Deleting a prebuild configuration.”\\n\\n{% endnote %}\\n\\n{% vscode %}\\n\\n{% data reusables.codespaces.deleting-a-codespace-in-vscode %}\\n\\n{% endvscode %}\\n\\n{% cli %}\\n\\n{% data reusables.cli.cli-learn-more %}\\n\\nTo delete a codespace use the `gh codespace delete` subcommand and then choose a codespace from the list that\\'s displayed.\\n\\n```shell\\ngh codespace delete\\n```\\n\\nIf you have unsaved changes, you\\'ll be prompted to confirm deletion. You can use the `--force` flag to force deletion, avoiding this prompt.\\n\\nFor more information about this command, see the {% data variables.product.prodname_cli %} manual.\\n\\n{% endcli %}\\n\\n\\n\\nBulk deleting codespaces\\n\\n{% webui %}\\n\\nYou can use {% data variables.product.prodname_cli %} to delete several or all of your codespaces with a single command. For more information, click the \"{% data variables.product.prodname_cli %}\" tab near the top of this page.\\n\\n{% endwebui %}\\n\\n{% vscode %}\\n\\nYou can use {% data variables.product.prodname_cli %} to delete several or all of your codespaces with a single command. For more information, click the \"{% data variables.product.prodname_cli %}\" tab near the top of this page.\\n\\n{% endvscode %}\\n\\n{% cli %}\\n\\nYou can delete several or all of your codespaces with a single command, using `gh codespace delete` followed by one of these flags:\\n\\n`--all` - Delete all of your codespaces.\\n\\n`--repo REPOSITORY` - Delete all of your codespaces for this repository. Or use together with the `--days` flag to filter by age of the codespace.\\n\\n`--days NUMBER` - Delete all of your codespaces that are older than the specified number of days. Can be used together with the `--repo` flag.\\n\\nBy default you are prompted to confirm deletion of any codespaces that contain unsaved changes. You can use the `--force` flag to skip this confirmation.\\n\\n\\n\\nExample\\n\\nDelete all of the codespaces for the `octo-org/octo-repo` repository that you created more than 7 days ago.\\n\\n```shell\\ngh codespace delete --repo octo-org/octo-repo --days 7\\n```\\n\\n{% endcli %}\\n\\n\\n\\nDeleting codespaces in your organization\\n\\nAs an organization owner, you can use {% data variables.product.prodname_cli %} to delete any codespace in your organization.\\n\\n{% webui %}\\n\\nFor more information, click the \"{% data variables.product.prodname_cli %}\" tab near the top of this page.\\n\\n{% endwebui %}\\n\\n{% vscode %}\\n\\nFor more information, click the \"{% data variables.product.prodname_cli %}\" tab near the top of this page.\\n\\n{% endvscode %}\\n\\n{% cli %}\\n\\n1. Enter one of these commands to display a list of codespaces.\\n   - `gh codespace delete --org ORGANIZATION` - Lists the current codespaces in the specified organization.\\n   - `gh codespace delete --org ORGANIZATION --user USER` - Lists only those codespaces created by the specified user.\\n   You must be an owner of the specified organization.\\n1. In the list of codespaces, navigate to the codespace you want to delete.\\n1. To delete the selected codespace press Enter.\\n\\n   If the codespace contains unsaved changes you will be prompted to confirm deletion.\\n\\n{% endcli %}\\n\\nYou can also use the REST API to delete codespaces for your organization. For more information, see \"AUTOTITLE.\"\\n\\n\\n\\nFurther reading\\n\\n- \"AUTOTITLE\"\\n- \"AUTOTITLE\"\\n- \"AUTOTITLE\"\\n\\n',\n",
       "  'similarity_score': 1.0},\n",
       " {'id': 964,\n",
       "  'title': 'renaming-a-codespace',\n",
       "  'text': '\\n\\nAbout renaming a codespace\\n\\nWhen you create a codespace it\\'s assigned an auto-generated display name. If you have multiple codespaces, the display name helps you to differentiate between codespaces. For example: `literate space parakeet`. You can change the display name for your codespace.\\n\\nTo find the display name of a codespace:\\n\\n- On {% data variables.product.product_name %}, view your list of codespaces at https://github.com/codespaces.\\n\\n   !Screenshot of a list of three codespaces on the https://github.com/codespaces page.\"\\n\\n- In the {% data variables.product.prodname_vscode %} desktop application, or the {% data variables.product.prodname_vscode_shortname %} web client, click the Remote Explorer. The display name is the second item in the list. For example: `psychic chainsaw` in the screenshot below.\\n\\n  !Screenshot of the \"Remote Explorer\" in {% data variables.product.prodname_vscode_shortname %}. The codespace display name, \"psychic chainsaw,\" is highlighted with a dark orange outline.\\n\\n{% indented_data_reference reusables.codespaces.remote-explorer spaces=2 %}\\n- In a terminal window on your local machine, use this {% data variables.product.prodname_cli %} command: `gh codespace list`.\\n\\n\\n\\nPermanent codespace names\\n\\nIn addition to the display name, when you create a codespace, a permanent name is also assigned to the codespace. The name is a combination of your {% data variables.product.company_short %} handle, and the auto-generated display name. For example: `octocat-literate-space-parakeet-mld5`. You can\\'t change the permanent name.\\n\\nTo find the permanent name of a codespace:\\n\\n- On {% data variables.product.product_name %}, the permanent name is shown in a pop-up when you hover over the display name of a codespace on https://github.com/codespaces.\\n\\n   !Screenshot of the mouse pointer positioned over a display name, with the corresponding codespace name shown at the bottom of the browser page.\\n\\n- In a codespace, use this command in the terminal: `echo $CODESPACE_NAME`.\\n- In a terminal window on your local machine, use this {% data variables.product.prodname_cli %} command: `gh codespace list`.\\n\\n\\n\\nRenaming a codespace\\n\\nChanging the display name of a codespace can be useful if you have multiple codespaces that you will be using for an extended period. An appropriate name helps you identify a codespace that you use for a particular purpose.\\n\\n{% cli %}\\n\\n{% data reusables.codespaces.using-github-cli %}\\n\\nTo change the display name of a codespace, use the `gh codespace edit` subcommand:\\n\\n```shell\\ngh codespace edit -c PERMANENT-CODESPACE-NAME -d \\'NEW-DISPLAY-NAME\\'\\n```\\n\\nIn this example, replace `PERMANENT-CODESPACE-NAME` with the permanent name of the codespace whose display name you want to change. Replace `NEW-DISPLAY-NAME` with the display name you want to use for this codespace.\\n\\nDisplay names can be up to 48 characters in length. The display name can contain any combination of characters, including spaces, provided you enclose it in single quotes.\\n\\nFor more information, see \"AUTOTITLE.\"\\n\\n{% endcli %}\\n\\n{% webui %}\\n\\nYou can change the display name for your codespace on {% data variables.product.prodname_dotcom_the_website %}.\\n\\n{% data reusables.codespaces.your-codespaces-procedure-step %}\\n\\n    The current display name for each of your codespaces is displayed.\\n\\n{% data reusables.codespaces.ellipsis-settings %}\\n1. Click **Rename**.\\n\\n1. In the prompt, under \"Change display name to...\" type your desired display name and click **OK**.\\n\\n{% endwebui %}\\n\\n\\n\\nFurther reading\\n\\n- \"AUTOTITLE\"\\n- \"AUTOTITLE\"\\n\\n',\n",
       "  'similarity_score': 1.0},\n",
       " {'id': 976,\n",
       "  'title': 'stopping-and-starting-a-codespace',\n",
       "  'text': '\\n\\nAbout stopping and starting a codespace\\n\\n{% data reusables.codespaces.stopping-a-codespace %}\\n\\nRegardless of where you created or access your codespaces, you can view and manage them in your browser at https://github.com/codespaces.\\n\\n\\n\\nStopping a codespace\\n\\n{% webui %}\\n\\n{% data reusables.codespaces.navigate-to-codespaces-page %}\\n 1. To the right of the codespace you want to stop, click the ellipsis (**...**).\\n 1. Click **Stop codespace**.\\n\\n   !Screenshot of a list of codespaces with the dropdown menu for one of them displayed, showing the \"Stop codespace\" option.\\n\\n{% endwebui %}\\n\\n{% cli %}\\n\\n{% data reusables.cli.cli-learn-more %}\\n\\nTo stop a codespace use the `gh codespace stop` subcommand and then choose the codespace you want to stop from the list that\\'s displayed.\\n\\n```shell copy\\ngh codespace stop\\n```\\n\\n{% endcli %}\\n\\n{% vscode %}\\n\\n{% data reusables.vs-code.open-command-palette %}\\n1. Type `stop` and select **Codespaces: Stop Codespace** from the list of options.\\n1. In the list of codespaces, select the codespace you want to stop.\\n\\n{% endvscode %}\\n\\n{% jetbrains_beta %}\\n\\nYou can stop a codespace from the \"Your codespaces\" page (see the web browser instructions) or by using {% data variables.product.prodname_cli %} (see the CLI instructions).\\n\\n{% endjetbrains_beta %}\\n\\n\\n\\nRestarting a codespace\\n\\n{% webui %}\\n\\n{% data reusables.codespaces.navigate-to-codespaces-page %}\\n1. Click the name of the codespace you want to restart.\\n\\n   !Screenshot of a list of two codespaces on GitHub. The names of the codespaces are highlighted with dark orange outlines.\\n\\n{% endwebui %}\\n\\n{% cli %}\\n\\nWhen you restart a codespace you can choose to open it in {% data variables.product.prodname_vscode %} or in your browser.\\n\\n- To restart a codespace and open it in {% data variables.product.prodname_vscode %}, use the `gh codespace code` subcommand and then choose the codespace you want to restart from the list that\\'s displayed.\\n\\n  ```shell copy\\n  gh codespace code\\n  ```\\n\\n- To restart a codespace and open it in your browser, use the `gh codespace open --web` subcommand and then choose the codespace you want to restart from the list that\\'s displayed.\\n\\n  ```shell copy\\n  gh codespace open --web\\n  ```\\n\\n{% endcli %}\\n\\n{% vscode %}\\n\\n{% data reusables.vs-code.open-command-palette %}\\n1. Type `connect` and select **Codespaces: Connect to Codespace** from the list of options.\\n1. In the list of codespaces, select the codespace you want to restart.\\n\\n{% endvscode %}\\n\\n{% jetbrains_beta %}\\n\\n{% data reusables.codespaces.opening-codespace-in-jetbrains %}\\n\\n{% endjetbrains_beta %}\\n\\n\\n\\nFurther reading\\n\\n- \"AUTOTITLE\"\\n\\n',\n",
       "  'similarity_score': 1.0}]"
      ]
     },
     "execution_count": 28,
     "metadata": {},
     "output_type": "execute_result"
    }
   ],
   "source": [
    "search_results"
   ]
  },
  {
   "cell_type": "code",
   "execution_count": 29,
   "metadata": {},
   "outputs": [],
   "source": [
    "reranker = FlagReranker('BAAI/bge-reranker-base', use_fp16=True) "
   ]
  },
  {
   "cell_type": "code",
   "execution_count": 30,
   "metadata": {},
   "outputs": [],
   "source": [
    "def compute_rerank_score(results, reranker, query):\n",
    "    pairs = [[result['text'], query] for result in results]\n",
    "    scores = reranker.compute_score(pairs)\n",
    "    for i, score in enumerate(scores):\n",
    "        results[i]['rerank_score'] = score"
   ]
  },
  {
   "cell_type": "code",
   "execution_count": 31,
   "metadata": {},
   "outputs": [],
   "source": [
    "compute_rerank_score(search_results, reranker, query)"
   ]
  },
  {
   "cell_type": "code",
   "execution_count": 32,
   "metadata": {},
   "outputs": [
    {
     "data": {
      "text/plain": [
       "[{'id': 960,\n",
       "  'title': 'overview',\n",
       "  'text': '\\n\\nWhat is a codespace?\\n\\nA codespace is a development environment that\\'s hosted in the cloud. You can customize your project for {% data variables.product.prodname_github_codespaces %} by committing configuration files to your repository (often known as Configuration-as-Code), which creates a repeatable codespace configuration for all users of your project. For more information, see \"AUTOTITLE.\"\\n\\nEach codespace you create is hosted by {% data variables.product.prodname_dotcom %} in a Docker container, running on a virtual machine. You can choose from a selection of virtual machine types, from 2 cores, 8 GB RAM, and 32 GB storage, up to 32 cores, 64 GB RAM, and 128 GB storage.\\n\\nBy default, the codespace development environment is created from an Ubuntu Linux image that includes a selection of popular languages and tools, but you can use an image based on a Linux distribution of your choice and configure it for your particular requirements. Regardless of your local operating system, your codespace will run in a Linux environment. Windows and MacOS are not supported operating systems for the remote development container.\\n\\nYou can connect to your codespaces from your browser, from {% data variables.product.prodname_vscode %}, from the JetBrains Gateway application, or by using {% data variables.product.prodname_cli %}. When you connect, you are placed within the Docker container. You have limited access to the outer Linux virtual machine host.\\n\\n!Diagram showing the relationship between a code editor and a codespace running on an Azure virtual machine.\\n\\n\\n\\nBenefits of {% data variables.product.prodname_github_codespaces %}\\n\\nReasons for choosing to work in a codespace include:\\n\\n- **Use a preconfigured development environment** - You can work in a development environment that has been specifically configured for the repository. It will have all of the tools, languages, and configurations you need to work on that project. Everyone who works on that repository in a codespace will have the same environment. This reduces the likelihood of environment-related problems occurring and being difficult to debug. Each repository can have settings that will give contributors a ready-to-use, fit-for-purpose environment, and the environment on your local machine will be unchanged.\\n- **Access the resources you need** - Your local computer may not have the processing power, or storage space, you need to work on a project. {% data variables.product.prodname_github_codespaces %} allows you to work remotely on a machine with adequate resources.\\n- **Work anywhere** - All you need is a web browser. You can work in a codespace on your own computer, on a friend\\'s laptop, or on a tablet. Open your codespace and pick up from where you left off on a different device.\\n- **Choose your editor** - Work in the browser in the {% data variables.product.prodname_vscode_shortname %} web client, or choose from a selection of desktop-based applications.\\n- **Work on multiple projects** - You can use multiple codespaces to work on separate projects, or on different branches of the same repository, compartmentalizing your work to avoid changes made for one piece of work accidentally affecting something else you\\'re working on.\\n- **Pair program with a teammate** - If you work on a codespace in {% data variables.product.prodname_vscode_shortname %}, you can use Live Share to work collaboratively with other people on your team. For more information, see \"AUTOTITLE.\"\\n- **Publish your web app from a codespace** - Forward a port from your codespace and then share the URL, to allow teammates to try out the changes you\\'ve made to the application before you submit those changes in a pull request.\\n- **Try out a framework** - {% data variables.product.prodname_github_codespaces %} reduces the setup time when you want to learn a new framework. Just create a codespace from one of the quickstart templates.\\n\\n\\n\\nUsing {% data variables.product.prodname_github_codespaces %}\\n\\nTo begin developing using cloud-based compute resources, you can create a codespace from a template or from any branch or commit in a repository. When you create a codespace from a template, you can start from a blank template or choose a template suitable for the work you\\'re doing.\\n\\n{% data reusables.codespaces.links-to-get-started %}\\n\\n\\n\\nUsing codespaces owned by your personal account\\n\\nAll personal {% data variables.product.prodname_dotcom_the_website %} accounts have a monthly quota of free use of {% data variables.product.prodname_github_codespaces %} included in the Free or Pro plan. You can get started using {% data variables.product.prodname_github_codespaces %} on your personal account without changing any settings or providing payment details.\\n\\nIf you create a codespace from an organization-owned repository, use of the codespace will either be charged to the organization (if the organization is configured for this), or to your personal account.\\n\\n{% data reusables.codespaces.codespaces-continue-by-paying %}\\n\\n{% ifversion ghec %}\\n{% data reusables.codespaces.codespaces-unavailable-for-emus %}\\n{% endif %}\\n\\n\\n\\nUsing organization-owned codespaces\\n\\nOwners of organizations on {% data variables.product.prodname_team %} and {% data variables.product.prodname_enterprise %} plans can pay for their members\\' and collaborators\\' use of {% data variables.product.prodname_github_codespaces %}. This applies to codespaces created from repositories owned by the organization. For more information, see \"AUTOTITLE.\" You can set a spending limit for use of {% data variables.product.prodname_github_codespaces %} on your organization or enterprise account. For more information, see \"AUTOTITLE.\"\\n\\nIf use of a codespace will be billed to an organization or enterprise, this is shown when the codespace is created. For more information, see \"AUTOTITLE.\" Codespaces that are billed to an organization, or its parent enterprise, are owned by the organization and can be deleted by an organization owner. For more information, see \"AUTOTITLE.\"\\n\\n{% data reusables.codespaces.when-you-can-create-codespaces %}\\n\\n\\n\\nCustomizing {% data variables.product.prodname_github_codespaces %}\\n\\nTo customize the runtimes and tools in your codespace, you can create one or more dev container configurations for your repository. Adding dev container configurations to your repository allows you to define a choice of different development environments that are appropriate for the work people will do in your repository.\\n\\nIf you create a codespace from a repository without any dev container configurations, {% data variables.product.prodname_github_codespaces %} will clone your repository into an environment with the default dev container image that includes many tools, languages, and runtime environments. If you create a codespace from a template, you might start with some initial configuration on top of the default image. For more information, see \"AUTOTITLE.\"\\n\\nYou can personalize aspects of your codespace environment by using a public dotfiles repository. You can use dotfiles to set shell aliases and preferences, or to install your personal preference of the tools you like to use. If you use {% data variables.product.prodname_github_codespaces %} in the browser, or in {% data variables.product.prodname_vscode %}, you can use Settings Sync to give your codespace editor the same settings, keyboard shortcuts, snippets, and extensions that you have set up in your local installation of {% data variables.product.prodname_vscode %}.\\n\\nFor more information, see \"AUTOTITLE.\"\\n\\n\\n\\nBilling for {% data variables.product.prodname_codespaces %}\\n\\nFor information on pricing, storage, and usage for {% data variables.product.prodname_github_codespaces %}, see \"AUTOTITLE.\"\\n\\n{% data reusables.codespaces.codespaces-spending-limit-requirement %}\\n\\n{% data reusables.codespaces.codespaces-monthly-billing %} For information on how organizations owners and billing managers can manage the spending limit for {% data variables.product.prodname_github_codespaces %} for an organization, see \"AUTOTITLE.\"\\n\\n',\n",
       "  'similarity_score': 0.79767025,\n",
       "  'rerank_score': 7.914756774902344},\n",
       " {'id': 976,\n",
       "  'title': 'stopping-and-starting-a-codespace',\n",
       "  'text': '\\n\\nAbout stopping and starting a codespace\\n\\n{% data reusables.codespaces.stopping-a-codespace %}\\n\\nRegardless of where you created or access your codespaces, you can view and manage them in your browser at https://github.com/codespaces.\\n\\n\\n\\nStopping a codespace\\n\\n{% webui %}\\n\\n{% data reusables.codespaces.navigate-to-codespaces-page %}\\n 1. To the right of the codespace you want to stop, click the ellipsis (**...**).\\n 1. Click **Stop codespace**.\\n\\n   !Screenshot of a list of codespaces with the dropdown menu for one of them displayed, showing the \"Stop codespace\" option.\\n\\n{% endwebui %}\\n\\n{% cli %}\\n\\n{% data reusables.cli.cli-learn-more %}\\n\\nTo stop a codespace use the `gh codespace stop` subcommand and then choose the codespace you want to stop from the list that\\'s displayed.\\n\\n```shell copy\\ngh codespace stop\\n```\\n\\n{% endcli %}\\n\\n{% vscode %}\\n\\n{% data reusables.vs-code.open-command-palette %}\\n1. Type `stop` and select **Codespaces: Stop Codespace** from the list of options.\\n1. In the list of codespaces, select the codespace you want to stop.\\n\\n{% endvscode %}\\n\\n{% jetbrains_beta %}\\n\\nYou can stop a codespace from the \"Your codespaces\" page (see the web browser instructions) or by using {% data variables.product.prodname_cli %} (see the CLI instructions).\\n\\n{% endjetbrains_beta %}\\n\\n\\n\\nRestarting a codespace\\n\\n{% webui %}\\n\\n{% data reusables.codespaces.navigate-to-codespaces-page %}\\n1. Click the name of the codespace you want to restart.\\n\\n   !Screenshot of a list of two codespaces on GitHub. The names of the codespaces are highlighted with dark orange outlines.\\n\\n{% endwebui %}\\n\\n{% cli %}\\n\\nWhen you restart a codespace you can choose to open it in {% data variables.product.prodname_vscode %} or in your browser.\\n\\n- To restart a codespace and open it in {% data variables.product.prodname_vscode %}, use the `gh codespace code` subcommand and then choose the codespace you want to restart from the list that\\'s displayed.\\n\\n  ```shell copy\\n  gh codespace code\\n  ```\\n\\n- To restart a codespace and open it in your browser, use the `gh codespace open --web` subcommand and then choose the codespace you want to restart from the list that\\'s displayed.\\n\\n  ```shell copy\\n  gh codespace open --web\\n  ```\\n\\n{% endcli %}\\n\\n{% vscode %}\\n\\n{% data reusables.vs-code.open-command-palette %}\\n1. Type `connect` and select **Codespaces: Connect to Codespace** from the list of options.\\n1. In the list of codespaces, select the codespace you want to restart.\\n\\n{% endvscode %}\\n\\n{% jetbrains_beta %}\\n\\n{% data reusables.codespaces.opening-codespace-in-jetbrains %}\\n\\n{% endjetbrains_beta %}\\n\\n\\n\\nFurther reading\\n\\n- \"AUTOTITLE\"\\n\\n',\n",
       "  'similarity_score': 1.0,\n",
       "  'rerank_score': 5.629740238189697},\n",
       " {'id': 962,\n",
       "  'title': 'changing-the-machine-type-for-your-codespace',\n",
       "  'text': '\\n\\nAbout machine types\\n\\n{% data reusables.codespaces.codespaces-machine-types %} You can choose an alternative machine type either when you create a codespace or at any time after you\\'ve created a codespace.\\n\\nFor information on choosing a machine type when you create a codespace, see \"AUTOTITLE.\"\\n\\n{% data reusables.codespaces.machine-types-for-unpublished-codespaces %} For more information, see \"AUTOTITLE.\"\\n\\n\\n\\nChanging the machine type\\n\\n{% note %}\\n\\n**Note**: {% data reusables.codespaces.codespaces-machine-type-availability %}\\n\\n{% endnote %}\\n\\n{% webui %}\\n\\n{% data reusables.codespaces.your-codespaces-procedure-step %}\\n\\n   The number of cores, memory, storage capacity, and currently used storage are displayed for each codespace. Some details are omitted if you are using a narrow browser window.\\n\\n   !Screenshot of a list of three codespaces on the https://github.com/codespaces page.\"\\n\\n{% data reusables.codespaces.ellipsis-settings %}\\n1. Click **Change machine type**.\\n\\n   !Screenshot of the dropdown menu for a codespace. The \"Change machine type\" option is highlighted.\\n\\n1. If multiple machine types are available for your codespace, choose the type of machine you want to use.\\n\\n   !Screenshot of a dialog showing two available machine types: 2-core and 4-core.\\n\\n1. Click **Update codespace**.\\n\\n{% endwebui %}\\n\\n{% vscode %}\\n\\n{% data reusables.codespaces.changing-machine-type-in-vscode %}\\n\\n{% endvscode %}\\n\\n{% cli %}\\n\\n{% data reusables.codespaces.using-github-cli %}\\n\\nYou can use the `gh codespace edit --machine MACHINE-TYPE-NAME` {% data variables.product.prodname_cli %} command to change the machine type of a codespace. To use this command, you\\'ll first need to find out the available machine types for your codespace.\\n\\n1. To view your list of codespaces, in a terminal, enter the following command.\\n\\n   ```shell\\n   gh codespace list\\n   ```\\n\\n1. Optionally, to find the current machine type for a codespace, enter the following command.\\n\\n   ```shell\\n   gh api /user/codespaces/CODESPACE-NAME\\n   ```\\n\\n   Replace `CODESPACE-NAME` with the permanent name of the codespace, for example `octocat-literate-space-parakeet-mld5`. The permanent names are listed under the **NAME** column in the list returned by `gh codespace list`.\\n\\n   If you\\'re prompted to request the `codespace` scope, follow the instructions in the terminal.\\n\\n   Details for the current machine are listed under the `machine` field.\\n1. To find the available machine types for a codespace, enter the following command.\\n\\n   ```shell\\n   gh api /user/codespaces/CODESPACE-NAME/machines\\n   ```\\n\\n   Replace `CODESPACE-NAME` with the permanent name of the codespace, for example `octocat-literate-space-parakeet-mld5`.\\n1. To change the machine type for a codespace, enter the following command.\\n\\n   ```shell\\n   gh codespace edit --machine MACHINE-TYPE-NAME\\n   ```\\n\\n   Replace `MACHINE-TYPE-NAME` with the name of an available machine type for your codespace, for example `standardLinux32gb`.\\n1. Using the arrow keys, navigate to the codespace you want to change, then press Enter.\\n\\n{% endcli %}\\n\\n{% data reusables.codespaces.about-changing-storage-size %}\\n\\n{% cli %}\\n\\n\\n\\nFurther reading\\n\\n- \"AUTOTITLE\" in the REST API documentation\\n- `gh codespace edit` in the {% data variables.product.prodname_cli %} manual\\n- \"AUTOTITLE\"\\n- \"AUTOTITLE\"\\n\\n{% endcli %}\\n\\n',\n",
       "  'similarity_score': 0.99714607,\n",
       "  'rerank_score': 5.194004058837891},\n",
       " {'id': 1043,\n",
       "  'title': 'working-with-support-for-github-codespaces',\n",
       "  'text': '\\n\\nCodespace names\\n\\nEach codespace has a unique name that is a combination of your {% data variables.product.company_short %} handle, two or three automatically generated words, and some random characters. For example: `octocat-literate-space-parakeet-mld5`. The two or three automatically generated words also form the initial display name of your codespace, in this case, `literate-space-parakeet`. You can change the display name for a codespace, but this will not affect the permanent name. For more information, see \"AUTOTITLE.\"\\n\\nTo find the name of a codespace:\\n\\n- Open the codespace in the browser. The subdomain of the URL is the name of the codespace. For example: `https://octocat-literate-space-parakeet-mld5.github.dev` is the URL for the `octocat-literate-space-parakeet-mld5` codespace.\\n- If you cannot open a codespace, you can access the name in {% data variables.product.product_name %} on https://github.com/codespaces. The name is shown in a pop-up when you hover over the display name of a codespace on https://github.com/codespaces.\\n\\n  !Screenshot of the mouse pointer positioned over a display name and the related codespace name shown at the bottom of the browser page.\\n\\nThe name the codespace is also included in many of the log files. For example, in the codespace logs as the value of `friendlyName`, in the {% data variables.product.prodname_github_codespaces %} extension log after `making GET request for`, and in the browser console log after `clientUrl`. For more information, see \"AUTOTITLE.\"\\n\\n\\n\\nCodespaces IDs\\n\\nEvery codespace also has an ID (identifier). This is not shown by default in {% data variables.product.prodname_vscode %} so you may need to update the settings for the {% data variables.product.prodname_github_codespaces %} extension before you can access the ID.\\n\\n1. In {% data variables.product.prodname_vscode %}, browser or desktop, in the Activity Bar on the left, click **Remote Explorer** to show details for the codespace.\\n{% indented_data_reference reusables.codespaces.remote-explorer spaces=3 %}\\n1. If the side bar includes a \"Codespace Performance\" section, hover over the \"Codespace ID\" and click the clipboard icon to copy the ID.\\n1. If the information is not shown, click {% octicon \"gear\" aria-label=\"Manage\" %}, in the bottom-left corner of the Activity Bar, to display the \"Settings\" tab.\\n1. Expand **Extensions** and click **{% data variables.product.prodname_github_codespaces %}** to display the settings for the extension. Then enable **Show Performance Explorer** to display the \"Codespace Performance\" section in the side bar.\\n\\n   !Screenshot of \"Show Performance Explorer\" selected in {% data variables.product.prodname_vscode_shortname %}\\'s \"Settings\" tab and a codespace ID highlighted in the \"Remote Explorer\" side bar.\\n\\n',\n",
       "  'similarity_score': 1.0,\n",
       "  'rerank_score': 4.304562091827393},\n",
       " {'id': 2117,\n",
       "  'title': 'transcript-codespaces-your-instant-dev-box-in-the-cloud',\n",
       "  'text': '---\\ntitle: Transcript - \"Codespaces - Your instant dev box in the cloud\"\\nintro: Audio and visual transcript.\\nshortTitle: Codespaces\\nallowTitleToDifferFromFilename: true\\nproduct_video: \\'https://www.youtube-nocookie.com/embed/_W9B7qc9lVc\\'\\ntopics:\\n  - Transcripts\\nversions:\\n  fpt: \\'*\\'\\n  ghec: \\'*\\'\\n---\\n\\n[A developer wearing a blue t-shirt sits at home, behind a mic and a pop shield decorated with GitHub\\'s Octocat logo. The developer shares their screen while still showing on webcam in the upper-right corner. On their screen, they are looking at a GitHub repository called \"js-project\".]\\n\\nDeveloper: So, today we\\'re gonna run my JavaScript project in GitHub Codespaces.\\n\\n[On the repository page, above the list of files, the developer selects the \"Code\" button to open a dropdown menu. They click \"Open with Codespaces\", then click \"New codespace\".]\\n\\nDeveloper: So while we\\'re creating our codespace, you might have the question, \"What even is a codespace?\"\\n\\n[In the browser, the codespace loads. On a white background, the text \"Preparing your codespace\" is displayed below GitHub\\'s Octocat logo and a VS Code logo.]\\n\\nDeveloper: A codespace is an instant cloud developer environment, where we can run, test, debug, push: everything that we\\'re used to doing in a development environment, but without any of the machine setup we\\'re used to doing locally.\\n\\n[The codespace opens in the VS Code web editor in the browser, running with the dark theme. Directories and files from the repository are displayed in the left sidebar. In an integrated terminal, a message says, \"Welcome to Codespaces,\" and lists included runtimes and tools.]\\n\\nDeveloper: So when we create this codespace, you\\'ll see we land in a machine that is already set up, and it has Python, Node, Docker, and even more, so it has tools like Java and Rust and Go and C++.\\n\\nBut you\\'ll see we landed in the default image. The great thing about Codespaces is you can fully customize your setup, not only for you, but for everyone else who comes along in this repository. So you can have a \"config-as-code\" setup that allows you to use your own image, or Dockerfile, or Docker Compose.\\n\\nSo for our app, we\\'re actually just gonna go ahead and start it up. So I\\'m gonna run `npm start` here, and you\\'ll see that we\\'re told our app is running on port 3000, and we can open it in the browser and connect securely to a forwarded port that has our app fully up and running.\\n\\n[A popup is displayed for the forwarded port. On the popup, the developer clicks a button labeled \"Open in browser\". A new browser tab opens showing a web page titled \"Haikus for Mona\". On the web page, a cartoon image shows a grinning Mona the Octocat skipping over a puddle with a purple umbrella. Below the image, a haiku: \"Rain in Seattle. Don\\'t forget an umbrella, or it will be gloom.\"]\\n\\nDeveloper: So you\\'ll see here\\'s my Node app, up and running, connected to in a codespace. And this took us about 60 seconds to get set up in Codespaces.\\n\\n[The developer scrolls to an image of Mona poking a record player with her tentacle.]\\n\\nDeveloper: So you can imagine this fully customized, to really bring down the setup time for really every repository you have.\\n\\nAnd that\\'s a quick look at GitHub Codespaces.\\n\\nEnd of transcript. For more information about {% data variables.product.prodname_github_codespaces %}, see the {% data variables.product.prodname_github_codespaces %} documentation.\\n\\n',\n",
       "  'similarity_score': 1.0,\n",
       "  'rerank_score': 2.6954541206359863}]"
      ]
     },
     "execution_count": 32,
     "metadata": {},
     "output_type": "execute_result"
    }
   ],
   "source": [
    "sorted(search_results, key=lambda x: x['rerank_score'], reverse=True)[:5]"
   ]
  },
  {
   "cell_type": "code",
   "execution_count": 10,
   "metadata": {},
   "outputs": [],
   "source": [
    "def encode_chunk_idx(chunk_num, idx):\n",
    "    # Encode chunk_num and idx into a dictionary and then base64 encode it\n",
    "    encoded_id = base64.b64encode(f\"chunk_{chunk_num}_index_{idx}\".encode()).decode()\n",
    "    \n",
    "    return encoded_id\n",
    "\n",
    "def decode_chunk_idx(encoded_id):\n",
    "    # Decode the base64 string and extract chunk_num and idx\n",
    "    decoded_id = base64.b64decode(encoded_id).decode()\n",
    "    \n",
    "    # Split the decoded string to extract chunk_num and idx\n",
    "    parts = decoded_id.split('_')\n",
    "    chunk_num = int(parts[1])\n",
    "    idx = int(parts[3])\n",
    "    \n",
    "    return idx, chunk_num\n",
    "\n",
    "def get_max_index(corpus_keys):\n",
    "    max_index = -1\n",
    "    for encoded_id in corpus_keys:\n",
    "        idx, _ = decode_chunk_idx(encoded_id)\n",
    "        max_index = max(max_index, idx)\n",
    "    return max_index"
   ]
  },
  {
   "cell_type": "code",
   "execution_count": 17,
   "metadata": {},
   "outputs": [],
   "source": [
    "def update_qa_pairs(\n",
    "    qa_dataset,\n",
    "    texts: List[str],\n",
    "    client: InferenceClient,\n",
    "    model: str,\n",
    "    qa_generate_prompt_tmpl: str,\n",
    "    max_new_tokens: int = 100,\n",
    "    num_questions_per_chunk: int = 2,\n",
    "    chunk_size: int = 1024\n",
    "):\n",
    "    \"\"\"Generate examples given a set of texts.\"\"\"\n",
    "    node_dict = {}\n",
    "    queries = {}\n",
    "    relevant_docs = {}\n",
    "    max_index = get_max_index(qa_dataset['corpus'].keys())\n",
    "    \n",
    "    for idx, text in enumerate(texts):\n",
    "        num_chunks = (len(text) + chunk_size - 1) // chunk_size\n",
    "        print(f\"Number of chunks in text {idx + max_index}: {num_chunks}\")\n",
    "        for chunk_num in range(num_chunks):\n",
    "            start_idx = chunk_num * chunk_size\n",
    "            end_idx = min((chunk_num + 1) * chunk_size, len(text))\n",
    "            chunk_text = text[start_idx:end_idx]\n",
    "            \n",
    "            node_id = encode_chunk_idx(chunk_num, idx + max_index)\n",
    "            node_dict[node_id] = chunk_text\n",
    "            \n",
    "            query = qa_generate_prompt_tmpl.format(\n",
    "                context_str=chunk_text, num_questions_per_chunk=num_questions_per_chunk\n",
    "            )\n",
    "\n",
    "            # Retry logic with a sleep interval after encountering an error\n",
    "            retries = 3  # Number of retries\n",
    "            for attempt in range(retries):\n",
    "                try:\n",
    "                    response = client.text_generation(prompt=query, model=model, max_new_tokens=max_new_tokens)\n",
    "                    response = response.split(\"?\\n\")\n",
    "                    questions = [\n",
    "                        re.sub(r\"^(-{1,})\",\"\",re.sub(r\"^\\s*\\d+\\.\\s*|\\n\", \"\",question)) for question in response\n",
    "                    ]\n",
    "                    questions = [question for question in questions if len(question) > 10]\n",
    "                    for question in list(set(questions)):\n",
    "                        question_id = str(uuid.uuid4())\n",
    "                        queries[question_id] = question\n",
    "                        relevant_docs[question_id] = [node_id]\n",
    "                    break  # Exit the retry loop if successful\n",
    "                except Exception as e:\n",
    "                    print(f\"Error encountered: {e}\")\n",
    "                    if attempt < retries - 1:\n",
    "                        print(f\"Retrying after 2 minutes ({attempt+1}/{retries})...\")\n",
    "                        time.sleep(120)  # Sleep for 2 minutes before retrying\n",
    "                    else:\n",
    "                        print(\"Maximum retries reached. Skipping this text chunk.\")\n",
    "\n",
    "        if idx % 5 == 0:\n",
    "            print(f\"Updating q&a dataset\")\n",
    "            qa_dataset['queries'].update(queries)\n",
    "            qa_dataset['corpus'].update(node_dict)\n",
    "            qa_dataset['relevant_docs'].update(relevant_docs)\n",
    "            node_dict = {}\n",
    "            queries = {}\n",
    "            relevant_docs = {}\n",
    "            time.sleep(30)"
   ]
  },
  {
   "cell_type": "code",
   "execution_count": 14,
   "metadata": {},
   "outputs": [],
   "source": [
    "inference = InferenceClient(token=hugging_face_api_key)\n",
    "model_zephyr =\"HuggingFaceH4/zephyr-7b-beta\"\n",
    "model_mistral = \"mistralai/Mistral-7B-v0.1\"\n",
    "model_falcon = \"tiiuae/falcon-7b-instruct\"\n",
    "model_open = \"openchat/openchat_3.5\""
   ]
  },
  {
   "cell_type": "code",
   "execution_count": 18,
   "metadata": {},
   "outputs": [],
   "source": [
    "QA_GENERATE_PROMPT_TMPL = \"\"\"\\\n",
    "Context information is below.\n",
    "\n",
    "---------------------\n",
    "{context_str}\n",
    "---------------------\n",
    "\n",
    "Given the context information and not prior knowledge.\n",
    "generate only questions based on the below query.\n",
    "\n",
    "You are a Teacher/ Professor. Your task is to setup \\\n",
    "EXACTLY {num_questions_per_chunk} questions for an upcoming \\\n",
    "quiz/examination. \n",
    "The questions should be diverse in nature \\\n",
    "across the document. Restrict the questions to the \\\n",
    "context information provided. \n",
    "Questions should be understandable without having access to the context.\n",
    "Don't hallucinate.\n",
    "questions:\n",
    "\"\"\""
   ]
  },
  {
   "cell_type": "code",
   "execution_count": 19,
   "metadata": {},
   "outputs": [],
   "source": [
    "#qa_dataset = {'queries': {}, 'corpus': {}, 'relevant_docs': {}}\n",
    "# Load the JSON data from the file\n",
    "with open('../data/qa_dataset.json', 'r') as json_file:\n",
    "    qa_dataset = json.load(json_file)"
   ]
  },
  {
   "cell_type": "code",
   "execution_count": 2,
   "metadata": {},
   "outputs": [
    {
     "ename": "NameError",
     "evalue": "name 'qa_dataset' is not defined",
     "output_type": "error",
     "traceback": [
      "\u001b[1;31m---------------------------------------------------------------------------\u001b[0m",
      "\u001b[1;31mNameError\u001b[0m                                 Traceback (most recent call last)",
      "Cell \u001b[1;32mIn[2], line 1\u001b[0m\n\u001b[1;32m----> 1\u001b[0m max_index \u001b[38;5;241m=\u001b[39m get_max_index(\u001b[43mqa_dataset\u001b[49m[\u001b[38;5;124m'\u001b[39m\u001b[38;5;124mcorpus\u001b[39m\u001b[38;5;124m'\u001b[39m]\u001b[38;5;241m.\u001b[39mkeys())\n\u001b[0;32m      2\u001b[0m max_index\n",
      "\u001b[1;31mNameError\u001b[0m: name 'qa_dataset' is not defined"
     ]
    }
   ],
   "source": [
    "max_index = get_max_index(qa_dataset['corpus'].keys())\n",
    "max_index"
   ]
  },
  {
   "cell_type": "code",
   "execution_count": 43,
   "metadata": {},
   "outputs": [
    {
     "name": "stdout",
     "output_type": "stream",
     "text": [
      "Number of chunks in text 0: 1\n",
      "Error encountered: 500 Server Error: Internal Server Error for url: https://api-inference.huggingface.co/models/HuggingFaceH4/zephyr-7b-beta (Request ID: hfw0HZqMFyRBcCmFEXotP)\n",
      "Retrying after 2 minutes (1/3)...\n",
      "Updating q&a dataset\n",
      "Number of chunks in text 1: 1\n",
      "Number of chunks in text 2: 1\n",
      "Number of chunks in text 3: 1\n",
      "Error encountered: 500 Server Error: Internal Server Error for url: https://api-inference.huggingface.co/models/HuggingFaceH4/zephyr-7b-beta (Request ID: asQbxv3ToKChzqWzqw7kG)\n",
      "Retrying after 2 minutes (1/3)...\n",
      "Number of chunks in text 4: 1\n",
      "Number of chunks in text 5: 1\n",
      "Updating q&a dataset\n",
      "Number of chunks in text 6: 1\n",
      "Number of chunks in text 7: 2\n"
     ]
    },
    {
     "ename": "KeyboardInterrupt",
     "evalue": "",
     "output_type": "error",
     "traceback": [
      "\u001b[1;31m---------------------------------------------------------------------------\u001b[0m",
      "\u001b[1;31mKeyboardInterrupt\u001b[0m                         Traceback (most recent call last)",
      "Cell \u001b[1;32mIn[43], line 1\u001b[0m\n\u001b[1;32m----> 1\u001b[0m \u001b[43mupdate_qa_pairs\u001b[49m\u001b[43m(\u001b[49m\n\u001b[0;32m      2\u001b[0m \u001b[43m    \u001b[49m\u001b[43mqa_dataset\u001b[49m\u001b[43m,\u001b[49m\n\u001b[0;32m      3\u001b[0m \u001b[43m    \u001b[49m\u001b[43mtexts\u001b[49m\u001b[38;5;241;43m=\u001b[39;49m\u001b[43mdf\u001b[49m\u001b[38;5;241;43m.\u001b[39;49m\u001b[43mloc\u001b[49m\u001b[43m[\u001b[49m\u001b[43mmax_index\u001b[49m\u001b[43m:\u001b[49m\u001b[43m,\u001b[49m\u001b[38;5;124;43m'\u001b[39;49m\u001b[38;5;124;43mcontent\u001b[39;49m\u001b[38;5;124;43m'\u001b[39;49m\u001b[43m]\u001b[49m\u001b[38;5;241;43m.\u001b[39;49m\u001b[43mto_list\u001b[49m\u001b[43m(\u001b[49m\u001b[43m)\u001b[49m\u001b[43m,\u001b[49m\n\u001b[0;32m      4\u001b[0m \u001b[43m    \u001b[49m\u001b[43mclient\u001b[49m\u001b[38;5;241;43m=\u001b[39;49m\u001b[43mInferenceClient\u001b[49m\u001b[43m(\u001b[49m\u001b[43mtoken\u001b[49m\u001b[38;5;241;43m=\u001b[39;49m\u001b[43mhugging_face_api_key\u001b[49m\u001b[43m)\u001b[49m\u001b[43m,\u001b[49m\n\u001b[0;32m      5\u001b[0m \u001b[43m    \u001b[49m\u001b[43mmodel\u001b[49m\u001b[38;5;241;43m=\u001b[39;49m\u001b[43m \u001b[49m\u001b[43mmodel_zephyr\u001b[49m\u001b[43m,\u001b[49m\n\u001b[0;32m      6\u001b[0m \u001b[43m    \u001b[49m\u001b[43mmax_new_tokens\u001b[49m\u001b[38;5;241;43m=\u001b[39;49m\u001b[38;5;241;43m200\u001b[39;49m\u001b[43m,\u001b[49m\n\u001b[0;32m      7\u001b[0m \u001b[43m    \u001b[49m\u001b[43mqa_generate_prompt_tmpl\u001b[49m\u001b[38;5;241;43m=\u001b[39;49m\u001b[43mQA_GENERATE_PROMPT_TMPL\u001b[49m\u001b[43m,\u001b[49m\n\u001b[0;32m      8\u001b[0m \u001b[43m    \u001b[49m\u001b[43mnum_questions_per_chunk\u001b[49m\u001b[38;5;241;43m=\u001b[39;49m\u001b[38;5;241;43m2\u001b[39;49m\u001b[43m,\u001b[49m\n\u001b[0;32m      9\u001b[0m \u001b[43m    \u001b[49m\u001b[43mchunk_size\u001b[49m\u001b[43m \u001b[49m\u001b[38;5;241;43m=\u001b[39;49m\u001b[43m \u001b[49m\u001b[38;5;241;43m2048\u001b[39;49m\n\u001b[0;32m     10\u001b[0m \u001b[43m)\u001b[49m\n",
      "Cell \u001b[1;32mIn[17], line 35\u001b[0m, in \u001b[0;36mupdate_qa_pairs\u001b[1;34m(qa_dataset, texts, client, model, qa_generate_prompt_tmpl, max_new_tokens, num_questions_per_chunk, chunk_size)\u001b[0m\n\u001b[0;32m     33\u001b[0m \u001b[38;5;28;01mfor\u001b[39;00m attempt \u001b[38;5;129;01min\u001b[39;00m \u001b[38;5;28mrange\u001b[39m(retries):\n\u001b[0;32m     34\u001b[0m     \u001b[38;5;28;01mtry\u001b[39;00m:\n\u001b[1;32m---> 35\u001b[0m         response \u001b[38;5;241m=\u001b[39m \u001b[43mclient\u001b[49m\u001b[38;5;241;43m.\u001b[39;49m\u001b[43mtext_generation\u001b[49m\u001b[43m(\u001b[49m\u001b[43mprompt\u001b[49m\u001b[38;5;241;43m=\u001b[39;49m\u001b[43mquery\u001b[49m\u001b[43m,\u001b[49m\u001b[43m \u001b[49m\u001b[43mmodel\u001b[49m\u001b[38;5;241;43m=\u001b[39;49m\u001b[43mmodel\u001b[49m\u001b[43m,\u001b[49m\u001b[43m \u001b[49m\u001b[43mmax_new_tokens\u001b[49m\u001b[38;5;241;43m=\u001b[39;49m\u001b[43mmax_new_tokens\u001b[49m\u001b[43m)\u001b[49m\n\u001b[0;32m     36\u001b[0m         response \u001b[38;5;241m=\u001b[39m response\u001b[38;5;241m.\u001b[39msplit(\u001b[38;5;124m\"\u001b[39m\u001b[38;5;124m?\u001b[39m\u001b[38;5;130;01m\\n\u001b[39;00m\u001b[38;5;124m\"\u001b[39m)\n\u001b[0;32m     37\u001b[0m         questions \u001b[38;5;241m=\u001b[39m [\n\u001b[0;32m     38\u001b[0m             re\u001b[38;5;241m.\u001b[39msub(\u001b[38;5;124mr\u001b[39m\u001b[38;5;124m\"\u001b[39m\u001b[38;5;124m^(-\u001b[39m\u001b[38;5;124m{\u001b[39m\u001b[38;5;124m1,})\u001b[39m\u001b[38;5;124m\"\u001b[39m,\u001b[38;5;124m\"\u001b[39m\u001b[38;5;124m\"\u001b[39m,re\u001b[38;5;241m.\u001b[39msub(\u001b[38;5;124mr\u001b[39m\u001b[38;5;124m\"\u001b[39m\u001b[38;5;124m^\u001b[39m\u001b[38;5;124m\\\u001b[39m\u001b[38;5;124ms*\u001b[39m\u001b[38;5;124m\\\u001b[39m\u001b[38;5;124md+\u001b[39m\u001b[38;5;124m\\\u001b[39m\u001b[38;5;124m.\u001b[39m\u001b[38;5;124m\\\u001b[39m\u001b[38;5;124ms*|\u001b[39m\u001b[38;5;124m\\\u001b[39m\u001b[38;5;124mn\u001b[39m\u001b[38;5;124m\"\u001b[39m, \u001b[38;5;124m\"\u001b[39m\u001b[38;5;124m\"\u001b[39m,question)) \u001b[38;5;28;01mfor\u001b[39;00m question \u001b[38;5;129;01min\u001b[39;00m response\n\u001b[0;32m     39\u001b[0m         ]\n",
      "File \u001b[1;32mc:\\Users\\jjdes\\Desktop\\RAG_chatbot\\rag_env\\lib\\site-packages\\huggingface_hub\\inference\\_client.py:1511\u001b[0m, in \u001b[0;36mInferenceClient.text_generation\u001b[1;34m(self, prompt, details, stream, model, do_sample, max_new_tokens, best_of, repetition_penalty, return_full_text, seed, stop_sequences, temperature, top_k, top_p, truncate, typical_p, watermark, decoder_input_details)\u001b[0m\n\u001b[0;32m   1509\u001b[0m \u001b[38;5;66;03m# Handle errors separately for more precise error messages\u001b[39;00m\n\u001b[0;32m   1510\u001b[0m \u001b[38;5;28;01mtry\u001b[39;00m:\n\u001b[1;32m-> 1511\u001b[0m     bytes_output \u001b[38;5;241m=\u001b[39m \u001b[38;5;28;43mself\u001b[39;49m\u001b[38;5;241;43m.\u001b[39;49m\u001b[43mpost\u001b[49m\u001b[43m(\u001b[49m\u001b[43mjson\u001b[49m\u001b[38;5;241;43m=\u001b[39;49m\u001b[43mpayload\u001b[49m\u001b[43m,\u001b[49m\u001b[43m \u001b[49m\u001b[43mmodel\u001b[49m\u001b[38;5;241;43m=\u001b[39;49m\u001b[43mmodel\u001b[49m\u001b[43m,\u001b[49m\u001b[43m \u001b[49m\u001b[43mtask\u001b[49m\u001b[38;5;241;43m=\u001b[39;49m\u001b[38;5;124;43m\"\u001b[39;49m\u001b[38;5;124;43mtext-generation\u001b[39;49m\u001b[38;5;124;43m\"\u001b[39;49m\u001b[43m,\u001b[49m\u001b[43m \u001b[49m\u001b[43mstream\u001b[49m\u001b[38;5;241;43m=\u001b[39;49m\u001b[43mstream\u001b[49m\u001b[43m)\u001b[49m  \u001b[38;5;66;03m# type: ignore\u001b[39;00m\n\u001b[0;32m   1512\u001b[0m \u001b[38;5;28;01mexcept\u001b[39;00m HTTPError \u001b[38;5;28;01mas\u001b[39;00m e:\n\u001b[0;32m   1513\u001b[0m     \u001b[38;5;28;01mif\u001b[39;00m \u001b[38;5;28misinstance\u001b[39m(e, BadRequestError) \u001b[38;5;129;01mand\u001b[39;00m \u001b[38;5;124m\"\u001b[39m\u001b[38;5;124mThe following `model_kwargs` are not used by the model\u001b[39m\u001b[38;5;124m\"\u001b[39m \u001b[38;5;129;01min\u001b[39;00m \u001b[38;5;28mstr\u001b[39m(e):\n",
      "File \u001b[1;32mc:\\Users\\jjdes\\Desktop\\RAG_chatbot\\rag_env\\lib\\site-packages\\huggingface_hub\\inference\\_client.py:226\u001b[0m, in \u001b[0;36mInferenceClient.post\u001b[1;34m(self, json, data, model, task, stream)\u001b[0m\n\u001b[0;32m    224\u001b[0m \u001b[38;5;28;01mwith\u001b[39;00m _open_as_binary(data) \u001b[38;5;28;01mas\u001b[39;00m data_as_binary:\n\u001b[0;32m    225\u001b[0m     \u001b[38;5;28;01mtry\u001b[39;00m:\n\u001b[1;32m--> 226\u001b[0m         response \u001b[38;5;241m=\u001b[39m \u001b[43mget_session\u001b[49m\u001b[43m(\u001b[49m\u001b[43m)\u001b[49m\u001b[38;5;241;43m.\u001b[39;49m\u001b[43mpost\u001b[49m\u001b[43m(\u001b[49m\n\u001b[0;32m    227\u001b[0m \u001b[43m            \u001b[49m\u001b[43murl\u001b[49m\u001b[43m,\u001b[49m\n\u001b[0;32m    228\u001b[0m \u001b[43m            \u001b[49m\u001b[43mjson\u001b[49m\u001b[38;5;241;43m=\u001b[39;49m\u001b[43mjson\u001b[49m\u001b[43m,\u001b[49m\n\u001b[0;32m    229\u001b[0m \u001b[43m            \u001b[49m\u001b[43mdata\u001b[49m\u001b[38;5;241;43m=\u001b[39;49m\u001b[43mdata_as_binary\u001b[49m\u001b[43m,\u001b[49m\n\u001b[0;32m    230\u001b[0m \u001b[43m            \u001b[49m\u001b[43mheaders\u001b[49m\u001b[38;5;241;43m=\u001b[39;49m\u001b[43mheaders\u001b[49m\u001b[43m,\u001b[49m\n\u001b[0;32m    231\u001b[0m \u001b[43m            \u001b[49m\u001b[43mcookies\u001b[49m\u001b[38;5;241;43m=\u001b[39;49m\u001b[38;5;28;43mself\u001b[39;49m\u001b[38;5;241;43m.\u001b[39;49m\u001b[43mcookies\u001b[49m\u001b[43m,\u001b[49m\n\u001b[0;32m    232\u001b[0m \u001b[43m            \u001b[49m\u001b[43mtimeout\u001b[49m\u001b[38;5;241;43m=\u001b[39;49m\u001b[38;5;28;43mself\u001b[39;49m\u001b[38;5;241;43m.\u001b[39;49m\u001b[43mtimeout\u001b[49m\u001b[43m,\u001b[49m\n\u001b[0;32m    233\u001b[0m \u001b[43m            \u001b[49m\u001b[43mstream\u001b[49m\u001b[38;5;241;43m=\u001b[39;49m\u001b[43mstream\u001b[49m\u001b[43m,\u001b[49m\n\u001b[0;32m    234\u001b[0m \u001b[43m        \u001b[49m\u001b[43m)\u001b[49m\n\u001b[0;32m    235\u001b[0m     \u001b[38;5;28;01mexcept\u001b[39;00m \u001b[38;5;167;01mTimeoutError\u001b[39;00m \u001b[38;5;28;01mas\u001b[39;00m error:\n\u001b[0;32m    236\u001b[0m         \u001b[38;5;66;03m# Convert any `TimeoutError` to a `InferenceTimeoutError`\u001b[39;00m\n\u001b[0;32m    237\u001b[0m         \u001b[38;5;28;01mraise\u001b[39;00m InferenceTimeoutError(\u001b[38;5;124mf\u001b[39m\u001b[38;5;124m\"\u001b[39m\u001b[38;5;124mInference call timed out: \u001b[39m\u001b[38;5;132;01m{\u001b[39;00murl\u001b[38;5;132;01m}\u001b[39;00m\u001b[38;5;124m\"\u001b[39m) \u001b[38;5;28;01mfrom\u001b[39;00m \u001b[38;5;21;01merror\u001b[39;00m  \u001b[38;5;66;03m# type: ignore\u001b[39;00m\n",
      "File \u001b[1;32mc:\\Users\\jjdes\\Desktop\\RAG_chatbot\\rag_env\\lib\\site-packages\\requests\\sessions.py:637\u001b[0m, in \u001b[0;36mSession.post\u001b[1;34m(self, url, data, json, **kwargs)\u001b[0m\n\u001b[0;32m    626\u001b[0m \u001b[38;5;28;01mdef\u001b[39;00m \u001b[38;5;21mpost\u001b[39m(\u001b[38;5;28mself\u001b[39m, url, data\u001b[38;5;241m=\u001b[39m\u001b[38;5;28;01mNone\u001b[39;00m, json\u001b[38;5;241m=\u001b[39m\u001b[38;5;28;01mNone\u001b[39;00m, \u001b[38;5;241m*\u001b[39m\u001b[38;5;241m*\u001b[39mkwargs):\n\u001b[0;32m    627\u001b[0m \u001b[38;5;250m    \u001b[39m\u001b[38;5;124mr\u001b[39m\u001b[38;5;124;03m\"\"\"Sends a POST request. Returns :class:`Response` object.\u001b[39;00m\n\u001b[0;32m    628\u001b[0m \n\u001b[0;32m    629\u001b[0m \u001b[38;5;124;03m    :param url: URL for the new :class:`Request` object.\u001b[39;00m\n\u001b[1;32m   (...)\u001b[0m\n\u001b[0;32m    634\u001b[0m \u001b[38;5;124;03m    :rtype: requests.Response\u001b[39;00m\n\u001b[0;32m    635\u001b[0m \u001b[38;5;124;03m    \"\"\"\u001b[39;00m\n\u001b[1;32m--> 637\u001b[0m     \u001b[38;5;28;01mreturn\u001b[39;00m \u001b[38;5;28mself\u001b[39m\u001b[38;5;241m.\u001b[39mrequest(\u001b[38;5;124m\"\u001b[39m\u001b[38;5;124mPOST\u001b[39m\u001b[38;5;124m\"\u001b[39m, url, data\u001b[38;5;241m=\u001b[39mdata, json\u001b[38;5;241m=\u001b[39mjson, \u001b[38;5;241m*\u001b[39m\u001b[38;5;241m*\u001b[39mkwargs)\n",
      "File \u001b[1;32mc:\\Users\\jjdes\\Desktop\\RAG_chatbot\\rag_env\\lib\\site-packages\\requests\\sessions.py:589\u001b[0m, in \u001b[0;36mSession.request\u001b[1;34m(self, method, url, params, data, headers, cookies, files, auth, timeout, allow_redirects, proxies, hooks, stream, verify, cert, json)\u001b[0m\n\u001b[0;32m    584\u001b[0m send_kwargs \u001b[38;5;241m=\u001b[39m {\n\u001b[0;32m    585\u001b[0m     \u001b[38;5;124m\"\u001b[39m\u001b[38;5;124mtimeout\u001b[39m\u001b[38;5;124m\"\u001b[39m: timeout,\n\u001b[0;32m    586\u001b[0m     \u001b[38;5;124m\"\u001b[39m\u001b[38;5;124mallow_redirects\u001b[39m\u001b[38;5;124m\"\u001b[39m: allow_redirects,\n\u001b[0;32m    587\u001b[0m }\n\u001b[0;32m    588\u001b[0m send_kwargs\u001b[38;5;241m.\u001b[39mupdate(settings)\n\u001b[1;32m--> 589\u001b[0m resp \u001b[38;5;241m=\u001b[39m \u001b[38;5;28mself\u001b[39m\u001b[38;5;241m.\u001b[39msend(prep, \u001b[38;5;241m*\u001b[39m\u001b[38;5;241m*\u001b[39msend_kwargs)\n\u001b[0;32m    591\u001b[0m \u001b[38;5;28;01mreturn\u001b[39;00m resp\n",
      "File \u001b[1;32mc:\\Users\\jjdes\\Desktop\\RAG_chatbot\\rag_env\\lib\\site-packages\\requests\\sessions.py:703\u001b[0m, in \u001b[0;36mSession.send\u001b[1;34m(self, request, **kwargs)\u001b[0m\n\u001b[0;32m    700\u001b[0m start \u001b[38;5;241m=\u001b[39m preferred_clock()\n\u001b[0;32m    702\u001b[0m \u001b[38;5;66;03m# Send the request\u001b[39;00m\n\u001b[1;32m--> 703\u001b[0m r \u001b[38;5;241m=\u001b[39m adapter\u001b[38;5;241m.\u001b[39msend(request, \u001b[38;5;241m*\u001b[39m\u001b[38;5;241m*\u001b[39mkwargs)\n\u001b[0;32m    705\u001b[0m \u001b[38;5;66;03m# Total elapsed time of the request (approximately)\u001b[39;00m\n\u001b[0;32m    706\u001b[0m elapsed \u001b[38;5;241m=\u001b[39m preferred_clock() \u001b[38;5;241m-\u001b[39m start\n",
      "File \u001b[1;32mc:\\Users\\jjdes\\Desktop\\RAG_chatbot\\rag_env\\lib\\site-packages\\huggingface_hub\\utils\\_http.py:63\u001b[0m, in \u001b[0;36mUniqueRequestIdAdapter.send\u001b[1;34m(self, request, *args, **kwargs)\u001b[0m\n\u001b[0;32m     61\u001b[0m \u001b[38;5;250m\u001b[39m\u001b[38;5;124;03m\"\"\"Catch any RequestException to append request id to the error message for debugging.\"\"\"\u001b[39;00m\n\u001b[0;32m     62\u001b[0m \u001b[38;5;28;01mtry\u001b[39;00m:\n\u001b[1;32m---> 63\u001b[0m     \u001b[38;5;28;01mreturn\u001b[39;00m \u001b[38;5;28msuper\u001b[39m()\u001b[38;5;241m.\u001b[39msend(request, \u001b[38;5;241m*\u001b[39margs, \u001b[38;5;241m*\u001b[39m\u001b[38;5;241m*\u001b[39mkwargs)\n\u001b[0;32m     64\u001b[0m \u001b[38;5;28;01mexcept\u001b[39;00m requests\u001b[38;5;241m.\u001b[39mRequestException \u001b[38;5;28;01mas\u001b[39;00m e:\n\u001b[0;32m     65\u001b[0m     request_id \u001b[38;5;241m=\u001b[39m request\u001b[38;5;241m.\u001b[39mheaders\u001b[38;5;241m.\u001b[39mget(X_AMZN_TRACE_ID)\n",
      "File \u001b[1;32mc:\\Users\\jjdes\\Desktop\\RAG_chatbot\\rag_env\\lib\\site-packages\\requests\\adapters.py:486\u001b[0m, in \u001b[0;36mHTTPAdapter.send\u001b[1;34m(self, request, stream, timeout, verify, cert, proxies)\u001b[0m\n\u001b[0;32m    483\u001b[0m     timeout \u001b[38;5;241m=\u001b[39m TimeoutSauce(connect\u001b[38;5;241m=\u001b[39mtimeout, read\u001b[38;5;241m=\u001b[39mtimeout)\n\u001b[0;32m    485\u001b[0m \u001b[38;5;28;01mtry\u001b[39;00m:\n\u001b[1;32m--> 486\u001b[0m     resp \u001b[38;5;241m=\u001b[39m \u001b[43mconn\u001b[49m\u001b[38;5;241;43m.\u001b[39;49m\u001b[43murlopen\u001b[49m\u001b[43m(\u001b[49m\n\u001b[0;32m    487\u001b[0m \u001b[43m        \u001b[49m\u001b[43mmethod\u001b[49m\u001b[38;5;241;43m=\u001b[39;49m\u001b[43mrequest\u001b[49m\u001b[38;5;241;43m.\u001b[39;49m\u001b[43mmethod\u001b[49m\u001b[43m,\u001b[49m\n\u001b[0;32m    488\u001b[0m \u001b[43m        \u001b[49m\u001b[43murl\u001b[49m\u001b[38;5;241;43m=\u001b[39;49m\u001b[43murl\u001b[49m\u001b[43m,\u001b[49m\n\u001b[0;32m    489\u001b[0m \u001b[43m        \u001b[49m\u001b[43mbody\u001b[49m\u001b[38;5;241;43m=\u001b[39;49m\u001b[43mrequest\u001b[49m\u001b[38;5;241;43m.\u001b[39;49m\u001b[43mbody\u001b[49m\u001b[43m,\u001b[49m\n\u001b[0;32m    490\u001b[0m \u001b[43m        \u001b[49m\u001b[43mheaders\u001b[49m\u001b[38;5;241;43m=\u001b[39;49m\u001b[43mrequest\u001b[49m\u001b[38;5;241;43m.\u001b[39;49m\u001b[43mheaders\u001b[49m\u001b[43m,\u001b[49m\n\u001b[0;32m    491\u001b[0m \u001b[43m        \u001b[49m\u001b[43mredirect\u001b[49m\u001b[38;5;241;43m=\u001b[39;49m\u001b[38;5;28;43;01mFalse\u001b[39;49;00m\u001b[43m,\u001b[49m\n\u001b[0;32m    492\u001b[0m \u001b[43m        \u001b[49m\u001b[43massert_same_host\u001b[49m\u001b[38;5;241;43m=\u001b[39;49m\u001b[38;5;28;43;01mFalse\u001b[39;49;00m\u001b[43m,\u001b[49m\n\u001b[0;32m    493\u001b[0m \u001b[43m        \u001b[49m\u001b[43mpreload_content\u001b[49m\u001b[38;5;241;43m=\u001b[39;49m\u001b[38;5;28;43;01mFalse\u001b[39;49;00m\u001b[43m,\u001b[49m\n\u001b[0;32m    494\u001b[0m \u001b[43m        \u001b[49m\u001b[43mdecode_content\u001b[49m\u001b[38;5;241;43m=\u001b[39;49m\u001b[38;5;28;43;01mFalse\u001b[39;49;00m\u001b[43m,\u001b[49m\n\u001b[0;32m    495\u001b[0m \u001b[43m        \u001b[49m\u001b[43mretries\u001b[49m\u001b[38;5;241;43m=\u001b[39;49m\u001b[38;5;28;43mself\u001b[39;49m\u001b[38;5;241;43m.\u001b[39;49m\u001b[43mmax_retries\u001b[49m\u001b[43m,\u001b[49m\n\u001b[0;32m    496\u001b[0m \u001b[43m        \u001b[49m\u001b[43mtimeout\u001b[49m\u001b[38;5;241;43m=\u001b[39;49m\u001b[43mtimeout\u001b[49m\u001b[43m,\u001b[49m\n\u001b[0;32m    497\u001b[0m \u001b[43m        \u001b[49m\u001b[43mchunked\u001b[49m\u001b[38;5;241;43m=\u001b[39;49m\u001b[43mchunked\u001b[49m\u001b[43m,\u001b[49m\n\u001b[0;32m    498\u001b[0m \u001b[43m    \u001b[49m\u001b[43m)\u001b[49m\n\u001b[0;32m    500\u001b[0m \u001b[38;5;28;01mexcept\u001b[39;00m (ProtocolError, \u001b[38;5;167;01mOSError\u001b[39;00m) \u001b[38;5;28;01mas\u001b[39;00m err:\n\u001b[0;32m    501\u001b[0m     \u001b[38;5;28;01mraise\u001b[39;00m \u001b[38;5;167;01mConnectionError\u001b[39;00m(err, request\u001b[38;5;241m=\u001b[39mrequest)\n",
      "File \u001b[1;32mc:\\Users\\jjdes\\Desktop\\RAG_chatbot\\rag_env\\lib\\site-packages\\urllib3\\connectionpool.py:715\u001b[0m, in \u001b[0;36mHTTPConnectionPool.urlopen\u001b[1;34m(self, method, url, body, headers, retries, redirect, assert_same_host, timeout, pool_timeout, release_conn, chunked, body_pos, **response_kw)\u001b[0m\n\u001b[0;32m    712\u001b[0m     \u001b[38;5;28mself\u001b[39m\u001b[38;5;241m.\u001b[39m_prepare_proxy(conn)\n\u001b[0;32m    714\u001b[0m \u001b[38;5;66;03m# Make the request on the httplib connection object.\u001b[39;00m\n\u001b[1;32m--> 715\u001b[0m httplib_response \u001b[38;5;241m=\u001b[39m \u001b[38;5;28;43mself\u001b[39;49m\u001b[38;5;241;43m.\u001b[39;49m\u001b[43m_make_request\u001b[49m\u001b[43m(\u001b[49m\n\u001b[0;32m    716\u001b[0m \u001b[43m    \u001b[49m\u001b[43mconn\u001b[49m\u001b[43m,\u001b[49m\n\u001b[0;32m    717\u001b[0m \u001b[43m    \u001b[49m\u001b[43mmethod\u001b[49m\u001b[43m,\u001b[49m\n\u001b[0;32m    718\u001b[0m \u001b[43m    \u001b[49m\u001b[43murl\u001b[49m\u001b[43m,\u001b[49m\n\u001b[0;32m    719\u001b[0m \u001b[43m    \u001b[49m\u001b[43mtimeout\u001b[49m\u001b[38;5;241;43m=\u001b[39;49m\u001b[43mtimeout_obj\u001b[49m\u001b[43m,\u001b[49m\n\u001b[0;32m    720\u001b[0m \u001b[43m    \u001b[49m\u001b[43mbody\u001b[49m\u001b[38;5;241;43m=\u001b[39;49m\u001b[43mbody\u001b[49m\u001b[43m,\u001b[49m\n\u001b[0;32m    721\u001b[0m \u001b[43m    \u001b[49m\u001b[43mheaders\u001b[49m\u001b[38;5;241;43m=\u001b[39;49m\u001b[43mheaders\u001b[49m\u001b[43m,\u001b[49m\n\u001b[0;32m    722\u001b[0m \u001b[43m    \u001b[49m\u001b[43mchunked\u001b[49m\u001b[38;5;241;43m=\u001b[39;49m\u001b[43mchunked\u001b[49m\u001b[43m,\u001b[49m\n\u001b[0;32m    723\u001b[0m \u001b[43m\u001b[49m\u001b[43m)\u001b[49m\n\u001b[0;32m    725\u001b[0m \u001b[38;5;66;03m# If we're going to release the connection in ``finally:``, then\u001b[39;00m\n\u001b[0;32m    726\u001b[0m \u001b[38;5;66;03m# the response doesn't need to know about the connection. Otherwise\u001b[39;00m\n\u001b[0;32m    727\u001b[0m \u001b[38;5;66;03m# it will also try to release it and we'll have a double-release\u001b[39;00m\n\u001b[0;32m    728\u001b[0m \u001b[38;5;66;03m# mess.\u001b[39;00m\n\u001b[0;32m    729\u001b[0m response_conn \u001b[38;5;241m=\u001b[39m conn \u001b[38;5;28;01mif\u001b[39;00m \u001b[38;5;129;01mnot\u001b[39;00m release_conn \u001b[38;5;28;01melse\u001b[39;00m \u001b[38;5;28;01mNone\u001b[39;00m\n",
      "File \u001b[1;32mc:\\Users\\jjdes\\Desktop\\RAG_chatbot\\rag_env\\lib\\site-packages\\urllib3\\connectionpool.py:467\u001b[0m, in \u001b[0;36mHTTPConnectionPool._make_request\u001b[1;34m(self, conn, method, url, timeout, chunked, **httplib_request_kw)\u001b[0m\n\u001b[0;32m    462\u001b[0m             httplib_response \u001b[38;5;241m=\u001b[39m conn\u001b[38;5;241m.\u001b[39mgetresponse()\n\u001b[0;32m    463\u001b[0m         \u001b[38;5;28;01mexcept\u001b[39;00m \u001b[38;5;167;01mBaseException\u001b[39;00m \u001b[38;5;28;01mas\u001b[39;00m e:\n\u001b[0;32m    464\u001b[0m             \u001b[38;5;66;03m# Remove the TypeError from the exception chain in\u001b[39;00m\n\u001b[0;32m    465\u001b[0m             \u001b[38;5;66;03m# Python 3 (including for exceptions like SystemExit).\u001b[39;00m\n\u001b[0;32m    466\u001b[0m             \u001b[38;5;66;03m# Otherwise it looks like a bug in the code.\u001b[39;00m\n\u001b[1;32m--> 467\u001b[0m             \u001b[43msix\u001b[49m\u001b[38;5;241;43m.\u001b[39;49m\u001b[43mraise_from\u001b[49m\u001b[43m(\u001b[49m\u001b[43me\u001b[49m\u001b[43m,\u001b[49m\u001b[43m \u001b[49m\u001b[38;5;28;43;01mNone\u001b[39;49;00m\u001b[43m)\u001b[49m\n\u001b[0;32m    468\u001b[0m \u001b[38;5;28;01mexcept\u001b[39;00m (SocketTimeout, BaseSSLError, SocketError) \u001b[38;5;28;01mas\u001b[39;00m e:\n\u001b[0;32m    469\u001b[0m     \u001b[38;5;28mself\u001b[39m\u001b[38;5;241m.\u001b[39m_raise_timeout(err\u001b[38;5;241m=\u001b[39me, url\u001b[38;5;241m=\u001b[39murl, timeout_value\u001b[38;5;241m=\u001b[39mread_timeout)\n",
      "File \u001b[1;32m<string>:3\u001b[0m, in \u001b[0;36mraise_from\u001b[1;34m(value, from_value)\u001b[0m\n",
      "File \u001b[1;32mc:\\Users\\jjdes\\Desktop\\RAG_chatbot\\rag_env\\lib\\site-packages\\urllib3\\connectionpool.py:462\u001b[0m, in \u001b[0;36mHTTPConnectionPool._make_request\u001b[1;34m(self, conn, method, url, timeout, chunked, **httplib_request_kw)\u001b[0m\n\u001b[0;32m    459\u001b[0m \u001b[38;5;28;01mexcept\u001b[39;00m \u001b[38;5;167;01mTypeError\u001b[39;00m:\n\u001b[0;32m    460\u001b[0m     \u001b[38;5;66;03m# Python 3\u001b[39;00m\n\u001b[0;32m    461\u001b[0m     \u001b[38;5;28;01mtry\u001b[39;00m:\n\u001b[1;32m--> 462\u001b[0m         httplib_response \u001b[38;5;241m=\u001b[39m \u001b[43mconn\u001b[49m\u001b[38;5;241;43m.\u001b[39;49m\u001b[43mgetresponse\u001b[49m\u001b[43m(\u001b[49m\u001b[43m)\u001b[49m\n\u001b[0;32m    463\u001b[0m     \u001b[38;5;28;01mexcept\u001b[39;00m \u001b[38;5;167;01mBaseException\u001b[39;00m \u001b[38;5;28;01mas\u001b[39;00m e:\n\u001b[0;32m    464\u001b[0m         \u001b[38;5;66;03m# Remove the TypeError from the exception chain in\u001b[39;00m\n\u001b[0;32m    465\u001b[0m         \u001b[38;5;66;03m# Python 3 (including for exceptions like SystemExit).\u001b[39;00m\n\u001b[0;32m    466\u001b[0m         \u001b[38;5;66;03m# Otherwise it looks like a bug in the code.\u001b[39;00m\n\u001b[0;32m    467\u001b[0m         six\u001b[38;5;241m.\u001b[39mraise_from(e, \u001b[38;5;28;01mNone\u001b[39;00m)\n",
      "File \u001b[1;32m~\\AppData\\Local\\Programs\\Python\\Python310\\lib\\http\\client.py:1375\u001b[0m, in \u001b[0;36mHTTPConnection.getresponse\u001b[1;34m(self)\u001b[0m\n\u001b[0;32m   1373\u001b[0m \u001b[38;5;28;01mtry\u001b[39;00m:\n\u001b[0;32m   1374\u001b[0m     \u001b[38;5;28;01mtry\u001b[39;00m:\n\u001b[1;32m-> 1375\u001b[0m         \u001b[43mresponse\u001b[49m\u001b[38;5;241;43m.\u001b[39;49m\u001b[43mbegin\u001b[49m\u001b[43m(\u001b[49m\u001b[43m)\u001b[49m\n\u001b[0;32m   1376\u001b[0m     \u001b[38;5;28;01mexcept\u001b[39;00m \u001b[38;5;167;01mConnectionError\u001b[39;00m:\n\u001b[0;32m   1377\u001b[0m         \u001b[38;5;28mself\u001b[39m\u001b[38;5;241m.\u001b[39mclose()\n",
      "File \u001b[1;32m~\\AppData\\Local\\Programs\\Python\\Python310\\lib\\http\\client.py:318\u001b[0m, in \u001b[0;36mHTTPResponse.begin\u001b[1;34m(self)\u001b[0m\n\u001b[0;32m    316\u001b[0m \u001b[38;5;66;03m# read until we get a non-100 response\u001b[39;00m\n\u001b[0;32m    317\u001b[0m \u001b[38;5;28;01mwhile\u001b[39;00m \u001b[38;5;28;01mTrue\u001b[39;00m:\n\u001b[1;32m--> 318\u001b[0m     version, status, reason \u001b[38;5;241m=\u001b[39m \u001b[38;5;28;43mself\u001b[39;49m\u001b[38;5;241;43m.\u001b[39;49m\u001b[43m_read_status\u001b[49m\u001b[43m(\u001b[49m\u001b[43m)\u001b[49m\n\u001b[0;32m    319\u001b[0m     \u001b[38;5;28;01mif\u001b[39;00m status \u001b[38;5;241m!=\u001b[39m CONTINUE:\n\u001b[0;32m    320\u001b[0m         \u001b[38;5;28;01mbreak\u001b[39;00m\n",
      "File \u001b[1;32m~\\AppData\\Local\\Programs\\Python\\Python310\\lib\\http\\client.py:279\u001b[0m, in \u001b[0;36mHTTPResponse._read_status\u001b[1;34m(self)\u001b[0m\n\u001b[0;32m    278\u001b[0m \u001b[38;5;28;01mdef\u001b[39;00m \u001b[38;5;21m_read_status\u001b[39m(\u001b[38;5;28mself\u001b[39m):\n\u001b[1;32m--> 279\u001b[0m     line \u001b[38;5;241m=\u001b[39m \u001b[38;5;28mstr\u001b[39m(\u001b[38;5;28;43mself\u001b[39;49m\u001b[38;5;241;43m.\u001b[39;49m\u001b[43mfp\u001b[49m\u001b[38;5;241;43m.\u001b[39;49m\u001b[43mreadline\u001b[49m\u001b[43m(\u001b[49m\u001b[43m_MAXLINE\u001b[49m\u001b[43m \u001b[49m\u001b[38;5;241;43m+\u001b[39;49m\u001b[43m \u001b[49m\u001b[38;5;241;43m1\u001b[39;49m\u001b[43m)\u001b[49m, \u001b[38;5;124m\"\u001b[39m\u001b[38;5;124miso-8859-1\u001b[39m\u001b[38;5;124m\"\u001b[39m)\n\u001b[0;32m    280\u001b[0m     \u001b[38;5;28;01mif\u001b[39;00m \u001b[38;5;28mlen\u001b[39m(line) \u001b[38;5;241m>\u001b[39m _MAXLINE:\n\u001b[0;32m    281\u001b[0m         \u001b[38;5;28;01mraise\u001b[39;00m LineTooLong(\u001b[38;5;124m\"\u001b[39m\u001b[38;5;124mstatus line\u001b[39m\u001b[38;5;124m\"\u001b[39m)\n",
      "File \u001b[1;32m~\\AppData\\Local\\Programs\\Python\\Python310\\lib\\socket.py:705\u001b[0m, in \u001b[0;36mSocketIO.readinto\u001b[1;34m(self, b)\u001b[0m\n\u001b[0;32m    703\u001b[0m \u001b[38;5;28;01mwhile\u001b[39;00m \u001b[38;5;28;01mTrue\u001b[39;00m:\n\u001b[0;32m    704\u001b[0m     \u001b[38;5;28;01mtry\u001b[39;00m:\n\u001b[1;32m--> 705\u001b[0m         \u001b[38;5;28;01mreturn\u001b[39;00m \u001b[38;5;28;43mself\u001b[39;49m\u001b[38;5;241;43m.\u001b[39;49m\u001b[43m_sock\u001b[49m\u001b[38;5;241;43m.\u001b[39;49m\u001b[43mrecv_into\u001b[49m\u001b[43m(\u001b[49m\u001b[43mb\u001b[49m\u001b[43m)\u001b[49m\n\u001b[0;32m    706\u001b[0m     \u001b[38;5;28;01mexcept\u001b[39;00m timeout:\n\u001b[0;32m    707\u001b[0m         \u001b[38;5;28mself\u001b[39m\u001b[38;5;241m.\u001b[39m_timeout_occurred \u001b[38;5;241m=\u001b[39m \u001b[38;5;28;01mTrue\u001b[39;00m\n",
      "File \u001b[1;32m~\\AppData\\Local\\Programs\\Python\\Python310\\lib\\ssl.py:1274\u001b[0m, in \u001b[0;36mSSLSocket.recv_into\u001b[1;34m(self, buffer, nbytes, flags)\u001b[0m\n\u001b[0;32m   1270\u001b[0m     \u001b[38;5;28;01mif\u001b[39;00m flags \u001b[38;5;241m!=\u001b[39m \u001b[38;5;241m0\u001b[39m:\n\u001b[0;32m   1271\u001b[0m         \u001b[38;5;28;01mraise\u001b[39;00m \u001b[38;5;167;01mValueError\u001b[39;00m(\n\u001b[0;32m   1272\u001b[0m           \u001b[38;5;124m\"\u001b[39m\u001b[38;5;124mnon-zero flags not allowed in calls to recv_into() on \u001b[39m\u001b[38;5;132;01m%s\u001b[39;00m\u001b[38;5;124m\"\u001b[39m \u001b[38;5;241m%\u001b[39m\n\u001b[0;32m   1273\u001b[0m           \u001b[38;5;28mself\u001b[39m\u001b[38;5;241m.\u001b[39m\u001b[38;5;18m__class__\u001b[39m)\n\u001b[1;32m-> 1274\u001b[0m     \u001b[38;5;28;01mreturn\u001b[39;00m \u001b[38;5;28;43mself\u001b[39;49m\u001b[38;5;241;43m.\u001b[39;49m\u001b[43mread\u001b[49m\u001b[43m(\u001b[49m\u001b[43mnbytes\u001b[49m\u001b[43m,\u001b[49m\u001b[43m \u001b[49m\u001b[43mbuffer\u001b[49m\u001b[43m)\u001b[49m\n\u001b[0;32m   1275\u001b[0m \u001b[38;5;28;01melse\u001b[39;00m:\n\u001b[0;32m   1276\u001b[0m     \u001b[38;5;28;01mreturn\u001b[39;00m \u001b[38;5;28msuper\u001b[39m()\u001b[38;5;241m.\u001b[39mrecv_into(buffer, nbytes, flags)\n",
      "File \u001b[1;32m~\\AppData\\Local\\Programs\\Python\\Python310\\lib\\ssl.py:1130\u001b[0m, in \u001b[0;36mSSLSocket.read\u001b[1;34m(self, len, buffer)\u001b[0m\n\u001b[0;32m   1128\u001b[0m \u001b[38;5;28;01mtry\u001b[39;00m:\n\u001b[0;32m   1129\u001b[0m     \u001b[38;5;28;01mif\u001b[39;00m buffer \u001b[38;5;129;01mis\u001b[39;00m \u001b[38;5;129;01mnot\u001b[39;00m \u001b[38;5;28;01mNone\u001b[39;00m:\n\u001b[1;32m-> 1130\u001b[0m         \u001b[38;5;28;01mreturn\u001b[39;00m \u001b[38;5;28;43mself\u001b[39;49m\u001b[38;5;241;43m.\u001b[39;49m\u001b[43m_sslobj\u001b[49m\u001b[38;5;241;43m.\u001b[39;49m\u001b[43mread\u001b[49m\u001b[43m(\u001b[49m\u001b[38;5;28;43mlen\u001b[39;49m\u001b[43m,\u001b[49m\u001b[43m \u001b[49m\u001b[43mbuffer\u001b[49m\u001b[43m)\u001b[49m\n\u001b[0;32m   1131\u001b[0m     \u001b[38;5;28;01melse\u001b[39;00m:\n\u001b[0;32m   1132\u001b[0m         \u001b[38;5;28;01mreturn\u001b[39;00m \u001b[38;5;28mself\u001b[39m\u001b[38;5;241m.\u001b[39m_sslobj\u001b[38;5;241m.\u001b[39mread(\u001b[38;5;28mlen\u001b[39m)\n",
      "\u001b[1;31mKeyboardInterrupt\u001b[0m: "
     ]
    }
   ],
   "source": [
    "update_qa_pairs(\n",
    "    qa_dataset,\n",
    "    texts=df.loc[max_index:,'content'].to_list(),\n",
    "    client=InferenceClient(token=hugging_face_api_key),\n",
    "    model= model_zephyr,\n",
    "    max_new_tokens=200,\n",
    "    qa_generate_prompt_tmpl=QA_GENERATE_PROMPT_TMPL,\n",
    "    num_questions_per_chunk=2,\n",
    "    chunk_size = 2048\n",
    ")"
   ]
  },
  {
   "cell_type": "code",
   "execution_count": 23,
   "metadata": {},
   "outputs": [
    {
     "data": {
      "text/plain": [
       "{'queries': {'a3eb1dc5-c1c1-404c-aafe-41971e359bfd': 'What are the benefits of unsubscribing from notifications in my inbox versus unsubscribing from notifications on the subscriptions page on GitHub?',\n",
       "  'fb33a268-26e2-420d-85fe-3222c1cd9286': 'How can I quickly unsubscribe from multiple notifications at the same time on GitHub',\n",
       "  '99454d3c-9cd0-4681-8f34-68cf44ed14fe': 'How can I manage the notifications I receive for repositories I am watching on GitHub',\n",
       "  '5c0e0049-bd6a-4c42-8409-3ae7144c7557': 'How can I choose to only receive notifications when participating or mentioned for a repository I am watching on GitHub',\n",
       "  '0e3c2dd3-d76e-4107-b843-0fa8e5cfb7d8': 'Where can I find the \"Manage notifications\" dropdown menu on GitHub',\n",
       "  '8bd92299-8e58-41e6-8673-7491deccafcc': 'How can I unwatch all repositories owned by a specific user or organization on GitHub',\n",
       "  '0c2ab690-7907-45f2-97bc-b189137f34c9': 'How can I unsubscribe from specific notifications on GitHub',\n",
       "  '881a403c-746d-4a40-b13a-3acf8672cb8b': 'What is the difference between unwatching a repository and ignoring all notifications for a repository on GitHub',\n",
       "  '8b1d85ba-8ed3-48d9-8a9c-8c009d6441ca': 'How can I ignore all notifications for a specific repository on GitHub',\n",
       "  '8d98035e-f607-480a-939a-f7ca802d45eb': 'How can I access the \"Watched repositories\" page on GitHub',\n",
       "  '2cf7f659-8053-4d11-9567-baec1bf379cd': 'How can I customize the types of events I receive notifications for on GitHub',\n",
       "  'c53c7b4f-04c3-4bf7-9298-759ad3620f1e': \"What is the process for reviewing all of one's subscriptions on GitHub and how can one use filters and sorting to narrow down the list and begin unsubscribing from conversations they no longer want to receive notifications for?\",\n",
       "  '1bcb2dee-7e85-4b41-99a3-b9aa5896cc57': 'How can one determine whether they have oversubscribed to notifications on GitHub and what steps can they take to reduce the number of subscriptions they have and the types of notifications they receive',\n",
       "  '19f6b20a-fdbf-429a-9083-4fe241314474': 'How can I see a list of repositories that I can still receive notifications for on GitHub',\n",
       "  '42b69342-a6fd-4c2e-b0cd-afcc1642cebf': 'How can I review subscriptions I may have forgotten about on GitHub',\n",
       "  '0a57a1a4-1255-4427-8a5c-447c3769ef36': 'How can I unsubscribe from conversations on {% data variables.location.product_location %} and what are the default subscriptions that I am automatically subscribed to?',\n",
       "  '1fc1b357-f4c6-4547-8a8d-a454954d5c8e': 'What are the different types of subscriptions available on {% data variables.location.product_location %} and how can I choose to receive ongoing updates for specific activities',\n",
       "  'fd693f2e-e57b-4e30-9616-3b609b621a7f': \"What are the default filters in my Github inbox and how can I filter my inbox by the reason I'm subscribed to notifications?\",\n",
       "  'a23e6240-4715-47b8-85c2-e39259deaf34': 'How can I customize the types of updates I receive and where to send them on Github',\n",
       "  '5afc5d1e-f772-402d-9bc4-42a8464feb77': 'How can I effectively manage my notifications on {% data variables.location.product_location %}{% ifversion fpt or ghes or ghec %} or {% data variables.product.prodname_mobile %}{% endif %}',\n",
       "  'c0990dfb-82d1-4fab-a50a-a98d3eec05a2': 'How can I customize my notifications inbox on {% data variables.location.product_location %}{% ifversion fpt or ghes or ghec %} or {% data variables.product.prodname_mobile %}{% endif %} to focus on a specific group of notifications',\n",
       "  '488cd66e-a289-4267-bab8-4ca7917a0888': 'Based on the context information provided, generate the following quiz/examination questions:1. How can I efficiently manage the notifications I receive on {% data variables.location.product_location %}{% ifversion fpt or ghes or ghec %} or {% data variables.product.prodname_mobile',\n",
       "  '9a7c5bec-5ef5-4322-8aea-7259f68ae813': \"How does the author's use of symbolism in the novel contribute to the overall theme of identity? Provide specific examples from the text to support your answer.2. Analyze the role of technology in the novel and its impact on the characters' relationships and personal growth. Consider the author's use of language and imagery to convey this theme.\",\n",
       "  'cbd0e725-fa61-461b-b6d0-c88fcb04ceea': 'What are the different locations where notifications for activity on {% data variables.location.product_location %} can be received',\n",
       "  '157c2862-d31a-426a-be9e-aaddfcf46561': 'What are the benefits of using the notifications inbox on {% data variables.location.product_location %} and {% data variables.product.prodname_mobile %} for managing notifications?',\n",
       "  '620976b7-17d0-4315-a0ee-0d8586a89c63': 'How can I use custom filters',\n",
       "  'f67a5a6e-0a3c-4607-8967-2fe9336a674f': \"How can I watch a repository or specific team's discussions on GitHub, and what benefits does this provide in terms of receiving updates and notifications\",\n",
       "  'e98d3bc9-c1dd-4258-b6e5-6f9179e44d79': 'What are the benefits of using an email client for notifications on GitHub, and how can I set up email notifications for specific repositories',\n",
       "  'c470aa2f-d78f-4dc9-b40d-4dd4c8c6d1dc': 'How can I manage and filter notifications on GitHub, and what options are available for organizing notifications in my inbox',\n",
       "  '8d785bdb-1177-486f-b67c-9f854a13b673': 'How can I access a list of repositories that I am watching on GitHub, and what options are available for managing and organizing this list',\n",
       "  'ad6f49f5-2d60-4f22-acc0-4785712beb0b': 'What is the retention policy for notifications in my GitHub inbox, and how can I ensure that important notifications are not deleted after a certain period of time',\n",
       "  'ac0c7ff8-2a05-48e4-95bb-3098b538cd70': 'How can I customize the types of notifications I receive through email on GitHub',\n",
       "  '02d51d30-9363-4403-8cdc-d50fbda3d0f6': 'How can I customize notifications for a specific repository on GitHub',\n",
       "  '73d0ec0f-ea11-4f95-8d63-8c64f16bb56d': \"What options do I have for receiving notifications for conversations I'm participating in or watching on GitHub?\",\n",
       "  'dc757686-b82f-4bb8-839c-7f8d1045fe2e': 'How can I customize my email notifications on {% data variables.location.product_location %} to only receive updates for specific activities, such as comments on issues or pull request reviews',\n",
       "  '83e5d435-3ff1-4cc2-87aa-87ca1ab03f39': 'What should I do if I want to send notifications to different email addresses for a specific domain, as required by my organization? Should I verify my email address for that domain? How can I do this?',\n",
       "  '9982bb1a-c0bd-4092-a033-ff29bb2cd339': 'What is the purpose of the \"X-GitHub-Recipient\" and \"X-GitHub-Recipient-Address\" headers in GitHub email notifications, and how can they help me identify if I am receiving notifications intended for another user?',\n",
       "  '7eca6279-6301-431b-9f03-72255bfffefe': 'How can I filter or forward all GitHub notifications, or certain types of GitHub notifications, using the header information provided in each email notification',\n",
       "  '49fe9b54-81ed-4a04-b216-52b326807da4': 'How can I customize my notification settings for updates in repositories, new repository access, and {% data variables.product.prodname_dependabot_alerts %} on {% data variables.product.prodname_dotcom %}? What other types of notifications can be managed through these settings?',\n",
       "  '8eda900a-7ba4-4207-9635-b2976d54bc42': 'What are the different types of notifications that can be received on {% data variables.product.prodname_dotcom %}, and how can they be managed',\n",
       "  '24f62579-6db7-43ab-9451-75b478520fc0': 'How can one customize notifications for a specific repository, as explained in the context information?',\n",
       "  '2e5eb9ca-9fe5-4c56-ba7c-1f1ada484eed': 'What is the significance of new deploy keys being added to repositories that belong to organizations that an owner is a part of, as mentioned in the context information',\n",
       "  '2319086a-b30a-4519-9e9c-1c47bb2ae3a2': 'How can I choose the email account for notifications related to organization activity in GitHub',\n",
       "  '5acea3e9-2b31-4e81-ad3f-dfc5c6624a48': 'How can I customize email routes for specific organizations in GitHub?',\n",
       "  '97814578-966f-4ac9-a617-35f56941b1fc': 'How can I configure notification settings for {% data variables.product.prodname_dependabot_alerts %} and {% data variables.secret-scanning.alerts %} in my GitHub user account? Please provide step-by-step instructions and specify the available notification delivery methods.2. How can I customize the notification settings for {% data variables.product.prodname_actions %} workflow run updates in my GitHub user account? Please specify the available options for receiving notifications and how to opt-in or opt-out of them.',\n",
       "  'ca030c35-6926-4c99-bf7e-b5719943f2fe': \"How can I manage my notification settings on GitHub's web interface, and what options are available to me\",\n",
       "  '9add6af3-87c0-400c-be38-8fcb83cfb92e': 'What types of push notifications can I enable on the GitHub mobile app, and how can I schedule when they are sent?',\n",
       "  'b1e050a6-5fb6-4fa8-bcc4-87e3ed6b1479': 'How can I configure my watch settings for an individual repository on {% data variables.product.prodname_mobile %}? Can I choose to only be notified of certain event types or completely ignore a repository?',\n",
       "  '8f9c64a0-998c-499c-8c7d-c6f216721ae8': 'How can I manage my notification settings on {% data variables.product.prodname_android %}',\n",
       "  'd41e08e3-a848-4cea-9517-8f2eeff77944': 'How can I prioritize my notifications in GitHub to efficiently manage my workload',\n",
       "  '65a313dc-be73-41a8-af6a-9a290995bc6e': 'What types of notifications should I focus on first to ensure I am addressing the most urgent updates?',\n",
       "  '7591fcfa-a45e-4250-b9c8-7170fe97f1e1': 'How can you clear your least important notifications on GitHub, and in what order should you prioritize triaging them?',\n",
       "  '21b79830-2e9b-4a6f-ac4e-b07f7226a614': 'Can you summarize the steps involved in managing lower-priority notifications on GitHub, as outlined in the provided context information',\n",
       "  'cf1ec624-8129-44f8-9857-48479c56a429': 'How can I access my notifications inbox on GitHub',\n",
       "  '644bd4db-ae9b-4bff-a8ef-75fd07047ae2': 'What options do I have for triaging notifications in my inbox? (Save, Done, Unsubscribe, Read, Unread)',\n",
       "  '0671774d-5583-4910-8494-3faa0d2a8a38': 'What are the default notification filters in my inbox, and how can I customize them with up to 15 of my own filters?',\n",
       "  '885c8763-ce2b-4bcd-a072-e206b03bd724': 'How can I preview notification details before choosing a triage option',\n",
       "  'f3c28187-5098-4d77-b4fb-17332628e18d': 'What is the syntax for filtering notifications by repository and discussion type using the `repo:` and `is:` queries, respectively?',\n",
       "  '63684584-fcca-4ea1-8fcb-ac615afc4966': 'How can I filter notifications for specific activity on GitHub, and what types of filters are supported',\n",
       "  'acdb4c39-8347-40ae-9dd8-053584d42b2f': 'How can I filter notifications based on the author of a thread in GitHub',\n",
       "  '403b76eb-1b4d-49cc-94b9-5c3b5a2b43b1': 'What are some supported queries for filtering notifications based on the reason for the update in GitHub?',\n",
       "  '65ee87a7-faf5-431e-9cea-3df15bab8748': 'How can I view notifications for a specific organization on GitHub',\n",
       "  '409e10c7-8182-4a87-9731-2b210f1a2de5': 'What custom filters can I use to show notifications for {% data variables.product.prodname_dependabot %} on GitHub?',\n",
       "  'b3d0831b-7341-43ef-94fc-d9709b5450bf': 'What options do I have when I click on an individual notification from my inbox on GitHub?',\n",
       "  '6158adf4-49f2-415b-96dc-f70bf559c113': 'How can I save a single notification to review later on GitHub',\n",
       "  '88e33315-2e92-4814-86e5-4ca4475a7833': 'What is the purpose of using \"AUTOTITLE\" in a document',\n",
       "  '645b8ab3-94b4-49e8-9fc5-f1a08c6b437f': 'How can I ensure that the title of my document is automatically generated based on its content using \"AUTOTITLE\"?',\n",
       "  'b9641d63-e1f0-4f68-8d6c-31bbff15133e': 'How does the concept of \"AUTOTITLE\" differ from \"AUTOTITLE\" and \"AUTOTITLE\"? Provide specific examples to support your answer.2. In what scenarios would the use of \"AUTOTITLE\" be more appropriate than \"AUTOTITLE\" or \"AUTOTITLE\"? Justify your response with relevant evidence.',\n",
       "  '6eebbc97-c048-4252-8dc7-71d46a8b8e7a': 'How can I share information about myself on GitHub by creating a profile README',\n",
       "  '76d1cda1-a562-4821-adbc-fed1ddf40391': 'What types of information should I include in my profile README to make it interesting, fun, or useful for visitors?',\n",
       "  'c028aa09-de27-4d76-a096-6f835d17ab5c': 'How can one customize their profile README on GitHub, and what are some best practices for doing so?',\n",
       "  'ec308700-0877-45a5-8215-7808e80ab854': 'What is the significance of having a profile README on a GitHub account, and under what circumstances is it removed',\n",
       "  '6a9b7045-6aca-4598-b018-081340188e13': 'How can I change my profile picture on {% data variables.product.product_name %}',\n",
       "  '15e0767f-50f0-4503-a13a-31d88a800473': 'What are the requirements for uploading a profile picture on {% data variables.product.product_name %}? (e.g. File type, size limit, recommended dimensions)',\n",
       "  '9cd6fa41-2712-48c4-b8f1-5d84be7fb02e': 'How can I add a bio to my profile in GitHub to share information about myself with other users? (Bonus points for explaining how to use @mentions and emoji in the bio.)',\n",
       "  'a3dc430c-1e85-4cc1-83a4-a8c4f75d281d': 'How can I change the name displayed on my profile in GitHub',\n",
       "  'b0d0b2a5-bdc7-4b61-a881-9ba1f7a54bda': 'How can I set a location and time zone on my GitHub profile to show other people my local time',\n",
       "  '52d3b8b2-dd01-4dff-8743-7afd7dc2bf61': 'How can I add pronouns to my GitHub profile to share information about myself with other GitHub users',\n",
       "  'cfb11d8a-1a6c-457b-bde1-a2daf0b747d5': 'How can I update my profile bio on GitHub to display a maximum of 160 characters',\n",
       "  'cf7e976d-7eca-4ef5-beac-018178b0fce2': 'How can I set a status on my GitHub profile to indicate my availability or limited availability, and what are the consequences of selecting the \"Busy\" option',\n",
       "  '2583cfbc-4e58-47ce-bf10-1b901e4f5060': 'How can I update my profile information on GitHub, including my name, email address, and profile picture',\n",
       "  '25145a69-dc87-4d70-a983-c558619e4e54': 'How can I add links to my social media accounts on my GitHub profile, and what are the benefits of doing so',\n",
       "  '2da136e5-d997-4c68-ab03-96511139b4e7': 'What badges can I earn on my GitHub profile, and how do I qualify for them?',\n",
       "  '8dbb86cb-3f34-4bc6-813b-2310f02ff9e9': 'How can I set a status message on my GitHub profile, and what options are available for visibility and duration',\n",
       "  '46aa8220-6cd1-467f-bbe9-441749a35eea': 'What is the significance of earning a \"Security Bug Bounty Hunter\" badge on one\\'s profile in the context of the {% data variables.product.prodname_dotcom %} Security program',\n",
       "  '940d8496-19f5-493c-8815-002dbbbcd6b9': 'How does one become a {% data variables.product.prodname_dotcom %} Campus Expert and what benefits does this program offer?',\n",
       "  '8c0a33bd-c350-4ca7-a059-76e28343997c': 'Can you provide a list of repositories that were considered for the Mars 2020 Helicopter Contributor achievement',\n",
       "  'd9db967b-fedd-49ec-b1b6-959880f789ef': 'Which specific version and tag were associated with the repository \"python/cpython\" for this achievement?',\n",
       "  '93dcab03-9d03-4a49-af71-aad0093aed73': 'What is the purpose of the \"AUTOTITLE\" directive mentioned in the context information',\n",
       "  '1ddce0b6-5070-425b-bb67-34f8d56b15ca': 'Can you provide a summary of the dependencies listed in the context information and their respective versions?',\n",
       "  'a6856bfb-810a-466b-81bc-0a93c93392b7': 'What is the purpose of using \"AUTOTITLE\" in a document',\n",
       "  'fee3bd01-4d89-4c83-875f-dfdce40bf9cd': 'How can I ensure that the title of my document is automatically generated based on its content using \"AUTOTITLE\"?',\n",
       "  '27bbfd52-1d1e-4ad4-a1b9-3b08301848b9': 'What is the difference between a private profile and a public profile on {% data variables.product.prodname_dotcom_the_website %}',\n",
       "  '43c9b818-621e-4548-86c3-8165ddde0e45': 'What content is hidden from a profile page when it is made private on {% data variables.product.prodname_dotcom_the_website %}?',\n",
       "  '985d9f8a-2efd-4aa2-b501-051befe92c14': 'How can I make my GitHub profile private and hide my activity from others',\n",
       "  'e6b33bc9-044e-4ff3-a64a-f1d4a9d62169': 'Where can I update my preferences related to profile privacy and activity hiding on GitHub?',\n",
       "  '24c6c302-7f88-46b1-ac10-8963910a168e': 'What is the connection between my {% ifversion fpt or ghec %}{% data variables.product.prodname_enterprise %}{% else %}{% data variables.product.product_name %}{% endif %} profile and my {% data variables.product.prodname_dotcom_the_website %} profile, and what governs this connection according to the provided text?',\n",
       "  '816ead79-af97-44dd-ac3b-1c4f8ab25c9b': 'How can I choose to display private contributions on my {% data variables.product.prodname_dotcom_the_website %} profile, and where can I find more information about this feature',\n",
       "  '8cef5594-9f9c-425c-809c-669fa1efa9eb': \"How can a user connect their GitHub Enterprise Server (GHES) and GitHub.com (GitHub) accounts to share contribution graphs and activity feeds between the two platforms? Provide step-by-step instructions for this process.2. What resources will GitHub Enterprise Server (GHES) access from a user's GitHub.com (GitHub) account when connecting the two platforms? List and explain these resources.\",\n",
       "  '1bd54f14-1fe3-41e4-be72-6c86d01909a5': 'What is the purpose of the \"Activity overview\" section on a user profile, and how can its visibility be managed',\n",
       "  '837c49dd-db8f-45fa-a42f-8ec65ff921f5': 'What information can be found in the \"Activity overview\" section, and what is the significance of this data?',\n",
       "  '3207a0d7-b1fe-48e8-8d0e-63d4432e3fae': 'How can I hide individual achievements on my GitHub profile?',\n",
       "  'aba118a6-945c-4994-bf84-47953da5162e': 'How can I make my private contributions visible to others on my GitHub profile',\n",
       "  'd23f39d3-1093-49d9-9e37-57a7ebc9524a': \"What command can be used in Git to check if the commit author date and commit date are different, and how can this information be used to view missing commit details from a user's timeline on GitHub?\",\n",
       "  '3f9332d8-65e1-457e-aef4-2f257412d7b1': \"How does GitHub determine the date of a commit displayed on a user's profile page, and what other date is used to calculate the commit date in a repository\",\n",
       "  'fd7ac01a-d78b-46e1-80e2-222514d12673': \"What should you do if you're not seeing expected commits on your timeline, and why might this happen?\",\n",
       "  '6571892b-ab3d-4865-8cba-df3d73f4da42': 'How can you view the commit details of a specific author in a repository on GitHub using the commit date range from April 3, 2018, to April 3, 2018',\n",
       "  'f89e3db9-3ab9-4ba5-9433-77e8142c5a6e': \"What are the different types of contributions that are counted towards a user's profile on GitHub\",\n",
       "  '2e2686be-1b8b-4ce9-bbf6-5f6cbfd09d02': \"How does the contributions calendar on a user's profile page display their contribution activity, and what time zones are used to calculate the timestamps for commits, pull requests, and issues?\",\n",
       "  '6d7ff36e-78ad-4022-8819-0f9e39d0e3cf': 'What is {% data variables.product.prodname_unified_contributions %}, and how does it relate to viewing contributions from {% data variables.product.prodname_enterprise %} on {% data variables.product.prodname_dotcom_the_website %}?',\n",
       "  '7ef5e692-d415-4d73-aa55-83251436091c': 'What is the significance of the organizations featured in the activity overview section of a user profile, and how are they prioritized',\n",
       "  '4be2b187-e046-4c0a-8e3a-8e0a521d2708': 'How can I view my contributions over time on my GitHub profile, and what important moments are highlighted in my contribution activity',\n",
       "  '798538d7-ee36-4169-a61e-9b062cfae085': 'What types of activities will appear on my contribution graph, and why might some contributions not be counted?',\n",
       "  '0c8be19d-71b8-42e6-9d26-a36f9a8a6f37': 'How can I view my contribution graph on my profile and what criteria are used to count contributions',\n",
       "  '78e78b4e-1ac5-49fe-9dd1-44c8f4f36c3f': 'What email addresses are required to appear on the contributions graph? Are there any exceptions to this rule? If so, what are they?',\n",
       "  '93ded6a8-bc9c-4d89-8bfc-7319048defea': 'How long does it take for a contribution to appear on the contributions graph after it has been counted as such',\n",
       "  '9034c7cf-d03c-429a-a5c2-3c880ad5812e': 'What is the significance of associating an email address registered with an IdP with a {% data variables.enterprise.prodname_managed_user %}',\n",
       "  'af2daa13-3b81-43e8-b22e-4adbad428c85': 'Why cannot generic email addresses be added to {% data variables.product.prodname_dotcom %} accounts and linked to commits? How can commits made using such email addresses be linked to a {% data variables.product.prodname_dotcom %} profile?',\n",
       "  'ed3cb066-6da1-42ed-92ae-c2f9ae6e46e0': 'How can I grant more granular access to a repository by creating it within an organization instead of my personal account on {% data variables.location.product_location %}',\n",
       "  '02573db4-db20-46b8-ad4f-75b9c618aaf7': 'How can I collaborate with users in a repository that belongs to my personal account on {% data variables.location.product_location %}',\n",
       "  '15215c86-129a-48a5-ba22-77f705eb6dd5': 'How does collaborator access work in the context provided',\n",
       "  'ca4ceb90-2673-47eb-a89c-f1d4a1f58eb4': 'What is the significance of the \"AUTOTITLE\" directive in the provided context',\n",
       "  'bb0fa903-ecb1-4d5d-bdab-4b264d074074': 'Given the context information and not prior knowledge.generate only answers based on the below query.You are a Student. Your task is to answer EXACTLY 2 questions based on the provided context. The answers should be diverse in nature across the document. Restrict the answers to the context information provided. Answers should be understandable without having access to the context.Don\\'t hallucinate.answers:1. The \"AUTOTITLE\" directive in the provided context seems to be a command used to automatically generate a title for a document. Its significance is not explicitly stated, but it suggests that the author is using a tool or software that allows for the automatic generation of titles.',\n",
       "  'a5fadcb2-8689-461f-9584-dca1dac2afba': \"What permissions does a successor have in managing user-owned repositories on {% data variables.product.company_short %}, and what conditions must be met before a successor can manage a user's public repositories after their death or incapacitation?\",\n",
       "  'd0775627-a5d2-455b-8e33-28ce38d64ad4': 'What is the role of a successor in managing user-owned repositories on {% data variables.product.company_short %}, and how can a successor be invited to perform this task'},\n",
       " 'corpus': {'Y2h1bmtfMF9pbmRleF8w': '\\n\\nChoosing how to unsubscribe\\n\\nTo unwatch (or unsubscribe from) repositories quickly, navigate to github.com/watching to see all the repositories you\\'re following. For more information, see \"Unwatching repositories.\"\\n\\nTo unsubscribe from multiple notifications at the same time, you can unsubscribe using your inbox or on the subscriptions page. Both of these options offer more context about your subscriptions than the \"Watched repositories\" page.\\n\\n\\n\\nBenefits of unsubscribing from your inbox\\n\\nWhen you unsubscribe from notifications in your inbox, you have several other triaging options and can filter your notifications by custom filters and discussion types. For more information, see \"AUTOTITLE.\"\\n\\n\\n\\nBenefits of unsubscribing from the subscriptions page\\n\\nWhen you unsubscribe from notifications on the subscriptions page, you can see more of the notifications you\\'re subscribed to and sort them by \"Most recently subscribed\" or \"Least recently subscribed\".\\n\\nThe subscriptions page shows you all of the notifications that you\\'re currently subscribed to, including notifications that you have marked as **Done** in your inbox.\\n\\nYou can only filter your subscriptions by repository and the reason you\\'re receiving the notification.\\n\\n\\n\\nUnsubscribing from notifications in your inbox\\n\\nWhen you unsubscribe from notifications in your inbox, they will automatically disappear from your inbox.\\n\\n{% data reusables.notifications.access_notifications %}\\n1. From the notifications inbox, select the notifications you want to unsubscribe to.\\n1. Click **Unsubscribe.**\\n\\n   !Screenshot of the \"Notifications\" page. A button, titled \"Unsubscribe\", is highlighted with an orange outline.\\n\\n\\n\\nUnsubscribing from notifications on the subscriptions page\\n\\n{% data reusables.notifications.access_notifications %}\\n1. In the left sidebar, under the list of repositories, select the \"Manage notifications\" dropdown menu and click **Subscriptions**.\\n\\n   !Screenshot of the \"Notifications\" page. A dropdown menu, titled \"Manage notifications\", is highlighted with an or',\n",
       "  'Y2h1bmtfMV9pbmRleF8w': 'ange outline.\\n\\n1. Select the notifications you want to unsubscribe from. In the top right, click **Unsubscribe**.\\n\\n\\n\\nUnwatching repositories\\n\\nWhen you unwatch a repository, you unsubscribe from future updates from that repository unless you participate in a conversation or are @mentioned.\\n\\n{% data reusables.notifications.access_notifications %}\\n1. In the left sidebar, under the list of repositories, select the \"Manage notifications\" dropdown menu and click **Watched repositories**.\\n\\n   !Screenshot of the \"Notifications\" page. A dropdown menu, titled \"Manage notifications\", is highlighted with an orange outline.\\n\\n1. On the watched repositories page, after you\\'ve evaluated the repositories you\\'re watching, choose whether to:\\n\\n   - Unwatch a repository by choosing to only receive notifications when participating or mentioned\\n   - Ignore all notifications for a repository\\n   - If enabled, customize the types of event you receive notifications for ({% data reusables.notifications-v2.custom-notification-types %})\\n\\n1. Optionally, to unsubscribe from all repositories owned by a given user or organization, select the **Unwatch all** dropdown and click the organization whose repositories you\\'d like to unsubscribe from. The button to unwatch all repositories is only available if you are watching all activity or custom notifications on over 10 repositories.\\n\\n   !Screenshot of the \"Watching\" page. A button, titled \"Unwatch all\", is highlighted with an orange outline.\\n\\n   - Click **Unwatch** to confirm that you want to unwatch the repositories owned by the selected user or organization, or click **Cancel** to cancel.\\n\\n',\n",
       "  'Y2h1bmtfMF9pbmRleF8x': '\\n\\nDiagnosing why you receive too many notifications\\n\\nWhen your inbox has too many notifications to manage, consider whether you have oversubscribed or how you can change your notification settings to reduce the subscriptions you have and the types of notifications you\\'re receiving. For example, you may consider disabling the settings to automatically watch all repositories {% ifversion team-discussions %}and all team discussions{% endif %} whenever you\\'ve joined a team or repository. For more information, see \"AUTOTITLE.\"\\n\\nTo see an overview of your repository subscriptions, see \"Reviewing repositories that you\\'re watching.\"\\n{% tip %}\\n\\n**Tip:** You can select the types of event to be notified of by using the **Custom** option of the **Watch/Unwatch** dropdown list in your watching page or on any repository page on {% data variables.product.product_name %}. For more information, see \"AUTOTITLE.\"\\n\\n{% endtip %}\\n\\nMany people forget about repositories that they\\'ve chosen to watch in the past. From the \"Watched repositories\" page you can quickly unwatch repositories. For more information on ways to unsubscribe, see \"Unwatch recommendations\" on {% data variables.product.prodname_blog %} and \"AUTOTITLE.\" You can also create a triage workflow to help with the notifications you receive. For guidance on triage workflows, see \"AUTOTITLE.\"\\n\\n\\n\\nReviewing all of your subscriptions\\n\\n{% data reusables.notifications.access_notifications %}\\n1. In the left sidebar, under the list of repositories that you have notifications from, use the \"Manage notifications\" drop-down to click **Subscriptions**.\\n   !Screenshot of the \"Notifications\" page. A dropdown menu, titled \"Manage notifications\", is highlighted with an orange outline.\\n\\n1. Use the filters and sort to narrow the list of subscriptions and begin unsubscribing to conversations you no longer want to receive notifications for.\\n\\n   !Screenshot of the \"Subscriptions\" tab. Three dropdown menus, titled \"Reason\", \"Repository\", and \"Sort\", are highlighted with an orange outline.\\n\\n{% tip %}',\n",
       "  'Y2h1bmtfMV9pbmRleF8x': '\\n\\n**Tips:**\\n- To review subscriptions you may have forgotten about, sort by \"least recently subscribed.\"\\n\\n- To review a list of repositories that you can still receive notifications for, see the repository list in the \"filter by repository\" drop-down menu.\\n\\n{% endtip %}\\n\\n\\n\\nReviewing repositories that you\\'re watching\\n\\n1. In the left sidebar, under the list of repositories, use the \"Manage notifications\" drop-down menu and click **Watched repositories**.\\n   !Screenshot of the \"Notifications\" page. A dropdown menu, titled \"Manage notifications\", is highlighted with an orange outline.\\n1. Evaluate the repositories that you are watching and decide if their updates are still relevant and helpful. When you watch a repository, you will be notified of all conversations for that repository.\\n\\n   {% tip %}\\n\\n   **Tip:** Instead of watching a repository, consider only receiving notifications when there are updates to {% data reusables.notifications-v2.custom-notification-types %} (if enabled for the repository), or any combination of these options, or completely unwatching a repository.\\n\\n   When you unwatch a repository, you can still be notified when you\\'re @mentioned or participating in a thread. When you configure to receive notifications for certain event types, you\\'re only notified when there are updates to these event types in the repository, you\\'re participating in a thread, or you or a team you\\'re on is @mentioned.\\n\\n   {% endtip %}\\n\\n',\n",
       "  'Y2h1bmtfMF9pbmRleF8y': '\\n\\nNotifications and subscriptions\\n\\nYou can choose to receive ongoing updates about specific activity on {% data variables.location.product_location %} through a subscription. Notifications are updates that you receive for specific activity that you are subscribed to.\\n\\n\\n\\nSubscription options\\n\\nYou can choose to subscribe to notifications for:\\n- A conversation in a specific issue, pull request, or gist.\\n- All activity in a repository{% ifversion team-discussions %} or team discussion{% endif %}.\\n- CI activity, such as the status of workflows in repositories set up with {% data variables.product.prodname_actions %}.\\n- Repository {% data reusables.notifications-v2.custom-notification-types %} (if enabled).\\n\\nYou can also choose to automatically watch all repositories that you have push access to, except forks. You can watch any other repository you have access to manually by clicking **Watch**.\\n\\nIf you\\'re no longer interested in a conversation, you can unsubscribe, unwatch, or customize the types of notifications you\\'ll receive in the future. For example, if you no longer want to receive notifications from a particular repository, you can click **Unsubscribe**. For more information, see \"AUTOTITLE.\"\\n\\n\\n\\nDefault subscriptions\\n\\nIn general, you are automatically subscribed to conversations by default when you have:\\n- Not disabled automatic watching for repositories or teams you\\'ve joined in your notification settings. This setting is enabled by default.\\n- Been assigned to an issue or pull request.\\n- Opened a pull request{% ifversion team-discussions %}, issue, or created a team discussion post{% else %} or issue{% endif %}.\\n- Commented on a thread.\\n- Subscribed to a thread manually by clicking **Watch** or **Subscribe**.\\n- Had your username @mentioned.\\n- Changed the state of a thread, such as by closing an issue or merging a pull request.\\n- Had a team you\\'re a member of @mentioned.\\n\\nBy default, you also automatically watch all repositories that you create and are owned by your personal account.\\n\\nTo unsubscribe from convers',\n",
       "  'Y2h1bmtfMV9pbmRleF8y': 'ations you\\'re automatically subscribed to, you can change your notification settings or directly unsubscribe or unwatch activity on {% data variables.location.product_location %}. For more information, see \"AUTOTITLE.\"\\n\\n\\n\\nCustomizing notifications and subscriptions\\n\\nYou can choose to view your notifications through the notifications inbox at https://github.com/notifications{% ifversion fpt or ghes or ghec %} and in the {% data variables.product.prodname_mobile %} app{% endif %}, through your email, or some combination of these options.\\n\\nTo customize the types of updates you\\'d like to receive and where to send those updates, configure your notification settings. For more information, see \"AUTOTITLE.\"\\n\\nTo keep your subscriptions manageable, review your subscriptions and watched repositories and unsubscribe as needed. For more information, see \"AUTOTITLE.\"\\n\\nTo customize how you\\'d like to receive updates for specific pull requests or issues, you can configure your preferences within the issue or pull request. For more information, see \"AUTOTITLE.\"\\n\\n{% ifversion fpt or ghes or ghec %}\\nYou can customize and schedule push notifications in the {% data variables.product.prodname_mobile %} app. For more information, see \"AUTOTITLE.\"\\n{% endif %}\\n\\n\\n\\nReasons for receiving notifications\\n\\nYour inbox is configured with default filters, which represent the most common reasons that people need to follow-up on their notifications. For more information about inbox filters, see \"AUTOTITLE.\"\\n\\nYour inbox shows the `reason` you\\'re receiving a notification as a label, such as, `mention`, `subscribed`, or `review requested`.\\n\\nYou can filter your inbox by the reason you\\'re subscribed to notifications. For example, to only see pull requests where someone requested your review, you can use the `reason:review-requested` query filter.\\n\\nIf you\\'ve configured notifications to be sent by email and believe you\\'re receiving notifications that don\\'t belong to you, consider troubleshooting with email headers, which show the intended recipient. For mor',\n",
       "  'Y2h1bmtfMl9pbmRleF8y': 'e information, see \"AUTOTITLE.\"\\n\\n\\n\\nTriaging notifications from your inbox\\n\\nTo effectively manage your notifications, you can triage your inbox with options to:\\n- Remove a notification from the inbox with **Done**. You can review **Done** notifications all in one place by clicking **Done** in the sidebar or by using the query `is:done`.\\n- Mark a notification as read or unread.\\n- **Save** a notification for later review. **Saved** notifications are flagged in your inbox. You can review **Saved** notifications all in one place in the sidebar by clicking **Saved** or by using the query `is:saved`.\\n- Automatically unsubscribe from this notification and future updates from this conversation. Unsubscribing also removes the notification from your inbox. If you unsubscribe from a conversation and someone mentions your username or a team you\\'re on that you\\'re receiving updates for, then you will start to receive notifications from this conversation again.\\n\\nFrom your inbox you can also triage multiple notifications at once. For more information, see \"AUTOTITLE.\"\\n\\n\\n\\nCustomizing your notifications inbox\\n\\nTo focus on a group of notifications in your inbox on {% data variables.location.product_location %}{% ifversion fpt or ghes or ghec %} or {% data variables.product.prodname_mobile %}{% endif %}, you can create custom filters. For example, you can create a custom filter for an open source project you contribute to and only see notifications for that repository in which you are mentioned. For more information, see \"AUTOTITLE.\" For more examples of how to customize your triaging workflow, see \"AUTOTITLE.\"\\n\\n\\n\\nNotification retention policy\\n\\nNotifications that are not marked as **Saved** are kept for 5 months. Notifications marked as **Saved** are kept indefinitely. If your saved notification is older than 5 months and you unsave it, the notification will disappear from your inbox within a day.\\n\\n\\n\\nFeedback and support\\n\\nIf you have feedback or feature requests for notifications, use a {% data variables.product.prodname_github_commu',\n",
       "  'Y2h1bmtfM19pbmRleF8y': 'nity %} discussion.\\n\\n',\n",
       "  'Y2h1bmtfMF9pbmRleF8z': '\\n\\nNotification delivery options\\n\\nYou can receive notifications for activity on {% data variables.location.product_location %} in the following locations.\\n\\n- The notifications inbox in the {% data variables.location.product_location %} web interface{% ifversion fpt or ghes or ghec %}\\n- The notifications inbox on {% data variables.product.prodname_mobile %}, which syncs with the inbox on {% data variables.location.product_location %}{% endif %}\\n- An email client that uses a verified email address, which can also sync with the notifications inbox on {% data variables.location.product_location %}{% ifversion fpt or ghes or ghec %} and {% data variables.product.prodname_mobile %}{% endif %}\\n\\n{% ifversion fpt or ghes or ghec %}\\n{% data reusables.notifications-v2.notifications-inbox-required-setting %} For more information, see \"Choosing your notification settings.\"\\n{% endif %}\\n\\n{% data reusables.notifications.shared_state %}\\n\\n\\n\\nBenefits of the notifications inbox\\n\\nThe notifications inbox on {% data variables.location.product_location %}{% ifversion fpt or ghes or ghec %} and {% data variables.product.prodname_mobile %}{% endif %} includes triaging options designed specifically for your {% data variables.product.prodname_dotcom %} notifications flow, including options to:\\n- Triage multiple notifications at once.\\n- Mark completed notifications as **Done** and remove them from your inbox. To view all of your notifications marked as **Done**, use the `is:done` query.\\n- Save a notification to review later. Saved notifications are flagged in your inbox and kept indefinitely. To view all of your saved notifications, use the `is:saved` query.\\n- Unsubscribe and remove a notification from your inbox.\\n- Preview the issue{% ifversion team-discussions %}, pull request, or team discussion{% else %} or pull request{% endif %} where the notification originates on {% data variables.location.product_location %} from within the notifications inbox.\\n- See one of the latest reasons you\\'re receiving a notification from your inbox with a `re',\n",
       "  'Y2h1bmtfMV9pbmRleF8z': 'asons` label.\\n- Create custom filters to focus on different notifications when you want.\\n- Group notifications in your inbox by repository or date to get a quick overview with less context switching\\n\\n{% ifversion fpt or ghes or ghec %}\\nIn addition, you can receive and triage notifications on your mobile device with {% data variables.product.prodname_mobile %}. For more information, see \"Managing your notification settings with GitHub Mobile\" or \"AUTOTITLE.\"\\n{% endif %}\\n\\n\\n\\nBenefits of using an email client for notifications\\n\\nOne benefit of using an email client is that all of your notifications can be kept indefinitely depending on your email client\\'s storage capacity. Your inbox notifications are only kept for 5 months on {% data variables.product.prodname_dotcom %} unless you\\'ve marked them as **Saved**. **Saved** notifications are kept indefinitely. For more information about your inbox\\'s retention policy, see \"AUTOTITLE.\"\\n\\nSending notifications to your email client also allows you to customize your inbox according to your email client\\'s settings, which can include custom or color-coded labels.\\n\\nEmail notifications also allow flexibility with the types of notifications you receive and allow you to choose different email addresses for updates. For example, you can send certain notifications for a repository to a  verified personal email address. For more information, about your email customization options, see \"Customizing your email notifications.\"\\n\\n\\n\\nAbout participating and watching notifications\\n\\nWhen you watch a repository, you\\'re subscribing to updates for activity in that repository. {% ifversion team-discussions %}Similarly, when you watch a specific team\\'s discussions, you\\'re subscribing to all conversation updates on that team\\'s page. For more information, see \"AUTOTITLE.\"{% endif %}\\n\\nTo see repositories that you\\'re watching, go to your watching page. For more information, see \"AUTOTITLE.\"\\n\\n{% ifversion ghae %}\\n\\n\\n\\nConfiguring notifications\\n\\n{% endif %}\\nYou can configure notifications for a repository on',\n",
       "  'Y2h1bmtfMl9pbmRleF8z': ' the repository page, or on your watching page.\\n\\n\\n\\nAbout custom notifications\\n\\nYou can customize notifications for a repository. For example, you can choose to only be notified when updates to one or more types of events ({% data reusables.notifications-v2.custom-notification-types %}) happen within a repository, or ignore all notifications for a repository. For more information, see \"Configuring your watch settings for an individual repository\" below.\\n\\n\\n\\nParticipating in conversations\\n\\nAnytime you comment in a conversation or when someone @mentions your username, you are participating in a conversation. By default, you are automatically subscribed to a conversation when you participate in it. You can unsubscribe from a conversation you\\'ve participated in manually by clicking **Unsubscribe** on the issue or pull request or through the **Unsubscribe** option in the notifications inbox.\\n\\n{% ifversion update-notification-settings-22 %}For conversations you\\'re watching or participating in, you can choose whether you want to receive notifications on {% data variables.product.company_short %} or by email in your notification settings. For more information, see \"Choosing your notification settings.\"\\n\\n{% else %}\\n\\nFor conversations you\\'re watching or participating in, you can choose whether you want to receive notifications by email or through the notifications inbox on {% data variables.location.product_location %}{% ifversion ghes %} and {% data variables.product.prodname_mobile %}{% endif %}. For more information, see \"Choosing your notification settings.\"\\n\\n!Screenshot of the \"Notification settings\" page. The \"Participating\" and \"Watching\" settings are shown, each with two checkbox options, titled \"Email\" and \"Web and Mobile\".{% endif %}\\n\\nFor example, on your \"Notification settings\" page:\\n- If you don\\'t want notifications to be sent to your email, deselect **email** for participating and watching notifications.\\n- If you want to receive notifications by email when you\\'ve participated in a conversation, then select **ema',\n",
       "  'Y2h1bmtfM19pbmRleF8z': 'il** under \"Participating\".\\n\\n{% ifversion update-notification-settings-22 %}If you do not enable \"Notify me: On GitHub\" for watching or participating notifications, then your notifications inbox will not have any updates.\\n\\n{% else %}\\n\\nIf you do not enable watching or participating notifications for web{% ifversion ghes %} and mobile{% endif %}, then your notifications inbox will not have any updates.{% endif %}\\n\\n\\n\\nCustomizing your email notifications\\n\\nAfter enabling email notifications, {% data variables.location.product_location %} will send notifications to you as multipart emails that contain both HTML and plain text copies of the content. Email notification content includes any Markdown, @mentions, emojis, hash-links, and more, that appear in the original content on {% data variables.location.product_location %}. If you only want to see the text in the email, you can configure your email client to display the plain text copy only.\\n\\n{% data reusables.notifications.outbound_email_tip %}\\n\\n{% data reusables.notifications.shared_state %}\\n\\n{% ifversion fpt or ghec %}\\n\\nIf you\\'re using Gmail, you can click a button beside the notification email to visit the original issue or pull request that generated the notification.\\n\\n{% endif %}\\n\\nChoose a default email address where you want to send updates for conversations you\\'re participating in or watching. You can also specify which activity on {% data variables.location.product_location %} you want to receive updates for using your default email address. For example, choose whether you want updates to your default email from:\\n- Comments on issues and pull requests.\\n- Pull request reviews.\\n- Pull request pushes.\\n- Your own updates, such as when you open, comment on, or close an issue or pull request.\\n\\nDepending on the organization that owns the repository, you can also send notifications to different email addresses. Your organization may require the email address to be verified for a specific domain. For more information, see \"AUTOTITLE.\"\\n\\nYou can also send notifications fo',\n",
       "  'Y2h1bmtfNF9pbmRleF8z': 'r a specific repository to an email address. For more information, see \"AUTOTITLE.\"\\n\\n{% data reusables.notifications-v2.email-notification-caveats %}\\n\\n\\n\\nFiltering email notifications\\n\\nEach email notification that {% data variables.location.product_location %} sends contains header information. The header information in every email is consistent, so you can use it in your email client to filter or forward all {% data variables.product.prodname_dotcom %} notifications, or certain types of {% data variables.product.prodname_dotcom %} notifications.\\n\\nIf you believe you\\'re receiving notifications that don\\'t belong to you, examine the `X-GitHub-Recipient` and `X-GitHub-Recipient-Address` headers. These headers show who the intended recipient is. Depending on your email setup, you may receive notifications intended for another user.\\n\\nEmail notifications from {% data variables.location.product_location %} contain header information.\\n\\n| Header | Information |\\n| --- | --- |\\n| `From` address | This address will always be {% ifversion fpt or ghec %}\\'`notifications@github.com`\\'{% else %}\\'the no-reply email address configured by your site administrator\\'{% endif %}. |\\n| `To` field | This field connects directly to the thread.{% ifversion not ghae %} If you reply to the email, you\\'ll add a new comment to the conversation.{% endif %} |\\n| `Cc` address | {% data variables.product.product_name %} will `Cc` you if you\\'re subscribed to a conversation. The second `Cc` email address matches the notification reason. The suffix for these notification reasons is {% data variables.notifications.cc_address %}. The possible notification reasons are: `assign`: You were assigned to an issue or pull request.`author`: You created an issue or pull request.`ci_activity`: A {% data variables.product.prodname_actions %} workflow run that you triggered was completed.`comment`: You commented on an issue or pull request.`manual`: There was an update to an issue or pull request you manually subscribed to.`mention`: You were mentioned on an issue or pull ',\n",
       "  'Y2h1bmtfNV9pbmRleF8z': 'request.`push`: Someone committed to a pull request you\\'re subscribed to.`review_requested`: You or a team you\\'re a member of was requested to review a pull request.`security_alert`: {% data variables.product.prodname_dotcom %} detected a vulnerability in a repository you receive alerts for.`state_change`: An issue or pull request you\\'re subscribed to was either closed or opened.`subscribed`: There was an update in a repository you\\'re watching.`team_mention`: A team you belong to was mentioned on an issue or pull request.`your_activity`: You opened, commented on, or closed an issue or pull request. |\\n| `mailing list` field | This field identifies the name of the repository and its owner. The format of this address is always `..{% data variables.command_line.backticks %}`. |\\n| `X-GitHub-Severity` field | {% data reusables.repositories.security-alerts-x-github-severity %} The possible severity levels are:`low``moderate``high``critical`For more information, see \"AUTOTITLE.\" |\\n\\n\\n\\nChoosing your notification settings\\n\\n{% data reusables.notifications.access_notifications %}\\n{% data reusables.notifications-v2.manage-notifications %}\\n1. On the notifications settings page, choose how you receive notifications when:\\n    - There are updates in repositories {% ifversion team-discussions %}or team discussions{% endif %} you\\'re watching or in a conversation you\\'re participating in. For more information, see \"About participating and watching notifications.\"\\n    - You gain access to a new repository or you\\'ve joined a new team. For more information, see \"Automatic watching.\"\\n    - There are new {% data variables.product.prodname_dependabot_alerts %} in your repository. For more information, see \"{% data variables.product.prodname_dependabot_alerts %} notification options.\"  {% ifversion fpt or ghec %}\\n    - There are workflow runs updates on repositories set up with {% data variables.product.prodname_actions %}. For more information, see \"{% data variables.product.prodname_actions %} notification options.\"{% endif %}\\n    - There ',\n",
       "  'Y2h1bmtfNl9pbmRleF8z': 'are new deploy keys added to repositories that belong to organizations that you\\'re an owner of. For more information, see \"Organization alerts notification options.\"\\n\\n\\n\\nAutomatic watching\\n\\nBy default, anytime you gain access to a new repository, you will automatically begin watching that repository. Anytime you join a new team, you will automatically be subscribed to updates and receive notifications when that team is @mentioned. If you don\\'t want to automatically be subscribed, you can unselect the automatic watching options in your notification settings.\\n\\n{% ifversion update-notification-settings-22 %}\\n!Screenshot of the toggles for \"Automatically watch repositories\" and \"Automatically watch teams\".\\n{% else %}\\n!Screenshot of \"Automatic watching\" options for teams and repositories.{% endif %}\\n\\nIf \"Automatically watch repositories\" is disabled, then you will not automatically watch your own repositories. You must navigate to your repository page and choose the watch option.\\n\\nFor more information, see \"AUTOTITLE.\"\\n\\n\\n\\nConfiguring your watch settings for an individual repository\\n\\nYou can choose whether to watch or unwatch an individual repository. You can also choose to only be notified of certain event types such as {% data reusables.notifications-v2.custom-notification-types %} (if enabled for the repository) , or completely ignore an individual repository.\\n\\n{% data reusables.repositories.navigate-to-repo %}\\n1. In the upper-right corner, select the \"Watch\" drop-down menu, then click a watch option.\\n\\n   If you want to further customize notifications, click **Custom**, then select specific events that you want to be notified of, such as Issues or Pull Requests, in addition to participating and @mentions.\\n\\n   For example, if you select \"Issues\", you will be notified about, and subscribed to, updates on every issue (including those that existed prior to you selecting this option) in the repository. If you\\'re @mentioned in a pull request in this repository, you\\'ll receive notifications for that too, and you\\'ll be subsc',\n",
       "  'Y2h1bmtfN19pbmRleF8z': 'ribed to updates on that specific pull request, in addition to being notified about issues.\\n\\n\\n\\nChoosing where your organization’s email notifications are sent\\n\\nIf you belong to an organization, you can choose the email account you want notifications for organization activity sent to. For example, if you belong to an organization for work, you may want your notifications sent to your work email address, rather than your personal address.\\n\\n{% data reusables.notifications-v2.email-notification-caveats %}\\n\\n{% data reusables.notifications.access_notifications %}\\n{% data reusables.notifications-v2.manage-notifications %}\\n1. Under \"Default notifications email\", select the email address you\\'d like notifications sent to.\\n{% ifversion ghes or ghae %}\\n1. Click **Save**.{% endif %}\\n\\n\\n\\nCustomizing email routes per organization\\n\\nIf you are a member of more than one organization, you can configure each one to send notifications to any of{% ifversion fpt or ghec %} your verified email addresses{% else %} the email addresses for your account{% endif %}. {% ifversion fpt or ghec %} For more information, see \"AUTOTITLE.\"{% endif %}\\n\\n{% data reusables.notifications.access_notifications %}\\n{% data reusables.notifications-v2.manage-notifications %}\\n{% ifversion update-notification-settings-22 %}\\n1. Under \"Default notifications email\", click **Custom routing**.\\n\\n   !Screenshot of the \"Default notifications email\" section. A button, titled \"Custom routing\", is highlighted with an orange outline.\\n\\n1. Click **Add new route**.\\n\\n1. Select the **Pick organization** dropdown, then click the organization you want to customize.\\n1. Select one of your verified email addresses, then click **Save**.\\n\\n   !Screenshot of the \"Custom Routing\" page. A dropdown menu, showing a user\\'s available email addresses, is highlighted with an orange outline.\\n{% else %}\\n1. Under \"Custom routing,\" find your organization\\'s name in the list.\\n\\n1. Click **Edit** next to the email address you want to change.\\n\\n1. Select one of your verified email addresses, then click **S',\n",
       "  'Y2h1bmtfOF9pbmRleF8z': 'ave**.\\n\\n{% endif %}\\n\\n\\n\\n{% data variables.product.prodname_dependabot_alerts %} notification options\\n\\nThe notification options for your user account are available at https://github.com/settings/notifications. You can configure notification settings for each repository, in the repository watch settings.\\n\\n{% data reusables.notifications.vulnerable-dependency-notification-enable %}\\n{% data reusables.notifications.vulnerable-dependency-notification-delivery-method-customization2 %}\\n{% data reusables.notifications.vulnerable-dependency-notification-options %}\\n\\nFor more information about the notification delivery methods available to you, and advice on optimizing your notifications for {% data variables.product.prodname_dependabot_alerts %}, see \"AUTOTITLE.\"\\n\\n\\n\\n{% data variables.product.prodname_secret_scanning_caps %} notification options\\n\\n{% data reusables.secret-scanning.secret-scanning-configure-notifications %}\\n\\nFor more information on how to configure notifications for {% data variables.secret-scanning.alerts %}, see \"Configuring notifications for secret scanning alerts.\"\\n\\n{% ifversion update-notification-settings-22 or ghes %}\\n\\n\\n\\n{% data variables.product.prodname_actions %} notification options\\n\\nFor repositories that are set up with {% data variables.product.prodname_actions %} and that you are watching, you can choose how you want to receive workflow run updates.\\n\\n{% ifversion update-notification-settings-22 %}\\n1. On the \"Notification settings\" page, under \"System\", then under \"Actions\", select the **Don\\'t notify** dropdown menu.\\n\\n   !Screenshot of the \"System\" section of the notification settings. Under \"Actions,\" a dropdown menu, titled \"Don\\'t notify\", is highlighted with an orange outline.\\n1. To opt into web notifications, from the dropdown menu, select \"On {% data variables.product.prodname_dotcom %}\".\\n\\n   To opt into email notifications, from the dropdown menu, select \"Email\".\\n1. Optionally, to only receive notifications for failed workflow runs, from the dropdown menu, select \"Only notify for failed workf',\n",
       "  'Y2h1bmtfOV9pbmRleF8z': 'lows\", then click **Save**.{% endif %}\\n\\n{% ifversion ghes %}\\nOn the \"Notification settings\" page, select \"Email\" or \"Web\" notifications. Optionally, to only receive notifications for failed workflow runs, select \"Send notifications for failed workflows only\".\\n\\n!Screenshot of the \"Actions\" section on the \"Notification settings\" page. Three checkboxes, titled \"Email\", \"Web\", and \"Send notifications for failed workflows only\", are shown.{% endif %}\\n\\n{% endif %}\\n\\n\\n\\nOrganization alerts notification options\\n\\nIf you\\'re an organization owner, you\\'ll receive email notifications by default when organization members add new deploy keys to repositories within the organization. You can unsubscribe from these notifications. On the notification settings page, under \"Organization alerts\", unselect **Email**.\\n\\n{% ifversion fpt or ghes or ghec %}\\n\\n\\n\\nManaging your notification settings with {% data variables.product.prodname_mobile %}\\n\\nWhen you install {% data variables.product.prodname_mobile %}, you will automatically be opted into web notifications. Within the app, you can enable push notifications for the following events.\\n- Direct mentions\\n- Assignments to issues or pull requests\\n- Requests to review a pull request\\n- Requests to approve a deployment\\n\\nYou can also schedule when {% data variables.product.prodname_mobile %} will send push notifications to your mobile device.\\n\\n{% data reusables.mobile.push-notifications-on-ghes %}\\n\\n\\n\\nManaging your notification settings with {% data variables.product.prodname_ios %}\\n\\n1. In the bottom menu, tap **Profile**.\\n1. To view your settings, tap {% octicon \"gear\" aria-label=\"The Gear icon\" %}.\\n1. To update your notification settings, tap **Notifications** and then use the toggles to enable or disable your preferred types of push notifications.\\n1. Optionally, to schedule when {% data variables.product.prodname_mobile %} will send push notifications to your mobile device, tap **Working Hours**, use the **Custom working hours** toggle, and then choose when you would like to receive push notific',\n",
       "  'Y2h1bmtfMTBfaW5kZXhfMw==': 'ations.\\n\\n\\n\\nManaging your notification settings with {% data variables.product.prodname_android %}\\n\\n1. In the bottom menu, tap **Profile**.\\n1. To view your settings, tap {% octicon \"gear\" aria-label=\"The Gear icon\" %}.\\n1. To update your notification settings, tap **Configure Notifications** and then use the toggles to enable or disable your preferred types of push notifications.\\n1. Optionally, to schedule when {% data variables.product.prodname_mobile %} will send push notifications to your mobile device, tap **Working Hours**, use the **Custom working hours** toggle, and then choose when you would like to receive push notifications.\\n\\n\\n\\nConfiguring your watch settings for an individual repository with {% data variables.product.prodname_mobile %}\\n\\nYou can choose whether to watch or unwatch an individual repository. You can also choose to only be notified of {% ifversion fpt or ghec %}certain event types such as issues, pull requests, discussions (if enabled for the repository) and {% endif %}new releases, or completely ignore an individual repository.\\n\\n1. On {% data variables.product.prodname_mobile %}, navigate to the main page of the repository.\\n1. Tap **Watch**.\\n1. To choose what activities you receive notifications for, tap your preferred watch settings. For example, choose to only be notified when you are participating or @mentioned, or use the \"Custom\" option to select specific events that you want to be notified of.\\n\\n{% endif %}\\n\\n',\n",
       "  'Y2h1bmtfMF9pbmRleF80': '\\n\\nStarting your inbox triage\\n\\nBefore you start triaging your inbox, consider whether you prefer to first find and respond to the most important updates or to clear your inbox of distracting updates that are easy to remove or triage.\\n\\nYou may decide to use a combination of both approaches at various times depending on the volume of notifications you have.\\n\\nFor an example workflow of finding and responding to the most important notifications, see \"Checking your highest notification priorities.\"\\n\\nFor an example workflow of removing notifications that are easy to remove or triage, see \"Clearing your least important notifications.\"\\n\\n\\n\\nChecking your highest notification priorities\\n\\nChoose which type of notifications are most urgent to review and pick a time to review them that\\'s best for you. You might consider the question \"Who am I blocking?\"\\n\\nFor example, you may decide to check your notifications in this order in the morning during your daily planning time:\\n- Pull requests where your review is requested. (filter by `reason:review-requested`)\\n- Events where your username is @mentioned, also called direct mentions. (filter by `reason:mention`)\\n- Events where a team you\\'re a member of is @mentioned, also called team mentions. (filter by `reason:team-mention`)\\n- CI workflow failures for a specific repository. (filter by `reason:ci-activity` and `repo:owner/repo-name` and ensure you\\'ve enabled CI activity notifications for workflow failures in your notification settings)\\n\\n  {% tip %}\\n\\n  **Tip:** To quickly review your highest priorities, set up custom filters in order of their reviewing priority. For more information, see \"AUTOTITLE.\"\\n\\n  {% endtip %}\\n\\n\\n\\nFollowing up on ongoing notification updates\\n\\nTo follow-up on notifications, you might consider the question \"What was I blocked on that I\\'m no longer blocked on?\" Choose your follow-up notification priorities.\\n\\nFor example, you may decide to follow up in this order:\\n- Issues and pull requests you\\'re assigned to. Immediately close any issues or pull requests you can and ',\n",
       "  'Y2h1bmtfMV9pbmRleF80': 'add updates. As needed, save notifications to review later.\\n- Review notifications in the saved inbox, especially unread updates. If the thread is no longer relevant, click {% octicon \"bookmark-slash\" aria-label=\"Unsave\" %} to remove the notification from the saved inbox and unsave it.\\n\\n\\n\\nManaging lower-priority notifications\\n\\nAfter triaging the higher priority notifications, review the remaining notifications, such as participating notifications. Consider these questions:\\n- Can you unsubscribe to this notification? Is this notification completed and ready to be marked as **Done**?\\n  {% tip %}\\n\\n  **Tip:** When you unsubscribe from a notification you won\\'t receive new updates unless you start participating in the thread or you\\'re @mentioned or a team you\\'re on is @mentioned. When you mark a notification as **Done**, the notification is removed from your main inbox view and can be viewed with the query `is:read`. For more information, see \"AUTOTITLE.\"\\n\\n  {% endtip %}\\n- Would you like to receive future updates when this issue or pull request is closed or reopened, or when a pull request is merged? For more information on these options, see \"AUTOTITLE.\"\\n- Would you like to avoid receiving notifications like this in the future? If so, consider unsubscribing. For more information, see \"AUTOTITLE.\"\\n\\n\\n\\nClearing your least important notifications\\n\\nChoose which type of notifications are quickest and easiest for you to triage and remove from your inbox, ideally triaging multiple notifications at once.\\n\\nFor example, you may decide to clear notifications in this order:\\n- Participating notifications that you can unsubscribe to.\\n- Repository updates that are not relevant to keep or follow-up on.\\n\\nFor more information on managing multiple notifications in your inbox at the same time, see \"AUTOTITLE.\"\\n\\nYou may also consider changing your notification settings or unsubscribing from these updates if possible. For more information, see \"AUTOTITLE\" or \"AUTOTITLE.\"\\n\\n',\n",
       "  'Y2h1bmtfMF9pbmRleF81': '\\n\\nAbout your inbox\\n\\n{% ifversion fpt or ghes or ghec %}\\n{% data reusables.notifications-v2.notifications-inbox-required-setting %} For more information, see \"AUTOTITLE.\"\\n{% endif %}\\n\\nTo access your notifications inbox, in the upper-right corner of any page, click {% octicon \"bell\" aria-label=\"The notifications bell\" %}.\\n\\nYour inbox shows all of the notifications that you haven\\'t unsubscribed to or marked as **Done.** You can customize your inbox to best suit your workflow using filters, viewing all or just unread notifications, and grouping your notifications to get a quick overview.\\n\\nBy default, your inbox will show read and unread notifications. To only see unread notifications, click **Unread** or use the `is:unread` query.\\n\\n\\n\\nTriaging options\\n\\nYou have several options for triaging notifications from your inbox.\\n\\n| Triaging option | Description |\\n|-----------------|-------------|\\n| Save            | Saves your notification for later review. To save a notification, to the right of the notification, click {% octicon \"bookmark\" aria-label=\"Save\" %}.   Saved notifications are kept indefinitely and can be viewed by clicking **Saved** in the sidebar or with the `is:saved` query. If your saved notification is older than 5 months and becomes unsaved, the notification will disappear from your inbox within a day. |\\n| Done            | Marks a notification as completed and removes the notification from your inbox. You can see all completed notifications by clicking **Done** in the sidebar or with the `is:done` query. Notifications marked as **Done** are saved for 5 months.\\n| Unsubscribe     | Automatically removes the notification from your inbox and unsubscribes you from the conversation until you are @mentioned, a team you\\'re on is @mentioned, or you\\'re requested for review.\\n| Read            | Marks a notification as read. To only view read notifications in your inbox, use the `is:read` query. This query doesn\\'t include notifications marked as **Done**.\\n| Unread          | Marks notification as unread. To only view un',\n",
       "  'Y2h1bmtfMV9pbmRleF81': 'read notifications in your inbox, use the `is:unread` query. |\\n\\nTo see the available keyboard shortcuts, see \"AUTOTITLE.\"\\n\\nBefore choosing a triage option, you can preview your notification\\'s details first and investigate. For more information, see \"AUTOTITLE.\"\\n\\n\\n\\nTriaging multiple notifications at the same time\\n\\nTo triage multiple notifications at once, select the relevant notifications and use the {% octicon \"kebab-horizontal\" aria-label=\"More options\" %} drop-down to choose a triage option.\\n\\n!Screenshot of the \"Notifications\" page. A drop-down menu is highlighted with an orange outline.\\n\\n\\n\\nDefault notification filters\\n\\nBy default, your inbox has filters for when you are assigned, participating in a thread, requested to review a pull request, or when your username is @mentioned directly or a team you\\'re a member of is @mentioned.\\n\\n\\n\\nCustomizing your inbox with custom filters\\n\\nYou can add up to 15 of your own custom filters.\\n\\n{% data reusables.notifications.access_notifications %}\\n1. To open the filter settings, in the left sidebar, next to \"Filters\", click {% octicon \"gear\" aria-label=\"Customize filters\" %}.\\n\\n   {% tip %}\\n\\n   **Tip:** You can quickly preview a filter\\'s inbox results by creating a query in your inbox view and clicking **Save**, which opens the custom filter settings.\\n\\n   {% endtip %}\\n\\n1. Add a name for your filter and a filter query. For example, to only see notifications for a specific repository, you can create a filter using the query `repo:octocat/open-source-project-name reason:participating`. You can also add emojis with a native emoji keyboard. For a list of supported search queries, see \"Supported queries for custom filters.\"\\n\\n   !Screenshot showing notification filters. Two input fields, with an example name and filter query filled in, are highlighted with an orange outline.\\n\\n1. Click **Create**.\\n\\n\\n\\nCustom filter limitations\\n\\nCustom filters do not currently support:\\n- Full text search in your inbox, including searching for pull request or issue titles.\\n- Distinguishing between the `is:i',\n",
       "  'Y2h1bmtfMl9pbmRleF81': 'ssue`, `is:pr`, and `is:pull-request` query filters. These queries will return both issues and pull requests.\\n- Creating more than 15 custom filters.\\n- Changing the default filters or their order.\\n- Search exclusion using `NOT` or `-QUALIFIER`.\\n\\n\\n\\nSupported queries for custom filters\\n\\nThese are the types of filters that you can use:\\n- Filter by repository with `repo:`\\n- Filter by discussion type with `is:`\\n- Filter by notification reason with `reason:`{% ifversion fpt or ghec %}\\n- Filter by notification author with `author:`\\n- Filter by organization with `org:`{% endif %}\\n\\n\\n\\nSupported `repo:` queries\\n\\nTo add a `repo:` filter, you must include the owner of the repository in the query: `repo:owner/repository`. An owner is the organization or the user who owns the {% data variables.product.prodname_dotcom %} asset that triggers the notification. For example, `repo:octo-org/octo-repo` will show notifications triggered in the octo-repo repository within the octo-org organization.\\n\\n\\n\\nSupported `is:` queries\\n\\nTo filter notifications for specific activity on {% data variables.location.product_location %}, you can use the  `is` query. For example, to only see repository invitation updates, use `is:repository-invitation`{% ifversion not ghae %}, and to only see {% data variables.product.prodname_dependabot_alerts %}, use `is:repository-vulnerability-alert`{% endif %}.\\n\\n- `is:check-suite`\\n- `is:commit`\\n- `is:gist`\\n- `is:issue-or-pull-request`\\n- `is:release`\\n- `is:repository-invitation`\\n- `is:repository-vulnerability-alert`{% ifversion fpt or ghec %}\\n- `is:repository-advisory`{% endif %}{% ifversion team-discussions %}\\n- `is:team-discussion`{% endif %}{% ifversion fpt or ghec %}\\n- `is:discussion`{% endif %}\\n\\nFor information about reducing noise from notifications for {% data variables.product.prodname_dependabot_alerts %}, see \"AUTOTITLE.\"\\n\\nYou can also use the `is:` query to describe how the notification was triaged.\\n\\n- `is:saved`\\n- `is:done`\\n- `is:unread`\\n- `is:read`\\n\\n\\n\\nSupported `reason:` queries\\n\\nTo filter notifications ',\n",
       "  'Y2h1bmtfM19pbmRleF81': 'by why you\\'ve received an update, you can use the `reason:` query. For example, to see notifications when you (or a team you\\'re on) is requested to review a pull request, use `reason:review-requested`. For more information, see \"AUTOTITLE.\"\\n\\n| Query | Description |\\n|-----------------|-------------|\\n| `reason:assign` | When there\\'s an update on an issue or pull request you\\'ve been assigned to.\\n| `reason:author` | When you opened a pull request or issue and there has been an update or new comment.\\n| `reason:comment`| When you commented on an issue{% ifversion team-discussions %}, pull request, or team discussion{% else %} or pull request{% endif %}.\\n| `reason:participating` | When you have commented on an issue{% ifversion team-discussions %}, pull request, or team discussion{% else %} or pull request{% endif %} or you have been @mentioned.\\n| `reason:invitation` | When you\\'re invited to a team, organization, or repository.\\n| `reason:manual` | When you click **Subscribe** on an issue or pull request you weren\\'t already subscribed to.\\n| `reason:mention` | You were directly @mentioned.\\n| `reason:review-requested` | You or a team you\\'re on have been requested to review a pull request.\\n| `reason:security-alert` | When a security alert is issued for a repository.\\n| `reason:state-change`  | When the state of a pull request or issue is changed. For example, an issue is closed or a pull request is merged.\\n| `reason:team-mention` | When a team you\\'re a member of is @mentioned.\\n| `reason:ci-activity` | When a repository has a CI update, such as a new workflow run status.\\n\\n{% ifversion fpt or ghec %}\\n\\n\\n\\nSupported `author:` queries\\n\\nTo filter notifications by user, you can use the `author:` query. An author is the original author of the thread (issue, pull request, gist, discussions, and so on) for which you are being notified. For example, to see notifications for threads created by the Octocat user, use `author:octocat`.\\n\\n\\n\\nSupported `org:` queries\\n\\nTo filter notifications by organization, you can use the  `org` query. The or',\n",
       "  'Y2h1bmtfNF9pbmRleF81': 'ganization you need to specify in the query is the organization of the repository for which you are being notified on {% data variables.product.prodname_dotcom %}. This query is useful if you belong to several organizations, and want to see notifications for a specific organization.\\n\\nFor example, to see notifications from the octo-org organization, use `org:octo-org`.\\n\\n{% endif %}\\n\\n\\n\\n{% data variables.product.prodname_dependabot %} custom filters\\n\\n{% ifversion fpt or ghec or ghes %}\\nIf you use {% data variables.product.prodname_dependabot %} to keep your dependencies up-to-date, you can use and save these custom filters:\\n- `is:repository_vulnerability_alert` to show notifications for {% data variables.product.prodname_dependabot_alerts %}.\\n- `reason:security_alert` to show notifications for {% data variables.product.prodname_dependabot_alerts %} and security update pull requests.\\n- `author:app/dependabot` to show notifications generated by {% data variables.product.prodname_dependabot %}. This includes {% data variables.product.prodname_dependabot_alerts %}, security update pull requests, and version update pull requests.\\n\\nFor more information about {% data variables.product.prodname_dependabot %}, see \"AUTOTITLE.\"\\n{% endif %}\\n\\n{% ifversion ghae %}\\n\\nIf you use {% data variables.product.prodname_dependabot %} to tell you about insecure dependencies, you can use and save these custom filters to show notifications for {% data variables.product.prodname_dependabot_alerts %}:\\n- `is:repository_vulnerability_alert`\\n- `reason:security_alert`\\n\\nFor more information about {% data variables.product.prodname_dependabot %}, see \"AUTOTITLE.\"\\n{% endif %}\\n\\n',\n",
       "  'Y2h1bmtfMF9pbmRleF82': '\\n\\nSaving a single notification\\n\\nTo save a single notification to review later, to the right of the notification, click {% octicon \"bookmark\" aria-label=\"Save\" %}. You can only save one notification at a time.\\n\\nSaved notifications are kept indefinitely and can be viewed by clicking **Saved** in the sidebar or with the `is:saved` query. If your saved notification is older than 5 months and becomes unsaved, the notification will disappear from your inbox within a day.\\n\\n!Screenshot of a single notification from the \"Notifications\" page. The bookmark icon is highlighted with an orange outline.\\n\\n\\n\\nInvestigating a notification\\n\\nWhen you click an individual notification from your inbox, you\\'re directed to the conversation that prompted the notification. From the top of the page, you can:\\n- Mark the individual notification as done\\n- Unsubscribe from future notifications\\n- Mark the notification as read\\n- Save the notification for later\\n- Return to your notifications inbox\\n\\nFor more information about your triage options, see \"AUTOTITLE.\"\\n\\n\\n\\nCustomizing when to receive future updates for an issue or pull request\\n\\nYou can choose how you want to receive future notifications for a specific issue or pull request.\\n\\n1. In the right column of the issue or pull request, next to \"Notifications\", click **Customize**.\\n\\n   !Screenshot of the \"Notifications\" element on an issue or pull request. A link, titled \"Customize\", is highlighted with an orange outline.\\n\\n1. In the dialog box, select **Custom**, then choose when you\\'d like to receive a notification update for this thread. For example, you can choose to receive an update when the pull request has been merged, closed, or reopened. You will be subscribed again if you participate in the thread, your username is @mentioned, or a team you\\'re a member of is @mentioned.\\n\\n1. Click **Save**.\\n\\n',\n",
       "  'Y2h1bmtfMF9pbmRleF83': '\\n\\nFurther reading\\n\\n- \"AUTOTITLE\"\\n\\n',\n",
       "  'Y2h1bmtfMF9pbmRleF84': '\\n\\nFurther reading\\n\\n- \"AUTOTITLE\"\\n- \"AUTOTITLE\"\\n- \"AUTOTITLE\"\\n\\n',\n",
       "  'Y2h1bmtfMF9pbmRleF85': '\\n\\nAbout your profile README\\n\\nYou can share information about yourself with the community on {% data variables.location.product_location %} by creating a profile README. {% data variables.product.prodname_dotcom %} shows your profile README at the top of your profile page.\\n\\nYou decide what information to include in your profile README, so you have full control over how you present yourself on {% data variables.product.prodname_dotcom %}. Here are some examples of information that visitors may find interesting, fun, or useful in your profile README.\\n\\n- An \"About me\" section that describes your work and interests\\n- Contributions you\\'re proud of, and context about those contributions\\n- Guidance for getting help in communities where you\\'re involved\\n\\n!Screenshot of the profile page for @octocato. In the top-right corner, a profile README greets the viewer and lists information about the user\\'s work.\\n\\nYou can format text and include emoji, images, and GIFs in your profile README by using {% data variables.product.company_short %} Flavored Markdown. For more information, see \"AUTOTITLE.\" For a hands-on guide to customizing your profile README, see \"AUTOTITLE.\"\\n\\n\\n\\nPrerequisites\\n\\n{% data variables.product.prodname_dotcom %} will display your profile README on your profile page if all of the following are true.\\n\\n- You\\'ve created a repository with a name that matches your {% data variables.product.prodname_dotcom %} username.\\n- The repository is public.\\n- The repository contains a file named README.md in its root.\\n- The README.md file contains any content.\\n\\n{% note %}\\n\\n**Note**: If you created a public repository with the same name as your username before July 2020, {% data variables.product.prodname_dotcom %} won\\'t automatically show the repository\\'s README on your profile. You can manually share the repository\\'s README to your profile by going to the repository on {% data variables.product.prodname_dotcom_the_website %} and clicking **Share to profile**.\\n\\n{% endnote %}\\n\\n\\n\\nAdding a profile README\\n\\n{% data reusables.reposito',\n",
       "  'Y2h1bmtfMV9pbmRleF85': 'ries.create_new %}\\n1. Under \"Repository name\", type a repository name that matches your {% data variables.product.prodname_dotcom %} username. For example, if your username is \"octocat\", the repository name must be \"octocat\".\\n1. Optionally, in the \"Description\" field, type a description of your repository. For example, \"My personal repository.\"\\n1. Select **Public**.\\n{% data reusables.repositories.initialize-with-readme %}\\n{% data reusables.repositories.create-repo %}\\n1. Above the right sidebar, click **Edit README**.\\n\\n  The generated README file is pre-populated with a template to give you some inspiration for your profile README.\\n\\nFor a summary of all the available emojis and their codes, see \"Emoji cheat sheet.\"\\n\\n\\n\\nRemoving a profile README\\n\\nThe profile README is removed from your {% data variables.product.prodname_dotcom %} profile if any of the following apply:\\n\\n- The README file is empty or doesn\\'t exist.\\n- The repository is private.\\n- The repository name no longer matches your username.\\n\\nThe method you choose depends upon your needs, but if you\\'re unsure, we recommend making your repository private. For steps on how to make your repository private, see \"AUTOTITLE.\"\\n\\n\\n\\nFurther reading\\n\\n- About READMEs\\n\\n',\n",
       "  'Y2h1bmtfMF9pbmRleF8xMA==': '\\n\\nChanging your profile picture\\n\\nYour profile picture helps identify you across {% data variables.product.product_name %} in pull requests, comments, contributions pages, and graphs.\\n\\nWhen you sign up for an account, {% data variables.product.product_name %} provides you with a randomly generated \"identicon\". Your identicon generates from a hash of your user ID, so there\\'s no way to control its color or pattern. You can replace your identicon with an image that represents you.\\n\\n{% note %}\\n\\n**Note{% ifversion ghec %}s{% endif %}**: {% ifversion ghec %}\\n\\n- {% endif %}Your profile picture should be a PNG, JPG, or GIF file, and it must be less than 1 MB in size and smaller than 3000 by 3000 pixels. For the best quality rendering, we recommend keeping the image at about 500 by 500 pixels.\\n{% ifversion ghec %}* Gravatar profile pictures are not supported with {% data variables.product.prodname_emus %}.{% endif %}\\n\\n{% endnote %}\\n\\nIf you use Gravatar, and your Gravatar image is associated with the email you use for {% data variables.product.product_name %}, the image will be shown as your {% data variables.product.product_name %} profile picture by default (rather than an identicon). To change your {% data variables.product.product_name %} profile picture, you can either upload a new image to Gravatar, or upload a new image to {% data variables.product.product_name %} and override the Gravatar image.\\n\\n\\n\\nSetting a profile picture\\n\\n{% data reusables.user-settings.access_settings %}\\n1. Under \"Profile Picture\", select {% octicon \"pencil\" aria-hidden=\"true\" %} **Edit**, then click **Upload a photo...**.\\n\\n   !Screenshot of the \"Public profile\" section of a user account\\'s settings. A button, labeled with a pencil icon and \"Edit\", is outlined in dark orange.\\n1. Select an image, then click **Upload**.\\n1. Crop your picture.\\n1. Click **Set new profile picture**.\\n\\n\\n\\nResetting your profile picture to the identicon\\n\\n{% data reusables.user-settings.access_settings %}\\n1. Under \"Profile Picture\", select {% octicon \"pencil\" aria-hidden=\"t',\n",
       "  'Y2h1bmtfMV9pbmRleF8xMA==': 'rue\" %} **Edit**, then click **Remove photo** to revert to your identicon.\\n\\n   {% ifversion not ghae %}If your email address is associated with a Gravatar, you cannot revert to your identicon. Click **Revert to Gravatar** instead.{% endif %}\\n\\n   !Screenshot of the \"Public profile\" section of a user account\\'s settings. A button, labeled with a pencil icon and \"Edit\", is outlined in dark orange.\\n\\n\\n\\nChanging your profile name\\n\\nYou can change the name that is displayed on your profile. This name may also be displayed next to comments you make on private repositories owned by an organization. For more information, see \"AUTOTITLE.\"\\n\\n{% ifversion fpt or ghec %}\\n{% note %}\\n\\n**Note:** If you\\'re a member of an {% data variables.enterprise.prodname_emu_enterprise %}, any changes to your profile name must be made through your identity provider instead of {% data variables.product.prodname_dotcom_the_website %}. {% data reusables.enterprise-accounts.emu-more-info-account %}\\n\\n{% endnote %}\\n{% endif %}\\n\\n{% data reusables.user-settings.access_settings %}\\n1. Under \"Public profile\", in the \"Name\" field, type the name you want to be displayed on your profile.\\n\\n\\n\\nAdding a bio to your profile\\n\\nAdd a bio to your profile to share information about yourself with other {% data variables.product.product_name %} users. With the help of @mentions and emoji, you can include information about where you currently or have previously worked, what type of work you do, or even what kind of coffee you drink.\\n\\n{% ifversion fpt or ghes or ghec %}\\n\\nFor a longer-form and more prominent way of displaying customized information about yourself, you can also use a profile README. For more information, see \"AUTOTITLE.\"\\n\\n{% endif %}\\n\\n{% note %}\\n\\n**Note:**\\n  If you have the activity overview section enabled for your profile and you @mention an organization you\\'re a member of in your profile bio, then that organization will be featured first in your activity overview. For more information, see \"AUTOTITLE.\"\\n\\n{% endnote %}\\n\\n{% data reusables.user-settings.access',\n",
       "  'Y2h1bmtfMl9pbmRleF8xMA==': '_settings %}\\n1. Under \"Public profile\", in the \"Bio\" field, type the content that you want displayed on your profile. The bio field is limited to 160 characters.\\n\\n   {% tip %}\\n\\n   **Tip:** When you @mention an organization, only those that you\\'re a member of will autocomplete. You can still @mention organizations that you\\'re not a member of, like a previous employer, but the organization name won\\'t autocomplete for you.\\n\\n   {% endtip %}\\n\\n{% data reusables.profile.update-profile %}\\n\\n{% ifversion profile-pronouns %}\\n\\n\\n\\nAdding pronouns to your profile\\n\\nAdd pronouns to your public user profile to share information about yourself with other {% data variables.product.product_name %} users. Your pronouns will only be visible to users that are signed in to {% data variables.product.product_name %}.\\n\\n{% data reusables.user-settings.access_settings %}\\n1. Under **Pronouns**, add the pronouns that you want displayed on your profile. You may add custom pronouns.\\n\\n{% data reusables.profile.update-profile %}\\n\\n{% endif %}\\n\\n{% ifversion profile-time-zone %}\\n\\n\\n\\nSetting your location and time zone\\n\\nYou can set a location and time zone on your profile to show other people your local time. Your location and time zone will be visible:\\n- On your {% data variables.product.product_name %} profile page.\\n- When people hover over your username or avatar on {% data variables.product.product_name %}.\\n\\n!Screenshot of the Octocat profile page emphasizing the location, local time, and relative time fields.\\n\\nWhen you view your profile, you will see your location, local time, and your time zone in relation to Universal Time Coordinated. When others view your profile, they will see your location, local time, and the time difference in hours from their own local time.\\n\\n{% data reusables.user-settings.access_settings %}\\n1. Under \"Public profile\", in the \"Location\" field, type the location you want to be displayed on your profile.\\n1. Optionally, display the current local time on your profile.\\n   - Select **Display current local time**.\\n   - Select the',\n",
       "  'Y2h1bmtfM19pbmRleF8xMA==': ' **Time zone** dropdown menu, then click your local time zone.\\n{% data reusables.profile.update-profile %}\\n\\n{% endif %}\\n\\n{% ifversion profile-social-links %}\\n\\n\\n\\nAdding links to your social accounts\\n\\nYou can add up to four links to social accounts on your profile. These are visible to anyone who can view your profile.\\n\\n{% data reusables.user-settings.access_settings %}\\n1. Under \"Social accounts\", in a blank \"Link to social profile\" field, type the full URL of the social account. For example, for the `@GitHub` Twitter account, type `https://twitter.com/github`.\\n{% data reusables.profile.update-profile %}\\n\\n{% endif %}\\n\\n\\n\\nSetting a status\\n\\nYou can set a status to display information about your current availability on {% data variables.product.product_name %}. Your status will show:\\n- On your {% data variables.product.product_name %} profile page\\n- When people hover over your username or avatar on {% data variables.product.product_name %}\\n- On a team page for a team where you\\'re a team member. For more information, see \"AUTOTITLE.\"\\n- On the organization dashboard in an organization where you\\'re a member. For more information, see \"AUTOTITLE.\"\\n\\nWhen you set your status, you can also let people know that you have limited availability on {% data variables.product.product_name %}.\\n\\nIf you select the \"Busy\" option, when people @mention your username, assign you an issue or pull request, or request a pull request review from you, a note next to your username will show that you\\'re busy. You will also be excluded from automatic review assignment for pull requests assigned to any teams you belong to. For more information, see \"AUTOTITLE.\"\\n\\n!Screenshot of a draft comment. \"@octocat\" is written in the text field, and \"The Octocat (busy)\" is suggested.\\n\\n1. In the top right corner of {% ifversion fpt or ghec %}{% data variables.product.prodname_dotcom_the_website %}{% else %}{% data variables.product.product_name %}{% endif %}, select your profile photo, then click {% octicon \"smiley\" aria-hidden=\"true\" %} **Set status** or, if yo',\n",
       "  'Y2h1bmtfNF9pbmRleF8xMA==': 'u already have a status set, click your current status.\\n\\n{% ifversion global-nav-update %}\\n\\n   !Screenshot of the dropdown menu under @octocat\\'s profile picture. A smiley icon and \"Set status\" are outlined in dark orange.\\n\\n{% else %}\\n\\n   !Screenshot of the dropdown menu under @octocat\\'s profile picture. A smiley icon and \"Set status\" are outlined in dark orange.\\n\\n{% endif %}\\n1. In the \"What\\'s happening\" field, type a status message.\\n1. Optionally, to set an emoji status, click {% octicon \"smiley\" aria-label=\"Choose an emoji\" %}, then click an emoji from the list.\\n1. Optionally, if you\\'d like to share that you have limited availability, select \"Busy.\"\\n1. Select the **Clear status** dropdown menu, then click when you want your status to expire. If you don\\'t select a status expiration, you will keep your status until you clear or edit your status.\\n1. Select the **Visible to** dropdown menu, then click who you want your status visible to. If you don\\'t select an organization, your status will be public.\\n1. Click **Set status**.\\n\\n{% ifversion fpt or ghec %}\\n\\n\\n\\nDisplaying badges on your profile\\n\\nWhen you participate in certain programs, {% data variables.product.prodname_dotcom %} automatically displays a badge on your profile.\\n\\n| Badge | Program | Description |\\n| --- | --- | --- |\\n| {% octicon \"cpu\" aria-label=\"The Developer Program icon\" %} | **Developer Program Member** | If you\\'re a registered member of the {% data variables.product.prodname_dotcom %} Developer Program, building an app with the {% ifversion fpt or ghec %}{% data variables.product.prodname_dotcom %}{% else %}{% data variables.product.product_name %}{% endif %} API, you\\'ll get a Developer Program Member badge on your profile. For more information on the {% data variables.product.prodname_dotcom %} Developer Program, see GitHub Developer. |\\n| {% octicon \"star-fill\" aria-label=\"The star icon\" %} | **Pro** | If you use {% data variables.product.prodname_pro %} you\\'ll get a PRO badge on your profile. For more information about {% data variables.product.pr',\n",
       "  'Y2h1bmtfNV9pbmRleF8xMA==': 'odname_pro %}, see \"AUTOTITLE.\" |\\n| {% octicon \"lock\" aria-label=\"The lock icon\" %} | **Security Bug Bounty Hunter** | If you helped out hunting down security vulnerabilities, you\\'ll get a Security Bug Bounty Hunter badge on your profile. For more information about the {% data variables.product.prodname_dotcom %} Security program, see {% data variables.product.prodname_dotcom %} Security. |\\n| {% octicon \"mortar-board\" aria-label=\"The mortar-board icon\" %} | **{% data variables.product.prodname_dotcom %} Campus Expert** | If you participate in the {% data variables.product.prodname_campus_program %}, you will get a {% data variables.product.prodname_dotcom %} Campus Expert badge on your profile. For more information about the Campus Experts program, see Campus Experts. |\\n| {% octicon \"shield\" aria-label=\"The shield icon\" %} | **Security advisory credit** | If a security advisory you submit to the {% data variables.product.prodname_dotcom %} Advisory Database is accepted, you\\'ll get a Security advisory credit badge on your profile. For more information about {% data variables.product.prodname_dotcom %} Security Advisories, see {% data variables.product.prodname_dotcom %} Security Advisories. |\\n\\n{% endif %}\\n\\n{% ifversion fpt or ghec %}\\n\\n\\n\\nEarning Achievements\\n\\nAchievements celebrate specific events and actions that happen on {% data variables.product.prodname_dotcom %}. They will appear as small badges listed in the sidebar of your profile. Clicking or hovering on an achievement will show a detailed view that hints at how the achievement was earned, with a short description and links to the contributing events. The event links will only be visible to users that have access to the repository or organization that the event took place in. Event links will appear inaccessible to all users without access.\\n\\nTo stop private contributions from counting toward your Achievements, or to turn off Achievements entirely, see \"AUTOTITLE.\"\\n\\n{% note %}\\n\\n**Note:** This feature is currently in beta and subject to change.\\n\\n{% endnote %',\n",
       "  'Y2h1bmtfNl9pbmRleF8xMA==': \"}\\n\\n{% endif %}\\n\\n\\n\\nList of qualifying repositories for Mars 2020 Helicopter Contributor achievement\\n\\nThe Mars 2020 Helicopter Contributor achievement was given to those who had authored a commit for one of the repositories listed below. This event has now ended, and the badge is no longer available. We built the list based on information received from NASA's Jet Propulsion Laboratory.\\n\\n| {% data variables.product.prodname_dotcom %} Repository | Version | Tag |\\n|---|---|---|\\n| torvalds/linux | 3.4 | v3.4 |\\n| python/cpython | 3.9.2 | v3.9.2 |\\n| boto/boto3 | 1.17.17 | 1.17.17 |\\n| boto/botocore | 1.20.11 | 1.20.11 |\\n| certifi/python-certifi | 2020.12.5 | 2020.12.05 |\\n| chardet/chardet | 4.0.0 | 4.0.0 |\\n| matplotlib/cycler | 0.10.0 | v0.10.0 |\\n| elastic/elasticsearch-py | 6.8.1 | 6.8.1 |\\n| ianare/exif-py | 2.3.2 | 2.3.2 |\\n| kjd/idna | 2.10 | v2.10 |\\n| jmespath/jmespath.py | 0.10.0 | 0.10.0 |\\n| nucleic/kiwi | 1.3.1 | 1.3.1 |\\n| matplotlib/matplotlib | 3.3.4 | v3.3.4 |\\n| numpy/numpy | 1.20.1 | v1.20.1 |\\n| opencv/opencv-python | 4.5.1.48 | 48 |\\n| python-pillow/Pillow | 8.1.0 | 8.1.0 |\\n| pycurl/pycurl | 7.43.0.6 | REL_7_43_0_6 |\\n| pyparsing/pyparsing | 2.4.7 | pyparsing_2.4.7 |\\n| pyserial/pyserial | 3.5 | v3.5 |\\n| dateutil/dateutil | 2.8.1 | 2.8.1 |\\n| yaml/pyyaml | 5.4.1 | 5.4.1 |\\n| psf/requests | 2.25.1 | v2.25.1 |\\n| boto/s3transfer | 0.3.4 | 0.3.4 |\\n| enthought/scimath | 4.2.0 | 4.2.0 |\\n| scipy/scipy | 1.6.1 | v1.6.1 |\\n| benjaminp/six | 1.15.0 | 1.15.0 |\\n| enthought/traits | 6.2.0 | 6.2.0 |\\n| urllib3/urllib3 | 1.26.3 | 1.26.3 |\\n| python-attrs/attrs | 19.3.0 | 19.3.0 |\\n| CheetahTemplate3/cheetah3 | 3.2.4 | 3.2.4 |\\n| pallets/click | 7.0 | 7.0 |\\n| pallets/flask | 1.1.1 | 1.1.1 |\\n| flask-restful/flask-restful | 0.3.7 | 0.3.7 |\\n| pytest-dev/iniconfig | 1.0.0 | v1.0.0 |\\n| pallets/itsdangerous | 1.1.0 | 1.1.0 |\\n| pallets/jinja | 2.10.3 | 2.10.3 |\\n| lxml/lxml | 4.4.1 | lxml-4.4.1 |\\n| Python-Markdown/markdown | 3.1.1 | 3.1.1 |\\n| pallets/markupsafe | 1.1.1 | 1.1.1 |\\n| pypa/packaging | 19.2 | 19.2 |\\n| pexpect/pexpect | 4.7.0 | 4.7.0\",\n",
       "  'Y2h1bmtfN19pbmRleF8xMA==': ' |\\n| pytest-dev/pluggy | 0.13.0 | 0.13.0 |\\n| pexpect/ptyprocess | 0.6.0 | 0.6.0 |\\n| pytest-dev/py | 1.8.0 | 1.8.0 |\\n| pyparsing/pyparsing | 2.4.5 | pyparsing_2.4.5 |\\n| pytest-dev/pytest | 5.3.0 | 5.3.0 |\\n| stub42/pytz | 2019.3 | release_2019.3 |\\n| uiri/toml | 0.10.0 | 0.10.0 |\\n| pallets/werkzeug | 0.16.0 | 0.16.0 |\\n| dmnfarrell/tkintertable | 1.2 | v1.2 |\\n| wxWidgets/wxPython-Classic | 2.9.1.1 | wxPy-2.9.1.1 |\\n| nasa/fprime | 1.3 | NASA-v1.3 |\\n| nucleic/cppy | 1.1.0 | 1.1.0 |\\n| opencv/opencv | 4.5.1 | 4.5.1 |\\n| curl/curl | 7.72.0 | curl-7_72_0 |\\n| madler/zlib | 1.2.11 | v1.2.11 |\\n| apache/lucene | 7.7.3 | releases/lucene-solr/7.7.3 |\\n| yaml/libyaml | 0.2.5 | 0.2.5 |\\n| elastic/elasticsearch | 6.8.1 | v6.8.1 |\\n| twbs/bootstrap | 4.3.1 | v4.3.1 |\\n| vuejs/vue | 2.6.10 | v2.6.10 |\\n| carrotsearch/hppc | 0.7.1 | 0.7.1 |\\n| JodaOrg/joda-time | 2.10.1 | v2.10.1 |\\n| tdunning/t-digest | 3.2 | t-digest-3.2 |\\n| HdrHistogram/HdrHistogram | 2.1.9 | HdrHistogram-2.1.9 |\\n| locationtech/spatial4j | 0.7 | spatial4j-0.7 |\\n| locationtech/jts | 1.15.0 | jts-1.15.0 |\\n| apache/logging-log4j2 | 2.11 | log4j-2.11.0 |\\n\\n\\n\\nFurther reading\\n\\n- \"AUTOTITLE\"\\n\\n',\n",
       "  'Y2h1bmtfMF9pbmRleF8xMQ==': '\\n\\nFurther reading\\n\\n- \"AUTOTITLE\"\\n\\n',\n",
       "  'Y2h1bmtfMF9pbmRleF8xMg==': '\\n\\nAbout private profiles\\n\\nTo hide parts of your profile page, you can make your profile private. This also hides your activity in various social features on {% data variables.product.prodname_dotcom_the_website %}. A private profile hides information from all users, and there is currently no option to allow specified users to see your activity.\\n\\nAfter making your profile private, you can still view all your information when you visit your own profile.\\n\\nPrivate profiles cannot receive sponsorships under {% data variables.product.prodname_sponsors %}. To be eligible for {% data variables.product.prodname_sponsors %}, your profile cannot be private.\\n\\n\\n\\nDifferences between private and public profiles\\n\\nWhen your profile is private, the following content is hidden from your profile page:\\n\\n- Achievements and highlights.\\n- Activity overview and activity feed.\\n- Contribution graph.\\n- Follower and following counts.\\n- Follow and Sponsor buttons.\\n- Organization memberships.\\n- Stars, projects, packages, and sponsoring tabs.\\n- Your pronouns.\\n\\n{% note %}\\n\\n**Note**: When your profile is private, some optional fields are still publicly visible, such as the README, biography, and profile photo.\\n\\n{% endnote %}\\n\\n\\n\\nChanges to reporting on your activities\\n\\nBy making your profile private, you will not remove or hide past activity; this setting only applies to your activity while the private setting is enabled.\\n\\nWhen your profile is private, your {% data variables.product.prodname_dotcom_the_website %} activity will not appear in the following locations:\\n\\n- Activity feeds for other users.\\n- Discussions leaderboards.\\n- Site-wide search results.\\n- The Trending page.\\n\\n{% note %}\\n\\n**Note**: Your activity on public repositories will still be publicly visible to anyone viewing those repositories, and some activity data may still be available through the {% data variables.product.prodname_dotcom %} API.\\n\\n{% endnote %}\\n\\n\\n\\nChanging your profile\\'s privacy settings\\n\\n{% data reusables.user-settings.access_settings %}\\n1. Under \"Contributions & Activ',\n",
       "  'Y2h1bmtfMV9pbmRleF8xMg==': 'ity\", select the checkbox next to **Make profile private and hide activity**.\\n{% data reusables.user-settings.update-preferences %}\\n\\n',\n",
       "  'Y2h1bmtfMF9pbmRleF8xMw==': '\\n\\nAbout enterprise contributions on your {% data variables.product.prodname_dotcom_the_website %} profile\\n\\nYour {% data variables.product.prodname_dotcom_the_website %} profile shows {% ifversion fpt or ghec %}{% data variables.product.prodname_enterprise %}{% else %}{% data variables.product.product_name %}{% endif %} contribution counts from the past 90 days. {% data reusables.github-connect.sync-frequency %} Contribution counts from {% ifversion fpt or ghec %}{% data variables.product.prodname_enterprise %}{% else %}{% data variables.product.product_name %}{% endif %} are considered private contributions. The commit details will only show the contribution counts and that these contributions were made in a {% data variables.product.prodname_enterprise %} environment outside of {% data variables.product.prodname_dotcom_the_website %}.\\n\\nYou can decide whether to show counts for private contributions on your profile. For more information, see \"AUTOTITLE.\"\\n\\nFor more information about how contributions are calculated, see \"AUTOTITLE.\"\\n\\n{% note %}\\n\\n**Note:** The connection between your accounts is governed by GitHub\\'s Privacy Statement and users enabling the connection must agree to the GitHub Terms of Service.\\n\\n{% endnote %}\\n\\n\\n\\nSending your enterprise contributions to your {% data variables.product.prodname_dotcom_the_website %} profile\\n\\nBefore you can connect your {% ifversion fpt or ghec %}{% data variables.product.prodname_enterprise %}{% else %}{% data variables.product.product_name %}{% endif %} profile to your {% data variables.product.prodname_dotcom_the_website %} profile, your enterprise owner must enable {% data variables.product.prodname_github_connect %} and enable contribution sharing between the environments. For more information, contact your enterprise owner.\\n\\n{% ifversion fpt or ghec %}\\n\\nTo send enterprise contributions from {% data variables.product.prodname_ghe_server %} to your {% data variables.product.prodname_dotcom_the_website %} profile, see \"AUTOTITLE\" in the {% data variables.product.prodn',\n",
       "  'Y2h1bmtfMV9pbmRleF8xMw==': 'ame_ghe_server %} documentation.\\n\\n{% elsif ghes %}\\n\\n1. Sign in to {% data variables.product.prodname_ghe_server %} and {% data variables.product.prodname_dotcom_the_website %}.\\n1. On {% data variables.product.prodname_ghe_server %}, in the upper-right corner of any page, click your profile photo, then click **Settings**.\\n\\n{% ifversion global-nav-update %}\\n\\n   !Screenshot of a user\\'s account menu on {% data variables.product.prodname_dotcom %}. The menu item \"Settings\" is outlined in dark orange.\\n\\n{% else %}\\n\\n   !Screenshot of a user\\'s account menu on {% data variables.product.prodname_dotcom %}. The menu item \"Settings\" is outlined in dark orange.\\n\\n{% endif %}\\n{% data reusables.github-connect.github-connect-tab-user-settings %}\\n{% data reusables.github-connect.connect-dotcom-and-enterprise %}\\n1. Review the resources that {% data variables.product.prodname_ghe_server %} will access from your {% data variables.product.prodname_dotcom_the_website %} account, then click **Authorize**.\\n{% data reusables.github-connect.send-contribution-counts-to-githubcom %}\\n\\n{% elsif ghae %}\\n\\n1. Sign in to {% data variables.product.prodname_ghe_managed %} and {% data variables.product.prodname_dotcom_the_website %}.\\n1. On {% data variables.product.prodname_ghe_managed %}, in the upper-right corner of any page, click your profile photo, then click **Settings**.\\n   !Screenshot of a user\\'s account menu on {% data variables.product.prodname_dotcom %}. The menu item \"Settings\" is outlined in dark orange.\\n{% data reusables.github-connect.github-connect-tab-user-settings %}\\n{% data reusables.github-connect.connect-dotcom-and-enterprise %}\\n{% data reusables.github-connect.authorize-connection %}\\n{% data reusables.github-connect.send-contribution-counts-to-githubcom %}\\n\\n{% endif %}\\n\\n',\n",
       "  'Y2h1bmtfMF9pbmRleF8xNA==': '\\n\\nAbout the activity overview\\n\\n{% data reusables.profile.activity-overview-summary %} For more information, see \"AUTOTITLE.\"\\n\\n!Screenshot of the activity overview section of a user profile.\\n\\n\\n\\nManaging the visibility of the activity overview on your profile\\n\\n{% data reusables.profile.access_profile %}\\n1. Above your contributions graph, select the **Contribution settings** dropdown menu, then click **Activity overview**.\\n\\n   !Screenshot of the contributions graph on a user profile. A dropdown menu, labeled \"Contribution settings\", is highlighted with an orange outline.\\n\\n',\n",
       "  'Y2h1bmtfMF9pbmRleF8xNQ==': '\\n\\nChanging the visibility of your private contributions\\n\\nYou can choose to publicize your private contributions, which allows visitors to your profile to see private contribution counts, without further details.\\n\\nIf you choose to hide your private contributions, visitors will only see your public contributions.\\n\\n{% data reusables.profile.access_profile %}\\n1. Above the contribution calendar, click **Contribution settings**.\\n\\n   !Screenshot of the \"Contribution settings\" link, highlighted with a dark orange outline.\\n\\n1. Click **Private contributions** to show or hide private contributions on your profile.\\n\\n\\n\\nChanging the visibility of achievements\\n\\n{% data reusables.user-settings.access_settings %}\\n1. Under \"Profile settings\", select or deselect **Show Achievements on my profile.**\\n1. Click **Update preferences**.\\n\\n{% ifversion hide-individual-achievements %}\\n\\n\\n\\nHiding an individual achievement on your profile\\n\\nYou can hide an individual achievement on your profile. When hidden, badges are only visible to you.\\n\\n{% data reusables.profile.access_profile %}\\n1. Under \"Achievements\", click the achievement you want to hide.\\n\\n   !Screenshot of the \"Achievements\" section of a user profile. A badge with a cowboy image is highlighted with a dark orange outline.\\n\\n1. Click {% octicon \"eye\" aria-label=\"Hide from profile\" %}.\\n\\n   !Screenshot of an achievement. An open eye icon is highlighted with a dark orange outline.\\n\\n{% endif %}\\n\\n\\n\\nFurther reading\\n\\n- \"AUTOTITLE\"\\n- \"AUTOTITLE\"\\n\\n',\n",
       "  'Y2h1bmtfMF9pbmRleF8xNg==': '\\n\\nExpected behavior to view commit details\\n\\nIn the \"Contribution activity\" section of your profile page, you can click the number of commits next to a specific repository to see more details about your commits from that time period, including a diff of specific changes made in a repository.\\n\\n!Screenshot of the \"Contribution activity\" section of a user profile. A link, labeled \"29 commits\" is highlighted with an orange outline.\\n\\n\\n\\nMissing commit details from commits in your timeline\\n\\nIf you click a commit link from your profile page and don\\'t see all of the expected commits on the repository\\'s commits page, then it\\'s possible the commit history in Git was rewritten and the commit author date and the commit date are different.\\n\\n\\n\\nHow GitHub uses the Git author date and commit date\\n\\nIn Git, the author date is when someone first creates a commit with `git commit`. The commit date is identical to the author date unless someone changes the commit date by using `git commit --amend`, a force push, a rebase, or other Git commands.\\n\\nOn your profile page, the author date is used to calculate when a commit was made. Whereas, in a repository, the commit date is used to calculate when a commit was made in the repository.\\n\\nMost often, the author date and commit date are the same but you may notice that your commit sequence is out of order if the commit history is changed. For more information, see \"AUTOTITLE\"\\n\\n\\n\\nViewing missing commit details from commits in your timeline\\n\\nYou can use the `git show` command with the `--pretty=fuller` flag to check if the commit author date and commit date are different.\\n\\n```shell\\n$ git show YOUR_COMMIT_SHA_NUMBER --pretty=fuller\\ncommit YOUR_COMMIT_SHA_NUMBER\\nAuthor:     octocat USER_EMAIL\\nAuthorDate: Tue Apr 03 02:02:30 2018 +0900\\nCommit:     Sally Johnson USER_EMAIL\\nCommitDate: Tue Apr 10 06:25:08 2018 +0900\\n```\\n\\nIf the author and commit date are different, you can manually change the commit date in the URL to see the commit details.\\n\\nFor example:\\n- This URL uses the author date of `2018-04-03',\n",
       "  'Y2h1bmtfMV9pbmRleF8xNg==': '`:\\n\\n  `https://github.com/your-organization-or-personal-account/your-repository/commits?author=octocat&since=2018-04-03T00:00:00Z&until=2018-04-03T23:59:59Z`\\n- This URL uses the commit date of `2018-04-10`:\\n\\n  `https://github.com/your-organization-or-personal-account/your-repository/commits?author=octocat&since=2018-04-10T00:00:00Z&until=2018-04-10T23:59:59Z`\\n\\nWhen you open the URL with the modified commit date, you can see the commit details.\\n\\n\\n\\nExpected commits missing in your timeline\\n\\nIf you\\'re not seeing expected commits on your timeline, it\\'s possible the commit history in Git was rewritten and the commit author date and the commit date are different. For other possibilities, see \"AUTOTITLE\"\\n\\n',\n",
       "  'Y2h1bmtfMF9pbmRleF8xNw==': '\\n\\nWhat counts as a contribution\\n\\nOn your profile page, certain actions count as contributions:\\n\\n- Committing to a repository\\'s default branch or `gh-pages` branch\\n- Creating a branch\\n- Opening an issue\\n- Opening a discussion\\n- Answering a discussion\\n- Proposing a pull request\\n- Submitting a pull request review{% ifversion ghes or ghae %}\\n- Co-authoring commits in a repository\\'s default branch or `gh-pages` branch{% endif %}\\n\\n{% data reusables.pull_requests.pull_request_merges_and_contributions %}\\n\\n\\n\\nPopular repositories\\n\\nThis section displays your repositories with the most watchers. {% ifversion fpt or ghes or ghec %}Once you pin repositories to your profile, this section will change to \"Pinned.\"{% endif %}\\n\\n{% ifversion fpt or ghes or ghec %}\\n\\n\\n\\nPinned\\n\\nThis section displays up to six public repositories or gists. Important details are listed for each of the items you\\'ve chosen to feature. For more information, see \"AUTOTITLE.\"\\n\\n!Screenshot of the \"Pinned repositories\" section of a user\\'s profile page.\\n\\n{% endif %}\\n\\n\\n\\nContributions calendar\\n\\nYour contributions calendar shows your contribution activity.\\n\\n\\n\\nViewing contributions from specific times\\n\\n- Click on a day\\'s square to show the contributions made during that 24-hour period.\\n- Press _Shift_ and click on another day\\'s square to show contributions made during that time span.\\n\\n{% note %}\\n\\n**Note:** You can select up to a one-month range on your contributions calendar. If you select a larger time span, we will only display one month of contributions.\\n\\n{% endnote %}\\n\\n!Screenshot of the contributions graph on a user profile.\\n\\n\\n\\nHow contribution event times are calculated\\n\\nTimestamps are calculated differently for commits and pull requests:\\n- **Commits** use the time zone information in the commit timestamp. For more information, see \"AUTOTITLE.\"\\n- **Pull requests** and **issues** opened on {% data variables.product.product_name %} use your browser\\'s time zone. Those opened via the API use the timestamp or time zone specified in the API call.\\n\\n\\n\\nActivity overvie',\n",
       "  'Y2h1bmtfMV9pbmRleF8xNw==': 'w\\n\\n{% data reusables.profile.activity-overview-summary %} For more information, see \"AUTOTITLE.\"\\n\\n!Screenshot of the activity overview section of a user profile.\\n\\nThe organizations featured in the activity overview are prioritized according to how active you are in the organization. If you @mention an organization in your profile bio, and you’re an organization member, then that organization is prioritized first in the activity overview. For more information, see \"AUTOTITLE\" or \"AUTOTITLE.\"\\n\\n\\n\\nContribution activity\\n\\nThe contribution activity section includes a detailed timeline of your work, including commits you\\'ve made or co-authored, pull requests you\\'ve proposed, and issues you\\'ve opened.\\n\\nYou can see your contributions over time by either clicking **Show more activity** at the bottom of your contribution activity or by clicking the year you\\'re interested in viewing on the right side of the page.\\n\\nImportant moments, like the date you joined an organization, proposed your first pull request, or opened a high-profile issue, are highlighted in your contribution activity.\\n\\nIf you can\\'t see certain events in your timeline, check to make sure you still have access to the organization or repository where the event happened.\\n\\n\\n\\nViewing contributions from {% data variables.product.prodname_enterprise %} on {% data variables.product.prodname_dotcom_the_website %}\\n\\nIf you use {% ifversion fpt or ghec %}{% data variables.product.prodname_ghe_server %}{% ifversion ghae %} or {% data variables.product.prodname_ghe_managed %}{% endif %}{% else %}{% data variables.product.product_name %}{% endif %} and your enterprise owner enables {% data variables.enterprise.prodname_unified_contributions %}, you can send enterprise contribution counts to your {% data variables.product.prodname_dotcom_the_website %} profile. For more information, see \"AUTOTITLE.\"\\n\\n',\n",
       "  'Y2h1bmtfMF9pbmRleF8xOA==': '\\n\\nAbout your contribution graph\\n\\nYour profile contributions graph is a record of contributions you\\'ve made to repositories {% ifversion ghae %}owned by{% else %}on{% endif %} {% data variables.location.product_location %}. Contributions are timestamped according to Coordinated Universal Time (UTC) rather than your local time zone. Contributions are only counted if they meet certain criteria. In some cases, we may need to rebuild your graph in order for contributions to appear.\\n\\nIf you are part of an organization that uses SAML single sign-on (SSO), you won’t be able to see contribution activity from the organization on your profile if you do not have an active SSO session. People viewing your profile from outside your organization will see anonymized contribution activity of your contribution activity for your organization.\\n\\n\\n\\nContributions that are counted\\n\\n\\n\\nIssues, pull requests and discussions\\n\\nIssues, pull requests, and discussions will appear on your contribution graph if they were opened in a standalone repository, not a fork.\\n\\n\\n\\nCommits\\n\\nCommits will appear on your contributions graph if they meet **all** of the following conditions:\\n- The email address used for the commits is associated with your account on {% data variables.location.product_location %}.\\n- The commits were made in a standalone repository, not a fork.\\n- The commits were made:\\n  - In the repository\\'s default branch\\n  - In the `gh-pages` branch (for repositories with project sites)\\n\\nFor more information on project sites, see \"AUTOTITLE.\"\\n\\nIn addition, **at least one** of the following must be true:\\n- You are a collaborator on the repository or are a member of the organization that owns the repository.\\n- You have forked the repository.\\n- You have opened a pull request or issue in the repository.\\n- You have starred the repository.\\n\\n\\n\\nCommon reasons that contributions are not counted\\n\\n{% data reusables.pull_requests.pull_request_merges_and_contributions %}\\n\\n\\n\\nCommit was made less than 24 hours ago\\n\\nAfter making a commit that meets the requirem',\n",
       "  'Y2h1bmtfMV9pbmRleF8xOA==': 'ents to count as a contribution, you may need to wait for up to 24 hours to see the contribution appear on your contributions graph.\\n\\n\\n\\nYour local Git commit email isn\\'t connected to your account\\n\\nCommits must be made with an email address that is connected to your account on {% data variables.location.product_location %}{% ifversion fpt or ghec %}, or the {% data variables.product.prodname_dotcom %}-provided `noreply` email address provided to you in your email settings,{% endif %} in order to appear on your contributions graph.{% ifversion fpt or ghec %} For more information about `noreply` email addresses, see \"AUTOTITLE.\"{% endif %}\\n\\nYou can check the email address used for a commit by adding `.patch` to the end of a commit URL. For example, the following commit URL includes `.patch`.\\n\\nhttps://github.com/octocat/octocat.github.io/commit/67c0afc1da354d8571f51b6f0af8f2794117fd10.patch\\n\\n```text\\nFrom 67c0afc1da354d8571f51b6f0af8f2794117fd10 Mon Sep 17 00:00:00 2001\\nFrom: The Octocat \\nDate: Sun, 27 Apr 2014 15:36:39 +0530\\nSubject: [PATCH] updated index for better welcome message\\n```\\n\\nThe email address in the `From:` field is the address that was set in the local git config settings. In this example, the email address used for the commit is `octocat@nowhere.com`.\\n\\nIf the email address used for the commit is not connected to your account on {% data variables.location.product_location %}, {% ifversion ghae %}change the email address used to author commits in Git. For more information, see \"AUTOTITLE.\"{% else %}you must add the email address to your account on {% data variables.location.product_location %}. Your contributions graph will be rebuilt automatically when you add the new address.{% endif %}\\n\\n{% ifversion fpt or ghec %}\\n{% note %}\\n\\n**Note**: If you use a {% data variables.enterprise.prodname_managed_user %}, you cannot add additional email addresses to the account, even if multiple email addresses are registered with your identity provider (IdP). Therefore, only commits that are authored by the primary email',\n",
       "  'Y2h1bmtfMl9pbmRleF8xOA==': ' address registered with your IdP can be associated with your {% data variables.enterprise.prodname_managed_user %}.\\n\\n{% endnote %}\\n{% endif %}\\n\\nGeneric email addresses, such as `jane@computer.local`, cannot be added to {% data variables.product.prodname_dotcom %} accounts and linked to commits. If you\\'ve authored any commits using a generic email address, the commits will not be linked to your {% data variables.product.prodname_dotcom %} profile and will not show up in your contribution graph.\\n\\n\\n\\nCommit was not made in the default or `gh-pages` branch\\n\\nCommits are only counted if they are made in the default branch or the `gh-pages` branch (for repositories with project sites). For more information, see \"AUTOTITLE.\"\\n\\nIf your commits are in a non-default or non-`gh-pages` branch and you\\'d like them to count toward your contributions, you will need to do one of the following:\\n- Open a pull request to have your changes merged into the default branch or the `gh-pages` branch.\\n- Change the default branch of the repository.\\n\\n{% warning %}\\n\\n**Warning**: Changing the default branch of the repository will change it for all repository collaborators. Only do this if you want the new branch to become the base against which all future pull requests and commits will be made.\\n\\n{% endwarning %}\\n\\n\\n\\nCommit was made in a fork\\n\\nCommits made in a fork will not count toward your contributions. To make them count, you must do one of the following:\\n- Open a pull request to have your changes merged into the parent repository.\\n- To detach the fork and turn it into a standalone repository on {% data variables.location.product_location %}, contact {% data variables.contact.contact_support %}. If the fork has forks of its own, state whether the forks should move with your repository into a new network or remain in the current network. For more information, see \"AUTOTITLE.\"\\n\\n\\n\\nFurther reading\\n\\n- \"AUTOTITLE\"\\n- \"AUTOTITLE\"\\n\\n',\n",
       "  'Y2h1bmtfMF9pbmRleF8xOQ==': '\\n\\nAbout collaboration in a personal repository\\n\\nTo collaborate with users in a repository that belongs to your personal account on {% data variables.location.product_location %}, you can invite the users as collaborators.\\n\\nIf you want to grant more granular access to the repository, you can create a repository within an organization. For more information, see \"AUTOTITLE.\"\\n\\n{% ifversion ghec %}\\n\\nIf you\\'re a member of an {% data variables.enterprise.prodname_emu_enterprise %}, you can only invite other members of your enterprise to collaborate with you. {% data reusables.enterprise-accounts.emu-more-info-account %}\\n\\n{% endif %}\\n\\n{% data reusables.repositories.private_forks_inherit_permissions %}\\n\\n\\n\\nInviting a collaborator to a personal repository\\n\\nYou can send an invitation to collaborate in your repository directly to someone on {% data variables.location.product_location %}{% ifversion fpt or ghec %}, or to the person\\'s email address{% elsif ghes or ghae %}.{% endif %}\\n\\n{% ifversion fpt or ghec %}\\n\\n{% data variables.product.company_short %} limits the number of people who can be invited to a repository within a 24-hour period. If you exceed this limit, either wait 24 hours or create an organization to collaborate with more people. For more information, see \"AUTOTITLE.\"\\n\\n{% endif %}\\n\\n1. Ask for the username of the person you\\'re inviting as a collaborator.{% ifversion fpt or ghec %} If they don\\'t have a username yet, they can sign up for {% data variables.product.prodname_dotcom %}. For more information, see \"AUTOTITLE.\"{% endif %}\\n{% data reusables.repositories.navigate-to-repo %}\\n{% data reusables.repositories.sidebar-settings %}\\n1. In the \"Access\" section of the sidebar, click **{% octicon \"people\" aria-hidden=\"true\" %} Collaborators**.\\n1. Click **Add people**.\\n1. In the search field, start typing the name of person you want to invite, then click a name in the list of matches.\\n1. Click **Add NAME to REPOSITORY**.\\n{% ifversion fpt or ghec %}\\n1. The user will receive an email inviting them to the repository. Once ',\n",
       "  'Y2h1bmtfMV9pbmRleF8xOQ==': 'they accept your invitation, they will have collaborator access to your repository.\\n{% endif %}\\n\\n\\n\\nFurther reading\\n\\n- \"AUTOTITLE\"\\n- \"AUTOTITLE\"\\n- \"AUTOTITLE\"\\n- \"AUTOTITLE\"\\n\\n',\n",
       "  'Y2h1bmtfMF9pbmRleF8yMA==': '\\n\\nAbout successors\\n\\nWe recommend inviting another {% data variables.product.company_short %} user to be your successor, to manage your user owned repositories if you cannot. As a successor, they will have permission to:\\n\\n- Archive your public repositories.\\n- Transfer your public repositories to their own user owned account.\\n- Transfer your public repositories to an organization where they can create repositories.\\n\\nSuccessors cannot log into your account.\\n\\nAn appointed successor can manage your public repositories after presenting a death certificate then waiting for 7 days or presenting an obituary then waiting for 21 days. For more information, see \"AUTOTITLE.\"\\n\\nTo request access to manage repositories as a successor, please contact us through the {% data variables.contact.contact_support_portal %}.\\n\\n\\n\\nInviting a successor\\n\\nThe person you invite to be your successor must have a {% data variables.product.company_short %} account.\\n\\n{% data reusables.user-settings.access_settings %}\\n{% data reusables.user-settings.account_settings %}\\n\\n1. Under \"Successor settings\", to invite a successor, begin typing a username, full name, or email address, then click their name when it appears.\\n\\n   !Screenshot of the \"Successor settings\" section. The string \"octocat\" is entered in a search field, and Octocat\\'s profile is listed in a dropdown below.\\n\\n1. Click **Add successor**.\\n{% data reusables.user-settings.sudo-mode-popup %}\\n\\nThe user you\\'ve invited will be listed as \"Pending\" until they agree to become your successor.\\n\\n'},\n",
       " 'relevant_docs': {'a3eb1dc5-c1c1-404c-aafe-41971e359bfd': ['Y2h1bmtfMF9pbmRleF8w'],\n",
       "  'fb33a268-26e2-420d-85fe-3222c1cd9286': ['Y2h1bmtfMF9pbmRleF8w'],\n",
       "  '99454d3c-9cd0-4681-8f34-68cf44ed14fe': ['Y2h1bmtfMV9pbmRleF8w'],\n",
       "  '5c0e0049-bd6a-4c42-8409-3ae7144c7557': ['Y2h1bmtfMV9pbmRleF8w'],\n",
       "  '0e3c2dd3-d76e-4107-b843-0fa8e5cfb7d8': ['Y2h1bmtfMV9pbmRleF8w'],\n",
       "  '8bd92299-8e58-41e6-8673-7491deccafcc': ['Y2h1bmtfMV9pbmRleF8w'],\n",
       "  '0c2ab690-7907-45f2-97bc-b189137f34c9': ['Y2h1bmtfMV9pbmRleF8w'],\n",
       "  '881a403c-746d-4a40-b13a-3acf8672cb8b': ['Y2h1bmtfMV9pbmRleF8w'],\n",
       "  '8b1d85ba-8ed3-48d9-8a9c-8c009d6441ca': ['Y2h1bmtfMV9pbmRleF8w'],\n",
       "  '8d98035e-f607-480a-939a-f7ca802d45eb': ['Y2h1bmtfMV9pbmRleF8w'],\n",
       "  '2cf7f659-8053-4d11-9567-baec1bf379cd': ['Y2h1bmtfMV9pbmRleF8w'],\n",
       "  'c53c7b4f-04c3-4bf7-9298-759ad3620f1e': ['Y2h1bmtfMF9pbmRleF8x'],\n",
       "  '1bcb2dee-7e85-4b41-99a3-b9aa5896cc57': ['Y2h1bmtfMF9pbmRleF8x'],\n",
       "  '19f6b20a-fdbf-429a-9083-4fe241314474': ['Y2h1bmtfMV9pbmRleF8x'],\n",
       "  '42b69342-a6fd-4c2e-b0cd-afcc1642cebf': ['Y2h1bmtfMV9pbmRleF8x'],\n",
       "  '0a57a1a4-1255-4427-8a5c-447c3769ef36': ['Y2h1bmtfMF9pbmRleF8y'],\n",
       "  '1fc1b357-f4c6-4547-8a8d-a454954d5c8e': ['Y2h1bmtfMF9pbmRleF8y'],\n",
       "  'fd693f2e-e57b-4e30-9616-3b609b621a7f': ['Y2h1bmtfMV9pbmRleF8y'],\n",
       "  'a23e6240-4715-47b8-85c2-e39259deaf34': ['Y2h1bmtfMV9pbmRleF8y'],\n",
       "  '5afc5d1e-f772-402d-9bc4-42a8464feb77': ['Y2h1bmtfMl9pbmRleF8y'],\n",
       "  'c0990dfb-82d1-4fab-a50a-a98d3eec05a2': ['Y2h1bmtfMl9pbmRleF8y'],\n",
       "  '488cd66e-a289-4267-bab8-4ca7917a0888': ['Y2h1bmtfMl9pbmRleF8y'],\n",
       "  '9a7c5bec-5ef5-4322-8aea-7259f68ae813': ['Y2h1bmtfM19pbmRleF8y'],\n",
       "  'cbd0e725-fa61-461b-b6d0-c88fcb04ceea': ['Y2h1bmtfMF9pbmRleF8z'],\n",
       "  '157c2862-d31a-426a-be9e-aaddfcf46561': ['Y2h1bmtfMF9pbmRleF8z'],\n",
       "  '620976b7-17d0-4315-a0ee-0d8586a89c63': ['Y2h1bmtfMV9pbmRleF8z'],\n",
       "  'f67a5a6e-0a3c-4607-8967-2fe9336a674f': ['Y2h1bmtfMV9pbmRleF8z'],\n",
       "  'e98d3bc9-c1dd-4258-b6e5-6f9179e44d79': ['Y2h1bmtfMV9pbmRleF8z'],\n",
       "  'c470aa2f-d78f-4dc9-b40d-4dd4c8c6d1dc': ['Y2h1bmtfMV9pbmRleF8z'],\n",
       "  '8d785bdb-1177-486f-b67c-9f854a13b673': ['Y2h1bmtfMV9pbmRleF8z'],\n",
       "  'ad6f49f5-2d60-4f22-acc0-4785712beb0b': ['Y2h1bmtfMV9pbmRleF8z'],\n",
       "  'ac0c7ff8-2a05-48e4-95bb-3098b538cd70': ['Y2h1bmtfMV9pbmRleF8z'],\n",
       "  '02d51d30-9363-4403-8cdc-d50fbda3d0f6': ['Y2h1bmtfMl9pbmRleF8z'],\n",
       "  '73d0ec0f-ea11-4f95-8d63-8c64f16bb56d': ['Y2h1bmtfMl9pbmRleF8z'],\n",
       "  'dc757686-b82f-4bb8-839c-7f8d1045fe2e': ['Y2h1bmtfM19pbmRleF8z'],\n",
       "  '83e5d435-3ff1-4cc2-87aa-87ca1ab03f39': ['Y2h1bmtfM19pbmRleF8z'],\n",
       "  '9982bb1a-c0bd-4092-a033-ff29bb2cd339': ['Y2h1bmtfNF9pbmRleF8z'],\n",
       "  '7eca6279-6301-431b-9f03-72255bfffefe': ['Y2h1bmtfNF9pbmRleF8z'],\n",
       "  '49fe9b54-81ed-4a04-b216-52b326807da4': ['Y2h1bmtfNV9pbmRleF8z'],\n",
       "  '8eda900a-7ba4-4207-9635-b2976d54bc42': ['Y2h1bmtfNV9pbmRleF8z'],\n",
       "  '24f62579-6db7-43ab-9451-75b478520fc0': ['Y2h1bmtfNl9pbmRleF8z'],\n",
       "  '2e5eb9ca-9fe5-4c56-ba7c-1f1ada484eed': ['Y2h1bmtfNl9pbmRleF8z'],\n",
       "  '2319086a-b30a-4519-9e9c-1c47bb2ae3a2': ['Y2h1bmtfN19pbmRleF8z'],\n",
       "  '5acea3e9-2b31-4e81-ad3f-dfc5c6624a48': ['Y2h1bmtfN19pbmRleF8z'],\n",
       "  '97814578-966f-4ac9-a617-35f56941b1fc': ['Y2h1bmtfOF9pbmRleF8z'],\n",
       "  'ca030c35-6926-4c99-bf7e-b5719943f2fe': ['Y2h1bmtfOV9pbmRleF8z'],\n",
       "  '9add6af3-87c0-400c-be38-8fcb83cfb92e': ['Y2h1bmtfOV9pbmRleF8z'],\n",
       "  'b1e050a6-5fb6-4fa8-bcc4-87e3ed6b1479': ['Y2h1bmtfMTBfaW5kZXhfMw=='],\n",
       "  '8f9c64a0-998c-499c-8c7d-c6f216721ae8': ['Y2h1bmtfMTBfaW5kZXhfMw=='],\n",
       "  'd41e08e3-a848-4cea-9517-8f2eeff77944': ['Y2h1bmtfMF9pbmRleF80'],\n",
       "  '65a313dc-be73-41a8-af6a-9a290995bc6e': ['Y2h1bmtfMF9pbmRleF80'],\n",
       "  '7591fcfa-a45e-4250-b9c8-7170fe97f1e1': ['Y2h1bmtfMV9pbmRleF80'],\n",
       "  '21b79830-2e9b-4a6f-ac4e-b07f7226a614': ['Y2h1bmtfMV9pbmRleF80'],\n",
       "  'cf1ec624-8129-44f8-9857-48479c56a429': ['Y2h1bmtfMF9pbmRleF81'],\n",
       "  '644bd4db-ae9b-4bff-a8ef-75fd07047ae2': ['Y2h1bmtfMF9pbmRleF81'],\n",
       "  '0671774d-5583-4910-8494-3faa0d2a8a38': ['Y2h1bmtfMV9pbmRleF81'],\n",
       "  '885c8763-ce2b-4bcd-a072-e206b03bd724': ['Y2h1bmtfMV9pbmRleF81'],\n",
       "  'f3c28187-5098-4d77-b4fb-17332628e18d': ['Y2h1bmtfMl9pbmRleF81'],\n",
       "  '63684584-fcca-4ea1-8fcb-ac615afc4966': ['Y2h1bmtfMl9pbmRleF81'],\n",
       "  'acdb4c39-8347-40ae-9dd8-053584d42b2f': ['Y2h1bmtfM19pbmRleF81'],\n",
       "  '403b76eb-1b4d-49cc-94b9-5c3b5a2b43b1': ['Y2h1bmtfM19pbmRleF81'],\n",
       "  '65ee87a7-faf5-431e-9cea-3df15bab8748': ['Y2h1bmtfNF9pbmRleF81'],\n",
       "  '409e10c7-8182-4a87-9731-2b210f1a2de5': ['Y2h1bmtfNF9pbmRleF81'],\n",
       "  'b3d0831b-7341-43ef-94fc-d9709b5450bf': ['Y2h1bmtfMF9pbmRleF82'],\n",
       "  '6158adf4-49f2-415b-96dc-f70bf559c113': ['Y2h1bmtfMF9pbmRleF82'],\n",
       "  '88e33315-2e92-4814-86e5-4ca4475a7833': ['Y2h1bmtfMF9pbmRleF83'],\n",
       "  '645b8ab3-94b4-49e8-9fc5-f1a08c6b437f': ['Y2h1bmtfMF9pbmRleF83'],\n",
       "  'b9641d63-e1f0-4f68-8d6c-31bbff15133e': ['Y2h1bmtfMF9pbmRleF84'],\n",
       "  '6eebbc97-c048-4252-8dc7-71d46a8b8e7a': ['Y2h1bmtfMF9pbmRleF85'],\n",
       "  '76d1cda1-a562-4821-adbc-fed1ddf40391': ['Y2h1bmtfMF9pbmRleF85'],\n",
       "  'c028aa09-de27-4d76-a096-6f835d17ab5c': ['Y2h1bmtfMV9pbmRleF85'],\n",
       "  'ec308700-0877-45a5-8215-7808e80ab854': ['Y2h1bmtfMV9pbmRleF85'],\n",
       "  '6a9b7045-6aca-4598-b018-081340188e13': ['Y2h1bmtfMF9pbmRleF8xMA=='],\n",
       "  '15e0767f-50f0-4503-a13a-31d88a800473': ['Y2h1bmtfMF9pbmRleF8xMA=='],\n",
       "  '9cd6fa41-2712-48c4-b8f1-5d84be7fb02e': ['Y2h1bmtfMV9pbmRleF8xMA=='],\n",
       "  'a3dc430c-1e85-4cc1-83a4-a8c4f75d281d': ['Y2h1bmtfMV9pbmRleF8xMA=='],\n",
       "  'b0d0b2a5-bdc7-4b61-a881-9ba1f7a54bda': ['Y2h1bmtfMl9pbmRleF8xMA=='],\n",
       "  '52d3b8b2-dd01-4dff-8743-7afd7dc2bf61': ['Y2h1bmtfMl9pbmRleF8xMA=='],\n",
       "  'cfb11d8a-1a6c-457b-bde1-a2daf0b747d5': ['Y2h1bmtfMl9pbmRleF8xMA=='],\n",
       "  'cf7e976d-7eca-4ef5-beac-018178b0fce2': ['Y2h1bmtfM19pbmRleF8xMA=='],\n",
       "  '2583cfbc-4e58-47ce-bf10-1b901e4f5060': ['Y2h1bmtfM19pbmRleF8xMA=='],\n",
       "  '25145a69-dc87-4d70-a983-c558619e4e54': ['Y2h1bmtfM19pbmRleF8xMA=='],\n",
       "  '2da136e5-d997-4c68-ab03-96511139b4e7': ['Y2h1bmtfNF9pbmRleF8xMA=='],\n",
       "  '8dbb86cb-3f34-4bc6-813b-2310f02ff9e9': ['Y2h1bmtfNF9pbmRleF8xMA=='],\n",
       "  '46aa8220-6cd1-467f-bbe9-441749a35eea': ['Y2h1bmtfNV9pbmRleF8xMA=='],\n",
       "  '940d8496-19f5-493c-8815-002dbbbcd6b9': ['Y2h1bmtfNV9pbmRleF8xMA=='],\n",
       "  '8c0a33bd-c350-4ca7-a059-76e28343997c': ['Y2h1bmtfNl9pbmRleF8xMA=='],\n",
       "  'd9db967b-fedd-49ec-b1b6-959880f789ef': ['Y2h1bmtfNl9pbmRleF8xMA=='],\n",
       "  '93dcab03-9d03-4a49-af71-aad0093aed73': ['Y2h1bmtfN19pbmRleF8xMA=='],\n",
       "  '1ddce0b6-5070-425b-bb67-34f8d56b15ca': ['Y2h1bmtfN19pbmRleF8xMA=='],\n",
       "  'a6856bfb-810a-466b-81bc-0a93c93392b7': ['Y2h1bmtfMF9pbmRleF8xMQ=='],\n",
       "  'fee3bd01-4d89-4c83-875f-dfdce40bf9cd': ['Y2h1bmtfMF9pbmRleF8xMQ=='],\n",
       "  '27bbfd52-1d1e-4ad4-a1b9-3b08301848b9': ['Y2h1bmtfMF9pbmRleF8xMg=='],\n",
       "  '43c9b818-621e-4548-86c3-8165ddde0e45': ['Y2h1bmtfMF9pbmRleF8xMg=='],\n",
       "  '985d9f8a-2efd-4aa2-b501-051befe92c14': ['Y2h1bmtfMV9pbmRleF8xMg=='],\n",
       "  'e6b33bc9-044e-4ff3-a64a-f1d4a9d62169': ['Y2h1bmtfMV9pbmRleF8xMg=='],\n",
       "  '24c6c302-7f88-46b1-ac10-8963910a168e': ['Y2h1bmtfMF9pbmRleF8xMw=='],\n",
       "  '816ead79-af97-44dd-ac3b-1c4f8ab25c9b': ['Y2h1bmtfMF9pbmRleF8xMw=='],\n",
       "  '8cef5594-9f9c-425c-809c-669fa1efa9eb': ['Y2h1bmtfMV9pbmRleF8xMw=='],\n",
       "  '1bd54f14-1fe3-41e4-be72-6c86d01909a5': ['Y2h1bmtfMF9pbmRleF8xNA=='],\n",
       "  '837c49dd-db8f-45fa-a42f-8ec65ff921f5': ['Y2h1bmtfMF9pbmRleF8xNA=='],\n",
       "  '3207a0d7-b1fe-48e8-8d0e-63d4432e3fae': ['Y2h1bmtfMF9pbmRleF8xNQ=='],\n",
       "  'aba118a6-945c-4994-bf84-47953da5162e': ['Y2h1bmtfMF9pbmRleF8xNQ=='],\n",
       "  'd23f39d3-1093-49d9-9e37-57a7ebc9524a': ['Y2h1bmtfMF9pbmRleF8xNg=='],\n",
       "  '3f9332d8-65e1-457e-aef4-2f257412d7b1': ['Y2h1bmtfMF9pbmRleF8xNg=='],\n",
       "  'fd7ac01a-d78b-46e1-80e2-222514d12673': ['Y2h1bmtfMV9pbmRleF8xNg=='],\n",
       "  '6571892b-ab3d-4865-8cba-df3d73f4da42': ['Y2h1bmtfMV9pbmRleF8xNg=='],\n",
       "  'f89e3db9-3ab9-4ba5-9433-77e8142c5a6e': ['Y2h1bmtfMF9pbmRleF8xNw=='],\n",
       "  '2e2686be-1b8b-4ce9-bbf6-5f6cbfd09d02': ['Y2h1bmtfMF9pbmRleF8xNw=='],\n",
       "  '6d7ff36e-78ad-4022-8819-0f9e39d0e3cf': ['Y2h1bmtfMV9pbmRleF8xNw=='],\n",
       "  '7ef5e692-d415-4d73-aa55-83251436091c': ['Y2h1bmtfMV9pbmRleF8xNw=='],\n",
       "  '4be2b187-e046-4c0a-8e3a-8e0a521d2708': ['Y2h1bmtfMV9pbmRleF8xNw=='],\n",
       "  '798538d7-ee36-4169-a61e-9b062cfae085': ['Y2h1bmtfMF9pbmRleF8xOA=='],\n",
       "  '0c8be19d-71b8-42e6-9d26-a36f9a8a6f37': ['Y2h1bmtfMF9pbmRleF8xOA=='],\n",
       "  '78e78b4e-1ac5-49fe-9dd1-44c8f4f36c3f': ['Y2h1bmtfMV9pbmRleF8xOA=='],\n",
       "  '93ded6a8-bc9c-4d89-8bfc-7319048defea': ['Y2h1bmtfMV9pbmRleF8xOA=='],\n",
       "  '9034c7cf-d03c-429a-a5c2-3c880ad5812e': ['Y2h1bmtfMl9pbmRleF8xOA=='],\n",
       "  'af2daa13-3b81-43e8-b22e-4adbad428c85': ['Y2h1bmtfMl9pbmRleF8xOA=='],\n",
       "  'ed3cb066-6da1-42ed-92ae-c2f9ae6e46e0': ['Y2h1bmtfMF9pbmRleF8xOQ=='],\n",
       "  '02573db4-db20-46b8-ad4f-75b9c618aaf7': ['Y2h1bmtfMF9pbmRleF8xOQ=='],\n",
       "  '15215c86-129a-48a5-ba22-77f705eb6dd5': ['Y2h1bmtfMV9pbmRleF8xOQ=='],\n",
       "  'ca4ceb90-2673-47eb-a89c-f1d4a1f58eb4': ['Y2h1bmtfMV9pbmRleF8xOQ=='],\n",
       "  'bb0fa903-ecb1-4d5d-bdab-4b264d074074': ['Y2h1bmtfMV9pbmRleF8xOQ=='],\n",
       "  'a5fadcb2-8689-461f-9584-dca1dac2afba': ['Y2h1bmtfMF9pbmRleF8yMA=='],\n",
       "  'd0775627-a5d2-455b-8e33-28ce38d64ad4': ['Y2h1bmtfMF9pbmRleF8yMA==']}}"
      ]
     },
     "execution_count": 23,
     "metadata": {},
     "output_type": "execute_result"
    }
   ],
   "source": [
    "qa_dataset"
   ]
  },
  {
   "cell_type": "code",
   "execution_count": 25,
   "metadata": {},
   "outputs": [],
   "source": [
    "with open('../data/qa_dataset.json', 'w') as json_file:\n",
    "    json.dump(qa_dataset, json_file)"
   ]
  },
  {
   "cell_type": "code",
   "execution_count": 167,
   "metadata": {},
   "outputs": [],
   "source": [
    "qa_test = {'queries': {'q1': 'test 1', \n",
    "             'q2': 'test 2'},\n",
    " 'corpus': {'node_1': 'chunk_1',\n",
    "            'node_2': 'chunk_2'}, \n",
    "'relevant_docs': {'q1': 'text_1',\n",
    "                  'q2': 'text_2'}}"
   ]
  },
  {
   "cell_type": "code",
   "execution_count": 168,
   "metadata": {},
   "outputs": [],
   "source": [
    "queries = {'q3': 'question_3'}\n",
    "node_dict = {'node_3': 'chunk_3'}\n",
    "relevant_docs = {'q3': 'text_3'}"
   ]
  },
  {
   "cell_type": "code",
   "execution_count": 169,
   "metadata": {},
   "outputs": [],
   "source": [
    "qa_test['queries'].update(queries)\n",
    "qa_test['corpus'].update(node_dict)\n",
    "qa_test['relevant_docs'].update(relevant_docs)"
   ]
  },
  {
   "cell_type": "code",
   "execution_count": 170,
   "metadata": {},
   "outputs": [
    {
     "data": {
      "text/plain": [
       "{'queries': {'q1': 'test 1', 'q2': 'test 2', 'q3': 'question_3'},\n",
       " 'corpus': {'node_1': 'chunk_1', 'node_2': 'chunk_2', 'node_3': 'chunk_3'},\n",
       " 'relevant_docs': {'q1': 'text_1', 'q2': 'text_2', 'q3': 'text_3'}}"
      ]
     },
     "execution_count": 170,
     "metadata": {},
     "output_type": "execute_result"
    }
   ],
   "source": [
    "qa_test"
   ]
  }
 ],
 "metadata": {
  "kernelspec": {
   "display_name": "rag_env",
   "language": "python",
   "name": "python3"
  },
  "language_info": {
   "codemirror_mode": {
    "name": "ipython",
    "version": 3
   },
   "file_extension": ".py",
   "mimetype": "text/x-python",
   "name": "python",
   "nbconvert_exporter": "python",
   "pygments_lexer": "ipython3",
   "version": "3.10.11"
  }
 },
 "nbformat": 4,
 "nbformat_minor": 2
}
