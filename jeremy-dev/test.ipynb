{
 "cells": [
  {
   "cell_type": "code",
   "execution_count": 33,
   "metadata": {},
   "outputs": [],
   "source": [
    "import os\n",
    "import pandas as pd\n",
    "import numpy as np\n",
    "import yaml\n",
    "import torch\n",
    "import torch.nn.functional as F\n",
    "from pathlib import Path\n",
    "#from utils import custom_generate_qa_embedding_pairs, display_results, translate_article\n",
    "import asyncio\n",
    "\n",
    "# Transformers\n",
    "from transformers import AutoTokenizer, AutoModel\n",
    "from sentence_transformers import SentenceTransformer\n",
    "\n",
    "\n",
    "from llama_index.schema import MetadataMode, TextNode\n",
    "from llama_index import VectorStoreIndex, SimpleDirectoryReader, ServiceContext\n",
    "from llama_index.readers.database import DatabaseReader\n",
    "from llama_index.node_parser import SimpleNodeParser\n",
    "from llama_index import download_loader\n",
    "\n",
    "\n",
    "#LLM\n",
    "from huggingface_hub import InferenceClient\n",
    "\n",
    "# Embeddings\n",
    "from llama_index.embeddings.huggingface import HuggingFaceEmbedding\n",
    "from huggingface_hub import InferenceClient\n",
    "\n",
    "\n",
    "# Retrievers\n",
    "from llama_index.retrievers import (\n",
    "    BaseRetriever,\n",
    "    VectorIndexRetriever,\n",
    ")\n",
    "\n",
    "# Evaluator\n",
    "from llama_index.evaluation import (\n",
    "    generate_question_context_pairs,\n",
    "    EmbeddingQAFinetuneDataset,\n",
    "    RetrieverEvaluator\n",
    ")"
   ]
  },
  {
   "cell_type": "code",
   "execution_count": 2,
   "metadata": {},
   "outputs": [],
   "source": [
    "# Load hugging Face token\n",
    "with open('../config.yaml', 'r') as config_file:\n",
    "        config = yaml.safe_load(config_file)\n",
    "hugging_face_api_key = config['huggingface']['token_api']"
   ]
  },
  {
   "cell_type": "code",
   "execution_count": 3,
   "metadata": {},
   "outputs": [],
   "source": [
    "MarkdownReader = download_loader(\"MarkdownReader\")\n",
    "loader = MarkdownReader()"
   ]
  },
  {
   "cell_type": "code",
   "execution_count": 4,
   "metadata": {},
   "outputs": [],
   "source": [
    "documents = loader.load_data(file=Path('./managing-your-subscriptions.md'))"
   ]
  },
  {
   "cell_type": "code",
   "execution_count": 5,
   "metadata": {},
   "outputs": [
    {
     "data": {
      "text/plain": [
       "'\\n\\nChoosing how to unsubscribe\\n\\nTo unwatch (or unsubscribe from) repositories quickly, navigate to github.com/watching to see all the repositories you\\'re following. For more information, see \"Unwatching repositories.\"\\n\\nTo unsubscribe from multiple notifications at the same time, you can unsubscribe using your inbox or on the subscriptions page. Both of these options offer more context about your subscriptions than the \"Watched repositories\" page.\\n\\n\\n\\nBenefits of unsubscribing from your inbox\\n\\nWhen you unsubscribe from notifications in your inbox, you have several other triaging options and can filter your notifications by custom filters and discussion types. For more information, see \"AUTOTITLE.\"\\n\\n\\n\\nBenefits of unsubscribing from the subscriptions page\\n\\nWhen you unsubscribe from notifications on the subscriptions page, you can see more of the notifications you\\'re subscribed to and sort them by \"Most recently subscribed\" or \"Least recently subscribed\".\\n\\nThe subscriptions page shows you all of the notifications that you\\'re currently subscribed to, including notifications that you have marked as **Done** in your inbox.\\n\\nYou can only filter your subscriptions by repository and the reason you\\'re receiving the notification.\\n\\n\\n\\nUnsubscribing from notifications in your inbox\\n\\nWhen you unsubscribe from notifications in your inbox, they will automatically disappear from your inbox.\\n\\n{% data reusables.notifications.access_notifications %}\\n1. From the notifications inbox, select the notifications you want to unsubscribe to.\\n1. Click **Unsubscribe.**\\n\\n   !Screenshot of the \"Notifications\" page. A button, titled \"Unsubscribe\", is highlighted with an orange outline.\\n\\n\\n\\nUnsubscribing from notifications on the subscriptions page\\n\\n{% data reusables.notifications.access_notifications %}\\n1. In the left sidebar, under the list of repositories, select the \"Manage notifications\" dropdown menu and click **Subscriptions**.\\n\\n   !Screenshot of the \"Notifications\" page. A dropdown menu, titled \"Manage notifications\", is highlighted with an orange outline.\\n\\n1. Select the notifications you want to unsubscribe from. In the top right, click **Unsubscribe**.\\n\\n\\n\\nUnwatching repositories\\n\\nWhen you unwatch a repository, you unsubscribe from future updates from that repository unless you participate in a conversation or are @mentioned.\\n\\n{% data reusables.notifications.access_notifications %}\\n1. In the left sidebar, under the list of repositories, select the \"Manage notifications\" dropdown menu and click **Watched repositories**.\\n\\n   !Screenshot of the \"Notifications\" page. A dropdown menu, titled \"Manage notifications\", is highlighted with an orange outline.\\n\\n1. On the watched repositories page, after you\\'ve evaluated the repositories you\\'re watching, choose whether to:\\n\\n   - Unwatch a repository by choosing to only receive notifications when participating or mentioned\\n   - Ignore all notifications for a repository\\n   - If enabled, customize the types of event you receive notifications for ({% data reusables.notifications-v2.custom-notification-types %})\\n\\n1. Optionally, to unsubscribe from all repositories owned by a given user or organization, select the **Unwatch all** dropdown and click the organization whose repositories you\\'d like to unsubscribe from. The button to unwatch all repositories is only available if you are watching all activity or custom notifications on over 10 repositories.\\n\\n   !Screenshot of the \"Watching\" page. A button, titled \"Unwatch all\", is highlighted with an orange outline.\\n\\n   - Click **Unwatch** to confirm that you want to unwatch the repositories owned by the selected user or organization, or click **Cancel** to cancel.\\n\\n'"
      ]
     },
     "execution_count": 5,
     "metadata": {},
     "output_type": "execute_result"
    }
   ],
   "source": [
    "text = \"\"\n",
    "for i in range( len(documents)):\n",
    "    text =  text + documents[i].get_text()\n",
    "text"
   ]
  },
  {
   "cell_type": "code",
   "execution_count": 6,
   "metadata": {},
   "outputs": [],
   "source": [
    "with open(\"test_doc.txt\", 'w') as fichier:\n",
    "    fichier.write(text)\n",
    "    fichier.close()"
   ]
  },
  {
   "cell_type": "code",
   "execution_count": 7,
   "metadata": {},
   "outputs": [],
   "source": [
    "def load_docs(file_path : str)->str:\n",
    "    doc = \"\"\n",
    "    # Initialise loader and load documents from specified documents\n",
    "    MarkdownReader = download_loader(\"MarkdownReader\")\n",
    "    loader = MarkdownReader()\n",
    "    documents = loader.load_data(file=Path(file_path))\n",
    "\n",
    "    for i in range(len(documents)):\n",
    "        doc =  doc + documents[i].get_text()\n",
    "    return doc"
   ]
  },
  {
   "cell_type": "code",
   "execution_count": 22,
   "metadata": {},
   "outputs": [],
   "source": [
    "def explore_folders(root_dir):\n",
    "    docs = []\n",
    "    titles = []\n",
    "    for foldername, subfolders, filenames in os.walk(root_dir):\n",
    "        for filename in filenames:\n",
    "            if filename.endswith('.md') and filename != 'index.md':\n",
    "                file_path = os.path.join(foldername, filename)\n",
    "                doc = load_docs(file_path=file_path)\n",
    "                docs.append(doc)\n",
    "                titles.append(filename[:-3])\n",
    "    return docs, titles"
   ]
  },
  {
   "cell_type": "code",
   "execution_count": 23,
   "metadata": {},
   "outputs": [],
   "source": [
    "for theme_folder in os.listdir('../content'):\n",
    "    if theme_folder.endswith(\".md\") != True:\n",
    "        explore_folders(theme_folder)"
   ]
  },
  {
   "cell_type": "code",
   "execution_count": 24,
   "metadata": {},
   "outputs": [],
   "source": [
    "docs, titles = explore_folders(os.path.dirname(os.getcwd()) + \"\\content\\\\\" + os.listdir('../content')[0])"
   ]
  },
  {
   "cell_type": "code",
   "execution_count": 25,
   "metadata": {},
   "outputs": [
    {
     "data": {
      "text/plain": [
       "['managing-your-subscriptions',\n",
       " 'viewing-your-subscriptions',\n",
       " 'about-notifications',\n",
       " 'configuring-notifications',\n",
       " 'customizing-a-workflow-for-triaging-your-notifications',\n",
       " 'managing-notifications-from-your-inbox',\n",
       " 'triaging-a-single-notification',\n",
       " 'about-your-organizations-profile',\n",
       " 'about-your-profile',\n",
       " 'managing-your-profile-readme',\n",
       " 'personalizing-your-profile',\n",
       " 'pinning-items-to-your-profile',\n",
       " 'setting-your-profile-to-private',\n",
       " 'sending-enterprise-contributions-to-your-githubcom-profile',\n",
       " 'showing-an-overview-of-your-activity-on-your-profile',\n",
       " 'showing-your-private-contributions-and-achievements-on-your-profile',\n",
       " 'troubleshooting-commits-on-your-timeline',\n",
       " 'viewing-contributions-on-your-profile',\n",
       " 'why-are-my-contributions-not-showing-up-on-my-profile',\n",
       " 'inviting-collaborators-to-a-personal-repository',\n",
       " 'maintaining-ownership-continuity-of-your-personal-accounts-repositories',\n",
       " 'removing-a-collaborator-from-a-personal-repository',\n",
       " 'removing-yourself-from-a-collaborators-repository',\n",
       " 'adding-an-email-address-to-your-github-account',\n",
       " 'blocking-command-line-pushes-that-expose-your-personal-email-address',\n",
       " 'changing-your-primary-email-address',\n",
       " 'managing-marketing-emails-from-github',\n",
       " 'remembering-your-github-username-or-email',\n",
       " 'setting-a-backup-email-address',\n",
       " 'setting-your-commit-email-address',\n",
       " 'types-of-emails-github-sends',\n",
       " 'verifying-your-email-address',\n",
       " 'about-your-personal-dashboard',\n",
       " 'changing-your-github-username',\n",
       " 'integrating-jira-with-your-personal-projects',\n",
       " 'managing-access-to-your-personal-accounts-project-boards',\n",
       " 'managing-accessibility-settings',\n",
       " 'managing-security-and-analysis-settings-for-your-personal-account',\n",
       " 'managing-the-default-branch-name-for-your-repositories',\n",
       " 'managing-your-cookie-preferences-for-githubs-enterprise-marketing-pages',\n",
       " 'managing-your-tab-size-rendering-preference',\n",
       " 'permission-levels-for-a-personal-account-repository',\n",
       " 'permission-levels-for-a-project-board-owned-by-a-personal-account',\n",
       " 'what-does-the-available-for-hire-checkbox-do',\n",
       " 'about-organization-membership',\n",
       " 'accessing-an-organization',\n",
       " 'managing-your-scheduled-reminders',\n",
       " 'publicizing-or-hiding-organization-membership',\n",
       " 'removing-yourself-from-an-organization',\n",
       " 'requesting-organization-approval-for-oauth-apps',\n",
       " 'viewing-peoples-roles-in-an-organization',\n",
       " 'best-practices-for-leaving-your-company',\n",
       " 'converting-a-user-into-an-organization',\n",
       " 'deleting-your-personal-account',\n",
       " 'managing-multiple-accounts',\n",
       " 'merging-multiple-personal-accounts',\n",
       " 'unlinking-your-email-address-from-a-locked-account']"
      ]
     },
     "execution_count": 25,
     "metadata": {},
     "output_type": "execute_result"
    }
   ],
   "source": [
    "titles"
   ]
  },
  {
   "cell_type": "code",
   "execution_count": 27,
   "metadata": {},
   "outputs": [
    {
     "data": {
      "text/plain": [
       "57"
      ]
     },
     "execution_count": 27,
     "metadata": {},
     "output_type": "execute_result"
    }
   ],
   "source": [
    "len(docs)"
   ]
  },
  {
   "cell_type": "code",
   "execution_count": 34,
   "metadata": {},
   "outputs": [],
   "source": [
    "folders = os.listdir('../content')\n",
    "docs = []\n",
    "titles = []\n",
    "root_directory = os.path.dirname(os.getcwd()) + \"\\content\\\\\" \n",
    "for folder in folders:\n",
    "    if theme_folder.endswith(\".md\") != True:\n",
    "        docs__in_folder, titles_in_folder = explore_folders(root_directory + folder)\n",
    "        docs = docs + docs__in_folder\n",
    "        titles = titles + titles_in_folder"
   ]
  },
  {
   "cell_type": "code",
   "execution_count": 36,
   "metadata": {},
   "outputs": [
    {
     "data": {
      "text/plain": [
       "2138"
      ]
     },
     "execution_count": 36,
     "metadata": {},
     "output_type": "execute_result"
    }
   ],
   "source": [
    "len(titles)"
   ]
  },
  {
   "cell_type": "code",
   "execution_count": 40,
   "metadata": {},
   "outputs": [],
   "source": [
    "df = pd.DataFrame({'content': docs, 'title': titles})"
   ]
  },
  {
   "cell_type": "code",
   "execution_count": 41,
   "metadata": {},
   "outputs": [
    {
     "data": {
      "text/html": [
       "<div>\n",
       "<style scoped>\n",
       "    .dataframe tbody tr th:only-of-type {\n",
       "        vertical-align: middle;\n",
       "    }\n",
       "\n",
       "    .dataframe tbody tr th {\n",
       "        vertical-align: top;\n",
       "    }\n",
       "\n",
       "    .dataframe thead th {\n",
       "        text-align: right;\n",
       "    }\n",
       "</style>\n",
       "<table border=\"1\" class=\"dataframe\">\n",
       "  <thead>\n",
       "    <tr style=\"text-align: right;\">\n",
       "      <th></th>\n",
       "      <th>content</th>\n",
       "      <th>title</th>\n",
       "    </tr>\n",
       "  </thead>\n",
       "  <tbody>\n",
       "    <tr>\n",
       "      <th>0</th>\n",
       "      <td>\\n\\nChoosing how to unsubscribe\\n\\nTo unwatch ...</td>\n",
       "      <td>managing-your-subscriptions</td>\n",
       "    </tr>\n",
       "    <tr>\n",
       "      <th>1</th>\n",
       "      <td>\\n\\nDiagnosing why you receive too many notifi...</td>\n",
       "      <td>viewing-your-subscriptions</td>\n",
       "    </tr>\n",
       "    <tr>\n",
       "      <th>2</th>\n",
       "      <td>\\n\\nNotifications and subscriptions\\n\\nYou can...</td>\n",
       "      <td>about-notifications</td>\n",
       "    </tr>\n",
       "    <tr>\n",
       "      <th>3</th>\n",
       "      <td>\\n\\nNotification delivery options\\n\\nYou can r...</td>\n",
       "      <td>configuring-notifications</td>\n",
       "    </tr>\n",
       "    <tr>\n",
       "      <th>4</th>\n",
       "      <td>\\n\\nStarting your inbox triage\\n\\nBefore you s...</td>\n",
       "      <td>customizing-a-workflow-for-triaging-your-notif...</td>\n",
       "    </tr>\n",
       "    <tr>\n",
       "      <th>...</th>\n",
       "      <td>...</td>\n",
       "      <td>...</td>\n",
       "    </tr>\n",
       "    <tr>\n",
       "      <th>2133</th>\n",
       "      <td>\\n\\nAbout disabling webhooks\\n\\n{% ifversion f...</td>\n",
       "      <td>disabling-webhooks</td>\n",
       "    </tr>\n",
       "    <tr>\n",
       "      <th>2134</th>\n",
       "      <td>\\n\\nAbout editing webhooks\\n\\nYou can edit a w...</td>\n",
       "      <td>editing-webhooks</td>\n",
       "    </tr>\n",
       "    <tr>\n",
       "      <th>2135</th>\n",
       "      <td>\\n\\nAbout webhook delivery failures\\n\\nA webho...</td>\n",
       "      <td>handling-failed-webhook-deliveries</td>\n",
       "    </tr>\n",
       "    <tr>\n",
       "      <th>2136</th>\n",
       "      <td>\\n\\nIntroduction\\n\\nWhen you create a webhook,...</td>\n",
       "      <td>handling-webhook-deliveries</td>\n",
       "    </tr>\n",
       "    <tr>\n",
       "      <th>2137</th>\n",
       "      <td>\\n\\nAbout validating webhook deliveries\\n\\nOnc...</td>\n",
       "      <td>validating-webhook-deliveries</td>\n",
       "    </tr>\n",
       "  </tbody>\n",
       "</table>\n",
       "<p>2138 rows × 2 columns</p>\n",
       "</div>"
      ],
      "text/plain": [
       "                                                content  \\\n",
       "0     \\n\\nChoosing how to unsubscribe\\n\\nTo unwatch ...   \n",
       "1     \\n\\nDiagnosing why you receive too many notifi...   \n",
       "2     \\n\\nNotifications and subscriptions\\n\\nYou can...   \n",
       "3     \\n\\nNotification delivery options\\n\\nYou can r...   \n",
       "4     \\n\\nStarting your inbox triage\\n\\nBefore you s...   \n",
       "...                                                 ...   \n",
       "2133  \\n\\nAbout disabling webhooks\\n\\n{% ifversion f...   \n",
       "2134  \\n\\nAbout editing webhooks\\n\\nYou can edit a w...   \n",
       "2135  \\n\\nAbout webhook delivery failures\\n\\nA webho...   \n",
       "2136  \\n\\nIntroduction\\n\\nWhen you create a webhook,...   \n",
       "2137  \\n\\nAbout validating webhook deliveries\\n\\nOnc...   \n",
       "\n",
       "                                                  title  \n",
       "0                           managing-your-subscriptions  \n",
       "1                            viewing-your-subscriptions  \n",
       "2                                   about-notifications  \n",
       "3                             configuring-notifications  \n",
       "4     customizing-a-workflow-for-triaging-your-notif...  \n",
       "...                                                 ...  \n",
       "2133                                 disabling-webhooks  \n",
       "2134                                   editing-webhooks  \n",
       "2135                 handling-failed-webhook-deliveries  \n",
       "2136                        handling-webhook-deliveries  \n",
       "2137                      validating-webhook-deliveries  \n",
       "\n",
       "[2138 rows x 2 columns]"
      ]
     },
     "execution_count": 41,
     "metadata": {},
     "output_type": "execute_result"
    }
   ],
   "source": [
    "df"
   ]
  },
  {
   "cell_type": "code",
   "execution_count": 44,
   "metadata": {},
   "outputs": [],
   "source": [
    "df.to_csv(\"../data/documents.csv\")"
   ]
  },
  {
   "cell_type": "code",
   "execution_count": 3,
   "metadata": {},
   "outputs": [],
   "source": [
    "inference = InferenceClient(token=hugging_face_api_key)\n",
    "model_zephyr =\"HuggingFaceH4/zephyr-7b-beta\"\n",
    "model_mistral = \"mistralai/Mistral-7B-v0.1\"\n",
    "model_falcon = \"tiiuae/falcon-7b-instruct\"\n",
    "model_open = \"openchat/openchat_3.5\""
   ]
  },
  {
   "cell_type": "code",
   "execution_count": 4,
   "metadata": {},
   "outputs": [
    {
     "data": {
      "text/plain": [
       "\"?\\n\\nFootball is a sport that is played by two teams of eleven players each. The objective of the game is to score goals by kicking a ball into the opposing team's goal. The team with the most goals at the end\""
      ]
     },
     "execution_count": 4,
     "metadata": {},
     "output_type": "execute_result"
    }
   ],
   "source": [
    "inference.text_generation(prompt=\"What is football\", model=model_zephyr, max_new_tokens=50)"
   ]
  },
  {
   "cell_type": "code",
   "execution_count": 8,
   "metadata": {},
   "outputs": [],
   "source": [
    "MiniLM_FR = HuggingFaceEmbedding(model_name=\"../biencoder-MiniLM-L6-all-v2-mmarcoFR\")"
   ]
  },
  {
   "cell_type": "code",
   "execution_count": 11,
   "metadata": {},
   "outputs": [],
   "source": [
    "sentences = ['This is an example sentence', 'Each sentence is converted']"
   ]
  },
  {
   "cell_type": "code",
   "execution_count": 12,
   "metadata": {},
   "outputs": [
    {
     "data": {
      "text/plain": [
       "(2, 384)"
      ]
     },
     "execution_count": 12,
     "metadata": {},
     "output_type": "execute_result"
    }
   ],
   "source": [
    "np.array(MiniLM_FR._get_text_embeddings(sentences)).shape"
   ]
  },
  {
   "cell_type": "code",
   "execution_count": 4,
   "metadata": {},
   "outputs": [],
   "source": [
    "model_L6_v2 = SentenceTransformer('sentence-transformers/all-MiniLM-L6-v2')"
   ]
  },
  {
   "cell_type": "code",
   "execution_count": 7,
   "metadata": {},
   "outputs": [
    {
     "data": {
      "text/plain": [
       "(2, 384)"
      ]
     },
     "execution_count": 7,
     "metadata": {},
     "output_type": "execute_result"
    }
   ],
   "source": [
    "model_L6_v2.encode(sentences).shape"
   ]
  },
  {
   "cell_type": "code",
   "execution_count": 15,
   "metadata": {},
   "outputs": [],
   "source": [
    "model_mpnet = SentenceTransformer('sentence-transformers/all-mpnet-base-v2')"
   ]
  },
  {
   "cell_type": "code",
   "execution_count": 14,
   "metadata": {},
   "outputs": [
    {
     "data": {
      "text/plain": [
       "(2, 384)"
      ]
     },
     "execution_count": 14,
     "metadata": {},
     "output_type": "execute_result"
    }
   ],
   "source": [
    "model_mpnet.encode(sentences).shape"
   ]
  },
  {
   "cell_type": "code",
   "execution_count": null,
   "metadata": {},
   "outputs": [],
   "source": []
  }
 ],
 "metadata": {
  "kernelspec": {
   "display_name": "rag_env",
   "language": "python",
   "name": "python3"
  },
  "language_info": {
   "codemirror_mode": {
    "name": "ipython",
    "version": 3
   },
   "file_extension": ".py",
   "mimetype": "text/x-python",
   "name": "python",
   "nbconvert_exporter": "python",
   "pygments_lexer": "ipython3",
   "version": "3.10.11"
  }
 },
 "nbformat": 4,
 "nbformat_minor": 2
}
