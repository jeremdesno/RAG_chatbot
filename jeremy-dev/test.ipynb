{
 "cells": [
  {
   "cell_type": "code",
   "execution_count": 69,
   "metadata": {},
   "outputs": [],
   "source": [
    "import pandas as pd\n",
    "import numpy as np\n",
    "import yaml\n",
    "\n",
    "#from utils import custom_generate_qa_embedding_pairs, display_results, translate_article\n",
    "import asyncio\n",
    "\n",
    "# Transformers\n",
    "from transformers import AutoTokenizer, AutoModel\n",
    "\n",
    "# Datastores\n",
    "from llama_index.schema import MetadataMode, TextNode\n",
    "from llama_index import VectorStoreIndex, SimpleDirectoryReader, ServiceContext\n",
    "from llama_index.readers.database import DatabaseReader\n",
    "from llama_index.node_parser import SimpleNodeParser\n",
    "\n",
    "\n",
    "#LLM\n",
    "from huggingface_hub import InferenceClient\n",
    "\n",
    "# Embeddings\n",
    "from llama_index.embeddings.huggingface import HuggingFaceEmbedding\n",
    "from huggingface_hub import InferenceClient\n",
    "\n",
    "\n",
    "# Retrievers\n",
    "from llama_index.retrievers import (\n",
    "    BaseRetriever,\n",
    "    VectorIndexRetriever,\n",
    ")\n",
    "\n",
    "# Evaluator\n",
    "from llama_index.evaluation import (\n",
    "    generate_question_context_pairs,\n",
    "    EmbeddingQAFinetuneDataset,\n",
    "    RetrieverEvaluator\n",
    ")"
   ]
  },
  {
   "cell_type": "code",
   "execution_count": 3,
   "metadata": {},
   "outputs": [],
   "source": [
    "# Load hugging Face token\n",
    "with open('../config.yaml', 'r') as config_file:\n",
    "        config = yaml.safe_load(config_file)\n",
    "hugging_face_api_key = config['huggingface']['token_api']"
   ]
  },
  {
   "cell_type": "code",
   "execution_count": 10,
   "metadata": {},
   "outputs": [],
   "source": [
    "inference = InferenceClient(token=hugging_face_api_key)\n",
    "model_zephyr =\"HuggingFaceH4/zephyr-7b-beta\"\n",
    "model_mistral = \"mistralai/Mistral-7B-v0.1\"\n",
    "model_falcon = \"tiiuae/falcon-7b-instruct\"\n",
    "model_open = \"openchat/openchat_3.5\""
   ]
  },
  {
   "cell_type": "code",
   "execution_count": 5,
   "metadata": {},
   "outputs": [
    {
     "data": {
      "text/plain": [
       "\"?\\n\\nFootball is a sport that is played by two teams of eleven players each. The objective of the game is to score goals by kicking a ball into the opposing team's goal. The team with the most goals at the end\""
      ]
     },
     "execution_count": 5,
     "metadata": {},
     "output_type": "execute_result"
    }
   ],
   "source": [
    "inference.text_generation(prompt=\"What is football\", model=model_zephyr, max_new_tokens=50)"
   ]
  },
  {
   "cell_type": "code",
   "execution_count": 66,
   "metadata": {},
   "outputs": [
    {
     "name": "stderr",
     "output_type": "stream",
     "text": [
      "c:\\Users\\jjdes\\Desktop\\RAG_chatbot\\rag_env\\lib\\site-packages\\torch\\_utils.py:147: UserWarning: Failed to initialize NumPy: module compiled against API version 0x10 but this version of numpy is 0xf . Check the section C-API incompatibility at the Troubleshooting ImportError section at https://numpy.org/devdocs/user/troubleshooting-importerror.html#c-api-incompatibility for indications on how to solve this problem . (Triggered internally at ..\\torch\\csrc\\utils\\tensor_numpy.cpp:84.)\n",
      "  t = torch.tensor([], dtype=storage.dtype, device=storage._untyped_storage.device)\n"
     ]
    }
   ],
   "source": [
    "MiniLM = HuggingFaceEmbedding(model_name=\"../biencoder-MiniLM-L6-all-v2-mmarcoFR\")"
   ]
  },
  {
   "cell_type": "code",
   "execution_count": 72,
   "metadata": {},
   "outputs": [
    {
     "data": {
      "text/plain": [
       "array([-4.04974110e-02,  2.88050566e-02,  2.16684602e-02, -2.58591864e-02,\n",
       "        1.14516504e-01, -1.09572662e-04, -2.75964569e-02, -2.71059405e-02,\n",
       "        5.24314679e-02,  2.23030560e-02, -2.51390710e-02, -2.35358719e-04,\n",
       "        5.26961917e-03,  2.00701691e-02, -2.21054703e-02, -3.19940858e-02,\n",
       "       -7.31291100e-02, -1.55673660e-02, -3.47112454e-02,  2.60234699e-02,\n",
       "       -2.08590534e-02,  1.36282435e-02,  5.95490076e-02,  5.91710471e-02,\n",
       "       -4.42102775e-02, -4.81527932e-02, -1.59688089e-02,  2.05190908e-02,\n",
       "       -2.76264437e-02, -1.27454996e-01,  6.27556397e-03, -4.90304362e-03,\n",
       "       -9.83537082e-03,  4.18716483e-02, -6.20549582e-02, -2.40345821e-02,\n",
       "        3.23005617e-02,  1.11094080e-02, -3.98838408e-02,  6.90663904e-02,\n",
       "       -4.95161191e-02, -6.48110360e-02, -2.33934466e-02,  1.22440071e-03,\n",
       "        6.23595938e-02,  8.53104368e-02,  9.75159090e-03, -2.08900999e-02,\n",
       "       -3.97568159e-02,  1.97258312e-02, -4.33817739e-03, -1.30819837e-02,\n",
       "        5.89441657e-02, -3.98149788e-02,  7.21115470e-02, -1.92582570e-02,\n",
       "       -2.42965203e-03,  1.50242439e-02,  6.56387303e-03, -1.47610204e-02,\n",
       "        8.74008983e-02, -4.95555345e-03, -5.62077425e-02, -3.98757905e-02,\n",
       "       -9.32566915e-03, -6.60689399e-02,  1.28916102e-02, -4.55127507e-02,\n",
       "        1.24930544e-03, -4.33537690e-03, -2.78593395e-02, -9.79975797e-03,\n",
       "        5.41510992e-02,  8.11512524e-04,  1.27821695e-02,  9.36092809e-02,\n",
       "       -6.76522031e-02,  6.33597001e-02,  8.59854557e-03, -1.27514657e-02,\n",
       "       -1.03563182e-02, -1.59066468e-02,  2.59136576e-02, -4.31979559e-02,\n",
       "        5.33268452e-02, -1.71818975e-02,  6.10736609e-02,  5.43134138e-02,\n",
       "        5.67533411e-02,  2.73958389e-02, -6.75637126e-02, -4.29034233e-02,\n",
       "        4.07189839e-02,  8.39746743e-02, -3.36700268e-02,  3.61155868e-02,\n",
       "       -1.27955535e-02, -4.13682461e-02, -7.82329366e-02,  6.45963430e-01,\n",
       "       -2.62817256e-02,  2.26389915e-02, -5.04780852e-04,  4.45629843e-02,\n",
       "        5.00524156e-02,  4.04691808e-02,  1.44655667e-02,  2.53867693e-02,\n",
       "        1.46208424e-02, -5.05315419e-03,  2.58260816e-02,  4.13346775e-02,\n",
       "       -2.15255860e-02,  4.78629459e-04, -4.09876443e-02,  4.95252796e-02,\n",
       "       -3.22228074e-02,  1.12049759e-03,  2.50221211e-02,  2.94065196e-02,\n",
       "        8.71752482e-03, -1.69695751e-03, -6.68807179e-02,  1.05396416e-02,\n",
       "        2.27119606e-02, -1.00817084e-01,  5.17355427e-02, -1.44333742e-43,\n",
       "        5.55149391e-02,  7.53636956e-02,  6.93308748e-03, -4.32325341e-02,\n",
       "       -1.94717739e-02,  7.54346326e-02, -2.96485145e-02,  2.80070603e-02,\n",
       "       -3.76286693e-02, -2.67960466e-02, -3.90846878e-02,  5.55576831e-02,\n",
       "        4.02883366e-02, -6.73641590e-03,  2.55603250e-02, -2.57157553e-02,\n",
       "        2.45593861e-02,  1.54677154e-02,  1.06955960e-03,  3.02173160e-02,\n",
       "        5.40891774e-02, -1.31238131e-02,  5.96460560e-03, -1.31502245e-02,\n",
       "        6.16014339e-02,  1.84274316e-02, -2.61927210e-02, -1.92920992e-03,\n",
       "        1.73026938e-02, -3.53749543e-02,  1.59790851e-02, -3.86835784e-02,\n",
       "       -3.46693099e-02,  1.48362787e-02,  3.86504340e-03, -4.58401032e-02,\n",
       "        3.53337862e-02,  2.46132333e-02,  5.30156642e-02, -2.98471358e-02,\n",
       "        4.59810682e-02, -5.75128756e-02,  1.22763254e-02, -3.54071409e-02,\n",
       "       -3.62347364e-02, -1.99526884e-02,  3.68917510e-02, -1.18078524e-02,\n",
       "       -9.44359042e-03, -4.43276241e-02,  6.05487712e-02, -1.15365759e-02,\n",
       "        6.70653116e-03, -5.42496005e-03,  3.70825827e-02,  1.42725715e-02,\n",
       "       -2.40220223e-02,  1.00124246e-02,  5.37782558e-04, -6.14594296e-02,\n",
       "       -2.29524560e-02, -1.54419681e-02, -1.70133561e-02,  2.15276871e-02,\n",
       "       -2.67325365e-03, -2.22798195e-02, -3.31833549e-02, -7.39988079e-03,\n",
       "       -2.87227146e-02, -4.32669334e-02,  2.21253862e-03, -2.80337632e-02,\n",
       "        3.18206400e-02,  6.24030968e-03, -3.02622169e-02,  1.53477229e-02,\n",
       "        7.77390553e-03,  2.68051606e-02,  8.79117101e-03,  1.70547459e-02,\n",
       "       -6.04505017e-02, -3.11304303e-03, -4.43396494e-02,  1.83743529e-03,\n",
       "        2.49583885e-04, -1.30771771e-02,  7.26884184e-03, -1.18968412e-02,\n",
       "        5.87712191e-02, -4.97433469e-02, -4.34870757e-02, -3.30073275e-02,\n",
       "       -1.31558776e-02, -1.08815301e-02,  2.13552825e-03,  9.37776418e-19,\n",
       "        1.13971028e-02,  1.08666070e-01, -5.30031323e-03, -3.35827214e-03,\n",
       "        3.32761407e-02, -1.85225196e-02,  8.22672620e-02, -1.62298046e-02,\n",
       "        2.21411549e-02,  3.52355791e-03, -4.30562682e-02, -4.14900966e-02,\n",
       "        1.40703712e-02,  1.81909390e-02, -1.73204765e-02, -4.25223112e-02,\n",
       "       -9.59307479e-04, -1.09074383e-04,  4.04863544e-02,  2.06618346e-02,\n",
       "        3.49926017e-02, -1.91567559e-02, -9.07767843e-03, -1.97373070e-02,\n",
       "       -4.03799526e-02,  6.82349503e-02,  2.19630264e-02, -2.85108164e-02,\n",
       "       -6.20494485e-02,  7.41529418e-03,  5.10027781e-02, -3.43348011e-02,\n",
       "        1.04628420e-02, -3.69204134e-02, -2.93500852e-02,  2.60053948e-02,\n",
       "       -7.71649256e-02,  3.26393507e-02,  2.03923564e-02,  1.45975742e-02,\n",
       "        8.13711528e-03, -4.20092195e-02, -3.72720324e-02, -5.53173497e-02,\n",
       "        6.86623110e-03, -2.72636916e-02, -3.08794994e-03, -2.89772786e-02,\n",
       "       -5.08507080e-02,  3.05559356e-02,  1.01812584e-02,  7.40664303e-02,\n",
       "       -5.16207889e-02,  3.25619080e-03, -1.08145457e-02, -9.01457295e-03,\n",
       "       -7.45163932e-02,  3.40453051e-02, -7.75595158e-02,  1.56245539e-02,\n",
       "        3.34291384e-02,  9.66965705e-02, -3.24496403e-02,  5.34110665e-02,\n",
       "        5.64012863e-03,  8.40592477e-03, -8.02651271e-02, -1.16003137e-02,\n",
       "       -2.49765161e-02, -5.39898640e-03, -4.00967477e-03,  2.94649764e-03,\n",
       "       -1.65969162e-04,  7.32234046e-02,  7.95377232e-03, -6.07308513e-03,\n",
       "       -3.26487198e-02,  1.90628134e-02,  1.73824001e-02,  4.16769274e-02,\n",
       "        1.73704308e-02, -1.14845224e-01,  1.50992274e-02,  5.96523248e-02,\n",
       "       -3.00296601e-02,  5.05990870e-02, -2.17705034e-02, -4.03266307e-03,\n",
       "        7.25907311e-02, -1.11562209e-02,  4.80961986e-02, -1.45593947e-02,\n",
       "       -9.49991867e-03,  1.12991901e-02,  9.97001231e-02, -3.09455864e-16,\n",
       "       -3.16458493e-02,  4.51106913e-02, -2.77218353e-02,  3.65179777e-02,\n",
       "       -4.07611532e-03, -7.66839236e-02,  3.65416557e-02,  1.71345391e-03,\n",
       "        2.06219219e-02, -4.74614985e-02, -4.78416644e-02, -1.56777576e-02,\n",
       "        3.89391836e-03,  2.84724887e-02,  1.99013315e-02,  2.11181603e-02,\n",
       "       -4.30946015e-02, -2.00241841e-02,  1.97527278e-02,  5.83463833e-02,\n",
       "        2.61522960e-02, -1.82717778e-02,  3.89809310e-02, -2.69815773e-02,\n",
       "        4.35959920e-02, -1.14321910e-01,  1.37081910e-02, -6.75028339e-02,\n",
       "       -4.83957753e-02,  2.06587501e-02,  7.13380575e-02,  5.12261223e-03,\n",
       "        6.22883290e-02,  4.30632941e-03,  2.22368184e-02,  1.91464592e-02,\n",
       "        1.38743557e-02, -2.62456629e-02,  1.23642059e-02,  1.79550815e-02,\n",
       "       -4.44753245e-02,  1.82902440e-02, -1.86084323e-02, -6.93834051e-02,\n",
       "        1.79564189e-02,  6.52539218e-03, -2.61920393e-02, -3.04147843e-02,\n",
       "       -2.35890038e-02, -8.52264464e-02, -9.36910417e-03,  9.48587433e-02,\n",
       "       -2.18621246e-03,  2.03667842e-02,  2.49444991e-02,  3.12434882e-02,\n",
       "       -6.04043938e-02, -6.79871021e-03,  1.71438698e-02, -3.68209146e-02,\n",
       "       -3.34758908e-02, -3.12803574e-02, -6.68400992e-03, -2.84631383e-02])"
      ]
     },
     "execution_count": 72,
     "metadata": {},
     "output_type": "execute_result"
    }
   ],
   "source": [
    "np.array(MiniLM._get_text_embedding(\"L'equipe de france de foot\"))"
   ]
  },
  {
   "cell_type": "code",
   "execution_count": null,
   "metadata": {},
   "outputs": [],
   "source": []
  }
 ],
 "metadata": {
  "kernelspec": {
   "display_name": "rag_env",
   "language": "python",
   "name": "python3"
  },
  "language_info": {
   "codemirror_mode": {
    "name": "ipython",
    "version": 3
   },
   "file_extension": ".py",
   "mimetype": "text/x-python",
   "name": "python",
   "nbconvert_exporter": "python",
   "pygments_lexer": "ipython3",
   "version": "3.10.11"
  }
 },
 "nbformat": 4,
 "nbformat_minor": 2
}
